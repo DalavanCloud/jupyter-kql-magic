{
 "cells": [
  {
   "cell_type": "markdown",
   "metadata": {},
   "source": [
    "# Kql Magic Demo\n",
    "1. press F11 for browser full screen  \n",
    "2. if in jupyter lab, select 'Single-Document Mode' and 'Presentation Mode' in View tab (Ctrl + Shift + D)  \n",
    "3. select 'Restart Kernel and Clear All Outputs...' in Kernel tab  \n",
    "4. repeat: press Shift+Enter to run selected cells"
   ]
  },
  {
   "cell_type": "markdown",
   "metadata": {},
   "source": [
    "![alt text](images/Kusto.jpg \"Kusto Magic\")"
   ]
  },
  {
   "cell_type": "markdown",
   "metadata": {},
   "source": [
    "### List current defined Magics\n",
    "*%kql and %%kql should not be listed*"
   ]
  },
  {
   "cell_type": "code",
   "execution_count": null,
   "metadata": {},
   "outputs": [],
   "source": [
    "from ipykernel.kernelbase import Kernel\n",
    "from traitlets import Instance, Type, Any, List, Bool"
   ]
  },
  {
   "cell_type": "code",
   "execution_count": null,
   "metadata": {},
   "outputs": [],
   "source": [
    "q = Bool(True, config=True, help=\"Print query execution elapsed time. Abbreviation: sqt\")\n",
    "a = List([1,2,3],config=True, help=\"Print\")\n",
    "a.info()\n",
    "print(a.default_value)\n"
   ]
  },
  {
   "cell_type": "code",
   "execution_count": null,
   "metadata": {},
   "outputs": [],
   "source": [
    "get_ipython().kernel.traits().keys()"
   ]
  },
  {
   "cell_type": "code",
   "execution_count": null,
   "metadata": {
    "scrolled": true
   },
   "outputs": [],
   "source": [
    "from IPython import get_ipython\n",
    "get_ipython().kernel._trait_values['help_links'].append({'text': 'YYY', 'url': 'https://docs.python.org/3.6'})\n",
    "\n"
   ]
  },
  {
   "cell_type": "code",
   "execution_count": null,
   "metadata": {},
   "outputs": [],
   "source": [
    "%%javascript\n",
    "IPython.notebook.kernel.reconnect();"
   ]
  },
  {
   "cell_type": "code",
   "execution_count": null,
   "metadata": {},
   "outputs": [],
   "source": [
    "%%html\n",
    "<!DOCTYPE html>\n",
    "<html>\n",
    "<head>\n",
    "<meta http-equiv=\"refresh\" content=\"5\">\n",
    "</head>\n",
    "<body>\n",
    "</body>\n",
    "</html>"
   ]
  },
  {
   "cell_type": "code",
   "execution_count": null,
   "metadata": {},
   "outputs": [],
   "source": [
    "get_ipython().kernel._trait_values['help_links']"
   ]
  },
  {
   "cell_type": "code",
   "execution_count": null,
   "metadata": {},
   "outputs": [],
   "source": [
    "%lsmagic"
   ]
  },
  {
   "cell_type": "markdown",
   "metadata": {},
   "source": [
    "### Load KqlMagic \n",
    "\n",
    "*current load is from source code folder*  \n",
    "*once KqlMagic will be public, will load from known repository *"
   ]
  },
  {
   "cell_type": "code",
   "execution_count": null,
   "metadata": {},
   "outputs": [],
   "source": [
    "!pip install git+git://github.com/mbnshtck/jupyter-kql-magic.git"
   ]
  },
  {
   "cell_type": "code",
   "execution_count": null,
   "metadata": {},
   "outputs": [],
   "source": [
    "from IPython.core.magics.display import Javascript\n",
    "\n",
    "def markdown_below():\n",
    "    display(Javascript(\"\"\"\n",
    "    IPython.notebook.insert_cell_above('markdown')\n",
    "    \"\"\"));\n",
    "    \n",
    "def get_cell_index():\n",
    "    display(Javascript(\"\"\"IPython.notebook.kernel.execute(\"cell_index = '\" + IPython.notebook.get_selected_index() + \"'\")\"\"\"));\n",
    "\n",
    "get_cell_index()"
   ]
  },
  {
   "cell_type": "code",
   "execution_count": null,
   "metadata": {},
   "outputs": [],
   "source": [
    "from IPython.core.magics.display import Javascript"
   ]
  },
  {
   "cell_type": "code",
   "execution_count": null,
   "metadata": {},
   "outputs": [],
   "source": [
    "from IPython.core.magics.display import Javascript\n",
    "\n",
    "display(Javascript(\"\"\"IPython.notebook.kernel.execute(\"NOTEBOOK_URL = '\" + window.location + \"'\")\"\"\"))\n",
    "\n",
    "print(NOTEBOOK_URL)\n"
   ]
  },
  {
   "cell_type": "code",
   "execution_count": null,
   "metadata": {},
   "outputs": [],
   "source": [
    "%connect_info magic"
   ]
  },
  {
   "cell_type": "code",
   "execution_count": null,
   "metadata": {},
   "outputs": [],
   "source": [
    "a = get_ipython()\n",
    "%pinfo a"
   ]
  },
  {
   "cell_type": "code",
   "execution_count": null,
   "metadata": {},
   "outputs": [],
   "source": [
    "%quickref"
   ]
  },
  {
   "cell_type": "code",
   "execution_count": null,
   "metadata": {},
   "outputs": [],
   "source": [
    "%%capture?"
   ]
  },
  {
   "cell_type": "code",
   "execution_count": null,
   "metadata": {},
   "outputs": [],
   "source": [
    "%%javascript\n",
    " // Opera 8.0+\n",
    "    var isOpera = (!!window.opr && !!opr.addons) || !!window.opera || navigator.userAgent.indexOf(' OPR/') >= 0;\n",
    "\n",
    "    // Firefox 1.0+\n",
    "    var isFirefox = typeof InstallTrigger !== 'undefined';\n",
    "\n",
    "    // Safari 3.0+ \"[object HTMLElementConstructor]\" \n",
    "    var isSafari = /constructor/i.test(window.HTMLElement) || (function (p) { return p.toString() === \"[object SafariRemoteNotification]\"; })(!window['safari'] || safari.pushNotification);\n",
    "\n",
    "    // Internet Explorer 6-11\n",
    "    var isIE = /*@cc_on!@*/false || !!document.documentMode;\n",
    "\n",
    "    // Edge 20+\n",
    "    var isEdge = !isIE && !!window.StyleMedia;\n",
    "\n",
    "    // Chrome 1+\n",
    "    var isChrome = !!window.chrome && !!window.chrome.webstore;\n",
    "\n",
    "    // Blink engine detection\n",
    "    var isBlink = (isChrome || isOpera) && !!window.CSS;\n",
    "\n",
    "var output = '{';\n",
    "output += '\"isFirefox\" : ' + (isFirefox ? 'True' : 'False');\n",
    "output += ',\"isChrome\" : ' + (isChrome ? 'True' : 'False');\n",
    "output += ',\"isSafari\" : ' + (isSafari ? 'True' : 'False');\n",
    "output += ',\"isOpera\" : ' + (isOpera ? 'True' : 'False');\n",
    "output += ',\"isIE\" : ' + (isIE ? 'True' : 'False');\n",
    "output += ',\" isEdge\" : ' + (isEdge ? 'True' : 'False');\n",
    "output += ',\"isBlink\" : ' + (isBlink ? 'True' : 'False');\n",
    "output += '}';\n",
    "IPython.notebook.kernel.execute(\"BROWSER_OUTPUT = '\" + output + \"'\")"
   ]
  },
  {
   "cell_type": "code",
   "execution_count": null,
   "metadata": {},
   "outputs": [],
   "source": [
    "eval(BROWSER_OUTPUT).get('isFirefox',False)"
   ]
  },
  {
   "cell_type": "code",
   "execution_count": null,
   "metadata": {
    "scrolled": true
   },
   "outputs": [],
   "source": [
    "%pushd C:\\My Projects\\KqlMagic\\src\n",
    "%reload_ext kql\n",
    "%popd"
   ]
  },
  {
   "cell_type": "code",
   "execution_count": null,
   "metadata": {},
   "outputs": [],
   "source": [
    "%config html\n"
   ]
  },
  {
   "cell_type": "code",
   "execution_count": null,
   "metadata": {},
   "outputs": [],
   "source": [
    "%kql kusto://code().cluster('help').database('Samples') -!se"
   ]
  },
  {
   "cell_type": "code",
   "execution_count": null,
   "metadata": {},
   "outputs": [],
   "source": [
    "y = None\n",
    "x = {\"window\" : True, \"botton_text\" : \"show chart\", **y}"
   ]
  },
  {
   "cell_type": "code",
   "execution_count": null,
   "metadata": {},
   "outputs": [],
   "source": [
    "x"
   ]
  },
  {
   "cell_type": "code",
   "execution_count": null,
   "metadata": {
    "scrolled": true
   },
   "outputs": [],
   "source": [
    "%kql kusto://code().cluster('help').database('Samples') -version -win PageViews | summarize count() by Language | sort by count_ | limit 10 | render piechart\n",
    "\n",
    "    "
   ]
  },
  {
   "cell_type": "code",
   "execution_count": null,
   "metadata": {},
   "outputs": [],
   "source": [
    "_.Chart()"
   ]
  },
  {
   "cell_type": "code",
   "execution_count": null,
   "metadata": {},
   "outputs": [],
   "source": [
    "_.Table()"
   ]
  },
  {
   "cell_type": "code",
   "execution_count": null,
   "metadata": {},
   "outputs": [],
   "source": [
    "%kql kusto://code().cluster('help').database('Samples') -version PageViews | summarize count() by Language | sort by count_ | limit 10"
   ]
  },
  {
   "cell_type": "code",
   "execution_count": null,
   "metadata": {},
   "outputs": [],
   "source": [
    "%kql -win PageViews | summarize count() by Language | sort by count_ | limit 100 | render columnchart title='x'\n",
    "    "
   ]
  },
  {
   "cell_type": "code",
   "execution_count": null,
   "metadata": {},
   "outputs": [],
   "source": [
    "%kql -win PageViews | summarize count() by Language | sort by count_ | limit 100 | render columnchart title='y'"
   ]
  },
  {
   "cell_type": "code",
   "execution_count": null,
   "metadata": {},
   "outputs": [],
   "source": [
    "%kql -win PageViews | summarize count() by Language | sort by count_ | limit 100 | render columnchart title='z'"
   ]
  },
  {
   "cell_type": "code",
   "execution_count": null,
   "metadata": {},
   "outputs": [],
   "source": [
    "x = None"
   ]
  },
  {
   "cell_type": "code",
   "execution_count": null,
   "metadata": {},
   "outputs": [],
   "source": [
    "x = x or 'a'"
   ]
  },
  {
   "cell_type": "code",
   "execution_count": null,
   "metadata": {},
   "outputs": [],
   "source": [
    "x"
   ]
  },
  {
   "cell_type": "code",
   "execution_count": null,
   "metadata": {},
   "outputs": [],
   "source": [
    "_.TableInWindow()"
   ]
  },
  {
   "cell_type": "code",
   "execution_count": null,
   "metadata": {},
   "outputs": [],
   "source": [
    "_.ChartInWindow()"
   ]
  },
  {
   "cell_type": "code",
   "execution_count": null,
   "metadata": {},
   "outputs": [],
   "source": [
    "%kql Samples@help\n"
   ]
  },
  {
   "cell_type": "code",
   "execution_count": null,
   "metadata": {},
   "outputs": [],
   "source": [
    "if not '':\n",
    "    print('abc')"
   ]
  },
  {
   "cell_type": "code",
   "execution_count": null,
   "metadata": {
    "scrolled": true
   },
   "outputs": [],
   "source": [
    "%kql -version"
   ]
  },
  {
   "cell_type": "code",
   "execution_count": null,
   "metadata": {},
   "outputs": [],
   "source": [
    "%%javascript\n",
    "var selected_cell = Jupyter.notebook.get_next_cell();\n",
    "var index = Jupyter.notebook.get_selected_index();\n",
    "Jupyter.notebook.clear_output(index)\n",
    "IPython.notebook.kernel.execute(\"INDEX = '\" + index + \"'\")"
   ]
  },
  {
   "cell_type": "code",
   "execution_count": null,
   "metadata": {},
   "outputs": [],
   "source": [
    "from IPython.core.magics.display import Javascript\n",
    "print('abc')\n",
    "display(Javascript(\"\"\"var selected_cell = Jupyter.notebook.get_next_cell();\n",
    "var index = Jupyter.notebook.get_selected_index();\n",
    "Jupyter.notebook.clear_output(index-1)\"\"\"))\n"
   ]
  },
  {
   "cell_type": "code",
   "execution_count": null,
   "metadata": {},
   "outputs": [],
   "source": [
    "%%html\n",
    "<!DOCTYPE html>\n",
    "            <html>\n",
    "            <body>\n",
    "        <a id = 'a1111111111111111111111111111111111111' href=\"#\">Click Me</a>\n",
    "\n",
    "\n",
    "            <script>\n",
    "\n",
    "\n",
    "$(document).ready(function() {\n",
    "var DELAY = 700,\n",
    "    clicks = 0,\n",
    "    timer = null,\n",
    "    total_clicks = 0;\n",
    "    \n",
    "    $(\"body\")\n",
    "    .on(\"click\", \"#a1111111111111111111111111111111111111\",function(e){\n",
    "\n",
    "        clicks++;  //count clicks\n",
    "        total_clicks++;\n",
    "\n",
    "        if(clicks === 1) {\n",
    "\n",
    "            timer = setTimeout(function() {\n",
    "                alert('Single Click'); //perform single-click action\n",
    "\n",
    "                clicks = 0;  //after action performed, reset counter\n",
    "\n",
    "            }, DELAY);\n",
    "\n",
    "        } else {\n",
    "\n",
    "            clearTimeout(timer);  //prevent single-click action\n",
    "\n",
    "            alert('Double Click');  //perform double-click action\n",
    "\n",
    "            clicks = 0;  //after action performed, reset counter\n",
    "        }\n",
    "\n",
    "    })\n",
    "    .on(\"dblclick\", \"#a1111111111111111111111111111111111111\", function(e){\n",
    "        e.preventDefault();  //cancel system double-click event\n",
    "    });\n",
    "\n",
    "});\n",
    "            \n",
    "            </script>\n",
    "\n",
    "            </body>\n",
    "            </html>"
   ]
  },
  {
   "cell_type": "code",
   "execution_count": null,
   "metadata": {},
   "outputs": [],
   "source": [
    "%kql -show_schema"
   ]
  },
  {
   "cell_type": "code",
   "execution_count": null,
   "metadata": {
    "scrolled": false
   },
   "outputs": [],
   "source": [
    "%kql kusto://username('michabin@microsoft.com').password('z=Xx-h34Z').cluster('help').database('Samples') -!se"
   ]
  },
  {
   "cell_type": "code",
   "execution_count": null,
   "metadata": {},
   "outputs": [],
   "source": []
  },
  {
   "cell_type": "code",
   "execution_count": null,
   "metadata": {},
   "outputs": [],
   "source": [
    "%%html\n",
    "<!DOCTYPE html>\n",
    "<html>\n",
    "<body>\n",
    "\n",
    "<p>Click the button to create a window and then display the name of the new window.</p>\n",
    "\n",
    "<button onclick=\"this.style.visibility='hidden';myFunction()\">Click to open window</button>\n",
    "\n",
    "<script>\n",
    "var clicked = false;\n",
    "function myFunction() {\n",
    "    if (!clicked) {\n",
    "        clicked = true\n",
    "        var myWindow = window.open(\"http://aka.ms/kdocs\", \"MsgWindow\", \"width=200,height=100\");\n",
    "        // myWindow.document.write(\"<p>This window's name is: \" + myWindow.name + \"</p>\");\n",
    "    }\n",
    "}\n",
    "</script>\n",
    "\n",
    "</body>\n",
    "</html>"
   ]
  },
  {
   "cell_type": "code",
   "execution_count": null,
   "metadata": {},
   "outputs": [],
   "source": [
    "%%kql\n",
    "import "
   ]
  },
  {
   "cell_type": "code",
   "execution_count": null,
   "metadata": {},
   "outputs": [],
   "source": [
    "%%html\n",
    "<!DOCTYPE html>\n",
    "<html>\n",
    "<body>\n",
    "\n",
    "<p>Click the button to create a window and then display the name of the new window.</p>\n",
    "\n",
    "<script>\n",
    "    window.onload=function(){\n",
    "      \n",
    "        $(function() {\n",
    "\n",
    "    var myWindow = window.open(\"\", \"MsgWindow\", \"width=200,height=100\");\n",
    "    myWindow.document.write(\"<p>This window's name is: \" + myWindow.name + \"</p>\");\n",
    "    myWindow.resizeTo(500,500)\n",
    "          });\n",
    "\n",
    "        });\n",
    "</script>\n",
    "\n",
    "</body>\n",
    "</html>"
   ]
  },
  {
   "cell_type": "code",
   "execution_count": null,
   "metadata": {
    "scrolled": false
   },
   "outputs": [],
   "source": [
    "%kql -help"
   ]
  },
  {
   "cell_type": "code",
   "execution_count": null,
   "metadata": {},
   "outputs": [],
   "source": [
    "%kql -!se -ss"
   ]
  },
  {
   "cell_type": "code",
   "execution_count": null,
   "metadata": {},
   "outputs": [],
   "source": [
    "%config kqlmagic\n"
   ]
  },
  {
   "cell_type": "code",
   "execution_count": null,
   "metadata": {},
   "outputs": [],
   "source": [
    "%config IPythonKernel?\n"
   ]
  },
  {
   "cell_type": "code",
   "execution_count": null,
   "metadata": {},
   "outputs": [],
   "source": [
    "%config IPythonKernel"
   ]
  },
  {
   "cell_type": "code",
   "execution_count": null,
   "metadata": {},
   "outputs": [],
   "source": [
    "%config?"
   ]
  },
  {
   "cell_type": "code",
   "execution_count": null,
   "metadata": {},
   "outputs": [],
   "source": [
    "%config KqlMagic.table_package='pandas'"
   ]
  },
  {
   "cell_type": "code",
   "execution_count": null,
   "metadata": {},
   "outputs": [],
   "source": [
    "%config KqlMagic.version='0.1.4'"
   ]
  },
  {
   "cell_type": "code",
   "execution_count": null,
   "metadata": {},
   "outputs": [],
   "source": [
    "%config KqlMagic.table_package"
   ]
  },
  {
   "cell_type": "code",
   "execution_count": null,
   "metadata": {},
   "outputs": [],
   "source": [
    "%config KqlMagic.version"
   ]
  },
  {
   "cell_type": "code",
   "execution_count": null,
   "metadata": {},
   "outputs": [],
   "source": [
    "%kql kusto://code().cluster('help').database('Samples')"
   ]
  },
  {
   "cell_type": "code",
   "execution_count": null,
   "metadata": {},
   "outputs": [],
   "source": [
    "import sys\n",
    "!{sys.executable} --version"
   ]
  },
  {
   "cell_type": "code",
   "execution_count": null,
   "metadata": {},
   "outputs": [],
   "source": [
    "print(__main__)"
   ]
  },
  {
   "cell_type": "code",
   "execution_count": null,
   "metadata": {},
   "outputs": [],
   "source": []
  },
  {
   "cell_type": "code",
   "execution_count": null,
   "metadata": {},
   "outputs": [],
   "source": [
    "%%javascript \n",
    "IPython.notebook.kernel.execute(\"NOTE_URL = '\" + window.location + \"'\")"
   ]
  },
  {
   "cell_type": "code",
   "execution_count": null,
   "metadata": {},
   "outputs": [],
   "source": [
    "NOTE_URL"
   ]
  },
  {
   "cell_type": "code",
   "execution_count": null,
   "metadata": {},
   "outputs": [],
   "source": [
    "%kql PageViews | summarize count() by Language | sort by count_ | limit 10 | render piechart"
   ]
  },
  {
   "cell_type": "code",
   "execution_count": null,
   "metadata": {},
   "outputs": [],
   "source": [
    "%kql PageViews | summarize count() by Language | sort by count_ | limit 10 | render barchart"
   ]
  },
  {
   "cell_type": "code",
   "execution_count": null,
   "metadata": {},
   "outputs": [],
   "source": [
    "%kql PageViews | summarize count() by Language | sort by count_ | limit 10 | render columnchart"
   ]
  },
  {
   "cell_type": "markdown",
   "metadata": {},
   "source": [
    "### Show KqlMagic docstring "
   ]
  },
  {
   "cell_type": "code",
   "execution_count": null,
   "metadata": {},
   "outputs": [],
   "source": [
    "%kql?"
   ]
  },
  {
   "cell_type": "markdown",
   "metadata": {},
   "source": [
    "### List again current defined Magics\n",
    "*%kql and %%kql should be listed*"
   ]
  },
  {
   "cell_type": "code",
   "execution_count": null,
   "metadata": {},
   "outputs": [],
   "source": [
    "%lsmagic"
   ]
  },
  {
   "cell_type": "markdown",
   "metadata": {},
   "source": [
    "### List all KqlMagic configurable options"
   ]
  },
  {
   "cell_type": "code",
   "execution_count": null,
   "metadata": {},
   "outputs": [],
   "source": [
    "%config KqlMagic"
   ]
  },
  {
   "cell_type": "markdown",
   "metadata": {},
   "source": [
    "### Configure KqlMagic DSN filename\n",
    "*Example how to configure KqlMagic properties*  \n",
    "*when dsn_filename is set, KqlMagic can be instructed to get a section as a connection string*"
   ]
  },
  {
   "cell_type": "code",
   "execution_count": null,
   "metadata": {},
   "outputs": [],
   "source": [
    "%config KqlMagic.dsn_filename = 'dsn/odbc.ini'"
   ]
  },
  {
   "cell_type": "markdown",
   "metadata": {},
   "source": [
    "### Print content of dsn/odbc.ini file"
   ]
  },
  {
   "cell_type": "code",
   "execution_count": null,
   "metadata": {},
   "outputs": [],
   "source": [
    "%pycat dsn/odbc.ini"
   ]
  },
  {
   "cell_type": "markdown",
   "metadata": {},
   "source": [
    "### Get connection string to Kusto cluster from a section\n",
    "*Example how to get the connection string from a section*\n",
    "*to make it work, KqlMagic.dsn_filename must be set, and a section with connection string attributes must exist in the file *"
   ]
  },
  {
   "cell_type": "code",
   "execution_count": null,
   "metadata": {
    "scrolled": false
   },
   "outputs": [],
   "source": [
    "%kql [KUSTO-DSN] -df dsn/odbc.ini -!vc"
   ]
  },
  {
   "cell_type": "markdown",
   "metadata": {},
   "source": [
    "### Show environment variables"
   ]
  },
  {
   "cell_type": "code",
   "execution_count": null,
   "metadata": {},
   "outputs": [],
   "source": [
    "%env"
   ]
  },
  {
   "cell_type": "markdown",
   "metadata": {},
   "source": [
    "### Get connection string to Kusto cluster from an environment variable\n",
    "*Example how to get the connection string from an environment parameter*  \n",
    "*to make it work, the environment variable must be set to a connection string*"
   ]
  },
  {
   "cell_type": "code",
   "execution_count": null,
   "metadata": {
    "scrolled": true
   },
   "outputs": [],
   "source": [
    "%kql $HELP_CONNECTION_STR"
   ]
  },
  {
   "cell_type": "markdown",
   "metadata": {},
   "source": [
    "### List current connections\n",
    "note that current connection is prefixed by a '*'"
   ]
  },
  {
   "cell_type": "code",
   "execution_count": null,
   "metadata": {
    "scrolled": true
   },
   "outputs": [],
   "source": [
    "%kql"
   ]
  },
  {
   "cell_type": "markdown",
   "metadata": {},
   "source": [
    "### Create connection to Kusto database, on the same cluster as current connection cluster"
   ]
  },
  {
   "cell_type": "code",
   "execution_count": null,
   "metadata": {},
   "outputs": [],
   "source": [
    "%kql kusto://database('Other')"
   ]
  },
  {
   "cell_type": "markdown",
   "metadata": {},
   "source": [
    "### Make specific connection current"
   ]
  },
  {
   "cell_type": "code",
   "execution_count": null,
   "metadata": {},
   "outputs": [],
   "source": [
    "%kql Samples@help"
   ]
  },
  {
   "cell_type": "markdown",
   "metadata": {},
   "source": [
    "\n",
    "\n",
    "### Kql query\n",
    "note: when connection is not specified, all connection are displayed, and current connection is prefixed with an '*'  \n",
    "note: metadata is displayed too, that includes the elapsed time of the query, and how many records returned"
   ]
  },
  {
   "cell_type": "code",
   "execution_count": null,
   "metadata": {
    "scrolled": false
   },
   "outputs": [],
   "source": [
    "%kql PageViews | summarize count() by Language | sort by count_ | limit 10 | render piechart"
   ]
  },
  {
   "cell_type": "code",
   "execution_count": null,
   "metadata": {},
   "outputs": [],
   "source": [
    "%kql appinsights://appid('DEMO_APP').appkey('DEMO_KEY')"
   ]
  },
  {
   "cell_type": "code",
   "execution_count": null,
   "metadata": {
    "scrolled": false
   },
   "outputs": [],
   "source": [
    "%%kql DEMO_APP@appinsights requests \n",
    " | where timestamp > ago(24h) and success==\"False\"\n",
    " | join kind=inner (exceptions \n",
    " | where timestamp > ago(24h) ) on operation_Id \n",
    " | project type, method, requestName = name, requestDuration = duration | render columnchart"
   ]
  },
  {
   "cell_type": "code",
   "execution_count": null,
   "metadata": {},
   "outputs": [],
   "source": [
    "%kql database().requests | getschema"
   ]
  },
  {
   "cell_type": "code",
   "execution_count": null,
   "metadata": {},
   "outputs": [],
   "source": [
    "%kql availabilityResults | getschema"
   ]
  },
  {
   "cell_type": "code",
   "execution_count": null,
   "metadata": {},
   "outputs": [],
   "source": [
    "%kql requests | show schema"
   ]
  },
  {
   "cell_type": "code",
   "execution_count": null,
   "metadata": {},
   "outputs": [],
   "source": [
    "int('a')"
   ]
  },
  {
   "cell_type": "markdown",
   "metadata": {},
   "source": [
    "### Notebook last result"
   ]
  },
  {
   "cell_type": "code",
   "execution_count": null,
   "metadata": {},
   "outputs": [],
   "source": [
    "from IPython.core.display import display, HTML\n",
    "HTML??"
   ]
  },
  {
   "cell_type": "code",
   "execution_count": null,
   "metadata": {},
   "outputs": [],
   "source": [
    "_"
   ]
  },
  {
   "cell_type": "markdown",
   "metadata": {},
   "source": [
    "### last kqlMagic result\n",
    "_kql_raw_result_ holds last kql magic result"
   ]
  },
  {
   "cell_type": "code",
   "execution_count": null,
   "metadata": {},
   "outputs": [],
   "source": [
    "_kql_raw_result_.Chart()"
   ]
  },
  {
   "cell_type": "code",
   "execution_count": null,
   "metadata": {},
   "outputs": [],
   "source": [
    "_kql_raw_result_.ChartInWindow()"
   ]
  },
  {
   "cell_type": "code",
   "execution_count": null,
   "metadata": {},
   "outputs": [],
   "source": [
    "_"
   ]
  },
  {
   "cell_type": "markdown",
   "metadata": {},
   "source": [
    "### Two %kql (line magic) in same cell\n",
    "note: only last query is displayed"
   ]
  },
  {
   "cell_type": "code",
   "execution_count": null,
   "metadata": {},
   "outputs": [],
   "source": [
    "%kql PageViews | summarize count() by Language | sort by count_ | limit 10\n",
    "%kql Samples@help PageViews | summarize count() by Language | sort by count_ | limit 5"
   ]
  },
  {
   "cell_type": "markdown",
   "metadata": {},
   "source": [
    "### Kql results may be assigned\n",
    "note: when queryresults are assigned display is automatically suppressed for that query  \n",
    "note: assignment must be placed after connection if connection is specified"
   ]
  },
  {
   "cell_type": "code",
   "execution_count": null,
   "metadata": {},
   "outputs": [],
   "source": [
    "%kql Samples@help q2 << PageViews | summarize count() by Language | sort by count_ | limit 3"
   ]
  },
  {
   "cell_type": "code",
   "execution_count": null,
   "metadata": {},
   "outputs": [],
   "source": [
    "q2"
   ]
  },
  {
   "cell_type": "code",
   "execution_count": null,
   "metadata": {},
   "outputs": [],
   "source": [
    "%kql q1 << PageViews | summarize count() by Language | sort by count_ | limit 10\n",
    "%kql Samples@help q2 << PageViews | summarize count() by Language | sort by count_ | limit 5"
   ]
  },
  {
   "cell_type": "code",
   "execution_count": null,
   "metadata": {},
   "outputs": [],
   "source": [
    "q1"
   ]
  },
  {
   "cell_type": "code",
   "execution_count": null,
   "metadata": {},
   "outputs": [],
   "source": [
    "q2"
   ]
  },
  {
   "cell_type": "markdown",
   "metadata": {},
   "source": [
    "### Two kql query in a %%kql cell magic\n",
    "note: the query must be separated by an empty line\n",
    "note that the output is suppressed !!! It is becasue the cell ends with a semicolon  ;"
   ]
  },
  {
   "cell_type": "code",
   "execution_count": null,
   "metadata": {},
   "outputs": [],
   "source": [
    "%%kql Samples@help\n",
    "p1 << PageViews | summarize count() by Language | sort by count_ | limit 10 | render piechart\n",
    "\n",
    "PageViews | summarize count() by Language | sort by count_ | limit 10  | render barchart"
   ]
  },
  {
   "cell_type": "code",
   "execution_count": null,
   "metadata": {},
   "outputs": [],
   "source": [
    "p1"
   ]
  },
  {
   "cell_type": "code",
   "execution_count": null,
   "metadata": {},
   "outputs": [],
   "source": [
    "_kql_raw_result_.Chart()"
   ]
  },
  {
   "cell_type": "code",
   "execution_count": null,
   "metadata": {},
   "outputs": [],
   "source": [
    "%%kql -tp pandas\n",
    "StormEvents\n",
    "| extend hour= floor( StartTime % 1d , 1h)/ 1h\n",
    "| where State in (\"GULF OF MEXICO\",\"MAINE\",\"VIRGINIA\",\"WISCONSIN\",\"NORTH DAKOTA\",\"NEW JERSEY\",\"OREGON\")\n",
    "| summarize event_count=count() by hour, State\n",
    "| extend cs2 = event_count*2 \n",
    "| extend cs3 = event_count*3 \n",
    "| extend ss = strcat(State,'_s')\n",
    "| extend sh = strcat(substring(tostring(toint(100+hour)), 1), '-', State)\n",
    "| sort by sh\n",
    "| project sh, event_count, cs2, cs3\n",
    "//| limit 10\n",
    "//| render barchart "
   ]
  },
  {
   "cell_type": "code",
   "execution_count": null,
   "metadata": {},
   "outputs": [],
   "source": [
    "_kql_raw_result_.flags"
   ]
  },
  {
   "cell_type": "code",
   "execution_count": null,
   "metadata": {
    "scrolled": true
   },
   "outputs": [],
   "source": [
    "_kql_raw_result_.Table(table_package='prettytable')"
   ]
  },
  {
   "cell_type": "code",
   "execution_count": null,
   "metadata": {
    "scrolled": true
   },
   "outputs": [],
   "source": [
    "_kql_raw_result_.flags"
   ]
  },
  {
   "cell_type": "code",
   "execution_count": null,
   "metadata": {},
   "outputs": [],
   "source": [
    "_"
   ]
  },
  {
   "cell_type": "code",
   "execution_count": null,
   "metadata": {},
   "outputs": [],
   "source": [
    "_.Table()"
   ]
  },
  {
   "cell_type": "code",
   "execution_count": null,
   "metadata": {},
   "outputs": [],
   "source": [
    "%kql Samples@help PageViews | summarize count() by Language | sort by count_ | limit 10 | render columnchart"
   ]
  },
  {
   "cell_type": "code",
   "execution_count": null,
   "metadata": {},
   "outputs": [],
   "source": [
    "_kql_raw_result_"
   ]
  },
  {
   "cell_type": "markdown",
   "metadata": {},
   "source": [
    "### Display results in a table format"
   ]
  },
  {
   "cell_type": "code",
   "execution_count": null,
   "metadata": {},
   "outputs": [],
   "source": [
    "_kql_raw_result_.Table(fullscreen=True, table_package='pandas')"
   ]
  },
  {
   "cell_type": "code",
   "execution_count": null,
   "metadata": {},
   "outputs": [],
   "source": [
    "_kql_raw_result_.TableFS(fullscreen=False, table_package='pandas')"
   ]
  },
  {
   "cell_type": "code",
   "execution_count": null,
   "metadata": {},
   "outputs": [],
   "source": [
    "_kql_raw_result_.query"
   ]
  },
  {
   "cell_type": "markdown",
   "metadata": {},
   "source": [
    "### Submit a new kql query that is exactly as this query"
   ]
  },
  {
   "cell_type": "code",
   "execution_count": null,
   "metadata": {},
   "outputs": [],
   "source": [
    "_kql_raw_result_.Submit()"
   ]
  },
  {
   "cell_type": "markdown",
   "metadata": {},
   "source": [
    "### Refresh this query (modifies current object)"
   ]
  },
  {
   "cell_type": "code",
   "execution_count": null,
   "metadata": {},
   "outputs": [],
   "source": [
    "_kql_raw_result_.Refresh()"
   ]
  },
  {
   "cell_type": "markdown",
   "metadata": {},
   "source": [
    "### Display the chart od the query, if it was rendered to a chart"
   ]
  },
  {
   "cell_type": "code",
   "execution_count": null,
   "metadata": {},
   "outputs": [],
   "source": [
    "_kql_raw_result_.Chart()"
   ]
  },
  {
   "cell_type": "code",
   "execution_count": null,
   "metadata": {},
   "outputs": [],
   "source": [
    "_kql_raw_result_.ChartInWindow()"
   ]
  },
  {
   "cell_type": "markdown",
   "metadata": {},
   "source": [
    "### Get the dataframe of the raw result"
   ]
  },
  {
   "cell_type": "code",
   "execution_count": null,
   "metadata": {},
   "outputs": [],
   "source": [
    "_kql_raw_result_.Dataframe()"
   ]
  },
  {
   "cell_type": "markdown",
   "metadata": {},
   "source": [
    "### Config  Kql magic to return instead of a raw object to return a dataframe "
   ]
  },
  {
   "cell_type": "code",
   "execution_count": null,
   "metadata": {},
   "outputs": [],
   "source": [
    "%config KqlMagic.autopandas = True"
   ]
  },
  {
   "cell_type": "code",
   "execution_count": null,
   "metadata": {
    "scrolled": true
   },
   "outputs": [],
   "source": [
    "%%kql\n",
    "PageViews | summarize count() by Language | sort by count_ | limit 5\n",
    "\n",
    "x << PageViews | summarize count() by Language | sort by count_ | limit 11"
   ]
  },
  {
   "cell_type": "code",
   "execution_count": null,
   "metadata": {},
   "outputs": [],
   "source": [
    "x"
   ]
  },
  {
   "cell_type": "code",
   "execution_count": null,
   "metadata": {},
   "outputs": [],
   "source": [
    "_"
   ]
  },
  {
   "cell_type": "code",
   "execution_count": null,
   "metadata": {},
   "outputs": [],
   "source": [
    "_kql_raw_result_.query"
   ]
  },
  {
   "cell_type": "code",
   "execution_count": null,
   "metadata": {
    "scrolled": true
   },
   "outputs": [],
   "source": [
    "_kql_raw_result_.connection"
   ]
  },
  {
   "cell_type": "code",
   "execution_count": null,
   "metadata": {},
   "outputs": [],
   "source": [
    "_kql_raw_result_.start_time"
   ]
  },
  {
   "cell_type": "code",
   "execution_count": null,
   "metadata": {},
   "outputs": [],
   "source": [
    "_kql_raw_result_.end_time"
   ]
  },
  {
   "cell_type": "code",
   "execution_count": null,
   "metadata": {},
   "outputs": [],
   "source": [
    "_kql_raw_result_.flags"
   ]
  },
  {
   "cell_type": "code",
   "execution_count": null,
   "metadata": {},
   "outputs": [],
   "source": [
    "_kql_raw_result_.elapsed_timespan"
   ]
  },
  {
   "cell_type": "code",
   "execution_count": null,
   "metadata": {},
   "outputs": [],
   "source": [
    "y = _kql_raw_result_.Dataframe()"
   ]
  },
  {
   "cell_type": "code",
   "execution_count": null,
   "metadata": {},
   "outputs": [],
   "source": [
    "y"
   ]
  },
  {
   "cell_type": "code",
   "execution_count": null,
   "metadata": {},
   "outputs": [],
   "source": [
    "%config KqlMagic.autopandas = False"
   ]
  },
  {
   "cell_type": "code",
   "execution_count": null,
   "metadata": {
    "scrolled": true
   },
   "outputs": [],
   "source": [
    "%%kql Samples@help\n",
    "x << PageViews \n",
    "| summarize count() by Language  // bbbb\n",
    "| sort by count_ \n",
    "// bbb\n",
    "| limit 10  \n",
    "| render piechart\n",
    ";;\n",
    "\n",
    ";"
   ]
  },
  {
   "cell_type": "code",
   "execution_count": null,
   "metadata": {},
   "outputs": [],
   "source": [
    "x"
   ]
  },
  {
   "cell_type": "code",
   "execution_count": null,
   "metadata": {},
   "outputs": [],
   "source": [
    "x.Table()"
   ]
  },
  {
   "cell_type": "code",
   "execution_count": null,
   "metadata": {},
   "outputs": [],
   "source": [
    "x.Chart()"
   ]
  },
  {
   "cell_type": "code",
   "execution_count": null,
   "metadata": {},
   "outputs": [],
   "source": [
    "x.Dataframe()"
   ]
  },
  {
   "cell_type": "code",
   "execution_count": null,
   "metadata": {},
   "outputs": [],
   "source": [
    "x"
   ]
  },
  {
   "cell_type": "code",
   "execution_count": null,
   "metadata": {},
   "outputs": [],
   "source": [
    "?kql"
   ]
  },
  {
   "cell_type": "code",
   "execution_count": null,
   "metadata": {},
   "outputs": [],
   "source": [
    "??kql"
   ]
  },
  {
   "cell_type": "code",
   "execution_count": null,
   "metadata": {},
   "outputs": [],
   "source": [
    "%config InlineBackend.figure_format = 'retina'\n",
    "x.Chart();"
   ]
  },
  {
   "cell_type": "code",
   "execution_count": null,
   "metadata": {},
   "outputs": [],
   "source": [
    "%%kql \n",
    "PageViews | summarize count() by Language | sort by count_ | limit 5;\n",
    "// # _ = _kql_raw_result_;\n",
    "// #_.pie()"
   ]
  },
  {
   "cell_type": "code",
   "execution_count": null,
   "metadata": {},
   "outputs": [],
   "source": [
    "_"
   ]
  },
  {
   "cell_type": "code",
   "execution_count": null,
   "metadata": {},
   "outputs": [],
   "source": [
    "y = _[1][0]\n",
    "y"
   ]
  },
  {
   "cell_type": "markdown",
   "metadata": {},
   "source": [
    "# Kql - render barchart"
   ]
  },
  {
   "cell_type": "code",
   "execution_count": null,
   "metadata": {},
   "outputs": [],
   "source": [
    "%%kql \n",
    "PageViews \n",
    "| summarize count() by Language \n",
    "| sort by count_ \n",
    "| limit 10\n",
    "| extend cs = 2 * count_\n",
    "| render barchart title=\"Michael's chart\""
   ]
  },
  {
   "cell_type": "code",
   "execution_count": null,
   "metadata": {},
   "outputs": [],
   "source": [
    "_"
   ]
  },
  {
   "cell_type": "code",
   "execution_count": null,
   "metadata": {},
   "outputs": [],
   "source": [
    "%kql y << PageViews | summarize count() by Language | sort by count_ | limit 10 | extend cs = 2 * count_ | render barchart  title=\"Michael's chart\";\n",
    "%kql PageViews | summarize count() by Language | sort by count_ | limit 10 | extend cs = 2 * count_ | render columnchart title=\"Michael's chart\";"
   ]
  },
  {
   "cell_type": "code",
   "execution_count": null,
   "metadata": {},
   "outputs": [],
   "source": [
    "_"
   ]
  },
  {
   "cell_type": "code",
   "execution_count": null,
   "metadata": {},
   "outputs": [],
   "source": [
    "y"
   ]
  },
  {
   "cell_type": "markdown",
   "metadata": {},
   "source": [
    "# Kql - render columnchart"
   ]
  },
  {
   "cell_type": "code",
   "execution_count": null,
   "metadata": {},
   "outputs": [],
   "source": [
    "%%kql Samples@help\n",
    "PageViews \n",
    "| summarize count() by Language \n",
    "| sort by count_ \n",
    "| limit 10 \n",
    "| extend cs = 2 * count_\n",
    "| extend cs3 = 0.6 * count_\n",
    "//| extend cs4 = 0.6 * count_\n",
    "//| extend cs5 = 0.6 * count_\n",
    "//| extend cs6 = 0.6 * count_\n",
    "//| extend cs7 = 0.6 * count_\n",
    "//| extend cs8 = 0.6 * count_\n",
    "//| extend cs9 = 0.6 * count_\n",
    "//| extend cs10 = 0.6 * count_\n",
    "//| extend cs11 = 0.6 * count_\n",
    "//| extend cs12 = 0.6 * count_\n",
    "//| extend cs13 = 0.6 * count_\n",
    "//| extend cs14 = 0.6 * count_\n",
    "//| extend cs15 = 0.6 * count_\n",
    "| render columnchart title=\"Michael's chart\"\n"
   ]
  },
  {
   "cell_type": "code",
   "execution_count": null,
   "metadata": {},
   "outputs": [],
   "source": [
    "import plotly.plotly as py\n",
    "import plotly.graph_objs as go\n",
    "import plotly\n",
    "plotly.offline.init_notebook_mode(connected=True)\n",
    "\n",
    "fig = {\n",
    "    'data': [\n",
    "        {\n",
    "            'labels': ['1st', '2nd', '3rd', '4th', '5th'],\n",
    "            'values': [38, 27, 18, 10, 7],\n",
    "            'type': 'pie',\n",
    "            'name': 'Starry Night',\n",
    "            'marker': {'colors': ['rgb(56, 75, 126)',\n",
    "                                  'rgb(18, 36, 37)',\n",
    "                                  'rgb(34, 53, 101)',\n",
    "                                  'rgb(36, 55, 57)',\n",
    "                                  'rgb(6, 4, 4)']},\n",
    "            'domain': {'x': [0, .48],\n",
    "                       'y': [0, .49]},\n",
    "            'hoverinfo':'label+percent+name',\n",
    "            'textinfo':'none'\n",
    "        },\n",
    "        {\n",
    "            'labels': ['1st', '2nd', '3rd', '4th', '5th'],\n",
    "            'values': [28, 26, 21, 15, 10],\n",
    "            'marker': {'colors': ['rgb(177, 127, 38)',\n",
    "                                  'rgb(205, 152, 36)',\n",
    "                                  'rgb(99, 79, 37)',\n",
    "                                  'rgb(129, 180, 179)',\n",
    "                                  'rgb(124, 103, 37)']},\n",
    "            'type': 'pie',\n",
    "            'name': 'Sunflowers',\n",
    "            'domain': {'x': [.52, 1],\n",
    "                       'y': [0, .49]},\n",
    "            'hoverinfo':'label+percent+name',\n",
    "            'textinfo':'none'\n",
    "\n",
    "        },\n",
    "        {\n",
    "            'labels': ['1st', '2nd', '3rd', '4th', '5th'],\n",
    "            'values': [38, 19, 16, 14, 13],\n",
    "            'marker': {'colors': ['rgb(33, 75, 99)',\n",
    "                                  'rgb(79, 129, 102)',\n",
    "                                  'rgb(151, 179, 100)',\n",
    "                                  'rgb(175, 49, 35)',\n",
    "                                  'rgb(36, 73, 147)']},\n",
    "            'type': 'pie',\n",
    "            'name': 'Irises',\n",
    "            'domain': {'x': [0, .48],\n",
    "                       'y': [.51, 1]},\n",
    "            'hoverinfo':'label+percent+name',\n",
    "            'textinfo':'none'\n",
    "        },\n",
    "        {\n",
    "            'labels': ['1st', '2nd', '3rd', '4th', '5th'],\n",
    "            'values': [31, 24, 19, 18, 8],\n",
    "            'marker': {'colors': ['rgb(146, 123, 21)',\n",
    "                                  'rgb(177, 180, 34)',\n",
    "                                  'rgb(206, 206, 40)',\n",
    "                                  'rgb(175, 51, 21)',\n",
    "                                  'rgb(35, 36, 21)']},\n",
    "            'type': 'pie',\n",
    "            'name':'The Night Café',\n",
    "            'domain': {'x': [.52, 1],\n",
    "                       'y': [.51, 1]},\n",
    "            'hoverinfo':'label+percent+name',\n",
    "            'textinfo':'none'\n",
    "        }\n",
    "    ],\n",
    "    'layout': {'title': 'Van Gogh: 5 Most Prominent Colors Shown Proportionally',\n",
    "               'showlegend': False}\n",
    "}\n",
    "\n",
    "plotly.offline.iplot(fig, filename='pie_chart_subplots')"
   ]
  },
  {
   "cell_type": "code",
   "execution_count": null,
   "metadata": {},
   "outputs": [],
   "source": [
    "_.Table()"
   ]
  },
  {
   "cell_type": "code",
   "execution_count": null,
   "metadata": {},
   "outputs": [],
   "source": [
    "%config "
   ]
  },
  {
   "cell_type": "markdown",
   "metadata": {},
   "source": [
    "# Kql - render linechart"
   ]
  },
  {
   "cell_type": "code",
   "execution_count": null,
   "metadata": {},
   "outputs": [],
   "source": [
    "%config KqlMagic.autopandas = False"
   ]
  },
  {
   "cell_type": "code",
   "execution_count": null,
   "metadata": {},
   "outputs": [],
   "source": [
    "%%kql \n",
    "PageViews \n",
    "| summarize count() by Language \n",
    "| limit 10\n",
    "| extend cs2 = 2 * count_\n",
    "| extend cs3 = 3 * count_\n",
    "| render linechart title=\"Michael's chart\""
   ]
  },
  {
   "cell_type": "code",
   "execution_count": null,
   "metadata": {},
   "outputs": [],
   "source": [
    "_kql_raw_result_"
   ]
  },
  {
   "cell_type": "code",
   "execution_count": null,
   "metadata": {},
   "outputs": [],
   "source": [
    "_kql_raw_result_.Dataframe()._repr_html_()"
   ]
  },
  {
   "cell_type": "code",
   "execution_count": null,
   "metadata": {},
   "outputs": [],
   "source": [
    "_kql_raw_result_.Table()"
   ]
  },
  {
   "cell_type": "code",
   "execution_count": null,
   "metadata": {},
   "outputs": [],
   "source": [
    "_kql_raw_result_.Dataframe()"
   ]
  },
  {
   "cell_type": "code",
   "execution_count": null,
   "metadata": {},
   "outputs": [],
   "source": [
    "%%kql \n",
    "v << PageViews \n",
    "| summarize count() by Language \n",
    "//| sort by count_ \n",
    "| limit 10\n",
    "| extend cs2 = 2 * count_\n",
    "| extend cs3 = 3 * count_\n",
    "//| extend cs4 = 4 * count_\n",
    "//| extend cs5 = count_ * count_\n",
    "| render linechart title=\"Michael's chart\"\n",
    "| render piechart title=\"Michael's chart\"\n",
    "| render barchart title=\"Michael's chart\""
   ]
  },
  {
   "cell_type": "code",
   "execution_count": null,
   "metadata": {},
   "outputs": [],
   "source": [
    "v.Chart()"
   ]
  },
  {
   "cell_type": "code",
   "execution_count": null,
   "metadata": {
    "scrolled": false
   },
   "outputs": [],
   "source": [
    "%%kql \n",
    "PageViews | summarize count() by Language | limit 10 | extend cs2 = 2 * count_ | extend cs3 = 3 * count_ | render linechart title=\"Michael's chart\"\n"
   ]
  },
  {
   "cell_type": "markdown",
   "metadata": {},
   "source": [
    "# Kql - render areachart"
   ]
  },
  {
   "cell_type": "code",
   "execution_count": null,
   "metadata": {},
   "outputs": [],
   "source": [
    "%%kql \n",
    "-win PageViews \n",
    "| summarize count() by Language \n",
    "//| sort by count_ \n",
    "| limit 10\n",
    "| extend cs5 = 5 * count_\n",
    "| extend cs4 = 4 * count_\n",
    "| extend cs3 = 3 * count_\n",
    "| extend cs2 = 2 * count_\n",
    "| render areachart title=\"Michael's chart\""
   ]
  },
  {
   "cell_type": "code",
   "execution_count": null,
   "metadata": {},
   "outputs": [],
   "source": [
    "_"
   ]
  },
  {
   "cell_type": "code",
   "execution_count": null,
   "metadata": {},
   "outputs": [],
   "source": [
    "_.Table()"
   ]
  },
  {
   "cell_type": "markdown",
   "metadata": {},
   "source": [
    "# Kql - render scatterchart"
   ]
  },
  {
   "cell_type": "code",
   "execution_count": null,
   "metadata": {},
   "outputs": [],
   "source": [
    "%%kql \n",
    "PageViews \n",
    "| summarize count() by Language \n",
    "//| sort by count_ \n",
    "| limit 10\n",
    "| extend cs5 = count_ * 5\n",
    "| extend cs4 = count_ * 4\n",
    "| extend cs3 = count_ * 3\n",
    "| extend cs2 = count_ * 2\n",
    "| render scatterchart title=\"Michael's chart\""
   ]
  },
  {
   "cell_type": "code",
   "execution_count": null,
   "metadata": {},
   "outputs": [],
   "source": [
    "_kql_raw_result_"
   ]
  },
  {
   "cell_type": "code",
   "execution_count": null,
   "metadata": {},
   "outputs": [],
   "source": [
    "_.Table()"
   ]
  },
  {
   "cell_type": "markdown",
   "metadata": {},
   "source": [
    "# Kql - render scatterchart"
   ]
  },
  {
   "cell_type": "code",
   "execution_count": null,
   "metadata": {},
   "outputs": [],
   "source": [
    "%%kql \n",
    "z << let randn = () {rand() + rand() + rand() + rand() + rand() + rand() + rand() + rand() + rand() + rand() + rand() + rand() + rand() + rand()};\n",
    "range c from 1 to 1000 step 1 \n",
    "| limit 1000\n",
    "| extend e1 = randn()\n",
    "| extend e2 = randn()\n",
    "| extend e3 = randn()\n",
    "| extend e4 = randn()\n",
    "| extend e5 = randn()\n",
    "| project e1,e2,e3,e4,e5\n",
    "| render scatterchart title=\"Michael's chart\""
   ]
  },
  {
   "cell_type": "code",
   "execution_count": null,
   "metadata": {},
   "outputs": [],
   "source": [
    "z"
   ]
  },
  {
   "cell_type": "code",
   "execution_count": null,
   "metadata": {},
   "outputs": [],
   "source": [
    "z.Table()"
   ]
  },
  {
   "cell_type": "markdown",
   "metadata": {},
   "source": [
    "# Kql - render stackedareachart"
   ]
  },
  {
   "cell_type": "code",
   "execution_count": null,
   "metadata": {},
   "outputs": [],
   "source": [
    "%%kql -win\n",
    "let randn = () {rand() + rand() + rand()};\n",
    "range columnName from datetime('2016-01-01') to datetime('2016-03-31') step 1d\n",
    "| extend e1 = randn()\n",
    "| extend e2 = randn()\n",
    "| extend e3 = randn()\n",
    "| extend e4 = randn()\n",
    "| render stackedareachart title=\"Michael's chart\""
   ]
  },
  {
   "cell_type": "code",
   "execution_count": null,
   "metadata": {
    "scrolled": false
   },
   "outputs": [],
   "source": [
    "%%kql \n",
    "let randn = () {rand() + rand() + rand()};\n",
    "range columnName from datetime('2016-01-01') to datetime('2016-03-31') step 1d\n",
    "| extend e1 = randn()\n",
    "| extend e2 = randn()\n",
    "| extend e3 = randn()\n",
    "| extend e4 = randn()\n",
    "| render stackedareachart title=\"Michael's chart\""
   ]
  },
  {
   "cell_type": "markdown",
   "metadata": {},
   "source": [
    "# Kql - render timechart"
   ]
  },
  {
   "cell_type": "code",
   "execution_count": null,
   "metadata": {
    "scrolled": false
   },
   "outputs": [],
   "source": [
    "%%kql \n",
    "-win let randn = () {rand() + rand() + rand()};\n",
    "range columnName from datetime('2015-01-01') to datetime('2016-01-10') step 1d\n",
    "| extend e1 = randn()\n",
    "| extend e2 = randn()\n",
    "| extend e3 = randn()\n",
    "| extend e4 = randn()\n",
    "| render timechart title=\"Michael's chart\""
   ]
  },
  {
   "cell_type": "markdown",
   "metadata": {},
   "source": [
    "# Kql - render linechar"
   ]
  },
  {
   "cell_type": "code",
   "execution_count": null,
   "metadata": {
    "scrolled": false
   },
   "outputs": [],
   "source": [
    "%%kql \n",
    "-win let randn = () {rand() + rand() + rand()};\n",
    "range columnName from datetime('2015-01-01') to datetime('2016-01-10') step 1d\n",
    "| extend e0 = randn()\n",
    "| extend e1 = randn()\n",
    "| extend e2 = randn()\n",
    "| extend e3 = randn()\n",
    "| extend e4 = randn()\n",
    "| project e0,e1,e2,e3,e4\n",
    "| render linechart title=\"Michael's chart\""
   ]
  },
  {
   "cell_type": "markdown",
   "metadata": {},
   "source": [
    "# Kql - render anomalychart"
   ]
  },
  {
   "cell_type": "code",
   "execution_count": null,
   "metadata": {},
   "outputs": [],
   "source": [
    "%%kql \n",
    "let randn = () {rand() + rand() + rand()};\n",
    "range columnName from datetime('2015-01-01') to datetime('2016-01-10') step 1d\n",
    "| extend e1 = randn()\n",
    "| extend e2 = randn()\n",
    "| extend e3 = randn()\n",
    "| extend e4 = randn()\n",
    "| render anomalychart title=\"Michael's chart\""
   ]
  },
  {
   "cell_type": "code",
   "execution_count": null,
   "metadata": {},
   "outputs": [],
   "source": [
    "name = input(\"what is your name: \")\n",
    "print(\"name: \", name)\n",
    "name = input(\"what is your name: \")\n",
    "print(\"name: \", name)\n",
    "name = input(\"what is your name: \")\n",
    "print(\"name: \", name)"
   ]
  },
  {
   "cell_type": "code",
   "execution_count": null,
   "metadata": {},
   "outputs": [],
   "source": [
    "import getpass\n",
    "getpass??\n",
    "#p = getpass.getpass()"
   ]
  },
  {
   "cell_type": "code",
   "execution_count": null,
   "metadata": {},
   "outputs": [],
   "source": [
    "print(p)\n"
   ]
  },
  {
   "cell_type": "code",
   "execution_count": null,
   "metadata": {},
   "outputs": [],
   "source": [
    "import ipywidgets as widgets\n",
    "from IPython.display import display\n",
    "x = 12\n",
    "w = widgets.IntSlider(x)\n",
    "display(w)"
   ]
  },
  {
   "cell_type": "code",
   "execution_count": null,
   "metadata": {},
   "outputs": [],
   "source": [
    "display(w)\n",
    "display(w)\n",
    "display(w)\n"
   ]
  },
  {
   "cell_type": "code",
   "execution_count": null,
   "metadata": {},
   "outputs": [],
   "source": [
    "w.value"
   ]
  },
  {
   "cell_type": "code",
   "execution_count": null,
   "metadata": {},
   "outputs": [],
   "source": [
    "p = getpass.getpass(prompt='pw: ')\n",
    "p = getpass.getpass(prompt='pw1: ')\n",
    "p = getpass.getpass(prompt='pw   : 11 ')\n"
   ]
  },
  {
   "cell_type": "code",
   "execution_count": null,
   "metadata": {},
   "outputs": [],
   "source": [
    "%pushd\n",
    "%cd C:\\My Projects\\KqlMagic\\src\n",
    "%load_ext kql\n",
    "%popd"
   ]
  },
  {
   "cell_type": "code",
   "execution_count": null,
   "metadata": {},
   "outputs": [],
   "source": [
    "%pushd\n",
    "%cd C:\\My Projects\\KqlMagic\\src\n",
    "%reload_ext kql\n",
    "%popd"
   ]
  },
  {
   "cell_type": "code",
   "execution_count": null,
   "metadata": {},
   "outputs": [],
   "source": [
    "%kql appinsights://appid('<DEMO1_APP>').appkey('<DEMO_KEY>')"
   ]
  },
  {
   "cell_type": "code",
   "execution_count": null,
   "metadata": {},
   "outputs": [],
   "source": [
    "%kql kusto://"
   ]
  },
  {
   "cell_type": "code",
   "execution_count": null,
   "metadata": {
    "scrolled": true
   },
   "outputs": [],
   "source": [
    "%kql appinsights://"
   ]
  },
  {
   "cell_type": "code",
   "execution_count": null,
   "metadata": {
    "scrolled": false
   },
   "outputs": [],
   "source": [
    "%%kql \n",
    "let randn = () {rand() + rand() + rand()};\n",
    "range columnName from datetime('2015-01-01') to datetime('2016-01-10') step 1d\n",
    "| extend e1 = randn()\n",
    "| extend e2 = randn()\n",
    "| extend e3 = randn()\n",
    "| extend e4 = randn()\n",
    "| render anomalychart title=\"Michael's chart\""
   ]
  },
  {
   "cell_type": "code",
   "execution_count": null,
   "metadata": {},
   "outputs": [],
   "source": [
    "import plotly\n",
    "import plotly.plotly as py\n",
    "import plotly.figure_factory as ff\n",
    "\n",
    "df = pd.read_csv(\"https://raw.githubusercontent.com/plotly/datasets/master/school_earnings.csv\")\n",
    "\n",
    "table = ff.create_table(df)\n",
    "plotly.offline.iplot(table, filename='jupyter/table1')"
   ]
  },
  {
   "cell_type": "code",
   "execution_count": null,
   "metadata": {},
   "outputs": [],
   "source": []
  }
 ],
 "metadata": {
  "kernelspec": {
   "display_name": "Python 3",
   "language": "python",
   "name": "python3"
  },
  "language_info": {
   "codemirror_mode": {
    "name": "ipython",
    "version": 3
   },
   "file_extension": ".py",
   "mimetype": "text/x-python",
   "name": "python",
   "nbconvert_exporter": "python",
   "pygments_lexer": "ipython3",
   "version": "3.6.1"
  }
 },
 "nbformat": 4,
 "nbformat_minor": 2
}
