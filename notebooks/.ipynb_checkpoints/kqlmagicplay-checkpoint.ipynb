{
 "cells": [
  {
   "cell_type": "markdown",
   "metadata": {},
   "source": [
    "![alt text](../images/Kusto.jpg \"Kusto Magic\")"
   ]
  },
  {
   "cell_type": "code",
   "execution_count": 3,
   "metadata": {},
   "outputs": [
    {
     "data": {
      "application/json": {
       "cell": {
        "!": "OSMagics",
        "HTML": "Other",
        "SVG": "Other",
        "bash": "Other",
        "capture": "ExecutionMagics",
        "cmd": "Other",
        "debug": "ExecutionMagics",
        "file": "Other",
        "html": "DisplayMagics",
        "javascript": "DisplayMagics",
        "js": "DisplayMagics",
        "latex": "DisplayMagics",
        "markdown": "DisplayMagics",
        "perl": "Other",
        "prun": "ExecutionMagics",
        "pypy": "Other",
        "python": "Other",
        "python2": "Other",
        "python3": "Other",
        "ruby": "Other",
        "script": "ScriptMagics",
        "sh": "Other",
        "svg": "DisplayMagics",
        "sx": "OSMagics",
        "system": "OSMagics",
        "time": "ExecutionMagics",
        "timeit": "ExecutionMagics",
        "writefile": "OSMagics"
       },
       "line": {
        "alias": "OSMagics",
        "alias_magic": "BasicMagics",
        "autocall": "AutoMagics",
        "automagic": "AutoMagics",
        "autosave": "KernelMagics",
        "bookmark": "OSMagics",
        "cd": "OSMagics",
        "clear": "KernelMagics",
        "cls": "KernelMagics",
        "colors": "BasicMagics",
        "config": "ConfigMagics",
        "connect_info": "KernelMagics",
        "copy": "Other",
        "ddir": "Other",
        "debug": "ExecutionMagics",
        "dhist": "OSMagics",
        "dirs": "OSMagics",
        "doctest_mode": "BasicMagics",
        "echo": "Other",
        "ed": "Other",
        "edit": "KernelMagics",
        "env": "OSMagics",
        "gui": "BasicMagics",
        "hist": "Other",
        "history": "HistoryMagics",
        "killbgscripts": "ScriptMagics",
        "ldir": "Other",
        "less": "KernelMagics",
        "load": "CodeMagics",
        "load_ext": "ExtensionMagics",
        "loadpy": "CodeMagics",
        "logoff": "LoggingMagics",
        "logon": "LoggingMagics",
        "logstart": "LoggingMagics",
        "logstate": "LoggingMagics",
        "logstop": "LoggingMagics",
        "ls": "Other",
        "lsmagic": "BasicMagics",
        "macro": "ExecutionMagics",
        "magic": "BasicMagics",
        "matplotlib": "PylabMagics",
        "mkdir": "Other",
        "more": "KernelMagics",
        "notebook": "BasicMagics",
        "page": "BasicMagics",
        "pastebin": "CodeMagics",
        "pdb": "ExecutionMagics",
        "pdef": "NamespaceMagics",
        "pdoc": "NamespaceMagics",
        "pfile": "NamespaceMagics",
        "pinfo": "NamespaceMagics",
        "pinfo2": "NamespaceMagics",
        "pip": "BasicMagics",
        "popd": "OSMagics",
        "pprint": "BasicMagics",
        "precision": "BasicMagics",
        "profile": "BasicMagics",
        "prun": "ExecutionMagics",
        "psearch": "NamespaceMagics",
        "psource": "NamespaceMagics",
        "pushd": "OSMagics",
        "pwd": "OSMagics",
        "pycat": "OSMagics",
        "pylab": "PylabMagics",
        "qtconsole": "KernelMagics",
        "quickref": "BasicMagics",
        "recall": "HistoryMagics",
        "rehashx": "OSMagics",
        "reload_ext": "ExtensionMagics",
        "ren": "Other",
        "rep": "Other",
        "rerun": "HistoryMagics",
        "reset": "NamespaceMagics",
        "reset_selective": "NamespaceMagics",
        "rmdir": "Other",
        "run": "ExecutionMagics",
        "save": "CodeMagics",
        "sc": "OSMagics",
        "set_env": "OSMagics",
        "store": "StoreMagics",
        "sx": "OSMagics",
        "system": "OSMagics",
        "tb": "ExecutionMagics",
        "time": "ExecutionMagics",
        "timeit": "ExecutionMagics",
        "unalias": "OSMagics",
        "unload_ext": "ExtensionMagics",
        "who": "NamespaceMagics",
        "who_ls": "NamespaceMagics",
        "whos": "NamespaceMagics",
        "xdel": "NamespaceMagics",
        "xmode": "BasicMagics"
       }
      },
      "text/plain": [
       "Available line magics:\n",
       "%alias  %alias_magic  %autocall  %automagic  %autosave  %bookmark  %cd  %clear  %cls  %colors  %config  %connect_info  %copy  %ddir  %debug  %dhist  %dirs  %doctest_mode  %echo  %ed  %edit  %env  %gui  %hist  %history  %killbgscripts  %ldir  %less  %load  %load_ext  %loadpy  %logoff  %logon  %logstart  %logstate  %logstop  %ls  %lsmagic  %macro  %magic  %matplotlib  %mkdir  %more  %notebook  %page  %pastebin  %pdb  %pdef  %pdoc  %pfile  %pinfo  %pinfo2  %popd  %pprint  %precision  %profile  %prun  %psearch  %psource  %pushd  %pwd  %pycat  %pylab  %qtconsole  %quickref  %recall  %rehashx  %reload_ext  %ren  %rep  %rerun  %reset  %reset_selective  %rmdir  %run  %save  %sc  %set_env  %store  %sx  %system  %tb  %time  %timeit  %unalias  %unload_ext  %who  %who_ls  %whos  %xdel  %xmode\n",
       "\n",
       "Available cell magics:\n",
       "%%!  %%HTML  %%SVG  %%bash  %%capture  %%cmd  %%debug  %%file  %%html  %%javascript  %%js  %%latex  %%markdown  %%perl  %%prun  %%pypy  %%python  %%python2  %%python3  %%ruby  %%script  %%sh  %%svg  %%sx  %%system  %%time  %%timeit  %%writefile\n",
       "\n",
       "Automagic is ON, % prefix IS NOT needed for line magics."
      ]
     },
     "execution_count": 3,
     "metadata": {},
     "output_type": "execute_result"
    }
   ],
   "source": [
    "%lsmagic"
   ]
  },
  {
   "cell_type": "code",
   "execution_count": 14,
   "metadata": {},
   "outputs": [
    {
     "name": "stdout",
     "output_type": "stream",
     "text": [
      "c:\\My Projects\\KqlMagic\\src\\notebooks\n"
     ]
    }
   ],
   "source": [
    "%cd c:\\My Projects\\KqlMagic\\src\\notebooks"
   ]
  },
  {
   "cell_type": "code",
   "execution_count": 15,
   "metadata": {
    "scrolled": true
   },
   "outputs": [
    {
     "name": "stdout",
     "output_type": "stream",
     "text": [
      "c:\\My Projects\\KqlMagic\\src\n",
      "The kql extension is already loaded. To reload it, use:\n",
      "  %reload_ext kql\n",
      "c:\\My Projects\\KqlMagic\\src\\notebooks\n",
      "popd -> c:\\My Projects\\KqlMagic\\src\\notebooks\n"
     ]
    }
   ],
   "source": [
    "%pushd\n",
    "%cd c:\\My Projects\\KqlMagic\\src\n",
    "%load_ext kql\n",
    "%popd"
   ]
  },
  {
   "cell_type": "code",
   "execution_count": 10,
   "metadata": {
    "scrolled": false
   },
   "outputs": [
    {
     "data": {
      "application/json": {
       "cell": {
        "!": "OSMagics",
        "HTML": "Other",
        "SVG": "Other",
        "bash": "Other",
        "capture": "ExecutionMagics",
        "cmd": "Other",
        "debug": "ExecutionMagics",
        "file": "Other",
        "html": "DisplayMagics",
        "javascript": "DisplayMagics",
        "js": "DisplayMagics",
        "kql": "KqlMagic",
        "latex": "DisplayMagics",
        "markdown": "DisplayMagics",
        "perl": "Other",
        "prun": "ExecutionMagics",
        "pypy": "Other",
        "python": "Other",
        "python2": "Other",
        "python3": "Other",
        "ruby": "Other",
        "script": "ScriptMagics",
        "sh": "Other",
        "svg": "DisplayMagics",
        "sx": "OSMagics",
        "system": "OSMagics",
        "time": "ExecutionMagics",
        "timeit": "ExecutionMagics",
        "writefile": "OSMagics"
       },
       "line": {
        "alias": "OSMagics",
        "alias_magic": "BasicMagics",
        "autocall": "AutoMagics",
        "automagic": "AutoMagics",
        "autosave": "KernelMagics",
        "bookmark": "OSMagics",
        "cd": "OSMagics",
        "clear": "KernelMagics",
        "cls": "KernelMagics",
        "colors": "BasicMagics",
        "config": "ConfigMagics",
        "connect_info": "KernelMagics",
        "copy": "Other",
        "ddir": "Other",
        "debug": "ExecutionMagics",
        "dhist": "OSMagics",
        "dirs": "OSMagics",
        "doctest_mode": "BasicMagics",
        "echo": "Other",
        "ed": "Other",
        "edit": "KernelMagics",
        "env": "OSMagics",
        "gui": "BasicMagics",
        "hist": "Other",
        "history": "HistoryMagics",
        "killbgscripts": "ScriptMagics",
        "kql": "KqlMagic",
        "ldir": "Other",
        "less": "KernelMagics",
        "load": "CodeMagics",
        "load_ext": "ExtensionMagics",
        "loadpy": "CodeMagics",
        "logoff": "LoggingMagics",
        "logon": "LoggingMagics",
        "logstart": "LoggingMagics",
        "logstate": "LoggingMagics",
        "logstop": "LoggingMagics",
        "ls": "Other",
        "lsmagic": "BasicMagics",
        "macro": "ExecutionMagics",
        "magic": "BasicMagics",
        "matplotlib": "PylabMagics",
        "mkdir": "Other",
        "more": "KernelMagics",
        "notebook": "BasicMagics",
        "page": "BasicMagics",
        "pastebin": "CodeMagics",
        "pdb": "ExecutionMagics",
        "pdef": "NamespaceMagics",
        "pdoc": "NamespaceMagics",
        "pfile": "NamespaceMagics",
        "pinfo": "NamespaceMagics",
        "pinfo2": "NamespaceMagics",
        "pip": "BasicMagics",
        "popd": "OSMagics",
        "pprint": "BasicMagics",
        "precision": "BasicMagics",
        "profile": "BasicMagics",
        "prun": "ExecutionMagics",
        "psearch": "NamespaceMagics",
        "psource": "NamespaceMagics",
        "pushd": "OSMagics",
        "pwd": "OSMagics",
        "pycat": "OSMagics",
        "pylab": "PylabMagics",
        "qtconsole": "KernelMagics",
        "quickref": "BasicMagics",
        "recall": "HistoryMagics",
        "rehashx": "OSMagics",
        "reload_ext": "ExtensionMagics",
        "ren": "Other",
        "rep": "Other",
        "rerun": "HistoryMagics",
        "reset": "NamespaceMagics",
        "reset_selective": "NamespaceMagics",
        "rmdir": "Other",
        "run": "ExecutionMagics",
        "save": "CodeMagics",
        "sc": "OSMagics",
        "set_env": "OSMagics",
        "store": "StoreMagics",
        "sx": "OSMagics",
        "system": "OSMagics",
        "tb": "ExecutionMagics",
        "time": "ExecutionMagics",
        "timeit": "ExecutionMagics",
        "unalias": "OSMagics",
        "unload_ext": "ExtensionMagics",
        "who": "NamespaceMagics",
        "who_ls": "NamespaceMagics",
        "whos": "NamespaceMagics",
        "xdel": "NamespaceMagics",
        "xmode": "BasicMagics"
       }
      },
      "text/plain": [
       "Available line magics:\n",
       "%alias  %alias_magic  %autocall  %automagic  %autosave  %bookmark  %cd  %clear  %cls  %colors  %config  %connect_info  %copy  %ddir  %debug  %dhist  %dirs  %doctest_mode  %echo  %ed  %edit  %env  %gui  %hist  %history  %killbgscripts  %kql  %ldir  %less  %load  %load_ext  %loadpy  %logoff  %logon  %logstart  %logstate  %logstop  %ls  %lsmagic  %macro  %magic  %matplotlib  %mkdir  %more  %notebook  %page  %pastebin  %pdb  %pdef  %pdoc  %pfile  %pinfo  %pinfo2  %popd  %pprint  %precision  %profile  %prun  %psearch  %psource  %pushd  %pwd  %pycat  %pylab  %qtconsole  %quickref  %recall  %rehashx  %reload_ext  %ren  %rep  %rerun  %reset  %reset_selective  %rmdir  %run  %save  %sc  %set_env  %store  %sx  %system  %tb  %time  %timeit  %unalias  %unload_ext  %who  %who_ls  %whos  %xdel  %xmode\n",
       "\n",
       "Available cell magics:\n",
       "%%!  %%HTML  %%SVG  %%bash  %%capture  %%cmd  %%debug  %%file  %%html  %%javascript  %%js  %%kql  %%latex  %%markdown  %%perl  %%prun  %%pypy  %%python  %%python2  %%python3  %%ruby  %%script  %%sh  %%svg  %%sx  %%system  %%time  %%timeit  %%writefile\n",
       "\n",
       "Automagic is ON, % prefix IS NOT needed for line magics."
      ]
     },
     "execution_count": 10,
     "metadata": {},
     "output_type": "execute_result"
    }
   ],
   "source": [
    "%lsmagic\n"
   ]
  },
  {
   "cell_type": "code",
   "execution_count": 4,
   "metadata": {
    "collapsed": true,
    "scrolled": false
   },
   "outputs": [],
   "source": [
    "%config KqlMagic.dsn_filename = 'dsn/odbc.ini'\n"
   ]
  },
  {
   "cell_type": "code",
   "execution_count": 5,
   "metadata": {
    "scrolled": false
   },
   "outputs": [
    {
     "name": "stdout",
     "output_type": "stream",
     "text": [
      "kusto://username('michabin@microsoft.com').password('g=Hh-h34G').cluster('Oiildc').database('OperationInsights_PFS_PROD')\n"
     ]
    },
    {
     "data": {
      "text/plain": [
       "'Connected: OperationInsights_PFS_PROD@Oiildc'"
      ]
     },
     "execution_count": 5,
     "metadata": {},
     "output_type": "execute_result"
    }
   ],
   "source": [
    "%kql [KUSTO-DSN]"
   ]
  },
  {
   "cell_type": "code",
   "execution_count": null,
   "metadata": {
    "collapsed": true
   },
   "outputs": [],
   "source": []
  },
  {
   "cell_type": "code",
   "execution_count": 6,
   "metadata": {
    "scrolled": false
   },
   "outputs": [
    {
     "data": {
      "text/plain": [
       "'Connected: Samples@help'"
      ]
     },
     "execution_count": 6,
     "metadata": {},
     "output_type": "execute_result"
    }
   ],
   "source": [
    "%kql $HELP_CONNECTION_STR"
   ]
  },
  {
   "cell_type": "code",
   "execution_count": 7,
   "metadata": {
    "collapsed": true,
    "scrolled": false
   },
   "outputs": [],
   "source": [
    "%config KqlMagic.autopandas = False"
   ]
  },
  {
   "cell_type": "code",
   "execution_count": 8,
   "metadata": {
    "collapsed": true,
    "scrolled": false
   },
   "outputs": [],
   "source": [
    "%matplotlib inline"
   ]
  },
  {
   "cell_type": "code",
   "execution_count": 9,
   "metadata": {
    "scrolled": false
   },
   "outputs": [
    {
     "name": "stdout",
     "output_type": "stream",
     "text": [
      "   OperationInsights_PFS_PROD@Oiildc\n",
      " * Samples@help\n",
      "Done (8.348701000213623): 10 records\n"
     ]
    },
    {
     "data": {
      "text/html": [
       "<table>\n",
       "    <tr>\n",
       "        <th>Language</th>\n",
       "        <th>count_</th>\n",
       "    </tr>\n",
       "    <tr>\n",
       "        <td>en</td>\n",
       "        <td>16266774</td>\n",
       "    </tr>\n",
       "    <tr>\n",
       "        <td>commons.m</td>\n",
       "        <td>15137646</td>\n",
       "    </tr>\n",
       "    <tr>\n",
       "        <td>de</td>\n",
       "        <td>14641824</td>\n",
       "    </tr>\n",
       "    <tr>\n",
       "        <td>cs</td>\n",
       "        <td>2804334</td>\n",
       "    </tr>\n",
       "    <tr>\n",
       "        <td>ar</td>\n",
       "        <td>2785242</td>\n",
       "    </tr>\n",
       "    <tr>\n",
       "        <td>da</td>\n",
       "        <td>1125036</td>\n",
       "    </tr>\n",
       "    <tr>\n",
       "        <td>ca</td>\n",
       "        <td>1048386</td>\n",
       "    </tr>\n",
       "    <tr>\n",
       "        <td>bg</td>\n",
       "        <td>819522</td>\n",
       "    </tr>\n",
       "    <tr>\n",
       "        <td>el</td>\n",
       "        <td>507336</td>\n",
       "    </tr>\n",
       "    <tr>\n",
       "        <td>be</td>\n",
       "        <td>385806</td>\n",
       "    </tr>\n",
       "</table>"
      ],
      "text/plain": [
       "[<kql.kusto_proxy.KustoRow at 0x1767f17b518>,\n",
       " <kql.kusto_proxy.KustoRow at 0x1767f17b390>,\n",
       " <kql.kusto_proxy.KustoRow at 0x1767f17bc88>,\n",
       " <kql.kusto_proxy.KustoRow at 0x1767f17b8d0>,\n",
       " <kql.kusto_proxy.KustoRow at 0x1767f17bc50>,\n",
       " <kql.kusto_proxy.KustoRow at 0x1767f17bcf8>,\n",
       " <kql.kusto_proxy.KustoRow at 0x1767f17bf98>,\n",
       " <kql.kusto_proxy.KustoRow at 0x1767f17ba20>,\n",
       " <kql.kusto_proxy.KustoRow at 0x1767f17be80>,\n",
       " <kql.kusto_proxy.KustoRow at 0x1767f17bac8>]"
      ]
     },
     "execution_count": 9,
     "metadata": {},
     "output_type": "execute_result"
    }
   ],
   "source": [
    "%kql PageViews | summarize count() by Language | sort by count_ | limit 10\n"
   ]
  },
  {
   "cell_type": "code",
   "execution_count": 10,
   "metadata": {
    "scrolled": false
   },
   "outputs": [
    {
     "data": {
      "image/png": "[encoded data removed]",
      "text/plain": [
       "<matplotlib.figure.Figure at 0x1767e9a72b0>"
      ]
     },
     "metadata": {},
     "output_type": "display_data"
    }
   ],
   "source": [
    "_.pie();"
   ]
  },
  {
   "cell_type": "code",
   "execution_count": 11,
   "metadata": {
    "scrolled": false
   },
   "outputs": [
    {
     "data": {
      "text/html": [
       "<table>\n",
       "    <tr>\n",
       "        <th>Language</th>\n",
       "        <th>count_</th>\n",
       "    </tr>\n",
       "    <tr>\n",
       "        <td>en</td>\n",
       "        <td>16266774</td>\n",
       "    </tr>\n",
       "    <tr>\n",
       "        <td>commons.m</td>\n",
       "        <td>15137646</td>\n",
       "    </tr>\n",
       "    <tr>\n",
       "        <td>de</td>\n",
       "        <td>14641824</td>\n",
       "    </tr>\n",
       "    <tr>\n",
       "        <td>cs</td>\n",
       "        <td>2804334</td>\n",
       "    </tr>\n",
       "    <tr>\n",
       "        <td>ar</td>\n",
       "        <td>2785242</td>\n",
       "    </tr>\n",
       "    <tr>\n",
       "        <td>da</td>\n",
       "        <td>1125036</td>\n",
       "    </tr>\n",
       "    <tr>\n",
       "        <td>ca</td>\n",
       "        <td>1048386</td>\n",
       "    </tr>\n",
       "    <tr>\n",
       "        <td>bg</td>\n",
       "        <td>819522</td>\n",
       "    </tr>\n",
       "    <tr>\n",
       "        <td>el</td>\n",
       "        <td>507336</td>\n",
       "    </tr>\n",
       "    <tr>\n",
       "        <td>be</td>\n",
       "        <td>385806</td>\n",
       "    </tr>\n",
       "</table>"
      ],
      "text/plain": [
       "[<kql.kusto_proxy.KustoRow at 0x1767f17b518>,\n",
       " <kql.kusto_proxy.KustoRow at 0x1767f17b390>,\n",
       " <kql.kusto_proxy.KustoRow at 0x1767f17bc88>,\n",
       " <kql.kusto_proxy.KustoRow at 0x1767f17b8d0>,\n",
       " <kql.kusto_proxy.KustoRow at 0x1767f17bc50>,\n",
       " <kql.kusto_proxy.KustoRow at 0x1767f17bcf8>,\n",
       " <kql.kusto_proxy.KustoRow at 0x1767f17bf98>,\n",
       " <kql.kusto_proxy.KustoRow at 0x1767f17ba20>,\n",
       " <kql.kusto_proxy.KustoRow at 0x1767f17be80>,\n",
       " <kql.kusto_proxy.KustoRow at 0x1767f17bac8>]"
      ]
     },
     "execution_count": 11,
     "metadata": {},
     "output_type": "execute_result"
    }
   ],
   "source": [
    "_"
   ]
  },
  {
   "cell_type": "code",
   "execution_count": 12,
   "metadata": {
    "scrolled": false
   },
   "outputs": [
    {
     "name": "stdout",
     "output_type": "stream",
     "text": [
      "   OperationInsights_PFS_PROD@Oiildc\n",
      " * Samples@help\n",
      "Done (1.901026964187622): 10 records\n"
     ]
    },
    {
     "data": {
      "image/png": "[encoded data removed]",
      "text/plain": [
       "<matplotlib.figure.Figure at 0x1767f17b080>"
      ]
     },
     "metadata": {},
     "output_type": "display_data"
    }
   ],
   "source": [
    "%%kql \n",
    "PageViews \n",
    "| summarize count() by Language \n",
    "| sort by count_ \n",
    "| limit 10 \n",
    "| extend cs = 2 * count_\n",
    "| render barchart kind=stacked title=\"Michael's chart\""
   ]
  },
  {
   "cell_type": "code",
   "execution_count": 13,
   "metadata": {
    "scrolled": false
   },
   "outputs": [
    {
     "name": "stdout",
     "output_type": "stream",
     "text": [
      "   OperationInsights_PFS_PROD@Oiildc\n",
      " * Samples@help\n",
      "Done (2.0138261318206787): 10 records\n"
     ]
    },
    {
     "data": {
      "image/png": "[encoded data removed]",
      "text/plain": [
       "<matplotlib.figure.Figure at 0x1767f2dae10>"
      ]
     },
     "metadata": {},
     "output_type": "display_data"
    }
   ],
   "source": [
    "%%kql \n",
    "PageViews \n",
    "| summarize count() by Language \n",
    "| sort by count_ \n",
    "| limit 10 \n",
    "| extend cs = 2 * count_\n",
    "//| extend cs3 = 0.6 * count_\n",
    "| render columnchart kind=stacked title=\"Michael's chart\""
   ]
  },
  {
   "cell_type": "code",
   "execution_count": 14,
   "metadata": {
    "scrolled": false
   },
   "outputs": [
    {
     "name": "stdout",
     "output_type": "stream",
     "text": [
      "   OperationInsights_PFS_PROD@Oiildc\n",
      " * Samples@help\n",
      "Done (2.0099387168884277): 10 records\n"
     ]
    },
    {
     "data": {
      "image/png": "[encoded data removed]",
      "text/plain": [
       "<matplotlib.figure.Figure at 0x1767f2e11d0>"
      ]
     },
     "metadata": {},
     "output_type": "display_data"
    }
   ],
   "source": [
    "%%kql \n",
    "PageViews \n",
    "| summarize count() by Language \n",
    "| sort by count_ \n",
    "| limit 10 \n",
    "| extend cs2 = 2 * count_\n",
    "| extend cs3 = 3 * count_\n",
    "//| extend cs4 = 4 * count_\n",
    "//| extend cs5 = count_ * count_\n",
    "| render linechart title=\"Michael's chart\""
   ]
  },
  {
   "cell_type": "code",
   "execution_count": 16,
   "metadata": {
    "scrolled": false
   },
   "outputs": [
    {
     "name": "stdout",
     "output_type": "stream",
     "text": [
      "   OperationInsights_PFS_PROD@Oiildc\n",
      " * Samples@help\n",
      "Done (2.8817970752716064): 10 records\n"
     ]
    },
    {
     "data": {
      "text/html": [
       "<script>requirejs.config({paths: { 'plotly': ['https://cdn.plot.ly/plotly-latest.min']},});if(!window.Plotly) {{require(['plotly'],function(plotly) {window.Plotly=plotly;});}}</script>"
      ],
      "text/vnd.plotly.v1+html": [
       "<script>requirejs.config({paths: { 'plotly': ['https://cdn.plot.ly/plotly-latest.min']},});if(!window.Plotly) {{require(['plotly'],function(plotly) {window.Plotly=plotly;});}}</script>"
      ]
     },
     "metadata": {},
     "output_type": "display_data"
    },
    {
     "data": {
      "application/vnd.plotly.v1+json": {
       "data": [
        {
         "fill": "tonexty",
         "line": {
          "color": "rgb(184, 247, 212)",
          "width": 0.5
         },
         "mode": "lines",
         "type": "scatter",
         "uid": "fdc2db",
         "x": [
          0,
          1,
          2,
          3,
          4,
          5,
          6,
          7,
          8,
          9,
          10,
          11,
          12,
          13,
          14,
          15,
          16,
          17,
          18,
          19,
          20,
          21,
          22,
          23,
          24,
          25,
          26,
          27,
          28,
          29,
          30,
          31,
          32,
          33,
          34,
          35,
          36,
          37,
          38,
          39,
          40,
          41,
          42,
          43,
          44,
          45,
          46,
          47,
          48,
          49,
          50,
          51,
          52,
          53,
          54,
          55,
          56,
          57,
          58,
          59,
          60,
          61,
          62,
          63,
          64,
          65,
          66,
          67,
          68,
          69,
          70,
          71,
          72,
          73,
          74,
          75,
          76,
          77,
          78,
          79,
          80,
          81,
          82,
          83,
          84,
          85,
          86,
          87,
          88,
          89,
          90,
          91,
          92,
          93,
          94,
          95,
          96,
          97,
          98,
          99
         ],
         "y": [
          0.977781297859435,
          0.48601740273051586,
          0.9182018413707574,
          0.8914838855250921,
          0.08481847017083344,
          0.7423285400706441,
          0.9237411747410372,
          0.22195187715837728,
          0.7346015933916477,
          0.8475222286633897,
          0.7575280759633244,
          0.30163098131803556,
          0.9786362775196594,
          0.8636607786441504,
          0.727634129272568,
          0.9759576191445727,
          0.7743268059293749,
          0.6094577741381082,
          0.1865070309676733,
          0.8895897593284698,
          0.1324611853135128,
          0.9655282620556044,
          0.37945152936957227,
          0.02311590751627346,
          0.3258846181477234,
          0.7729412566816328,
          0.30579563931083864,
          0.819601780534433,
          0.4027695944428401,
          0.3245727561816012,
          0.29198656096253295,
          0.8659693975445865,
          0.9916330621816716,
          0.14839987776985475,
          0.7123796043341087,
          0.977080002687996,
          0.46825279035182255,
          0.12505765059017915,
          0.6442794688976681,
          0.9289412050668026,
          0.8193507331025744,
          0.2896749971193697,
          0.37378795389886144,
          0.7629931626517032,
          0.8201422150665006,
          0.9815566600980176,
          0.6260005339292752,
          0.5911070501487988,
          0.280833919162374,
          0.04948479002137274,
          0.5336693188031031,
          0.32729060248722097,
          0.09260856671574624,
          0.2132966113770648,
          0.3703872745003608,
          0.7812623572867633,
          0.1465798160938271,
          0.9658835426307144,
          0.7354873249608205,
          0.2367727534878934,
          0.29211687817869225,
          0.6581616542271568,
          0.988803071656363,
          0.30651633647010534,
          0.6887317771601433,
          0.2201129645854304,
          0.720448290427538,
          0.7161327086157818,
          0.6663996492229257,
          0.947146199661997,
          0.2805851258435753,
          0.09448285474493301,
          0.506923663133123,
          0.05725346985333979,
          0.40608792109875935,
          0.436869059777258,
          0.8908544719461315,
          0.30713029846639905,
          0.9650245524038006,
          0.7470151980981886,
          0.8958188172570873,
          0.18205840266297446,
          0.4963931376897527,
          0.8533117632761807,
          0.9234771696399448,
          0.69497214448275,
          0.6201338638858961,
          0.2899352912591072,
          0.7017516650122371,
          0.28047343068826114,
          0.386083024238541,
          0.8811087594672324,
          0.5293564623511737,
          0.24576771476463477,
          0.3345238522650106,
          0.10902018024339788,
          0.8189275861507772,
          0.4447812004095745,
          0.25252135676241105,
          0.5839994344267989
         ]
        },
        {
         "fill": "tonexty",
         "line": {
          "color": "rgb(111, 231, 219)",
          "width": 0.5
         },
         "mode": "lines",
         "type": "scatter",
         "uid": "77aea0",
         "x": [
          0,
          1,
          2,
          3,
          4,
          5,
          6,
          7,
          8,
          9,
          10,
          11,
          12,
          13,
          14,
          15,
          16,
          17,
          18,
          19,
          20,
          21,
          22,
          23,
          24,
          25,
          26,
          27,
          28,
          29,
          30,
          31,
          32,
          33,
          34,
          35,
          36,
          37,
          38,
          39,
          40,
          41,
          42,
          43,
          44,
          45,
          46,
          47,
          48,
          49,
          50,
          51,
          52,
          53,
          54,
          55,
          56,
          57,
          58,
          59,
          60,
          61,
          62,
          63,
          64,
          65,
          66,
          67,
          68,
          69,
          70,
          71,
          72,
          73,
          74,
          75,
          76,
          77,
          78,
          79,
          80,
          81,
          82,
          83,
          84,
          85,
          86,
          87,
          88,
          89,
          90,
          91,
          92,
          93,
          94,
          95,
          96,
          97,
          98,
          99
         ],
         "y": [
          1.4638883451315257,
          1.3322810538588503,
          1.5402781031188228,
          1.1932358232879343,
          0.8416185348261574,
          1.0455833353083275,
          1.0196770537393398,
          0.40770797395786607,
          1.0536651626219637,
          1.5746898984273694,
          1.6190007877606658,
          1.269782783371105,
          1.2096538769518181,
          1.5602031830320136,
          1.1191062678975912,
          1.085173258115049,
          1.7681751795491354,
          1.3374896175338298,
          0.6925976379111334,
          1.8869377066493689,
          0.9586590679788786,
          1.218556271230581,
          0.562457185376417,
          0.05588374399382956,
          0.9524040465484217,
          1.2184303615011611,
          0.7690185367378891,
          1.022884510557902,
          0.6350853482996651,
          0.3515147864927973,
          0.8092831711969685,
          1.4549466793368084,
          1.9378102781974036,
          0.5810098856603446,
          0.7602352686885749,
          1.0709596618076067,
          0.5297303093714004,
          0.9064737215405744,
          0.7885199179068427,
          1.76405521360777,
          1.7550064045302611,
          0.996587679677253,
          1.1081260570049367,
          1.4951834081084103,
          1.0187721217253594,
          1.1990322104512123,
          1.591499471272614,
          0.87631659164144,
          1.2536591600517528,
          0.9093479705102576,
          1.1979527416376943,
          1.3152492472891684,
          0.29791180512149007,
          0.8602809315537584,
          0.44724699227850184,
          1.0515700703232533,
          0.6978073731377029,
          1.4801213688511627,
          1.3357685583131822,
          1.1127597307410637,
          0.9536979929647124,
          1.5272205345307162,
          1.7367325738887454,
          0.5897750201836475,
          1.570247097331781,
          0.5482349685546425,
          1.6757360188071455,
          1.0956974160472956,
          0.9006393951731656,
          1.7838298214624608,
          0.7223466872835783,
          0.3134794228574477,
          1.12967495824219,
          0.10841896244300553,
          0.7457021576801872,
          1.3154403347699832,
          1.4860372440192386,
          1.294220186944634,
          1.344462533333029,
          1.5883046002002805,
          1.821194881829906,
          1.0004642057938806,
          0.9328013121681288,
          1.0377753317885972,
          1.4685091459499278,
          1.275904145823867,
          1.027497773774292,
          0.7340072229432129,
          1.5404119288403226,
          0.6741371346817218,
          1.2904810232925072,
          1.154714004376394,
          0.8685696329358019,
          1.015935368514592,
          0.3642619615306133,
          0.1903002432576023,
          1.62693473300991,
          0.7294718223856268,
          0.331857983969023,
          0.6878796072645816
         ]
        },
        {
         "fill": "tonexty",
         "line": {
          "color": "rgb(127, 166, 238)",
          "width": 0.5
         },
         "mode": "lines",
         "type": "scatter",
         "uid": "35568a",
         "x": [
          0,
          1,
          2,
          3,
          4,
          5,
          6,
          7,
          8,
          9,
          10,
          11,
          12,
          13,
          14,
          15,
          16,
          17,
          18,
          19,
          20,
          21,
          22,
          23,
          24,
          25,
          26,
          27,
          28,
          29,
          30,
          31,
          32,
          33,
          34,
          35,
          36,
          37,
          38,
          39,
          40,
          41,
          42,
          43,
          44,
          45,
          46,
          47,
          48,
          49,
          50,
          51,
          52,
          53,
          54,
          55,
          56,
          57,
          58,
          59,
          60,
          61,
          62,
          63,
          64,
          65,
          66,
          67,
          68,
          69,
          70,
          71,
          72,
          73,
          74,
          75,
          76,
          77,
          78,
          79,
          80,
          81,
          82,
          83,
          84,
          85,
          86,
          87,
          88,
          89,
          90,
          91,
          92,
          93,
          94,
          95,
          96,
          97,
          98,
          99
         ],
         "y": [
          2.064179237122204,
          1.9232966717828095,
          2.447750052384033,
          1.4397250060807838,
          1.1320538733894887,
          1.6714284599375657,
          1.611335875374526,
          1.195456829696043,
          1.7638938642751953,
          1.603455218855072,
          1.818763490348533,
          1.4182963325200322,
          1.6595218399054728,
          1.9404289979166491,
          1.7409071931015396,
          1.8189283430649565,
          2.391109206938003,
          1.398991170567232,
          0.7803514458179918,
          2.2187466396528253,
          1.356954959950083,
          1.2880635729049925,
          1.2561851822633554,
          0.9917416487083569,
          1.7854722354891102,
          1.4766406611738656,
          1.234712474825551,
          1.5044744882825571,
          1.3703245917143834,
          1.1869522950796403,
          1.200434398179333,
          1.6296056074504177,
          2.201312660508382,
          1.4524282194507614,
          1.4920126689346986,
          1.4856952519492763,
          0.8898481560473758,
          1.587262273527674,
          1.3947009663684886,
          1.8017999716804147,
          2.2367710951956563,
          1.6077624067796696,
          1.895156871362085,
          1.9993731335641847,
          1.615895551861379,
          1.2933501531222906,
          2.5868936150788873,
          1.4157680868147153,
          1.7739695043092134,
          1.7498680932057833,
          1.9310316119981952,
          1.6918377104838491,
          1.1719020847750743,
          1.1886788112970834,
          1.395567869014776,
          1.8427458273164303,
          1.3599847563996619,
          1.6711789492527003,
          1.8835669983795653,
          1.665826990881388,
          1.9416928303627778,
          2.0451381205404724,
          1.8502614109364877,
          1.3026474397833434,
          2.4507065024713452,
          0.8984703420787191,
          2.0897517213763956,
          1.2208723910715995,
          1.7669306519265566,
          2.329097107571298,
          1.6018062513188998,
          0.9483462002657803,
          1.3742444793393942,
          0.5599590502511836,
          1.3274413646418104,
          1.8008111299937508,
          2.2887368088782147,
          2.0183349431649704,
          1.9879534991054886,
          2.1735138372651335,
          2.7959205634325217,
          1.620958438984371,
          1.8755798892867896,
          1.9495875798080893,
          1.6488538547040092,
          1.7206576465293273,
          1.7528765335447312,
          1.321796515860274,
          1.7921846784752615,
          0.888887806854375,
          1.6215092541808154,
          1.6195995169587598,
          0.9363741553696295,
          1.3320408794735081,
          0.37175761799300244,
          0.6581656189369437,
          1.716169194224932,
          1.4826045196274538,
          1.265429214502281,
          1.3752738587304156
         ]
        },
        {
         "fill": "tonexty",
         "line": {
          "color": "rgb(131, 90, 241)",
          "width": 0.5
         },
         "mode": "lines",
         "type": "scatter",
         "uid": "ce1516",
         "x": [
          0,
          1,
          2,
          3,
          4,
          5,
          6,
          7,
          8,
          9,
          10,
          11,
          12,
          13,
          14,
          15,
          16,
          17,
          18,
          19,
          20,
          21,
          22,
          23,
          24,
          25,
          26,
          27,
          28,
          29,
          30,
          31,
          32,
          33,
          34,
          35,
          36,
          37,
          38,
          39,
          40,
          41,
          42,
          43,
          44,
          45,
          46,
          47,
          48,
          49,
          50,
          51,
          52,
          53,
          54,
          55,
          56,
          57,
          58,
          59,
          60,
          61,
          62,
          63,
          64,
          65,
          66,
          67,
          68,
          69,
          70,
          71,
          72,
          73,
          74,
          75,
          76,
          77,
          78,
          79,
          80,
          81,
          82,
          83,
          84,
          85,
          86,
          87,
          88,
          89,
          90,
          91,
          92,
          93,
          94,
          95,
          96,
          97,
          98,
          99
         ],
         "y": [
          3,
          3,
          3,
          3,
          3,
          3,
          3,
          3,
          3,
          3,
          3,
          3,
          3,
          3,
          3,
          3,
          3,
          3,
          3,
          3,
          3,
          3,
          3,
          3,
          3,
          3,
          3,
          3,
          3,
          3,
          3,
          3,
          3,
          3,
          3,
          3,
          3,
          3,
          3,
          3,
          3,
          3,
          3,
          3,
          3,
          3,
          3,
          3,
          3,
          3,
          3,
          3,
          3,
          3,
          3,
          3,
          3,
          3,
          3,
          3,
          3,
          3,
          3,
          3,
          3,
          3,
          3,
          3,
          3,
          3,
          3,
          3,
          3,
          3,
          3,
          3,
          3,
          3,
          3,
          3,
          3,
          3,
          3,
          3,
          3,
          3,
          3,
          3,
          3,
          3,
          3,
          3,
          3,
          3,
          3,
          3,
          3,
          3,
          3,
          3
         ]
        }
       ],
       "layout": {
        "autosize": true,
        "showlegend": true,
        "xaxis": {
         "autorange": true,
         "range": [
          0,
          99
         ],
         "type": "category"
        },
        "yaxis": {
         "dtick": 20,
         "range": [
          0,
          3
         ],
         "ticksuffix": "%",
         "type": "linear"
        }
       }
      },
      "text/html": [
       "<div id=\"a8a17e85-ebd6-4a63-b1d0-98fcac327289\" style=\"height: 525px; width: 100%;\" class=\"plotly-graph-div\"></div><script type=\"text/javascript\">require([\"plotly\"], function(Plotly) { window.PLOTLYENV=window.PLOTLYENV || {};window.PLOTLYENV.BASE_URL=\"https://plot.ly\";Plotly.newPlot(\"a8a17e85-ebd6-4a63-b1d0-98fcac327289\", [{\"type\": \"scatter\", \"x\": [0, 1, 2, 3, 4, 5, 6, 7, 8, 9, 10, 11, 12, 13, 14, 15, 16, 17, 18, 19, 20, 21, 22, 23, 24, 25, 26, 27, 28, 29, 30, 31, 32, 33, 34, 35, 36, 37, 38, 39, 40, 41, 42, 43, 44, 45, 46, 47, 48, 49, 50, 51, 52, 53, 54, 55, 56, 57, 58, 59, 60, 61, 62, 63, 64, 65, 66, 67, 68, 69, 70, 71, 72, 73, 74, 75, 76, 77, 78, 79, 80, 81, 82, 83, 84, 85, 86, 87, 88, 89, 90, 91, 92, 93, 94, 95, 96, 97, 98, 99], \"y\": [0.977781297859435, 0.48601740273051586, 0.9182018413707574, 0.8914838855250921, 0.08481847017083344, 0.7423285400706441, 0.9237411747410372, 0.22195187715837728, 0.7346015933916477, 0.8475222286633897, 0.7575280759633244, 0.30163098131803556, 0.9786362775196594, 0.8636607786441504, 0.727634129272568, 0.9759576191445727, 0.7743268059293749, 0.6094577741381082, 0.1865070309676733, 0.8895897593284698, 0.1324611853135128, 0.9655282620556044, 0.37945152936957227, 0.02311590751627346, 0.3258846181477234, 0.7729412566816328, 0.30579563931083864, 0.819601780534433, 0.4027695944428401, 0.3245727561816012, 0.29198656096253295, 0.8659693975445865, 0.9916330621816716, 0.14839987776985475, 0.7123796043341087, 0.977080002687996, 0.46825279035182255, 0.12505765059017915, 0.6442794688976681, 0.9289412050668026, 0.8193507331025744, 0.2896749971193697, 0.37378795389886144, 0.7629931626517032, 0.8201422150665006, 0.9815566600980176, 0.6260005339292752, 0.5911070501487988, 0.280833919162374, 0.04948479002137274, 0.5336693188031031, 0.32729060248722097, 0.09260856671574624, 0.2132966113770648, 0.3703872745003608, 0.7812623572867633, 0.1465798160938271, 0.9658835426307144, 0.7354873249608205, 0.2367727534878934, 0.29211687817869225, 0.6581616542271568, 0.988803071656363, 0.30651633647010534, 0.6887317771601433, 0.2201129645854304, 0.720448290427538, 0.7161327086157818, 0.6663996492229257, 0.947146199661997, 0.2805851258435753, 0.09448285474493301, 0.506923663133123, 0.05725346985333979, 0.40608792109875935, 0.436869059777258, 0.8908544719461315, 0.30713029846639905, 0.9650245524038006, 0.7470151980981886, 0.8958188172570873, 0.18205840266297446, 0.4963931376897527, 0.8533117632761807, 0.9234771696399448, 0.69497214448275, 0.6201338638858961, 0.2899352912591072, 0.7017516650122371, 0.28047343068826114, 0.386083024238541, 0.8811087594672324, 0.5293564623511737, 0.24576771476463477, 0.3345238522650106, 0.10902018024339788, 0.8189275861507772, 0.4447812004095745, 0.25252135676241105, 0.5839994344267989], \"mode\": \"lines\", \"line\": {\"width\": 0.5, \"color\": \"rgb(184, 247, 212)\"}, \"fill\": \"tonexty\"}, {\"type\": \"scatter\", \"x\": [0, 1, 2, 3, 4, 5, 6, 7, 8, 9, 10, 11, 12, 13, 14, 15, 16, 17, 18, 19, 20, 21, 22, 23, 24, 25, 26, 27, 28, 29, 30, 31, 32, 33, 34, 35, 36, 37, 38, 39, 40, 41, 42, 43, 44, 45, 46, 47, 48, 49, 50, 51, 52, 53, 54, 55, 56, 57, 58, 59, 60, 61, 62, 63, 64, 65, 66, 67, 68, 69, 70, 71, 72, 73, 74, 75, 76, 77, 78, 79, 80, 81, 82, 83, 84, 85, 86, 87, 88, 89, 90, 91, 92, 93, 94, 95, 96, 97, 98, 99], \"y\": [1.4638883451315257, 1.3322810538588503, 1.5402781031188228, 1.1932358232879343, 0.8416185348261574, 1.0455833353083275, 1.0196770537393398, 0.40770797395786607, 1.0536651626219637, 1.5746898984273694, 1.6190007877606658, 1.269782783371105, 1.2096538769518181, 1.5602031830320136, 1.1191062678975912, 1.085173258115049, 1.7681751795491354, 1.3374896175338298, 0.6925976379111334, 1.8869377066493689, 0.9586590679788786, 1.218556271230581, 0.562457185376417, 0.05588374399382956, 0.9524040465484217, 1.2184303615011611, 0.7690185367378891, 1.022884510557902, 0.6350853482996651, 0.3515147864927973, 0.8092831711969685, 1.4549466793368084, 1.9378102781974036, 0.5810098856603446, 0.7602352686885749, 1.0709596618076067, 0.5297303093714004, 0.9064737215405744, 0.7885199179068427, 1.76405521360777, 1.7550064045302611, 0.996587679677253, 1.1081260570049367, 1.4951834081084103, 1.0187721217253594, 1.1990322104512123, 1.591499471272614, 0.87631659164144, 1.2536591600517528, 0.9093479705102576, 1.1979527416376943, 1.3152492472891684, 0.29791180512149007, 0.8602809315537584, 0.44724699227850184, 1.0515700703232533, 0.6978073731377029, 1.4801213688511627, 1.3357685583131822, 1.1127597307410637, 0.9536979929647124, 1.5272205345307162, 1.7367325738887454, 0.5897750201836475, 1.570247097331781, 0.5482349685546425, 1.6757360188071455, 1.0956974160472956, 0.9006393951731656, 1.7838298214624608, 0.7223466872835783, 0.3134794228574477, 1.12967495824219, 0.10841896244300553, 0.7457021576801872, 1.3154403347699832, 1.4860372440192386, 1.294220186944634, 1.344462533333029, 1.5883046002002805, 1.821194881829906, 1.0004642057938806, 0.9328013121681288, 1.0377753317885972, 1.4685091459499278, 1.275904145823867, 1.027497773774292, 0.7340072229432129, 1.5404119288403226, 0.6741371346817218, 1.2904810232925072, 1.154714004376394, 0.8685696329358019, 1.015935368514592, 0.3642619615306133, 0.1903002432576023, 1.62693473300991, 0.7294718223856268, 0.331857983969023, 0.6878796072645816], \"mode\": \"lines\", \"line\": {\"width\": 0.5, \"color\": \"rgb(111, 231, 219)\"}, \"fill\": \"tonexty\"}, {\"type\": \"scatter\", \"x\": [0, 1, 2, 3, 4, 5, 6, 7, 8, 9, 10, 11, 12, 13, 14, 15, 16, 17, 18, 19, 20, 21, 22, 23, 24, 25, 26, 27, 28, 29, 30, 31, 32, 33, 34, 35, 36, 37, 38, 39, 40, 41, 42, 43, 44, 45, 46, 47, 48, 49, 50, 51, 52, 53, 54, 55, 56, 57, 58, 59, 60, 61, 62, 63, 64, 65, 66, 67, 68, 69, 70, 71, 72, 73, 74, 75, 76, 77, 78, 79, 80, 81, 82, 83, 84, 85, 86, 87, 88, 89, 90, 91, 92, 93, 94, 95, 96, 97, 98, 99], \"y\": [2.064179237122204, 1.9232966717828095, 2.447750052384033, 1.4397250060807838, 1.1320538733894887, 1.6714284599375657, 1.611335875374526, 1.195456829696043, 1.7638938642751953, 1.603455218855072, 1.818763490348533, 1.4182963325200322, 1.6595218399054728, 1.9404289979166491, 1.7409071931015396, 1.8189283430649565, 2.391109206938003, 1.398991170567232, 0.7803514458179918, 2.2187466396528253, 1.356954959950083, 1.2880635729049925, 1.2561851822633554, 0.9917416487083569, 1.7854722354891102, 1.4766406611738656, 1.234712474825551, 1.5044744882825571, 1.3703245917143834, 1.1869522950796403, 1.200434398179333, 1.6296056074504177, 2.201312660508382, 1.4524282194507614, 1.4920126689346986, 1.4856952519492763, 0.8898481560473758, 1.587262273527674, 1.3947009663684886, 1.8017999716804147, 2.2367710951956563, 1.6077624067796696, 1.895156871362085, 1.9993731335641847, 1.615895551861379, 1.2933501531222906, 2.5868936150788873, 1.4157680868147153, 1.7739695043092134, 1.7498680932057833, 1.9310316119981952, 1.6918377104838491, 1.1719020847750743, 1.1886788112970834, 1.395567869014776, 1.8427458273164303, 1.3599847563996619, 1.6711789492527003, 1.8835669983795653, 1.665826990881388, 1.9416928303627778, 2.0451381205404724, 1.8502614109364877, 1.3026474397833434, 2.4507065024713452, 0.8984703420787191, 2.0897517213763956, 1.2208723910715995, 1.7669306519265566, 2.329097107571298, 1.6018062513188998, 0.9483462002657803, 1.3742444793393942, 0.5599590502511836, 1.3274413646418104, 1.8008111299937508, 2.2887368088782147, 2.0183349431649704, 1.9879534991054886, 2.1735138372651335, 2.7959205634325217, 1.620958438984371, 1.8755798892867896, 1.9495875798080893, 1.6488538547040092, 1.7206576465293273, 1.7528765335447312, 1.321796515860274, 1.7921846784752615, 0.888887806854375, 1.6215092541808154, 1.6195995169587598, 0.9363741553696295, 1.3320408794735081, 0.37175761799300244, 0.6581656189369437, 1.716169194224932, 1.4826045196274538, 1.265429214502281, 1.3752738587304156], \"mode\": \"lines\", \"line\": {\"width\": 0.5, \"color\": \"rgb(127, 166, 238)\"}, \"fill\": \"tonexty\"}, {\"type\": \"scatter\", \"x\": [0, 1, 2, 3, 4, 5, 6, 7, 8, 9, 10, 11, 12, 13, 14, 15, 16, 17, 18, 19, 20, 21, 22, 23, 24, 25, 26, 27, 28, 29, 30, 31, 32, 33, 34, 35, 36, 37, 38, 39, 40, 41, 42, 43, 44, 45, 46, 47, 48, 49, 50, 51, 52, 53, 54, 55, 56, 57, 58, 59, 60, 61, 62, 63, 64, 65, 66, 67, 68, 69, 70, 71, 72, 73, 74, 75, 76, 77, 78, 79, 80, 81, 82, 83, 84, 85, 86, 87, 88, 89, 90, 91, 92, 93, 94, 95, 96, 97, 98, 99], \"y\": [3.0, 3.0, 3.0, 3.0, 3.0, 3.0, 3.0, 3.0, 3.0, 3.0, 3.0, 3.0, 3.0, 3.0, 3.0, 3.0, 3.0, 3.0, 3.0, 3.0, 3.0, 3.0, 3.0, 3.0, 3.0, 3.0, 3.0, 3.0, 3.0, 3.0, 3.0, 3.0, 3.0, 3.0, 3.0, 3.0, 3.0, 3.0, 3.0, 3.0, 3.0, 3.0, 3.0, 3.0, 3.0, 3.0, 3.0, 3.0, 3.0, 3.0, 3.0, 3.0, 3.0, 3.0, 3.0, 3.0, 3.0, 3.0, 3.0, 3.0, 3.0, 3.0, 3.0, 3.0, 3.0, 3.0, 3.0, 3.0, 3.0, 3.0, 3.0, 3.0, 3.0, 3.0, 3.0, 3.0, 3.0, 3.0, 3.0, 3.0, 3.0, 3.0, 3.0, 3.0, 3.0, 3.0, 3.0, 3.0, 3.0, 3.0, 3.0, 3.0, 3.0, 3.0, 3.0, 3.0, 3.0, 3.0, 3.0, 3.0], \"mode\": \"lines\", \"line\": {\"width\": 0.5, \"color\": \"rgb(131, 90, 241)\"}, \"fill\": \"tonexty\"}], {\"showlegend\": true, \"xaxis\": {\"type\": \"category\"}, \"yaxis\": {\"type\": \"linear\", \"range\": [0, 3], \"dtick\": 20, \"ticksuffix\": \"%\"}}, {\"showLink\": true, \"linkText\": \"Export to plot.ly\"})});</script>"
      ],
      "text/vnd.plotly.v1+html": [
       "<div id=\"a8a17e85-ebd6-4a63-b1d0-98fcac327289\" style=\"height: 525px; width: 100%;\" class=\"plotly-graph-div\"></div><script type=\"text/javascript\">require([\"plotly\"], function(Plotly) { window.PLOTLYENV=window.PLOTLYENV || {};window.PLOTLYENV.BASE_URL=\"https://plot.ly\";Plotly.newPlot(\"a8a17e85-ebd6-4a63-b1d0-98fcac327289\", [{\"type\": \"scatter\", \"x\": [0, 1, 2, 3, 4, 5, 6, 7, 8, 9, 10, 11, 12, 13, 14, 15, 16, 17, 18, 19, 20, 21, 22, 23, 24, 25, 26, 27, 28, 29, 30, 31, 32, 33, 34, 35, 36, 37, 38, 39, 40, 41, 42, 43, 44, 45, 46, 47, 48, 49, 50, 51, 52, 53, 54, 55, 56, 57, 58, 59, 60, 61, 62, 63, 64, 65, 66, 67, 68, 69, 70, 71, 72, 73, 74, 75, 76, 77, 78, 79, 80, 81, 82, 83, 84, 85, 86, 87, 88, 89, 90, 91, 92, 93, 94, 95, 96, 97, 98, 99], \"y\": [0.977781297859435, 0.48601740273051586, 0.9182018413707574, 0.8914838855250921, 0.08481847017083344, 0.7423285400706441, 0.9237411747410372, 0.22195187715837728, 0.7346015933916477, 0.8475222286633897, 0.7575280759633244, 0.30163098131803556, 0.9786362775196594, 0.8636607786441504, 0.727634129272568, 0.9759576191445727, 0.7743268059293749, 0.6094577741381082, 0.1865070309676733, 0.8895897593284698, 0.1324611853135128, 0.9655282620556044, 0.37945152936957227, 0.02311590751627346, 0.3258846181477234, 0.7729412566816328, 0.30579563931083864, 0.819601780534433, 0.4027695944428401, 0.3245727561816012, 0.29198656096253295, 0.8659693975445865, 0.9916330621816716, 0.14839987776985475, 0.7123796043341087, 0.977080002687996, 0.46825279035182255, 0.12505765059017915, 0.6442794688976681, 0.9289412050668026, 0.8193507331025744, 0.2896749971193697, 0.37378795389886144, 0.7629931626517032, 0.8201422150665006, 0.9815566600980176, 0.6260005339292752, 0.5911070501487988, 0.280833919162374, 0.04948479002137274, 0.5336693188031031, 0.32729060248722097, 0.09260856671574624, 0.2132966113770648, 0.3703872745003608, 0.7812623572867633, 0.1465798160938271, 0.9658835426307144, 0.7354873249608205, 0.2367727534878934, 0.29211687817869225, 0.6581616542271568, 0.988803071656363, 0.30651633647010534, 0.6887317771601433, 0.2201129645854304, 0.720448290427538, 0.7161327086157818, 0.6663996492229257, 0.947146199661997, 0.2805851258435753, 0.09448285474493301, 0.506923663133123, 0.05725346985333979, 0.40608792109875935, 0.436869059777258, 0.8908544719461315, 0.30713029846639905, 0.9650245524038006, 0.7470151980981886, 0.8958188172570873, 0.18205840266297446, 0.4963931376897527, 0.8533117632761807, 0.9234771696399448, 0.69497214448275, 0.6201338638858961, 0.2899352912591072, 0.7017516650122371, 0.28047343068826114, 0.386083024238541, 0.8811087594672324, 0.5293564623511737, 0.24576771476463477, 0.3345238522650106, 0.10902018024339788, 0.8189275861507772, 0.4447812004095745, 0.25252135676241105, 0.5839994344267989], \"mode\": \"lines\", \"line\": {\"width\": 0.5, \"color\": \"rgb(184, 247, 212)\"}, \"fill\": \"tonexty\"}, {\"type\": \"scatter\", \"x\": [0, 1, 2, 3, 4, 5, 6, 7, 8, 9, 10, 11, 12, 13, 14, 15, 16, 17, 18, 19, 20, 21, 22, 23, 24, 25, 26, 27, 28, 29, 30, 31, 32, 33, 34, 35, 36, 37, 38, 39, 40, 41, 42, 43, 44, 45, 46, 47, 48, 49, 50, 51, 52, 53, 54, 55, 56, 57, 58, 59, 60, 61, 62, 63, 64, 65, 66, 67, 68, 69, 70, 71, 72, 73, 74, 75, 76, 77, 78, 79, 80, 81, 82, 83, 84, 85, 86, 87, 88, 89, 90, 91, 92, 93, 94, 95, 96, 97, 98, 99], \"y\": [1.4638883451315257, 1.3322810538588503, 1.5402781031188228, 1.1932358232879343, 0.8416185348261574, 1.0455833353083275, 1.0196770537393398, 0.40770797395786607, 1.0536651626219637, 1.5746898984273694, 1.6190007877606658, 1.269782783371105, 1.2096538769518181, 1.5602031830320136, 1.1191062678975912, 1.085173258115049, 1.7681751795491354, 1.3374896175338298, 0.6925976379111334, 1.8869377066493689, 0.9586590679788786, 1.218556271230581, 0.562457185376417, 0.05588374399382956, 0.9524040465484217, 1.2184303615011611, 0.7690185367378891, 1.022884510557902, 0.6350853482996651, 0.3515147864927973, 0.8092831711969685, 1.4549466793368084, 1.9378102781974036, 0.5810098856603446, 0.7602352686885749, 1.0709596618076067, 0.5297303093714004, 0.9064737215405744, 0.7885199179068427, 1.76405521360777, 1.7550064045302611, 0.996587679677253, 1.1081260570049367, 1.4951834081084103, 1.0187721217253594, 1.1990322104512123, 1.591499471272614, 0.87631659164144, 1.2536591600517528, 0.9093479705102576, 1.1979527416376943, 1.3152492472891684, 0.29791180512149007, 0.8602809315537584, 0.44724699227850184, 1.0515700703232533, 0.6978073731377029, 1.4801213688511627, 1.3357685583131822, 1.1127597307410637, 0.9536979929647124, 1.5272205345307162, 1.7367325738887454, 0.5897750201836475, 1.570247097331781, 0.5482349685546425, 1.6757360188071455, 1.0956974160472956, 0.9006393951731656, 1.7838298214624608, 0.7223466872835783, 0.3134794228574477, 1.12967495824219, 0.10841896244300553, 0.7457021576801872, 1.3154403347699832, 1.4860372440192386, 1.294220186944634, 1.344462533333029, 1.5883046002002805, 1.821194881829906, 1.0004642057938806, 0.9328013121681288, 1.0377753317885972, 1.4685091459499278, 1.275904145823867, 1.027497773774292, 0.7340072229432129, 1.5404119288403226, 0.6741371346817218, 1.2904810232925072, 1.154714004376394, 0.8685696329358019, 1.015935368514592, 0.3642619615306133, 0.1903002432576023, 1.62693473300991, 0.7294718223856268, 0.331857983969023, 0.6878796072645816], \"mode\": \"lines\", \"line\": {\"width\": 0.5, \"color\": \"rgb(111, 231, 219)\"}, \"fill\": \"tonexty\"}, {\"type\": \"scatter\", \"x\": [0, 1, 2, 3, 4, 5, 6, 7, 8, 9, 10, 11, 12, 13, 14, 15, 16, 17, 18, 19, 20, 21, 22, 23, 24, 25, 26, 27, 28, 29, 30, 31, 32, 33, 34, 35, 36, 37, 38, 39, 40, 41, 42, 43, 44, 45, 46, 47, 48, 49, 50, 51, 52, 53, 54, 55, 56, 57, 58, 59, 60, 61, 62, 63, 64, 65, 66, 67, 68, 69, 70, 71, 72, 73, 74, 75, 76, 77, 78, 79, 80, 81, 82, 83, 84, 85, 86, 87, 88, 89, 90, 91, 92, 93, 94, 95, 96, 97, 98, 99], \"y\": [2.064179237122204, 1.9232966717828095, 2.447750052384033, 1.4397250060807838, 1.1320538733894887, 1.6714284599375657, 1.611335875374526, 1.195456829696043, 1.7638938642751953, 1.603455218855072, 1.818763490348533, 1.4182963325200322, 1.6595218399054728, 1.9404289979166491, 1.7409071931015396, 1.8189283430649565, 2.391109206938003, 1.398991170567232, 0.7803514458179918, 2.2187466396528253, 1.356954959950083, 1.2880635729049925, 1.2561851822633554, 0.9917416487083569, 1.7854722354891102, 1.4766406611738656, 1.234712474825551, 1.5044744882825571, 1.3703245917143834, 1.1869522950796403, 1.200434398179333, 1.6296056074504177, 2.201312660508382, 1.4524282194507614, 1.4920126689346986, 1.4856952519492763, 0.8898481560473758, 1.587262273527674, 1.3947009663684886, 1.8017999716804147, 2.2367710951956563, 1.6077624067796696, 1.895156871362085, 1.9993731335641847, 1.615895551861379, 1.2933501531222906, 2.5868936150788873, 1.4157680868147153, 1.7739695043092134, 1.7498680932057833, 1.9310316119981952, 1.6918377104838491, 1.1719020847750743, 1.1886788112970834, 1.395567869014776, 1.8427458273164303, 1.3599847563996619, 1.6711789492527003, 1.8835669983795653, 1.665826990881388, 1.9416928303627778, 2.0451381205404724, 1.8502614109364877, 1.3026474397833434, 2.4507065024713452, 0.8984703420787191, 2.0897517213763956, 1.2208723910715995, 1.7669306519265566, 2.329097107571298, 1.6018062513188998, 0.9483462002657803, 1.3742444793393942, 0.5599590502511836, 1.3274413646418104, 1.8008111299937508, 2.2887368088782147, 2.0183349431649704, 1.9879534991054886, 2.1735138372651335, 2.7959205634325217, 1.620958438984371, 1.8755798892867896, 1.9495875798080893, 1.6488538547040092, 1.7206576465293273, 1.7528765335447312, 1.321796515860274, 1.7921846784752615, 0.888887806854375, 1.6215092541808154, 1.6195995169587598, 0.9363741553696295, 1.3320408794735081, 0.37175761799300244, 0.6581656189369437, 1.716169194224932, 1.4826045196274538, 1.265429214502281, 1.3752738587304156], \"mode\": \"lines\", \"line\": {\"width\": 0.5, \"color\": \"rgb(127, 166, 238)\"}, \"fill\": \"tonexty\"}, {\"type\": \"scatter\", \"x\": [0, 1, 2, 3, 4, 5, 6, 7, 8, 9, 10, 11, 12, 13, 14, 15, 16, 17, 18, 19, 20, 21, 22, 23, 24, 25, 26, 27, 28, 29, 30, 31, 32, 33, 34, 35, 36, 37, 38, 39, 40, 41, 42, 43, 44, 45, 46, 47, 48, 49, 50, 51, 52, 53, 54, 55, 56, 57, 58, 59, 60, 61, 62, 63, 64, 65, 66, 67, 68, 69, 70, 71, 72, 73, 74, 75, 76, 77, 78, 79, 80, 81, 82, 83, 84, 85, 86, 87, 88, 89, 90, 91, 92, 93, 94, 95, 96, 97, 98, 99], \"y\": [3.0, 3.0, 3.0, 3.0, 3.0, 3.0, 3.0, 3.0, 3.0, 3.0, 3.0, 3.0, 3.0, 3.0, 3.0, 3.0, 3.0, 3.0, 3.0, 3.0, 3.0, 3.0, 3.0, 3.0, 3.0, 3.0, 3.0, 3.0, 3.0, 3.0, 3.0, 3.0, 3.0, 3.0, 3.0, 3.0, 3.0, 3.0, 3.0, 3.0, 3.0, 3.0, 3.0, 3.0, 3.0, 3.0, 3.0, 3.0, 3.0, 3.0, 3.0, 3.0, 3.0, 3.0, 3.0, 3.0, 3.0, 3.0, 3.0, 3.0, 3.0, 3.0, 3.0, 3.0, 3.0, 3.0, 3.0, 3.0, 3.0, 3.0, 3.0, 3.0, 3.0, 3.0, 3.0, 3.0, 3.0, 3.0, 3.0, 3.0, 3.0, 3.0, 3.0, 3.0, 3.0, 3.0, 3.0, 3.0, 3.0, 3.0, 3.0, 3.0, 3.0, 3.0, 3.0, 3.0, 3.0, 3.0, 3.0, 3.0], \"mode\": \"lines\", \"line\": {\"width\": 0.5, \"color\": \"rgb(131, 90, 241)\"}, \"fill\": \"tonexty\"}], {\"showlegend\": true, \"xaxis\": {\"type\": \"category\"}, \"yaxis\": {\"type\": \"linear\", \"range\": [0, 3], \"dtick\": 20, \"ticksuffix\": \"%\"}}, {\"showLink\": true, \"linkText\": \"Export to plot.ly\"})});</script>"
      ]
     },
     "metadata": {},
     "output_type": "display_data"
    }
   ],
   "source": [
    "%%kql \n",
    "PageViews \n",
    "| summarize count() by Language \n",
    "| sort by count_ \n",
    "| limit 10 \n",
    "| extend cs2 = 2 * count_\n",
    "| extend cs3 = 3 * count_\n",
    "//| extend cs4 = 4 * count_\n",
    "//| extend cs5 = count_ * count_\n",
    "| render anomalychart title=\"Michael's chart\""
   ]
  },
  {
   "cell_type": "code",
   "execution_count": null,
   "metadata": {
    "collapsed": true,
    "scrolled": false
   },
   "outputs": [],
   "source": [
    "_.pie()\n"
   ]
  },
  {
   "cell_type": "code",
   "execution_count": null,
   "metadata": {
    "collapsed": true,
    "scrolled": false
   },
   "outputs": [],
   "source": [
    "%config KqlMagic.feedback=False\n",
    "%kql x << PageViews | summarize count() by Language | sort by count_ | limit 10 | render piechart\n"
   ]
  },
  {
   "cell_type": "code",
   "execution_count": null,
   "metadata": {
    "collapsed": true,
    "scrolled": false
   },
   "outputs": [],
   "source": [
    "x.pie()"
   ]
  },
  {
   "cell_type": "code",
   "execution_count": null,
   "metadata": {
    "collapsed": true,
    "scrolled": false
   },
   "outputs": [],
   "source": [
    "x.pie();"
   ]
  },
  {
   "cell_type": "code",
   "execution_count": null,
   "metadata": {
    "collapsed": true,
    "scrolled": false
   },
   "outputs": [],
   "source": [
    "%config KqlMagic.autopandas = True"
   ]
  },
  {
   "cell_type": "code",
   "execution_count": null,
   "metadata": {
    "collapsed": true,
    "scrolled": false
   },
   "outputs": [],
   "source": [
    "%config KqlMagic.show_conn_list = True\n",
    "%config KqlMagic.feedback=True\n",
    "%kql x << PageViews | summarize count() by Language | sort by count_ | limit 10 | render piechart\n"
   ]
  },
  {
   "cell_type": "code",
   "execution_count": null,
   "metadata": {
    "collapsed": true,
    "scrolled": false
   },
   "outputs": [],
   "source": [
    "%config KqlMagic.show_conn_list = False\n",
    "%config KqlMagic.feedback=False\n",
    "%kql x << PageViews | summarize count() by Language | sort by count_ | limit 10 | render piechart"
   ]
  },
  {
   "cell_type": "code",
   "execution_count": null,
   "metadata": {
    "collapsed": true,
    "scrolled": false
   },
   "outputs": [],
   "source": [
    "%kql PageViews | summarize count() by Language | sort by count_ | limit 10"
   ]
  },
  {
   "cell_type": "code",
   "execution_count": null,
   "metadata": {
    "collapsed": true,
    "scrolled": false
   },
   "outputs": [],
   "source": [
    "_.describe()"
   ]
  },
  {
   "cell_type": "code",
   "execution_count": null,
   "metadata": {
    "collapsed": true,
    "scrolled": false
   },
   "outputs": [],
   "source": [
    "x.describe()"
   ]
  },
  {
   "cell_type": "code",
   "execution_count": null,
   "metadata": {
    "collapsed": true,
    "scrolled": false
   },
   "outputs": [],
   "source": [
    "x.head()"
   ]
  },
  {
   "cell_type": "code",
   "execution_count": null,
   "metadata": {
    "collapsed": true,
    "scrolled": false
   },
   "outputs": [],
   "source": [
    "_.tail()"
   ]
  }
 ],
 "metadata": {
  "kernelspec": {
   "display_name": "Python 3",
   "language": "python",
   "name": "python3"
  },
  "language_info": {
   "codemirror_mode": {
    "name": "ipython",
    "version": 3
   },
   "file_extension": ".py",
   "mimetype": "text/x-python",
   "name": "python",
   "nbconvert_exporter": "python",
   "pygments_lexer": "ipython3",
   "version": "3.6.1"
  }
 },
 "nbformat": 4,
 "nbformat_minor": 2
}
