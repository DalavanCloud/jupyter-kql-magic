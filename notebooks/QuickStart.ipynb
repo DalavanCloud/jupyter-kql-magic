{
 "cells": [
  {
   "cell_type": "markdown",
   "metadata": {},
   "source": [
    "![alt text](images/Kusto.jpg \"Kusto Magic\")"
   ]
  },
  {
   "cell_type": "markdown",
   "metadata": {},
   "source": [
    "# Kqlmagic Quick Start\n",
    "1. Press F11 to switch browser to full screen mode  \n",
    "2. If in running jupyter lab, in View tab, select 'Single-Document Mode' and 'Presentation Mode' or  (Ctrl + Shift + D)  \n",
    "3. In Kernel tab, select 'Restart Kernel and Clear All Outputs...', to start from fresh\n",
    "4. Repeat: press Shift+Enter to run cells sequentially"
   ]
  },
  {
   "cell_type": "markdown",
   "metadata": {},
   "source": [
    "## Make sure that you have the lastest version of  Kqlmagic\n",
    "Download Kqlmagic from github and install/update\n",
    "(if latest version is already installed you can skip this step)"
   ]
  },
  {
   "cell_type": "code",
   "execution_count": 1,
   "metadata": {},
   "outputs": [],
   "source": [
    "# !pip install git+git://github.com/mbnshtck/jupyter-kql-magic.git\n"
   ]
  },
  {
   "cell_type": "markdown",
   "metadata": {},
   "source": [
    "## Add Kqlmagic to notebook magics"
   ]
  },
  {
   "cell_type": "code",
   "execution_count": 2,
   "metadata": {
    "scrolled": true
   },
   "outputs": [
    {
     "name": "stdout",
     "output_type": "stream",
     "text": [
      "C:\\My Projects\\KqlMagic\\src\n"
     ]
    },
    {
     "data": {
      "text/html": [
       "<script>requirejs.config({paths: { 'plotly': ['https://cdn.plot.ly/plotly-latest.min']},});if(!window.Plotly) {{require(['plotly'],function(plotly) {window.Plotly=plotly;});}}</script>"
      ],
      "text/vnd.plotly.v1+html": [
       "<script>requirejs.config({paths: { 'plotly': ['https://cdn.plot.ly/plotly-latest.min']},});if(!window.Plotly) {{require(['plotly'],function(plotly) {window.Plotly=plotly;});}}</script>"
      ]
     },
     "metadata": {},
     "output_type": "display_data"
    },
    {
     "data": {
      "text/html": [
       "<html>\n",
       "        <head>\n",
       "        <style>\n",
       "        .kqlmagic-banner {\n",
       "            display: flex; \n",
       "            background-color: #d9edf7;\n",
       "        }\n",
       "        .kqlmagic-banner > div {\n",
       "            margin: 10px; \n",
       "            padding: 20px; \n",
       "            color: #3a87ad; \n",
       "            font-size: 13px;\n",
       "        }\n",
       "        </style>\n",
       "        </head>\n",
       "        <body>\n",
       "            <div class='kqlmagic-banner'>\n",
       "                <div><img src='data:image/png;base64,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'></div>\n",
       "                <div>\n",
       "                    <p>Kusto is a log analytics cloud platform optimized for ad-hoc big data queries. Read more about it here: http://aka.ms/kdocs</p>\n",
       "                    <p>   &bull; kql language reference: Click on 'Help' tab > and Select 'kql referece'<br>\n",
       "                      &bull; Kqlmagic configuarion: Run in cell '%config kqlmagic'<br>\n",
       "                      &bull; Kqlmagic syntax: Run in cell '%kql?'<br>\n",
       "                      &bull; Kqlmagic upgrate syntax: Run 'pip install git+git://github.com/mbnshtck/jupyter-kql-magic.git --upgrade'<br>\n",
       "                </div>\n",
       "            </div>\n",
       "        </body>\n",
       "        </html>"
      ],
      "text/plain": [
       "<IPython.core.display.HTML object>"
      ]
     },
     "metadata": {},
     "output_type": "display_data"
    },
    {
     "data": {
      "text/html": [
       "<html>\n",
       "        <head>\n",
       "        \n",
       "        </head>\n",
       "        <body>\n",
       "        <div><p style='padding: 10px; color: #3a87ad; background-color: #d9edf7; border-color: #bce9f1'>Kqlmagic&nbspversion:&nbsp0.1.17,&nbspsource:&nbsphttps://github.com/mbnshtck/jupyter-kql-magic</p></div>\n",
       "        </body>\n",
       "        </html>"
      ],
      "text/plain": [
       "<IPython.core.display.HTML object>"
      ]
     },
     "metadata": {},
     "output_type": "display_data"
    },
    {
     "data": {
      "application/javascript": [
       "IPython.notebook.kernel.reconnect();"
      ],
      "text/plain": [
       "<IPython.core.display.Javascript object>"
      ]
     },
     "metadata": {},
     "output_type": "display_data"
    },
    {
     "data": {
      "application/javascript": [
       "IPython.notebook.kernel.execute(\"NOTEBOOK_URL = '\" + window.location + \"'\");"
      ],
      "text/plain": [
       "<IPython.core.display.Javascript object>"
      ]
     },
     "metadata": {},
     "output_type": "display_data"
    },
    {
     "name": "stdout",
     "output_type": "stream",
     "text": [
      "c:\\My Projects\\KqlMagic\\notebooks\n",
      "popd -> c:\\My Projects\\KqlMagic\\notebooks\n"
     ]
    }
   ],
   "source": [
    "%pushd C:\\My Projects\\KqlMagic\\src\n",
    "%reload_ext kql\n",
    "%popd"
   ]
  },
  {
   "cell_type": "markdown",
   "metadata": {},
   "source": [
    "  - ### <span style=\"color:#82CAFA\">*Note: information is included in the kqlmagic banner, and in the note below it, with version and location of the open source code'*</span>\n",
    "  - ### <span style=\"color:#82CAFA\">*Note: after kql magic was loaded, 'kql reference was added to Help memnu (Help tab)'*</span>"
   ]
  },
  {
   "cell_type": "markdown",
   "metadata": {},
   "source": [
    "## Connect to database@cluster"
   ]
  },
  {
   "cell_type": "code",
   "execution_count": 3,
   "metadata": {
    "scrolled": true
   },
   "outputs": [
    {
     "data": {
      "application/javascript": [
       "IPython.notebook.kernel.execute(\"NOTEBOOK_URL = '\" + window.location + \"'\");"
      ],
      "text/plain": [
       "<IPython.core.display.Javascript object>"
      ]
     },
     "metadata": {},
     "output_type": "display_data"
    },
    {
     "data": {
      "text/html": [
       "<!DOCTYPE html>\n",
       "                <html><body>\n",
       "\n",
       "                <!-- h1 id=\"user_code_p\"><b>DJZ7MHWRC</b><br></h1-->\n",
       "\n",
       "                <input  id=\"kqlMagicCodeAuthInput\" type=\"text\" readonly style=\"font-weight: bold; border: none;\" size = '9' value='DJZ7MHWRC'>\n",
       "\n",
       "                <button id='kqlMagicCodeAuth_button', onclick=\"this.style.visibility='hidden';kqlMagicCodeAuthFunction()\">Copy code to clipboard and authenticate</button>\n",
       "\n",
       "                <script>\n",
       "                var kqlMagicUserCodeAuthWindow = null\n",
       "                function kqlMagicCodeAuthFunction() {\n",
       "                    /* Get the text field */\n",
       "                    var copyText = document.getElementById(\"kqlMagicCodeAuthInput\");\n",
       "\n",
       "                    /* Select the text field */\n",
       "                    copyText.select();\n",
       "\n",
       "                    /* Copy the text inside the text field */\n",
       "                    document.execCommand(\"copy\");\n",
       "\n",
       "                    /* Alert the copied text */\n",
       "                    // alert(\"Copied the text: \" + copyText.value);\n",
       "\n",
       "                    var w = screen.width / 2;\n",
       "                    var h = screen.height / 2;\n",
       "                    params = 'width='+w+',height='+h\n",
       "                    kqlMagicUserCodeAuthWindow = window.open('https://microsoft.com/devicelogin', 'kqlMagicUserCodeAuthWindow', params);\n",
       "                }\n",
       "                </script>\n",
       "\n",
       "                </body></html>"
      ],
      "text/plain": [
       "<IPython.core.display.HTML object>"
      ]
     },
     "metadata": {},
     "output_type": "display_data"
    },
    {
     "data": {
      "text/html": [
       "<!DOCTYPE html>\n",
       "                    <html><body><script>\n",
       "\n",
       "                        // close authentication window\n",
       "                        if (kqlMagicUserCodeAuthWindow && kqlMagicUserCodeAuthWindow.opener != null && !kqlMagicUserCodeAuthWindow.closed) {\n",
       "                            kqlMagicUserCodeAuthWindow.close()\n",
       "                        }\n",
       "                        // clear output cell \n",
       "                        Jupyter.notebook.clear_output(Jupyter.notebook.get_selected_index())\n",
       "                        // move to next cell\n",
       "\n",
       "                    </script></body></html>"
      ],
      "text/plain": [
       "<IPython.core.display.HTML object>"
      ]
     },
     "metadata": {},
     "output_type": "display_data"
    },
    {
     "data": {
      "text/html": [
       "<!DOCTYPE html>\n",
       "            <html><body>\n",
       "\n",
       "            <button onclick=\"this.style.visibility='hidden';kqlMagicLaunchWindowFunction('temp_showfiles/Samples_at_help_schema.html','fullscreen=no,directories=no,location=no,menubar=no,resizable=yes,scrollbars=yes,status=no,titlebar=no,toolbar=no,','Samples_at_help_schema','')\">popup schema Samples@help</button>\n",
       "\n",
       "            <script>\n",
       "\n",
       "            function kqlMagicLaunchWindowFunction(file_path, window_params, window_name, notebooks_host) {\n",
       "                var url;\n",
       "                if (file_path.startsWith('http')) {\n",
       "                    url = file_path;\n",
       "                } else {\n",
       "                    var base_url = '';\n",
       "\n",
       "                    var azure_host = (notebooks_host == null || notebooks_host.length == 0) ? 'https://notebooks.azure.com' : notebooks_host;\n",
       "                    var start = azure_host.search('//');\n",
       "                    var azure_host_suffix = '.' + azure_host.substring(start+2);\n",
       "\n",
       "                    var loc = String(window.location);\n",
       "                    var end = loc.search(azure_host_suffix);\n",
       "                    start = loc.search('//');\n",
       "                    if (start > 0 && end > 0) {\n",
       "                        var parts = loc.substring(start+2, end).split('-');\n",
       "                        if (parts.length == 2) {\n",
       "                            var library = parts[0];\n",
       "                            var user = parts[1];\n",
       "                            base_url = azure_host + '/api/user/' +user+ '/library/' +library+ '/html';\n",
       "                        }\n",
       "                    }\n",
       "                    if (base_url.length == 0) {\n",
       "                        var parts = loc.split('/');\n",
       "                        parts.pop();\n",
       "                        base_url = parts.join('/');\n",
       "                    }\n",
       "                    url = base_url + '/' + file_path;\n",
       "                }\n",
       "\n",
       "                window.focus();\n",
       "                var w = screen.width / 2;\n",
       "                var h = screen.height / 2;\n",
       "                params = 'width='+w+',height='+h;\n",
       "                kqlMagic_Samples_at_help_schema = window.open(url, window_name, window_params + params);\n",
       "            }\n",
       "            </script>\n",
       "\n",
       "            </body></html>"
      ],
      "text/plain": [
       "<IPython.core.display.HTML object>"
      ]
     },
     "metadata": {},
     "output_type": "display_data"
    }
   ],
   "source": [
    "%kql kusto://code().cluster('help').database('Samples')"
   ]
  },
  {
   "cell_type": "markdown",
   "metadata": {},
   "source": [
    "  - ### <span style=\"color:#82CAFA\">*Note - pupup window that opened with the database@cluster schema*</span>\n",
    "  - ### <span style=\"color:#82CAFA\">*Note - Help menu contains the databse@cluster schema*</span>"
   ]
  },
  {
   "cell_type": "markdown",
   "metadata": {},
   "source": [
    "## Once connected you can query the current database@cluster"
   ]
  },
  {
   "cell_type": "code",
   "execution_count": 4,
   "metadata": {},
   "outputs": [
    {
     "data": {
      "application/javascript": [
       "IPython.notebook.kernel.execute(\"NOTEBOOK_URL = '\" + window.location + \"'\");"
      ],
      "text/plain": [
       "<IPython.core.display.Javascript object>"
      ]
     },
     "metadata": {},
     "output_type": "display_data"
    },
    {
     "data": {
      "text/html": [
       "<html>\n",
       "        <head>\n",
       "        \n",
       "        </head>\n",
       "        <body>\n",
       "        <div><p style='padding: 10px; color: #3a87ad; background-color: #d9edf7; border-color: #bce9f1'>&nbsp*&nbspSamples@help</p></div>\n",
       "        </body>\n",
       "        </html>"
      ],
      "text/plain": [
       "<IPython.core.display.HTML object>"
      ]
     },
     "metadata": {},
     "output_type": "display_data"
    },
    {
     "data": {
      "text/html": [
       "<html>\n",
       "        <head>\n",
       "        \n",
       "        </head>\n",
       "        <body>\n",
       "        <table>\n",
       "    <tr>\n",
       "        <th>Language</th>\n",
       "        <th>count_</th>\n",
       "    </tr>\n",
       "    <tr>\n",
       "        <td>en</td>\n",
       "        <td>16266774</td>\n",
       "    </tr>\n",
       "    <tr>\n",
       "        <td>commons.m</td>\n",
       "        <td>15137646</td>\n",
       "    </tr>\n",
       "    <tr>\n",
       "        <td>de</td>\n",
       "        <td>14641824</td>\n",
       "    </tr>\n",
       "    <tr>\n",
       "        <td>cs</td>\n",
       "        <td>2804334</td>\n",
       "    </tr>\n",
       "    <tr>\n",
       "        <td>ar</td>\n",
       "        <td>2785242</td>\n",
       "    </tr>\n",
       "    <tr>\n",
       "        <td>da</td>\n",
       "        <td>1125036</td>\n",
       "    </tr>\n",
       "    <tr>\n",
       "        <td>ca</td>\n",
       "        <td>1048386</td>\n",
       "    </tr>\n",
       "    <tr>\n",
       "        <td>bg</td>\n",
       "        <td>819522</td>\n",
       "    </tr>\n",
       "    <tr>\n",
       "        <td>el</td>\n",
       "        <td>507336</td>\n",
       "    </tr>\n",
       "    <tr>\n",
       "        <td>be</td>\n",
       "        <td>385806</td>\n",
       "    </tr>\n",
       "</table>\n",
       "        </body>\n",
       "        </html>"
      ],
      "text/plain": [
       "<IPython.core.display.HTML object>"
      ]
     },
     "metadata": {},
     "output_type": "display_data"
    },
    {
     "data": {
      "text/html": [
       "<html>\n",
       "        <head>\n",
       "        \n",
       "        </head>\n",
       "        <body>\n",
       "        <div><p style='padding: 10px; color: #3a87ad; background-color: #d9edf7; border-color: #bce9f1'>Done&nbsp(00:02.241):&nbsp10&nbsprecords</p></div>\n",
       "        </body>\n",
       "        </html>"
      ],
      "text/plain": [
       "<IPython.core.display.HTML object>"
      ]
     },
     "metadata": {},
     "output_type": "display_data"
    },
    {
     "data": {
      "text/html": [],
      "text/plain": [
       "[<kql.kql_proxy.KqlRow at 0x144f9dd3550>,\n",
       " <kql.kql_proxy.KqlRow at 0x144f9dd3f28>,\n",
       " <kql.kql_proxy.KqlRow at 0x144f9e0f358>,\n",
       " <kql.kql_proxy.KqlRow at 0x144f9e0f6a0>,\n",
       " <kql.kql_proxy.KqlRow at 0x144f9e0fb00>,\n",
       " <kql.kql_proxy.KqlRow at 0x144f9e0fa58>,\n",
       " <kql.kql_proxy.KqlRow at 0x144f9e0f278>,\n",
       " <kql.kql_proxy.KqlRow at 0x144f9e0ff98>,\n",
       " <kql.kql_proxy.KqlRow at 0x144f9e0fc18>,\n",
       " <kql.kql_proxy.KqlRow at 0x144f9e0f4a8>]"
      ]
     },
     "execution_count": 4,
     "metadata": {},
     "output_type": "execute_result"
    }
   ],
   "source": [
    "%kql PageViews | summarize count() by Language | sort by count_ | limit 10"
   ]
  },
  {
   "cell_type": "markdown",
   "metadata": {},
   "source": [
    "  - ### <span style=\"color:#82CAFA\">*Note: current database@cluster is shown before the query results*</span>\n",
    "  - ### <span style=\"color:#82CAFA\">*Note: execution time, and number of returned records, shown after the query results*</span>"
   ]
  },
  {
   "cell_type": "markdown",
   "metadata": {},
   "source": [
    "## Python code can access the result by the \\_ variable"
   ]
  },
  {
   "cell_type": "code",
   "execution_count": 5,
   "metadata": {},
   "outputs": [
    {
     "data": {
      "text/html": [
       "<html>\n",
       "        <head>\n",
       "        \n",
       "        </head>\n",
       "        <body>\n",
       "        <table>\n",
       "    <tr>\n",
       "        <th>Language</th>\n",
       "        <th>count_</th>\n",
       "    </tr>\n",
       "    <tr>\n",
       "        <td>en</td>\n",
       "        <td>16266774</td>\n",
       "    </tr>\n",
       "    <tr>\n",
       "        <td>commons.m</td>\n",
       "        <td>15137646</td>\n",
       "    </tr>\n",
       "    <tr>\n",
       "        <td>de</td>\n",
       "        <td>14641824</td>\n",
       "    </tr>\n",
       "    <tr>\n",
       "        <td>cs</td>\n",
       "        <td>2804334</td>\n",
       "    </tr>\n",
       "    <tr>\n",
       "        <td>ar</td>\n",
       "        <td>2785242</td>\n",
       "    </tr>\n",
       "    <tr>\n",
       "        <td>da</td>\n",
       "        <td>1125036</td>\n",
       "    </tr>\n",
       "    <tr>\n",
       "        <td>ca</td>\n",
       "        <td>1048386</td>\n",
       "    </tr>\n",
       "    <tr>\n",
       "        <td>bg</td>\n",
       "        <td>819522</td>\n",
       "    </tr>\n",
       "    <tr>\n",
       "        <td>el</td>\n",
       "        <td>507336</td>\n",
       "    </tr>\n",
       "    <tr>\n",
       "        <td>be</td>\n",
       "        <td>385806</td>\n",
       "    </tr>\n",
       "</table>\n",
       "        </body>\n",
       "        </html>"
      ],
      "text/plain": [
       "<IPython.core.display.HTML object>"
      ]
     },
     "metadata": {},
     "output_type": "display_data"
    },
    {
     "data": {
      "text/html": [],
      "text/plain": [
       "[<kql.kql_proxy.KqlRow at 0x144f9dd3550>,\n",
       " <kql.kql_proxy.KqlRow at 0x144f9dd3f28>,\n",
       " <kql.kql_proxy.KqlRow at 0x144f9e0f358>,\n",
       " <kql.kql_proxy.KqlRow at 0x144f9e0f6a0>,\n",
       " <kql.kql_proxy.KqlRow at 0x144f9e0fb00>,\n",
       " <kql.kql_proxy.KqlRow at 0x144f9e0fa58>,\n",
       " <kql.kql_proxy.KqlRow at 0x144f9e0f278>,\n",
       " <kql.kql_proxy.KqlRow at 0x144f9e0ff98>,\n",
       " <kql.kql_proxy.KqlRow at 0x144f9e0fc18>,\n",
       " <kql.kql_proxy.KqlRow at 0x144f9e0f4a8>]"
      ]
     },
     "execution_count": 5,
     "metadata": {},
     "output_type": "execute_result"
    }
   ],
   "source": [
    "_"
   ]
  },
  {
   "cell_type": "markdown",
   "metadata": {},
   "source": [
    "## Converts result data to a dataframe"
   ]
  },
  {
   "cell_type": "code",
   "execution_count": 6,
   "metadata": {},
   "outputs": [
    {
     "data": {
      "text/html": [
       "<div>\n",
       "<style scoped>\n",
       "    .dataframe tbody tr th:only-of-type {\n",
       "        vertical-align: middle;\n",
       "    }\n",
       "\n",
       "    .dataframe tbody tr th {\n",
       "        vertical-align: top;\n",
       "    }\n",
       "\n",
       "    .dataframe thead th {\n",
       "        text-align: right;\n",
       "    }\n",
       "</style>\n",
       "<table border=\"1\" class=\"dataframe\">\n",
       "  <thead>\n",
       "    <tr style=\"text-align: right;\">\n",
       "      <th></th>\n",
       "      <th>Language</th>\n",
       "      <th>count_</th>\n",
       "    </tr>\n",
       "  </thead>\n",
       "  <tbody>\n",
       "    <tr>\n",
       "      <th>0</th>\n",
       "      <td>en</td>\n",
       "      <td>16266774</td>\n",
       "    </tr>\n",
       "    <tr>\n",
       "      <th>1</th>\n",
       "      <td>commons.m</td>\n",
       "      <td>15137646</td>\n",
       "    </tr>\n",
       "    <tr>\n",
       "      <th>2</th>\n",
       "      <td>de</td>\n",
       "      <td>14641824</td>\n",
       "    </tr>\n",
       "    <tr>\n",
       "      <th>3</th>\n",
       "      <td>cs</td>\n",
       "      <td>2804334</td>\n",
       "    </tr>\n",
       "    <tr>\n",
       "      <th>4</th>\n",
       "      <td>ar</td>\n",
       "      <td>2785242</td>\n",
       "    </tr>\n",
       "    <tr>\n",
       "      <th>5</th>\n",
       "      <td>da</td>\n",
       "      <td>1125036</td>\n",
       "    </tr>\n",
       "    <tr>\n",
       "      <th>6</th>\n",
       "      <td>ca</td>\n",
       "      <td>1048386</td>\n",
       "    </tr>\n",
       "    <tr>\n",
       "      <th>7</th>\n",
       "      <td>bg</td>\n",
       "      <td>819522</td>\n",
       "    </tr>\n",
       "    <tr>\n",
       "      <th>8</th>\n",
       "      <td>el</td>\n",
       "      <td>507336</td>\n",
       "    </tr>\n",
       "    <tr>\n",
       "      <th>9</th>\n",
       "      <td>be</td>\n",
       "      <td>385806</td>\n",
       "    </tr>\n",
       "  </tbody>\n",
       "</table>\n",
       "</div>"
      ],
      "text/plain": [
       "    Language    count_\n",
       "0         en  16266774\n",
       "1  commons.m  15137646\n",
       "2         de  14641824\n",
       "3         cs   2804334\n",
       "4         ar   2785242\n",
       "5         da   1125036\n",
       "6         ca   1048386\n",
       "7         bg    819522\n",
       "8         el    507336\n",
       "9         be    385806"
      ]
     },
     "execution_count": 6,
     "metadata": {},
     "output_type": "execute_result"
    }
   ],
   "source": [
    "df = _.to_dataframe()\n",
    "df"
   ]
  },
  {
   "cell_type": "code",
   "execution_count": 7,
   "metadata": {},
   "outputs": [
    {
     "data": {
      "text/html": [
       "<div>\n",
       "<style scoped>\n",
       "    .dataframe tbody tr th:only-of-type {\n",
       "        vertical-align: middle;\n",
       "    }\n",
       "\n",
       "    .dataframe tbody tr th {\n",
       "        vertical-align: top;\n",
       "    }\n",
       "\n",
       "    .dataframe thead th {\n",
       "        text-align: right;\n",
       "    }\n",
       "</style>\n",
       "<table border=\"1\" class=\"dataframe\">\n",
       "  <thead>\n",
       "    <tr style=\"text-align: right;\">\n",
       "      <th></th>\n",
       "      <th>Language</th>\n",
       "      <th>count_</th>\n",
       "    </tr>\n",
       "  </thead>\n",
       "  <tbody>\n",
       "    <tr>\n",
       "      <th>0</th>\n",
       "      <td>en</td>\n",
       "      <td>16266774</td>\n",
       "    </tr>\n",
       "    <tr>\n",
       "      <th>1</th>\n",
       "      <td>commons.m</td>\n",
       "      <td>15137646</td>\n",
       "    </tr>\n",
       "    <tr>\n",
       "      <th>2</th>\n",
       "      <td>de</td>\n",
       "      <td>14641824</td>\n",
       "    </tr>\n",
       "    <tr>\n",
       "      <th>3</th>\n",
       "      <td>cs</td>\n",
       "      <td>2804334</td>\n",
       "    </tr>\n",
       "    <tr>\n",
       "      <th>4</th>\n",
       "      <td>ar</td>\n",
       "      <td>2785242</td>\n",
       "    </tr>\n",
       "  </tbody>\n",
       "</table>\n",
       "</div>"
      ],
      "text/plain": [
       "    Language    count_\n",
       "0         en  16266774\n",
       "1  commons.m  15137646\n",
       "2         de  14641824\n",
       "3         cs   2804334\n",
       "4         ar   2785242"
      ]
     },
     "execution_count": 7,
     "metadata": {},
     "output_type": "execute_result"
    }
   ],
   "source": [
    "df.head()"
   ]
  },
  {
   "cell_type": "code",
   "execution_count": 8,
   "metadata": {},
   "outputs": [
    {
     "data": {
      "text/plain": [
       "0           en\n",
       "1    commons.m\n",
       "2           de\n",
       "3           cs\n",
       "4           ar\n",
       "5           da\n",
       "6           ca\n",
       "7           bg\n",
       "8           el\n",
       "9           be\n",
       "Name: Language, dtype: object"
      ]
     },
     "execution_count": 8,
     "metadata": {},
     "output_type": "execute_result"
    }
   ],
   "source": [
    "df.Language"
   ]
  },
  {
   "cell_type": "code",
   "execution_count": 9,
   "metadata": {},
   "outputs": [
    {
     "data": {
      "text/plain": [
       "Language        ar\n",
       "count_      385806\n",
       "dtype: object"
      ]
     },
     "execution_count": 9,
     "metadata": {},
     "output_type": "execute_result"
    }
   ],
   "source": [
    "df.min()"
   ]
  },
  {
   "cell_type": "code",
   "execution_count": 10,
   "metadata": {},
   "outputs": [
    {
     "data": {
      "text/plain": [
       "'{\"Language\":{\"0\":\"en\",\"1\":\"commons.m\",\"2\":\"de\",\"3\":\"cs\",\"4\":\"ar\",\"5\":\"da\",\"6\":\"ca\",\"7\":\"bg\",\"8\":\"el\",\"9\":\"be\"},\"count_\":{\"0\":16266774,\"1\":15137646,\"2\":14641824,\"3\":2804334,\"4\":2785242,\"5\":1125036,\"6\":1048386,\"7\":819522,\"8\":507336,\"9\":385806}}'"
      ]
     },
     "execution_count": 10,
     "metadata": {},
     "output_type": "execute_result"
    }
   ],
   "source": [
    "df.to_json()"
   ]
  },
  {
   "cell_type": "markdown",
   "metadata": {},
   "source": [
    "## Excution of another cell overrides \\_ , However,  \\_kql\\_raw\\_result\\_ python variable holds last kql query result "
   ]
  },
  {
   "cell_type": "code",
   "execution_count": 11,
   "metadata": {},
   "outputs": [
    {
     "data": {
      "text/plain": [
       "'{\"Language\":{\"0\":\"en\",\"1\":\"commons.m\",\"2\":\"de\",\"3\":\"cs\",\"4\":\"ar\",\"5\":\"da\",\"6\":\"ca\",\"7\":\"bg\",\"8\":\"el\",\"9\":\"be\"},\"count_\":{\"0\":16266774,\"1\":15137646,\"2\":14641824,\"3\":2804334,\"4\":2785242,\"5\":1125036,\"6\":1048386,\"7\":819522,\"8\":507336,\"9\":385806}}'"
      ]
     },
     "execution_count": 11,
     "metadata": {},
     "output_type": "execute_result"
    }
   ],
   "source": [
    "_"
   ]
  },
  {
   "cell_type": "code",
   "execution_count": 12,
   "metadata": {},
   "outputs": [
    {
     "data": {
      "text/html": [
       "<html>\n",
       "        <head>\n",
       "        \n",
       "        </head>\n",
       "        <body>\n",
       "        <table>\n",
       "    <tr>\n",
       "        <th>Language</th>\n",
       "        <th>count_</th>\n",
       "    </tr>\n",
       "    <tr>\n",
       "        <td>en</td>\n",
       "        <td>16266774</td>\n",
       "    </tr>\n",
       "    <tr>\n",
       "        <td>commons.m</td>\n",
       "        <td>15137646</td>\n",
       "    </tr>\n",
       "    <tr>\n",
       "        <td>de</td>\n",
       "        <td>14641824</td>\n",
       "    </tr>\n",
       "    <tr>\n",
       "        <td>cs</td>\n",
       "        <td>2804334</td>\n",
       "    </tr>\n",
       "    <tr>\n",
       "        <td>ar</td>\n",
       "        <td>2785242</td>\n",
       "    </tr>\n",
       "    <tr>\n",
       "        <td>da</td>\n",
       "        <td>1125036</td>\n",
       "    </tr>\n",
       "    <tr>\n",
       "        <td>ca</td>\n",
       "        <td>1048386</td>\n",
       "    </tr>\n",
       "    <tr>\n",
       "        <td>bg</td>\n",
       "        <td>819522</td>\n",
       "    </tr>\n",
       "    <tr>\n",
       "        <td>el</td>\n",
       "        <td>507336</td>\n",
       "    </tr>\n",
       "    <tr>\n",
       "        <td>be</td>\n",
       "        <td>385806</td>\n",
       "    </tr>\n",
       "</table>\n",
       "        </body>\n",
       "        </html>"
      ],
      "text/plain": [
       "<IPython.core.display.HTML object>"
      ]
     },
     "metadata": {},
     "output_type": "display_data"
    },
    {
     "data": {
      "text/html": [],
      "text/plain": [
       "[<kql.kql_proxy.KqlRow at 0x144f9dd3550>,\n",
       " <kql.kql_proxy.KqlRow at 0x144f9dd3f28>,\n",
       " <kql.kql_proxy.KqlRow at 0x144f9e0f358>,\n",
       " <kql.kql_proxy.KqlRow at 0x144f9e0f6a0>,\n",
       " <kql.kql_proxy.KqlRow at 0x144f9e0fb00>,\n",
       " <kql.kql_proxy.KqlRow at 0x144f9e0fa58>,\n",
       " <kql.kql_proxy.KqlRow at 0x144f9e0f278>,\n",
       " <kql.kql_proxy.KqlRow at 0x144f9e0ff98>,\n",
       " <kql.kql_proxy.KqlRow at 0x144f9e0fc18>,\n",
       " <kql.kql_proxy.KqlRow at 0x144f9e0f4a8>]"
      ]
     },
     "execution_count": 12,
     "metadata": {},
     "output_type": "execute_result"
    }
   ],
   "source": [
    "_kql_raw_result_"
   ]
  },
  {
   "cell_type": "code",
   "execution_count": 13,
   "metadata": {},
   "outputs": [
    {
     "data": {
      "text/html": [
       "<html>\n",
       "        <head>\n",
       "        \n",
       "        </head>\n",
       "        <body>\n",
       "        <table>\n",
       "    <tr>\n",
       "        <th>Language</th>\n",
       "        <th>count_</th>\n",
       "    </tr>\n",
       "    <tr>\n",
       "        <td>en</td>\n",
       "        <td>16266774</td>\n",
       "    </tr>\n",
       "    <tr>\n",
       "        <td>commons.m</td>\n",
       "        <td>15137646</td>\n",
       "    </tr>\n",
       "    <tr>\n",
       "        <td>de</td>\n",
       "        <td>14641824</td>\n",
       "    </tr>\n",
       "    <tr>\n",
       "        <td>cs</td>\n",
       "        <td>2804334</td>\n",
       "    </tr>\n",
       "    <tr>\n",
       "        <td>ar</td>\n",
       "        <td>2785242</td>\n",
       "    </tr>\n",
       "    <tr>\n",
       "        <td>da</td>\n",
       "        <td>1125036</td>\n",
       "    </tr>\n",
       "    <tr>\n",
       "        <td>ca</td>\n",
       "        <td>1048386</td>\n",
       "    </tr>\n",
       "    <tr>\n",
       "        <td>bg</td>\n",
       "        <td>819522</td>\n",
       "    </tr>\n",
       "    <tr>\n",
       "        <td>el</td>\n",
       "        <td>507336</td>\n",
       "    </tr>\n",
       "    <tr>\n",
       "        <td>be</td>\n",
       "        <td>385806</td>\n",
       "    </tr>\n",
       "</table>\n",
       "        </body>\n",
       "        </html>"
      ],
      "text/plain": [
       "<IPython.core.display.HTML object>"
      ]
     },
     "metadata": {},
     "output_type": "display_data"
    },
    {
     "data": {
      "text/html": [],
      "text/plain": [
       "[<kql.kql_proxy.KqlRow at 0x144f9dd3550>,\n",
       " <kql.kql_proxy.KqlRow at 0x144f9dd3f28>,\n",
       " <kql.kql_proxy.KqlRow at 0x144f9e0f358>,\n",
       " <kql.kql_proxy.KqlRow at 0x144f9e0f6a0>,\n",
       " <kql.kql_proxy.KqlRow at 0x144f9e0fb00>,\n",
       " <kql.kql_proxy.KqlRow at 0x144f9e0fa58>,\n",
       " <kql.kql_proxy.KqlRow at 0x144f9e0f278>,\n",
       " <kql.kql_proxy.KqlRow at 0x144f9e0ff98>,\n",
       " <kql.kql_proxy.KqlRow at 0x144f9e0fc18>,\n",
       " <kql.kql_proxy.KqlRow at 0x144f9e0f4a8>]"
      ]
     },
     "execution_count": 13,
     "metadata": {},
     "output_type": "execute_result"
    }
   ],
   "source": [
    "_"
   ]
  },
  {
   "cell_type": "markdown",
   "metadata": {},
   "source": [
    "## Show a chart, render the query to the proper chart"
   ]
  },
  {
   "cell_type": "code",
   "execution_count": 14,
   "metadata": {},
   "outputs": [
    {
     "data": {
      "application/javascript": [
       "IPython.notebook.kernel.execute(\"NOTEBOOK_URL = '\" + window.location + \"'\");"
      ],
      "text/plain": [
       "<IPython.core.display.Javascript object>"
      ]
     },
     "metadata": {},
     "output_type": "display_data"
    },
    {
     "data": {
      "text/html": [
       "<html>\n",
       "        <head>\n",
       "        \n",
       "        </head>\n",
       "        <body>\n",
       "        <div><p style='padding: 10px; color: #3a87ad; background-color: #d9edf7; border-color: #bce9f1'>&nbsp*&nbspSamples@help</p></div>\n",
       "        </body>\n",
       "        </html>"
      ],
      "text/plain": [
       "<IPython.core.display.HTML object>"
      ]
     },
     "metadata": {},
     "output_type": "display_data"
    },
    {
     "data": {
      "text/html": [
       "<html>\n",
       "        <head>\n",
       "        \n",
       "        </head>\n",
       "        <body>\n",
       "        <div id=\"388e165f-1500-4d2f-84a1-90dfde87a361\" style=\"height: 100%; width: 100%;\" class=\"plotly-graph-div\"></div><script type=\"text/javascript\">window.PLOTLYENV=window.PLOTLYENV || {};window.PLOTLYENV.BASE_URL=\"https://plot.ly\";\n",
       "        Plotly.plot(\n",
       "            '388e165f-1500-4d2f-84a1-90dfde87a361',\n",
       "            [{\"domain\": {\"x\": [0, 1], \"y\": [0, 1]}, \"labels\": [\"en\", \"commons.m\", \"de\", \"cs\", \"ar\", \"da\", \"ca\", \"bg\", \"el\", \"be\"], \"marker\": {\"colors\": [\"rgb(184, 247, 212)\", \"rgb(111, 231, 219)\", \"rgb(127, 166, 238)\", \"rgb(131, 90, 241)\"]}, \"name\": \"count_\", \"textinfo\": \"label+percent\", \"values\": [16266774, 15137646, 14641824, 2804334, 2785242, 1125036, 1048386, 819522, 507336, 385806], \"type\": \"pie\", \"uid\": \"f12f2f76-9b60-11e8-a2d2-5882a89c7e7d\"}],\n",
       "            {\"showlegend\": true, \"title\": \"my apple pie\"},\n",
       "            {\"showLink\": true, \"linkText\": \"Export to plot.ly\"}\n",
       "        ).then(function () {return Plotly.addFrames('388e165f-1500-4d2f-84a1-90dfde87a361',{});}).then(function(){Plotly.animate('388e165f-1500-4d2f-84a1-90dfde87a361');})\n",
       "        </script>\n",
       "        </body>\n",
       "        </html>"
      ],
      "text/plain": [
       "<IPython.core.display.HTML object>"
      ]
     },
     "metadata": {},
     "output_type": "display_data"
    },
    {
     "data": {
      "text/html": [
       "<html>\n",
       "        <head>\n",
       "        \n",
       "        </head>\n",
       "        <body>\n",
       "        <div><p style='padding: 10px; color: #3a87ad; background-color: #d9edf7; border-color: #bce9f1'>Done&nbsp(00:02.330):&nbsp10&nbsprecords</p></div>\n",
       "        </body>\n",
       "        </html>"
      ],
      "text/plain": [
       "<IPython.core.display.HTML object>"
      ]
     },
     "metadata": {},
     "output_type": "display_data"
    },
    {
     "data": {
      "text/html": [],
      "text/plain": [
       "[<kql.kql_proxy.KqlRow at 0x144f9e92860>,\n",
       " <kql.kql_proxy.KqlRow at 0x144f9ea8128>,\n",
       " <kql.kql_proxy.KqlRow at 0x144f9ea8080>,\n",
       " <kql.kql_proxy.KqlRow at 0x144f9ea8048>,\n",
       " <kql.kql_proxy.KqlRow at 0x144f9ea89b0>,\n",
       " <kql.kql_proxy.KqlRow at 0x144f9ea89e8>,\n",
       " <kql.kql_proxy.KqlRow at 0x144f9ea8cc0>,\n",
       " <kql.kql_proxy.KqlRow at 0x144f9ea80f0>,\n",
       " <kql.kql_proxy.KqlRow at 0x144f9ea8a90>,\n",
       " <kql.kql_proxy.KqlRow at 0x144f9ea8b00>]"
      ]
     },
     "execution_count": 14,
     "metadata": {},
     "output_type": "execute_result"
    }
   ],
   "source": [
    "%kql PageViews | summarize count() by Language | sort by count_ | limit 10 | render piechart title='my apple pie' "
   ]
  },
  {
   "cell_type": "markdown",
   "metadata": {},
   "source": [
    "  - ### <span style=\"color:#82CAFA\">*Note: the chart is interactive, hoover to the right upper corner to get the menu, click on the legend to toggle facets, hoover on the chart to get value and percentage*</span>"
   ]
  },
  {
   "cell_type": "markdown",
   "metadata": {},
   "source": [
    "## Assign kql query result to a python variable"
   ]
  },
  {
   "cell_type": "code",
   "execution_count": 15,
   "metadata": {},
   "outputs": [
    {
     "data": {
      "application/javascript": [
       "IPython.notebook.kernel.execute(\"NOTEBOOK_URL = '\" + window.location + \"'\");"
      ],
      "text/plain": [
       "<IPython.core.display.Javascript object>"
      ]
     },
     "metadata": {},
     "output_type": "display_data"
    }
   ],
   "source": [
    "%kql my_bar_chart << PageViews | summarize count() by Language | sort by count_ | limit 10 | render barchart title='my bar chart'"
   ]
  },
  {
   "cell_type": "markdown",
   "metadata": {},
   "source": [
    "  - ### <span style=\"color:#82CAFA\">*Note: nothing is displayed when the result is assigtned to a variable*</span>"
   ]
  },
  {
   "cell_type": "markdown",
   "metadata": {},
   "source": [
    "## Display kql result object"
   ]
  },
  {
   "cell_type": "code",
   "execution_count": 16,
   "metadata": {},
   "outputs": [
    {
     "data": {
      "text/html": [
       "<html>\n",
       "        <head>\n",
       "        \n",
       "        </head>\n",
       "        <body>\n",
       "        <div id=\"3a553ab3-1b83-4fe7-925f-3f26ca85254a\" style=\"height: 100%; width: 100%;\" class=\"plotly-graph-div\"></div><script type=\"text/javascript\">window.PLOTLYENV=window.PLOTLYENV || {};window.PLOTLYENV.BASE_URL=\"https://plot.ly\";\n",
       "        Plotly.plot(\n",
       "            '3a553ab3-1b83-4fe7-925f-3f26ca85254a',\n",
       "            [{\"marker\": {\"color\": \"rgb(184, 247, 212)\"}, \"name\": \"count_\", \"orientation\": \"h\", \"x\": [16266774, 15137646, 14641824, 2804334, 2785242, 1125036, 1048386, 819522, 507336, 385806], \"y\": [\"en\", \"commons.m\", \"de\", \"cs\", \"ar\", \"da\", \"ca\", \"bg\", \"el\", \"be\"], \"type\": \"bar\", \"uid\": \"f2ecc1a6-9b60-11e8-b75e-5882a89c7e7d\"}],\n",
       "            {\"showlegend\": true, \"title\": \"my bar chart\", \"xaxis\": {\"ticksuffix\": \"\", \"title\": \"count_\", \"type\": \"linear\"}, \"yaxis\": {\"title\": \"Language\", \"type\": \"category\"}},\n",
       "            {\"showLink\": true, \"linkText\": \"Export to plot.ly\"}\n",
       "        ).then(function () {return Plotly.addFrames('3a553ab3-1b83-4fe7-925f-3f26ca85254a',{});}).then(function(){Plotly.animate('3a553ab3-1b83-4fe7-925f-3f26ca85254a');})\n",
       "        </script>\n",
       "        </body>\n",
       "        </html>"
      ],
      "text/plain": [
       "<IPython.core.display.HTML object>"
      ]
     },
     "metadata": {},
     "output_type": "display_data"
    },
    {
     "data": {
      "text/html": [],
      "text/plain": [
       "[<kql.kql_proxy.KqlRow at 0x144fa435e10>,\n",
       " <kql.kql_proxy.KqlRow at 0x144fa435c18>,\n",
       " <kql.kql_proxy.KqlRow at 0x144fa43bb38>,\n",
       " <kql.kql_proxy.KqlRow at 0x144fa43bb70>,\n",
       " <kql.kql_proxy.KqlRow at 0x144fa43bac8>,\n",
       " <kql.kql_proxy.KqlRow at 0x144fa43be48>,\n",
       " <kql.kql_proxy.KqlRow at 0x144fa43b9e8>,\n",
       " <kql.kql_proxy.KqlRow at 0x144fa43b9b0>,\n",
       " <kql.kql_proxy.KqlRow at 0x144fa43bc18>,\n",
       " <kql.kql_proxy.KqlRow at 0x144fa43bc88>]"
      ]
     },
     "execution_count": 16,
     "metadata": {},
     "output_type": "execute_result"
    }
   ],
   "source": [
    "my_bar_chart"
   ]
  },
  {
   "cell_type": "markdown",
   "metadata": {},
   "source": [
    "## Cell mixed with single line kql queries "
   ]
  },
  {
   "cell_type": "code",
   "execution_count": 17,
   "metadata": {},
   "outputs": [
    {
     "data": {
      "application/javascript": [
       "IPython.notebook.kernel.execute(\"NOTEBOOK_URL = '\" + window.location + \"'\");"
      ],
      "text/plain": [
       "<IPython.core.display.Javascript object>"
      ]
     },
     "metadata": {},
     "output_type": "display_data"
    },
    {
     "name": "stdout",
     "output_type": "stream",
     "text": [
      "+-----------+----------+\n",
      "|  Language |  count_  |\n",
      "+-----------+----------+\n",
      "|     en    | 16266774 |\n",
      "| commons.m | 15137646 |\n",
      "|     de    | 14641824 |\n",
      "|     cs    | 2804334  |\n",
      "|     ar    | 2785242  |\n",
      "|     da    | 1125036  |\n",
      "|     ca    | 1048386  |\n",
      "|     bg    |  819522  |\n",
      "|     el    |  507336  |\n",
      "|     be    |  385806  |\n",
      "+-----------+----------+\n"
     ]
    },
    {
     "data": {
      "application/javascript": [
       "IPython.notebook.kernel.execute(\"NOTEBOOK_URL = '\" + window.location + \"'\");"
      ],
      "text/plain": [
       "<IPython.core.display.Javascript object>"
      ]
     },
     "metadata": {},
     "output_type": "display_data"
    },
    {
     "data": {
      "text/html": [
       "<html>\n",
       "        <head>\n",
       "        \n",
       "        </head>\n",
       "        <body>\n",
       "        <div id=\"01698b51-7c9f-4366-8d67-818dfb32bacd\" style=\"height: 100%; width: 100%;\" class=\"plotly-graph-div\"></div><script type=\"text/javascript\">window.PLOTLYENV=window.PLOTLYENV || {};window.PLOTLYENV.BASE_URL=\"https://plot.ly\";\n",
       "        Plotly.plot(\n",
       "            '01698b51-7c9f-4366-8d67-818dfb32bacd',\n",
       "            [{\"marker\": {\"color\": \"rgb(184, 247, 212)\"}, \"name\": \"count_\", \"orientation\": \"h\", \"x\": [16266774, 15137646, 14641824, 2804334, 2785242, 1125036, 1048386, 819522, 507336, 385806], \"y\": [\"en\", \"commons.m\", \"de\", \"cs\", \"ar\", \"da\", \"ca\", \"bg\", \"el\", \"be\"], \"type\": \"bar\", \"uid\": \"f5dbfd02-9b60-11e8-8d0c-5882a89c7e7d\"}],\n",
       "            {\"showlegend\": true, \"title\": \"my bar chart\", \"xaxis\": {\"ticksuffix\": \"\", \"title\": \"count_\", \"type\": \"linear\"}, \"yaxis\": {\"title\": \"Language\", \"type\": \"category\"}},\n",
       "            {\"showLink\": true, \"linkText\": \"Export to plot.ly\"}\n",
       "        ).then(function () {return Plotly.addFrames('01698b51-7c9f-4366-8d67-818dfb32bacd',{});}).then(function(){Plotly.animate('01698b51-7c9f-4366-8d67-818dfb32bacd');})\n",
       "        </script>\n",
       "        </body>\n",
       "        </html>"
      ],
      "text/plain": [
       "<IPython.core.display.HTML object>"
      ]
     },
     "metadata": {},
     "output_type": "display_data"
    },
    {
     "data": {
      "text/html": [],
      "text/plain": [
       "[<kql.kql_proxy.KqlRow at 0x144fa6131d0>,\n",
       " <kql.kql_proxy.KqlRow at 0x144fa613d68>,\n",
       " <kql.kql_proxy.KqlRow at 0x144fa613fd0>,\n",
       " <kql.kql_proxy.KqlRow at 0x144fa6137f0>,\n",
       " <kql.kql_proxy.KqlRow at 0x144fa613780>,\n",
       " <kql.kql_proxy.KqlRow at 0x144fa6136a0>,\n",
       " <kql.kql_proxy.KqlRow at 0x144fa6136d8>,\n",
       " <kql.kql_proxy.KqlRow at 0x144fa613630>,\n",
       " <kql.kql_proxy.KqlRow at 0x144fa613080>,\n",
       " <kql.kql_proxy.KqlRow at 0x144fa6133c8>]"
      ]
     },
     "metadata": {},
     "output_type": "display_data"
    },
    {
     "data": {
      "text/html": [
       "<html>\n",
       "        <head>\n",
       "        \n",
       "        </head>\n",
       "        <body>\n",
       "        <div id=\"aa309441-cc78-4b31-a029-2cde5ffcc1d8\" style=\"height: 100%; width: 100%;\" class=\"plotly-graph-div\"></div><script type=\"text/javascript\">window.PLOTLYENV=window.PLOTLYENV || {};window.PLOTLYENV.BASE_URL=\"https://plot.ly\";\n",
       "        Plotly.plot(\n",
       "            'aa309441-cc78-4b31-a029-2cde5ffcc1d8',\n",
       "            [{\"domain\": {\"x\": [0, 1], \"y\": [0, 1]}, \"labels\": [\"en\", \"commons.m\", \"de\", \"cs\", \"ar\"], \"marker\": {\"colors\": [\"rgb(184, 247, 212)\", \"rgb(111, 231, 219)\", \"rgb(127, 166, 238)\", \"rgb(131, 90, 241)\"]}, \"name\": \"count_\", \"textinfo\": \"label+percent\", \"values\": [16266774, 15137646, 14641824, 2804334, 2785242], \"type\": \"pie\", \"uid\": \"f60ea26e-9b60-11e8-ae5d-5882a89c7e7d\"}],\n",
       "            {\"showlegend\": true, \"title\": \"my pie chart\"},\n",
       "            {\"showLink\": true, \"linkText\": \"Export to plot.ly\"}\n",
       "        ).then(function () {return Plotly.addFrames('aa309441-cc78-4b31-a029-2cde5ffcc1d8',{});}).then(function(){Plotly.animate('aa309441-cc78-4b31-a029-2cde5ffcc1d8');})\n",
       "        </script>\n",
       "        </body>\n",
       "        </html>"
      ],
      "text/plain": [
       "<IPython.core.display.HTML object>"
      ]
     },
     "metadata": {},
     "output_type": "display_data"
    },
    {
     "data": {
      "text/html": [],
      "text/plain": [
       "[<kql.kql_proxy.KqlRow at 0x144fa60bb70>,\n",
       " <kql.kql_proxy.KqlRow at 0x144fa60bc18>,\n",
       " <kql.kql_proxy.KqlRow at 0x144fa60bf60>,\n",
       " <kql.kql_proxy.KqlRow at 0x144fa624160>,\n",
       " <kql.kql_proxy.KqlRow at 0x144fa624198>]"
      ]
     },
     "metadata": {},
     "output_type": "display_data"
    }
   ],
   "source": [
    "%kql bar_chart << PageViews | summarize count() by Language | sort by count_ | limit 10 | render barchart title='my bar chart'\n",
    "print(bar_chart)\n",
    "%kql pie_chart << PageViews | summarize count() by Language | sort by count_ | limit 5 | render piechart title='my pie chart'\n",
    "display(bar_chart)\n",
    "display(pie_chart)"
   ]
  },
  {
   "cell_type": "markdown",
   "metadata": {},
   "source": [
    "  - ### <span style=\"color:#82CAFA\">*Note: single line magics (starts with only one \\%) can share the same cell with python code*</span>"
   ]
  },
  {
   "cell_type": "markdown",
   "metadata": {},
   "source": [
    "## Multiline query "
   ]
  },
  {
   "cell_type": "code",
   "execution_count": 18,
   "metadata": {},
   "outputs": [
    {
     "data": {
      "application/javascript": [
       "IPython.notebook.kernel.execute(\"NOTEBOOK_URL = '\" + window.location + \"'\");"
      ],
      "text/plain": [
       "<IPython.core.display.Javascript object>"
      ]
     },
     "metadata": {},
     "output_type": "display_data"
    },
    {
     "data": {
      "text/html": [
       "<html>\n",
       "        <head>\n",
       "        \n",
       "        </head>\n",
       "        <body>\n",
       "        <div><p style='padding: 10px; color: #3a87ad; background-color: #d9edf7; border-color: #bce9f1'>&nbsp*&nbspSamples@help</p></div>\n",
       "        </body>\n",
       "        </html>"
      ],
      "text/plain": [
       "<IPython.core.display.HTML object>"
      ]
     },
     "metadata": {},
     "output_type": "display_data"
    },
    {
     "data": {
      "text/html": [
       "<html>\n",
       "        <head>\n",
       "        \n",
       "        </head>\n",
       "        <body>\n",
       "        <div id=\"0e0701cb-d53a-4819-970a-0894e9a72092\" style=\"height: 100%; width: 100%;\" class=\"plotly-graph-div\"></div><script type=\"text/javascript\">window.PLOTLYENV=window.PLOTLYENV || {};window.PLOTLYENV.BASE_URL=\"https://plot.ly\";\n",
       "        Plotly.plot(\n",
       "            '0e0701cb-d53a-4819-970a-0894e9a72092',\n",
       "            [{\"marker\": {\"color\": \"rgb(184, 247, 212)\"}, \"name\": \"count_\", \"x\": [\"en\", \"commons.m\", \"de\", \"cs\", \"ar\", \"da\", \"ca\", \"bg\", \"el\", \"be\"], \"y\": [16266774, 15137646, 14641824, 2804334, 2785242, 1125036, 1048386, 819522, 507336, 385806], \"type\": \"bar\", \"uid\": \"f781f530-9b60-11e8-bbb1-5882a89c7e7d\"}],\n",
       "            {\"showlegend\": true, \"title\": \"my column chart\", \"xaxis\": {\"title\": \"Language\", \"type\": \"category\"}, \"yaxis\": {\"ticksuffix\": \"\", \"title\": \"count_\", \"type\": \"linear\"}},\n",
       "            {\"showLink\": true, \"linkText\": \"Export to plot.ly\"}\n",
       "        ).then(function () {return Plotly.addFrames('0e0701cb-d53a-4819-970a-0894e9a72092',{});}).then(function(){Plotly.animate('0e0701cb-d53a-4819-970a-0894e9a72092');})\n",
       "        </script>\n",
       "        </body>\n",
       "        </html>"
      ],
      "text/plain": [
       "<IPython.core.display.HTML object>"
      ]
     },
     "metadata": {},
     "output_type": "display_data"
    },
    {
     "data": {
      "text/html": [
       "<html>\n",
       "        <head>\n",
       "        \n",
       "        </head>\n",
       "        <body>\n",
       "        <div><p style='padding: 10px; color: #3a87ad; background-color: #d9edf7; border-color: #bce9f1'>Done&nbsp(00:02.294):&nbsp10&nbsprecords</p></div>\n",
       "        </body>\n",
       "        </html>"
      ],
      "text/plain": [
       "<IPython.core.display.HTML object>"
      ]
     },
     "metadata": {},
     "output_type": "display_data"
    },
    {
     "data": {
      "text/html": [],
      "text/plain": [
       "[<kql.kql_proxy.KqlRow at 0x144fa787b38>,\n",
       " <kql.kql_proxy.KqlRow at 0x144fa787ac8>,\n",
       " <kql.kql_proxy.KqlRow at 0x144fa787b00>,\n",
       " <kql.kql_proxy.KqlRow at 0x144fa787e80>,\n",
       " <kql.kql_proxy.KqlRow at 0x144fa787e10>,\n",
       " <kql.kql_proxy.KqlRow at 0x144fa7960f0>,\n",
       " <kql.kql_proxy.KqlRow at 0x144fa796128>,\n",
       " <kql.kql_proxy.KqlRow at 0x144fa796400>,\n",
       " <kql.kql_proxy.KqlRow at 0x144fa7961d0>,\n",
       " <kql.kql_proxy.KqlRow at 0x144fa796240>]"
      ]
     },
     "execution_count": 18,
     "metadata": {},
     "output_type": "execute_result"
    }
   ],
   "source": [
    "%%kql PageViews \n",
    "    | summarize count() by Language \n",
    "    | sort by count_ \n",
    "    | limit 10 \n",
    "    | render columnchart title='my column chart' "
   ]
  },
  {
   "cell_type": "markdown",
   "metadata": {},
   "source": [
    "  - ### <span style=\"color:#82CAFA\">*Note: that this is a multiline magic, it starts with \\%\\%. It can include only kql code*</span>"
   ]
  },
  {
   "cell_type": "markdown",
   "metadata": {},
   "source": [
    "## Show last chart result as a table"
   ]
  },
  {
   "cell_type": "code",
   "execution_count": 19,
   "metadata": {},
   "outputs": [
    {
     "data": {
      "text/html": [
       "<html>\n",
       "        <head>\n",
       "        \n",
       "        </head>\n",
       "        <body>\n",
       "        <table>\n",
       "    <tr>\n",
       "        <th>Language</th>\n",
       "        <th>count_</th>\n",
       "    </tr>\n",
       "    <tr>\n",
       "        <td>en</td>\n",
       "        <td>16266774</td>\n",
       "    </tr>\n",
       "    <tr>\n",
       "        <td>commons.m</td>\n",
       "        <td>15137646</td>\n",
       "    </tr>\n",
       "    <tr>\n",
       "        <td>de</td>\n",
       "        <td>14641824</td>\n",
       "    </tr>\n",
       "    <tr>\n",
       "        <td>cs</td>\n",
       "        <td>2804334</td>\n",
       "    </tr>\n",
       "    <tr>\n",
       "        <td>ar</td>\n",
       "        <td>2785242</td>\n",
       "    </tr>\n",
       "    <tr>\n",
       "        <td>da</td>\n",
       "        <td>1125036</td>\n",
       "    </tr>\n",
       "    <tr>\n",
       "        <td>ca</td>\n",
       "        <td>1048386</td>\n",
       "    </tr>\n",
       "    <tr>\n",
       "        <td>bg</td>\n",
       "        <td>819522</td>\n",
       "    </tr>\n",
       "    <tr>\n",
       "        <td>el</td>\n",
       "        <td>507336</td>\n",
       "    </tr>\n",
       "    <tr>\n",
       "        <td>be</td>\n",
       "        <td>385806</td>\n",
       "    </tr>\n",
       "</table>\n",
       "        </body>\n",
       "        </html>"
      ],
      "text/plain": [
       "<IPython.core.display.HTML object>"
      ]
     },
     "metadata": {},
     "output_type": "display_data"
    }
   ],
   "source": [
    "_.show_table()"
   ]
  },
  {
   "cell_type": "markdown",
   "metadata": {},
   "source": [
    "## Show last result in a popup window"
   ]
  },
  {
   "cell_type": "code",
   "execution_count": 20,
   "metadata": {},
   "outputs": [
    {
     "data": {
      "text/html": [
       "<!DOCTYPE html>\n",
       "            <html><body>\n",
       "\n",
       "            <button onclick=\"this.style.visibility='hidden';kqlMagicLaunchWindowFunction('temp_showfiles/a7c7e3160d2344598ba4525c8ab6e45a.html','fullscreen=no,directories=no,location=no,menubar=no,resizable=yes,scrollbars=yes,status=no,titlebar=no,toolbar=no,','a7c7e3160d2344598ba4525c8ab6e45a','')\">popup columnchart - my column chart </button>\n",
       "\n",
       "            <script>\n",
       "\n",
       "            function kqlMagicLaunchWindowFunction(file_path, window_params, window_name, notebooks_host) {\n",
       "                var url;\n",
       "                if (file_path.startsWith('http')) {\n",
       "                    url = file_path;\n",
       "                } else {\n",
       "                    var base_url = '';\n",
       "\n",
       "                    var azure_host = (notebooks_host == null || notebooks_host.length == 0) ? 'https://notebooks.azure.com' : notebooks_host;\n",
       "                    var start = azure_host.search('//');\n",
       "                    var azure_host_suffix = '.' + azure_host.substring(start+2);\n",
       "\n",
       "                    var loc = String(window.location);\n",
       "                    var end = loc.search(azure_host_suffix);\n",
       "                    start = loc.search('//');\n",
       "                    if (start > 0 && end > 0) {\n",
       "                        var parts = loc.substring(start+2, end).split('-');\n",
       "                        if (parts.length == 2) {\n",
       "                            var library = parts[0];\n",
       "                            var user = parts[1];\n",
       "                            base_url = azure_host + '/api/user/' +user+ '/library/' +library+ '/html';\n",
       "                        }\n",
       "                    }\n",
       "                    if (base_url.length == 0) {\n",
       "                        var parts = loc.split('/');\n",
       "                        parts.pop();\n",
       "                        base_url = parts.join('/');\n",
       "                    }\n",
       "                    url = base_url + '/' + file_path;\n",
       "                }\n",
       "\n",
       "                window.focus();\n",
       "                var w = screen.width / 2;\n",
       "                var h = screen.height / 2;\n",
       "                params = 'width='+w+',height='+h;\n",
       "                kqlMagic_a7c7e3160d2344598ba4525c8ab6e45a = window.open(url, window_name, window_params + params);\n",
       "            }\n",
       "            </script>\n",
       "\n",
       "            </body></html>"
      ],
      "text/plain": [
       "<IPython.core.display.HTML object>"
      ]
     },
     "metadata": {},
     "output_type": "display_data"
    }
   ],
   "source": [
    "_.popup()"
   ]
  },
  {
   "cell_type": "markdown",
   "metadata": {},
   "source": [
    "## Resize poup window, and to adjust the chart inside the window press F5"
   ]
  },
  {
   "cell_type": "markdown",
   "metadata": {},
   "source": [
    "  - ### <span style=\"color:#82CAFA\">*Note: when you F5, you loose the latest chart display state*</span>"
   ]
  },
  {
   "cell_type": "markdown",
   "metadata": {},
   "source": [
    "## Show last chart result as a table in a popup window"
   ]
  },
  {
   "cell_type": "code",
   "execution_count": 21,
   "metadata": {},
   "outputs": [
    {
     "data": {
      "text/html": [
       "<!DOCTYPE html>\n",
       "            <html><body>\n",
       "\n",
       "            <button onclick=\"this.style.visibility='hidden';kqlMagicLaunchWindowFunction('temp_showfiles/36084cee8c5d4bc09b5d80880e243fb3.html','fullscreen=no,directories=no,location=no,menubar=no,resizable=yes,scrollbars=yes,status=no,titlebar=no,toolbar=no,','36084cee8c5d4bc09b5d80880e243fb3','')\">popup table - my column chart </button>\n",
       "\n",
       "            <script>\n",
       "\n",
       "            function kqlMagicLaunchWindowFunction(file_path, window_params, window_name, notebooks_host) {\n",
       "                var url;\n",
       "                if (file_path.startsWith('http')) {\n",
       "                    url = file_path;\n",
       "                } else {\n",
       "                    var base_url = '';\n",
       "\n",
       "                    var azure_host = (notebooks_host == null || notebooks_host.length == 0) ? 'https://notebooks.azure.com' : notebooks_host;\n",
       "                    var start = azure_host.search('//');\n",
       "                    var azure_host_suffix = '.' + azure_host.substring(start+2);\n",
       "\n",
       "                    var loc = String(window.location);\n",
       "                    var end = loc.search(azure_host_suffix);\n",
       "                    start = loc.search('//');\n",
       "                    if (start > 0 && end > 0) {\n",
       "                        var parts = loc.substring(start+2, end).split('-');\n",
       "                        if (parts.length == 2) {\n",
       "                            var library = parts[0];\n",
       "                            var user = parts[1];\n",
       "                            base_url = azure_host + '/api/user/' +user+ '/library/' +library+ '/html';\n",
       "                        }\n",
       "                    }\n",
       "                    if (base_url.length == 0) {\n",
       "                        var parts = loc.split('/');\n",
       "                        parts.pop();\n",
       "                        base_url = parts.join('/');\n",
       "                    }\n",
       "                    url = base_url + '/' + file_path;\n",
       "                }\n",
       "\n",
       "                window.focus();\n",
       "                var w = screen.width / 2;\n",
       "                var h = screen.height / 2;\n",
       "                params = 'width='+w+',height='+h;\n",
       "                kqlMagic_36084cee8c5d4bc09b5d80880e243fb3 = window.open(url, window_name, window_params + params);\n",
       "            }\n",
       "            </script>\n",
       "\n",
       "            </body></html>"
      ],
      "text/plain": [
       "<IPython.core.display.HTML object>"
      ]
     },
     "metadata": {},
     "output_type": "display_data"
    }
   ],
   "source": [
    "_kql_raw_result_.popup_table()"
   ]
  },
  {
   "cell_type": "markdown",
   "metadata": {},
   "source": [
    "## More complex chart"
   ]
  },
  {
   "cell_type": "code",
   "execution_count": 22,
   "metadata": {},
   "outputs": [
    {
     "data": {
      "application/javascript": [
       "IPython.notebook.kernel.execute(\"NOTEBOOK_URL = '\" + window.location + \"'\");"
      ],
      "text/plain": [
       "<IPython.core.display.Javascript object>"
      ]
     },
     "metadata": {},
     "output_type": "display_data"
    },
    {
     "data": {
      "text/html": [
       "<html>\n",
       "        <head>\n",
       "        \n",
       "        </head>\n",
       "        <body>\n",
       "        <div><p style='padding: 10px; color: #3a87ad; background-color: #d9edf7; border-color: #bce9f1'>&nbsp*&nbspSamples@help</p></div>\n",
       "        </body>\n",
       "        </html>"
      ],
      "text/plain": [
       "<IPython.core.display.HTML object>"
      ]
     },
     "metadata": {},
     "output_type": "display_data"
    },
    {
     "data": {
      "text/html": [
       "<html>\n",
       "        <head>\n",
       "        \n",
       "        </head>\n",
       "        <body>\n",
       "        <div id=\"7354c233-50bd-4444-90a5-b7b8478429db\" style=\"height: 100%; width: 100%;\" class=\"plotly-graph-div\"></div><script type=\"text/javascript\">window.PLOTLYENV=window.PLOTLYENV || {};window.PLOTLYENV.BASE_URL=\"https://plot.ly\";\n",
       "        Plotly.plot(\n",
       "            '7354c233-50bd-4444-90a5-b7b8478429db',\n",
       "            [{\"domain\": {\"x\": [0.0, 0.48], \"y\": [0.0, 0.95]}, \"labels\": [\"en\", \"commons.m\", \"de\", \"cs\", \"ar\", \"da\", \"ca\", \"bg\", \"el\", \"be\"], \"marker\": {\"colors\": [\"rgb(184, 247, 212)\", \"rgb(111, 231, 219)\", \"rgb(127, 166, 238)\", \"rgb(131, 90, 241)\"]}, \"name\": \"count_\", \"textinfo\": \"label+percent\", \"values\": [16266774, 15137646, 14641824, 2804334, 2785242, 1125036, 1048386, 819522, 507336, 385806], \"type\": \"pie\", \"uid\": \"f960cf22-9b60-11e8-8d6e-5882a89c7e7d\"}, {\"domain\": {\"x\": [0.52, 1.0], \"y\": [0.0, 0.95]}, \"labels\": [\"en\", \"commons.m\", \"de\", \"cs\", \"ar\", \"da\", \"ca\", \"bg\", \"el\", \"be\"], \"marker\": {\"colors\": [\"rgb(184, 247, 212)\", \"rgb(111, 231, 219)\", \"rgb(127, 166, 238)\", \"rgb(131, 90, 241)\"]}, \"name\": \"count2\", \"textinfo\": \"label+percent\", \"values\": [264607936367076, 229148326421316, 214383010046976, 7864289183556, 7757572998564, 1265706001296, 1099113204996, 671616308484, 257389816896, 148846269636], \"type\": \"pie\", \"uid\": \"f960cf23-9b60-11e8-934d-5882a89c7e7d\"}],\n",
       "            {\"showlegend\": true, \"title\": \"my pie chart #2\"},\n",
       "            {\"showLink\": true, \"linkText\": \"Export to plot.ly\"}\n",
       "        ).then(function () {return Plotly.addFrames('7354c233-50bd-4444-90a5-b7b8478429db',{});}).then(function(){Plotly.animate('7354c233-50bd-4444-90a5-b7b8478429db');})\n",
       "        </script>\n",
       "        </body>\n",
       "        </html>"
      ],
      "text/plain": [
       "<IPython.core.display.HTML object>"
      ]
     },
     "metadata": {},
     "output_type": "display_data"
    },
    {
     "data": {
      "text/html": [
       "<html>\n",
       "        <head>\n",
       "        \n",
       "        </head>\n",
       "        <body>\n",
       "        <div><p style='padding: 10px; color: #3a87ad; background-color: #d9edf7; border-color: #bce9f1'>Done&nbsp(00:02.545):&nbsp10&nbsprecords</p></div>\n",
       "        </body>\n",
       "        </html>"
      ],
      "text/plain": [
       "<IPython.core.display.HTML object>"
      ]
     },
     "metadata": {},
     "output_type": "display_data"
    },
    {
     "data": {
      "text/html": [],
      "text/plain": [
       "[<kql.kql_proxy.KqlRow at 0x144fa8d3320>,\n",
       " <kql.kql_proxy.KqlRow at 0x144fa8d3240>,\n",
       " <kql.kql_proxy.KqlRow at 0x144fa8d3eb8>,\n",
       " <kql.kql_proxy.KqlRow at 0x144fa8d3ef0>,\n",
       " <kql.kql_proxy.KqlRow at 0x144fa8d3860>,\n",
       " <kql.kql_proxy.KqlRow at 0x144fa8d34e0>,\n",
       " <kql.kql_proxy.KqlRow at 0x144fa8d3278>,\n",
       " <kql.kql_proxy.KqlRow at 0x144fa8d32b0>,\n",
       " <kql.kql_proxy.KqlRow at 0x144fa8d3f98>,\n",
       " <kql.kql_proxy.KqlRow at 0x144fa8d3588>]"
      ]
     },
     "execution_count": 22,
     "metadata": {},
     "output_type": "execute_result"
    }
   ],
   "source": [
    "%kql PageViews | summarize count() by Language | sort by count_ | extend count2 = count_*count_ | limit 10 | render piechart title='my pie chart #2' "
   ]
  },
  {
   "cell_type": "markdown",
   "metadata": {},
   "source": [
    "## Convert result data to dictionary of columns"
   ]
  },
  {
   "cell_type": "code",
   "execution_count": 23,
   "metadata": {},
   "outputs": [
    {
     "name": "stdout",
     "output_type": "stream",
     "text": [
      "{'Language': ('en', 'commons.m', 'de', 'cs', 'ar', 'da', 'ca', 'bg', 'el', 'be'), 'count_': (16266774, 15137646, 14641824, 2804334, 2785242, 1125036, 1048386, 819522, 507336, 385806), 'count2': (264607936367076, 229148326421316, 214383010046976, 7864289183556, 7757572998564, 1265706001296, 1099113204996, 671616308484, 257389816896, 148846269636)}\n"
     ]
    }
   ],
   "source": [
    "dict_of_columns = _kql_raw_result_.to_dict()\n",
    "print(dict_of_columns)"
   ]
  },
  {
   "cell_type": "code",
   "execution_count": 24,
   "metadata": {},
   "outputs": [
    {
     "name": "stdout",
     "output_type": "stream",
     "text": [
      "Language,count_,count2\n",
      "en,16266774,264607936367076\n",
      "commons.m,15137646,229148326421316\n",
      "de,14641824,214383010046976\n",
      "cs,2804334,7864289183556\n",
      "ar,2785242,7757572998564\n",
      "da,1125036,1265706001296\n",
      "ca,1048386,1099113204996\n",
      "bg,819522,671616308484\n",
      "el,507336,257389816896\n",
      "be,385806,148846269636\n"
     ]
    }
   ],
   "source": [
    "_kql_raw_result_.to_csv('csv_file.csv')\n",
    "!type csv_file.csv"
   ]
  },
  {
   "cell_type": "markdown",
   "metadata": {},
   "source": [
    "## Get last kql query attributes "
   ]
  },
  {
   "cell_type": "code",
   "execution_count": 25,
   "metadata": {},
   "outputs": [
    {
     "data": {
      "text/plain": [
       "\"PageViews | summarize count() by Language | sort by count_ | extend count2 = count_*count_ | limit 10 | render piechart title='my pie chart #2'\""
      ]
     },
     "execution_count": 25,
     "metadata": {},
     "output_type": "execute_result"
    }
   ],
   "source": [
    "_kql_raw_result_.query"
   ]
  },
  {
   "cell_type": "code",
   "execution_count": 26,
   "metadata": {},
   "outputs": [
    {
     "data": {
      "text/plain": [
       "'my pie chart #2'"
      ]
     },
     "execution_count": 26,
     "metadata": {},
     "output_type": "execute_result"
    }
   ],
   "source": [
    "_kql_raw_result_.title"
   ]
  },
  {
   "cell_type": "code",
   "execution_count": 27,
   "metadata": {},
   "outputs": [
    {
     "data": {
      "text/plain": [
       "'piechart'"
      ]
     },
     "execution_count": 27,
     "metadata": {},
     "output_type": "execute_result"
    }
   ],
   "source": [
    "_kql_raw_result_.visualization"
   ]
  },
  {
   "cell_type": "code",
   "execution_count": 28,
   "metadata": {},
   "outputs": [
    {
     "data": {
      "text/plain": [
       "10"
      ]
     },
     "execution_count": 28,
     "metadata": {},
     "output_type": "execute_result"
    }
   ],
   "source": [
    "_kql_raw_result_.records_count"
   ]
  },
  {
   "cell_type": "code",
   "execution_count": 29,
   "metadata": {},
   "outputs": [
    {
     "data": {
      "text/plain": [
       "['Language', 'count_', 'count2']"
      ]
     },
     "execution_count": 29,
     "metadata": {},
     "output_type": "execute_result"
    }
   ],
   "source": [
    "_kql_raw_result_.columns_name"
   ]
  },
  {
   "cell_type": "code",
   "execution_count": 30,
   "metadata": {},
   "outputs": [
    {
     "data": {
      "text/plain": [
       "1533770141.0025396"
      ]
     },
     "execution_count": 30,
     "metadata": {},
     "output_type": "execute_result"
    }
   ],
   "source": [
    "_kql_raw_result_.start_time"
   ]
  },
  {
   "cell_type": "code",
   "execution_count": 31,
   "metadata": {},
   "outputs": [
    {
     "data": {
      "text/plain": [
       "1533770143.5470684"
      ]
     },
     "execution_count": 31,
     "metadata": {},
     "output_type": "execute_result"
    }
   ],
   "source": [
    "_kql_raw_result_.end_time"
   ]
  },
  {
   "cell_type": "code",
   "execution_count": 32,
   "metadata": {},
   "outputs": [
    {
     "data": {
      "text/plain": [
       "2.5445287227630615"
      ]
     },
     "execution_count": 32,
     "metadata": {},
     "output_type": "execute_result"
    }
   ],
   "source": [
    "_kql_raw_result_.elapsed_timespan"
   ]
  },
  {
   "cell_type": "code",
   "execution_count": 33,
   "metadata": {},
   "outputs": [
    {
     "data": {
      "text/plain": [
       "'Samples@help'"
      ]
     },
     "execution_count": 33,
     "metadata": {},
     "output_type": "execute_result"
    }
   ],
   "source": [
    "_kql_raw_result_.connection"
   ]
  },
  {
   "cell_type": "code",
   "execution_count": 34,
   "metadata": {},
   "outputs": [
    {
     "data": {
      "text/plain": [
       "False"
      ]
     },
     "execution_count": 34,
     "metadata": {},
     "output_type": "execute_result"
    }
   ],
   "source": [
    "_kql_raw_result_.suppress_result"
   ]
  },
  {
   "cell_type": "code",
   "execution_count": 35,
   "metadata": {},
   "outputs": [
    {
     "data": {
      "text/plain": [
       "{'auto_dataframe': False,\n",
       " 'short_errors': True,\n",
       " 'feedback': True,\n",
       " 'show_conn_list': True,\n",
       " 'columns_to_local_vars': False,\n",
       " 'show_query_time': True,\n",
       " 'enable_suppress_result': True,\n",
       " 'plotly_fs_includejs': False,\n",
       " 'popup_window': False,\n",
       " 'auto_limit': 0,\n",
       " 'display_limit': None,\n",
       " 'prettytable_style': 'DEFAULT',\n",
       " 'last_raw_result_var': '_kql_raw_result_',\n",
       " 'table_package': 'prettytable',\n",
       " 'plot_package': 'matplotlib',\n",
       " 'dsn_filename': 'odbc.ini',\n",
       " 'validate_connection_string': True,\n",
       " 'auto_popup_schema': True,\n",
       " 'popup_help': False,\n",
       " 'popup_schema': False,\n",
       " 'version': False}"
      ]
     },
     "execution_count": 35,
     "metadata": {},
     "output_type": "execute_result"
    }
   ],
   "source": [
    "_kql_raw_result_.options"
   ]
  },
  {
   "cell_type": "markdown",
   "metadata": {},
   "source": [
    "## Kql query with option -c2lv (-columns_to_local_vars)"
   ]
  },
  {
   "cell_type": "code",
   "execution_count": 36,
   "metadata": {},
   "outputs": [
    {
     "data": {
      "application/javascript": [
       "IPython.notebook.kernel.execute(\"NOTEBOOK_URL = '\" + window.location + \"'\");"
      ],
      "text/plain": [
       "<IPython.core.display.Javascript object>"
      ]
     },
     "metadata": {},
     "output_type": "display_data"
    }
   ],
   "source": [
    "%%kql -c2lv PageViews \n",
    "    | summarize count() by Language \n",
    "    | sort by count_ \n",
    "    | limit 10 \n",
    "    | render columnchart title='my column chart' "
   ]
  },
  {
   "cell_type": "markdown",
   "metadata": {},
   "source": [
    "  - ### <span style=\"color:#82CAFA\">*Note: option are specified before the query*</span>\n",
    "  - ### <span style=\"color:#82CAFA\">*Note: c2lv is abbreviation of columns_to_local_vars options*</span>\n",
    "  - ### <span style=\"color:#82CAFA\">*Note: columns_to_local_vars option returns data result in local variables from column names*</span>"
   ]
  },
  {
   "cell_type": "markdown",
   "metadata": {},
   "source": [
    "### result data is assigned to local variables with columns names"
   ]
  },
  {
   "cell_type": "code",
   "execution_count": 37,
   "metadata": {},
   "outputs": [
    {
     "data": {
      "text/plain": [
       "('en', 'commons.m', 'de', 'cs', 'ar', 'da', 'ca', 'bg', 'el', 'be')"
      ]
     },
     "execution_count": 37,
     "metadata": {},
     "output_type": "execute_result"
    }
   ],
   "source": [
    "Language"
   ]
  },
  {
   "cell_type": "code",
   "execution_count": 38,
   "metadata": {},
   "outputs": [
    {
     "data": {
      "text/plain": [
       "(16266774,\n",
       " 15137646,\n",
       " 14641824,\n",
       " 2804334,\n",
       " 2785242,\n",
       " 1125036,\n",
       " 1048386,\n",
       " 819522,\n",
       " 507336,\n",
       " 385806)"
      ]
     },
     "execution_count": 38,
     "metadata": {},
     "output_type": "execute_result"
    }
   ],
   "source": [
    "count_"
   ]
  },
  {
   "cell_type": "markdown",
   "metadata": {},
   "source": [
    "## Kql query with option -ph (-popup_help)"
   ]
  },
  {
   "cell_type": "code",
   "execution_count": 39,
   "metadata": {},
   "outputs": [
    {
     "data": {
      "application/javascript": [
       "IPython.notebook.kernel.execute(\"NOTEBOOK_URL = '\" + window.location + \"'\");"
      ],
      "text/plain": [
       "<IPython.core.display.Javascript object>"
      ]
     },
     "metadata": {},
     "output_type": "display_data"
    },
    {
     "data": {
      "text/html": [
       "<!DOCTYPE html>\n",
       "            <html><body>\n",
       "\n",
       "            <button onclick=\"this.style.visibility='hidden';kqlMagicLaunchWindowFunction('http://aka.ms/kdocs','fullscreen=no,directories=no,location=no,menubar=no,resizable=yes,scrollbars=yes,status=no,titlebar=no,toolbar=no,','KustoQueryLanguage','')\">popup kql help </button>\n",
       "\n",
       "            <script>\n",
       "\n",
       "            function kqlMagicLaunchWindowFunction(file_path, window_params, window_name, notebooks_host) {\n",
       "                var url;\n",
       "                if (file_path.startsWith('http')) {\n",
       "                    url = file_path;\n",
       "                } else {\n",
       "                    var base_url = '';\n",
       "\n",
       "                    var azure_host = (notebooks_host == null || notebooks_host.length == 0) ? 'https://notebooks.azure.com' : notebooks_host;\n",
       "                    var start = azure_host.search('//');\n",
       "                    var azure_host_suffix = '.' + azure_host.substring(start+2);\n",
       "\n",
       "                    var loc = String(window.location);\n",
       "                    var end = loc.search(azure_host_suffix);\n",
       "                    start = loc.search('//');\n",
       "                    if (start > 0 && end > 0) {\n",
       "                        var parts = loc.substring(start+2, end).split('-');\n",
       "                        if (parts.length == 2) {\n",
       "                            var library = parts[0];\n",
       "                            var user = parts[1];\n",
       "                            base_url = azure_host + '/api/user/' +user+ '/library/' +library+ '/html';\n",
       "                        }\n",
       "                    }\n",
       "                    if (base_url.length == 0) {\n",
       "                        var parts = loc.split('/');\n",
       "                        parts.pop();\n",
       "                        base_url = parts.join('/');\n",
       "                    }\n",
       "                    url = base_url + '/' + file_path;\n",
       "                }\n",
       "\n",
       "                window.focus();\n",
       "                var w = screen.width / 2;\n",
       "                var h = screen.height / 2;\n",
       "                params = 'width='+w+',height='+h;\n",
       "                kqlMagic_KustoQueryLanguage = window.open(url, window_name, window_params + params);\n",
       "            }\n",
       "            </script>\n",
       "\n",
       "            </body></html>"
      ],
      "text/plain": [
       "<IPython.core.display.HTML object>"
      ]
     },
     "metadata": {},
     "output_type": "display_data"
    },
    {
     "data": {
      "text/html": [
       "<html>\n",
       "        <head>\n",
       "        \n",
       "        </head>\n",
       "        <body>\n",
       "        <div><p style='padding: 10px; color: #3a87ad; background-color: #d9edf7; border-color: #bce9f1'>&nbsp*&nbspSamples@help</p></div>\n",
       "        </body>\n",
       "        </html>"
      ],
      "text/plain": [
       "<IPython.core.display.HTML object>"
      ]
     },
     "metadata": {},
     "output_type": "display_data"
    }
   ],
   "source": [
    "%kql -ph"
   ]
  },
  {
   "cell_type": "markdown",
   "metadata": {},
   "source": [
    "  - ### <span style=\"color:#82CAFA\">*Note - current database@cluster is always shown*</span>"
   ]
  },
  {
   "cell_type": "markdown",
   "metadata": {},
   "source": [
    "## Kql query with negated option -scl (-show_conn_list)"
   ]
  },
  {
   "cell_type": "code",
   "execution_count": 40,
   "metadata": {},
   "outputs": [
    {
     "data": {
      "application/javascript": [
       "IPython.notebook.kernel.execute(\"NOTEBOOK_URL = '\" + window.location + \"'\");"
      ],
      "text/plain": [
       "<IPython.core.display.Javascript object>"
      ]
     },
     "metadata": {},
     "output_type": "display_data"
    },
    {
     "data": {
      "text/html": [
       "<html>\n",
       "        <head>\n",
       "        \n",
       "        </head>\n",
       "        <body>\n",
       "        \n",
       "        </body>\n",
       "        </html>"
      ],
      "text/plain": [
       "<IPython.core.display.HTML object>"
      ]
     },
     "metadata": {},
     "output_type": "display_data"
    },
    {
     "data": {
      "text/html": [
       "<html>\n",
       "        <head>\n",
       "        \n",
       "        </head>\n",
       "        <body>\n",
       "        <div id=\"0255312b-0e56-4ca6-a52f-2ee0dcdf3f7e\" style=\"height: 100%; width: 100%;\" class=\"plotly-graph-div\"></div><script type=\"text/javascript\">window.PLOTLYENV=window.PLOTLYENV || {};window.PLOTLYENV.BASE_URL=\"https://plot.ly\";\n",
       "        Plotly.plot(\n",
       "            '0255312b-0e56-4ca6-a52f-2ee0dcdf3f7e',\n",
       "            [{\"marker\": {\"color\": \"rgb(184, 247, 212)\"}, \"name\": \"count_\", \"orientation\": \"h\", \"x\": [16266774, 15137646, 14641824, 2804334, 2785242, 1125036, 1048386, 819522, 507336, 385806], \"y\": [\"en\", \"commons.m\", \"de\", \"cs\", \"ar\", \"da\", \"ca\", \"bg\", \"el\", \"be\"], \"type\": \"bar\", \"uid\": \"fcc28866-9b60-11e8-b944-5882a89c7e7d\"}],\n",
       "            {\"showlegend\": true, \"title\": \"my bar chart\", \"xaxis\": {\"ticksuffix\": \"\", \"title\": \"count_\", \"type\": \"linear\"}, \"yaxis\": {\"title\": \"Language\", \"type\": \"category\"}},\n",
       "            {\"showLink\": true, \"linkText\": \"Export to plot.ly\"}\n",
       "        ).then(function () {return Plotly.addFrames('0255312b-0e56-4ca6-a52f-2ee0dcdf3f7e',{});}).then(function(){Plotly.animate('0255312b-0e56-4ca6-a52f-2ee0dcdf3f7e');})\n",
       "        </script>\n",
       "        </body>\n",
       "        </html>"
      ],
      "text/plain": [
       "<IPython.core.display.HTML object>"
      ]
     },
     "metadata": {},
     "output_type": "display_data"
    },
    {
     "data": {
      "text/html": [
       "<html>\n",
       "        <head>\n",
       "        \n",
       "        </head>\n",
       "        <body>\n",
       "        <div><p style='padding: 10px; color: #3a87ad; background-color: #d9edf7; border-color: #bce9f1'>Done&nbsp(00:02.282):&nbsp10&nbsprecords</p></div>\n",
       "        </body>\n",
       "        </html>"
      ],
      "text/plain": [
       "<IPython.core.display.HTML object>"
      ]
     },
     "metadata": {},
     "output_type": "display_data"
    },
    {
     "data": {
      "text/html": [],
      "text/plain": [
       "[<kql.kql_proxy.KqlRow at 0x144faa06860>,\n",
       " <kql.kql_proxy.KqlRow at 0x144faa069b0>,\n",
       " <kql.kql_proxy.KqlRow at 0x144faa06be0>,\n",
       " <kql.kql_proxy.KqlRow at 0x144faa06f60>,\n",
       " <kql.kql_proxy.KqlRow at 0x144faa06208>,\n",
       " <kql.kql_proxy.KqlRow at 0x144faa062b0>,\n",
       " <kql.kql_proxy.KqlRow at 0x144faa06f28>,\n",
       " <kql.kql_proxy.KqlRow at 0x144faa06908>,\n",
       " <kql.kql_proxy.KqlRow at 0x144faa06a20>,\n",
       " <kql.kql_proxy.KqlRow at 0x144faa06a90>]"
      ]
     },
     "execution_count": 40,
     "metadata": {},
     "output_type": "execute_result"
    }
   ],
   "source": [
    "%kql -!show_conn_list PageViews | summarize count() by Language | sort by count_ | limit 10 | render barchart title='my bar chart'"
   ]
  },
  {
   "cell_type": "markdown",
   "metadata": {},
   "source": [
    "  - ### <span style=\"color:#82CAFA\">*Note: dabase@cluster was not displayed because of the negated scl option*</span>\n",
    "  - ### <span style=\"color:#82CAFA\">*Note: option is negated by adding \\! before the option*</span>\n",
    "  - ### <span style=\"color:#82CAFA\">*Note: full option name instead of abbreviation can be used too*</span>\n",
    "  - ### <span style=\"color:#82CAFA\">*Note: show_conn_list option is on by default, so to turn it off, it must be negated*</span>"
   ]
  },
  {
   "cell_type": "markdown",
   "metadata": {},
   "source": [
    "## Get default value of option show_conn_list (scl)"
   ]
  },
  {
   "cell_type": "code",
   "execution_count": 41,
   "metadata": {},
   "outputs": [
    {
     "data": {
      "text/plain": [
       "True"
      ]
     },
     "execution_count": 41,
     "metadata": {},
     "output_type": "execute_result"
    }
   ],
   "source": [
    "%config Kqlmagic.show_conn_list"
   ]
  },
  {
   "cell_type": "markdown",
   "metadata": {},
   "source": [
    "  - ### <span style=\"color:#82CAFA\">*Note: options have defaults, and can be accessed to read or modify using %config magic*</span>"
   ]
  },
  {
   "cell_type": "markdown",
   "metadata": {},
   "source": [
    "## Set default value of option show_conn_list (scl) to False"
   ]
  },
  {
   "cell_type": "code",
   "execution_count": 42,
   "metadata": {},
   "outputs": [
    {
     "data": {
      "text/plain": [
       "False"
      ]
     },
     "execution_count": 42,
     "metadata": {},
     "output_type": "execute_result"
    }
   ],
   "source": [
    "%config Kqlmagic.show_conn_list=False\n",
    "%config Kqlmagic.show_conn_list"
   ]
  },
  {
   "cell_type": "code",
   "execution_count": 43,
   "metadata": {},
   "outputs": [
    {
     "data": {
      "application/javascript": [
       "IPython.notebook.kernel.execute(\"NOTEBOOK_URL = '\" + window.location + \"'\");"
      ],
      "text/plain": [
       "<IPython.core.display.Javascript object>"
      ]
     },
     "metadata": {},
     "output_type": "display_data"
    },
    {
     "data": {
      "text/html": [
       "<html>\n",
       "        <head>\n",
       "        \n",
       "        </head>\n",
       "        <body>\n",
       "        \n",
       "        </body>\n",
       "        </html>"
      ],
      "text/plain": [
       "<IPython.core.display.HTML object>"
      ]
     },
     "metadata": {},
     "output_type": "display_data"
    },
    {
     "data": {
      "text/html": [
       "<html>\n",
       "        <head>\n",
       "        \n",
       "        </head>\n",
       "        <body>\n",
       "        <table>\n",
       "    <tr>\n",
       "        <th>Language</th>\n",
       "        <th>count_</th>\n",
       "        <th>count2</th>\n",
       "    </tr>\n",
       "    <tr>\n",
       "        <td>en</td>\n",
       "        <td>16266774</td>\n",
       "        <td>264607936367076</td>\n",
       "    </tr>\n",
       "    <tr>\n",
       "        <td>commons.m</td>\n",
       "        <td>15137646</td>\n",
       "        <td>229148326421316</td>\n",
       "    </tr>\n",
       "    <tr>\n",
       "        <td>de</td>\n",
       "        <td>14641824</td>\n",
       "        <td>214383010046976</td>\n",
       "    </tr>\n",
       "    <tr>\n",
       "        <td>cs</td>\n",
       "        <td>2804334</td>\n",
       "        <td>7864289183556</td>\n",
       "    </tr>\n",
       "    <tr>\n",
       "        <td>ar</td>\n",
       "        <td>2785242</td>\n",
       "        <td>7757572998564</td>\n",
       "    </tr>\n",
       "</table>\n",
       "        </body>\n",
       "        </html>"
      ],
      "text/plain": [
       "<IPython.core.display.HTML object>"
      ]
     },
     "metadata": {},
     "output_type": "display_data"
    },
    {
     "data": {
      "text/html": [
       "<html>\n",
       "        <head>\n",
       "        \n",
       "        </head>\n",
       "        <body>\n",
       "        <div><p style='padding: 10px; color: #3a87ad; background-color: #d9edf7; border-color: #bce9f1'>Done&nbsp(00:02.448):&nbsp5&nbsprecords</p></div>\n",
       "        </body>\n",
       "        </html>"
      ],
      "text/plain": [
       "<IPython.core.display.HTML object>"
      ]
     },
     "metadata": {},
     "output_type": "display_data"
    },
    {
     "data": {
      "text/html": [],
      "text/plain": [
       "[<kql.kql_proxy.KqlRow at 0x144faace400>,\n",
       " <kql.kql_proxy.KqlRow at 0x144faace748>,\n",
       " <kql.kql_proxy.KqlRow at 0x144faacec50>,\n",
       " <kql.kql_proxy.KqlRow at 0x144faace7b8>,\n",
       " <kql.kql_proxy.KqlRow at 0x144faaceac8>]"
      ]
     },
     "execution_count": 43,
     "metadata": {},
     "output_type": "execute_result"
    }
   ],
   "source": [
    "%kql PageViews | summarize count() by Language | sort by count_ | extend count2 = count_*count_ | limit 5"
   ]
  },
  {
   "cell_type": "markdown",
   "metadata": {},
   "source": [
    "  - ### <span style=\"color:#82CAFA\">*Note: dabase@cluster was not displayed because the default show_conn_list option was set to false*</span>"
   ]
  },
  {
   "cell_type": "markdown",
   "metadata": {},
   "source": [
    "## Kql query with option -version (print kqlmagic version)"
   ]
  },
  {
   "cell_type": "code",
   "execution_count": 44,
   "metadata": {},
   "outputs": [
    {
     "data": {
      "application/javascript": [
       "IPython.notebook.kernel.execute(\"NOTEBOOK_URL = '\" + window.location + \"'\");"
      ],
      "text/plain": [
       "<IPython.core.display.Javascript object>"
      ]
     },
     "metadata": {},
     "output_type": "display_data"
    },
    {
     "name": "stdout",
     "output_type": "stream",
     "text": [
      "Kqlmagic version: 0.1.17\n"
     ]
    }
   ],
   "source": [
    "%kql -version"
   ]
  },
  {
   "cell_type": "markdown",
   "metadata": {},
   "source": [
    "## Show all option defaults with help"
   ]
  },
  {
   "cell_type": "code",
   "execution_count": 45,
   "metadata": {},
   "outputs": [
    {
     "name": "stdout",
     "output_type": "stream",
     "text": [
      "Kqlmagic options\n",
      "--------------\n",
      "Kqlmagic.auto_dataframe=<Bool>\n",
      "    Current: False\n",
      "    Return Pandas dataframe instead of regular result sets. Abbreviation: ad\n",
      "Kqlmagic.auto_limit=<Int>\n",
      "    Current: 0\n",
      "    Automatically limit the size of the returned result sets. Abbreviation: al\n",
      "Kqlmagic.auto_popup_schema=<Bool>\n",
      "    Current: True\n",
      "    Popup schema when connecting to a new database. Abbreviation: aps\n",
      "Kqlmagic.columns_to_local_vars=<Bool>\n",
      "    Current: False\n",
      "    Return data into local variables from column names. Abbreviation: c2lv\n",
      "Kqlmagic.display_limit=<Int>\n",
      "    Current: None\n",
      "    Automatically limit the number of rows displayed (full result set is still\n",
      "    stored). Abbreviation: dl\n",
      "Kqlmagic.dsn_filename=<Unicode>\n",
      "    Current: 'odbc.ini'\n",
      "    Path to DSN file. When the first argument is of the form [section], a kql\n",
      "    connection string is formed from the matching section in the DSN file.\n",
      "    Abbreviation: dl\n",
      "Kqlmagic.enable_suppress_result=<Bool>\n",
      "    Current: True\n",
      "    Suppress result when magic ends with a semicolon ;. Abbreviation: esr\n",
      "Kqlmagic.feedback=<Bool>\n",
      "    Current: True\n",
      "    Print number of records returned, and assigned variables. Abbreviation: f\n",
      "Kqlmagic.last_raw_result_var=<Unicode>\n",
      "    Current: '_kql_raw_result_'\n",
      "    Set the name of the variable that will contain last raw result.\n",
      "    Abbreviation: var\n",
      "Kqlmagic.plot_package=<Enum>\n",
      "    Current: 'matplotlib'\n",
      "    Choices: ['matplotlib', 'plotly']\n",
      "    Set the plot package. Abbreviation: pp\n",
      "Kqlmagic.plotly_fs_includejs=<Bool>\n",
      "    Current: False\n",
      "    Include plotly javascript code in popup window. If set to False (default),\n",
      "    it download the script from https://cdn.plot.ly/plotly-latest.min.js.\n",
      "    Abbreviation: pfi\n",
      "Kqlmagic.prettytable_style=<Enum>\n",
      "    Current: 'DEFAULT'\n",
      "    Choices: ['DEFAULT', 'MSWORD_FRIENDLY', 'PLAIN_COLUMNS', 'RANDOM']\n",
      "    Set the table printing style to any of prettytable's defined styles.\n",
      "    Abbreviation: ptst\n",
      "Kqlmagic.short_errors=<Bool>\n",
      "    Current: True\n",
      "    Don't display the full traceback on KQL Programming Error. Abbreviation: se\n",
      "Kqlmagic.show_conn_list=<Bool>\n",
      "    Current: False\n",
      "    Print connection list, when connection not specified. Abbreviation: scl\n",
      "Kqlmagic.show_query_time=<Bool>\n",
      "    Current: True\n",
      "    Print query execution elapsed time. Abbreviation: sqt\n",
      "Kqlmagic.showfiles_folder_name=<Unicode>\n",
      "    Current: 'temp_showfiles'\n",
      "    Set the name of folder for temporary popup files\n",
      "Kqlmagic.table_package=<Enum>\n",
      "    Current: 'prettytable'\n",
      "    Choices: ['prettytable', 'pandas', 'plotly', 'qgrid']\n",
      "    Set the table display package. Abbreviation: tp\n",
      "Kqlmagic.validate_connection_string=<Bool>\n",
      "    Current: True\n",
      "    Validate connectionString with an implicit query, when query statement is\n",
      "    missing. Abbreviation: vc\n"
     ]
    }
   ],
   "source": [
    "%config Kqlmagic"
   ]
  },
  {
   "cell_type": "markdown",
   "metadata": {},
   "source": [
    "## Show query results in a popup window"
   ]
  },
  {
   "cell_type": "code",
   "execution_count": 46,
   "metadata": {},
   "outputs": [
    {
     "data": {
      "application/javascript": [
       "IPython.notebook.kernel.execute(\"NOTEBOOK_URL = '\" + window.location + \"'\");"
      ],
      "text/plain": [
       "<IPython.core.display.Javascript object>"
      ]
     },
     "metadata": {},
     "output_type": "display_data"
    },
    {
     "data": {
      "text/html": [
       "<html>\n",
       "        <head>\n",
       "        \n",
       "        </head>\n",
       "        <body>\n",
       "        \n",
       "        </body>\n",
       "        </html>"
      ],
      "text/plain": [
       "<IPython.core.display.HTML object>"
      ]
     },
     "metadata": {},
     "output_type": "display_data"
    },
    {
     "data": {
      "text/html": [
       "<!DOCTYPE html>\n",
       "            <html><body>\n",
       "\n",
       "            <button onclick=\"this.style.visibility='hidden';kqlMagicLaunchWindowFunction('temp_showfiles/4c229e8bcec9497795fd1b15dc80e3fd.html','fullscreen=no,directories=no,location=no,menubar=no,resizable=yes,scrollbars=yes,status=no,titlebar=no,toolbar=no,','4c229e8bcec9497795fd1b15dc80e3fd','')\">popup scatterchart - Michael's chart </button>\n",
       "\n",
       "            <script>\n",
       "\n",
       "            function kqlMagicLaunchWindowFunction(file_path, window_params, window_name, notebooks_host) {\n",
       "                var url;\n",
       "                if (file_path.startsWith('http')) {\n",
       "                    url = file_path;\n",
       "                } else {\n",
       "                    var base_url = '';\n",
       "\n",
       "                    var azure_host = (notebooks_host == null || notebooks_host.length == 0) ? 'https://notebooks.azure.com' : notebooks_host;\n",
       "                    var start = azure_host.search('//');\n",
       "                    var azure_host_suffix = '.' + azure_host.substring(start+2);\n",
       "\n",
       "                    var loc = String(window.location);\n",
       "                    var end = loc.search(azure_host_suffix);\n",
       "                    start = loc.search('//');\n",
       "                    if (start > 0 && end > 0) {\n",
       "                        var parts = loc.substring(start+2, end).split('-');\n",
       "                        if (parts.length == 2) {\n",
       "                            var library = parts[0];\n",
       "                            var user = parts[1];\n",
       "                            base_url = azure_host + '/api/user/' +user+ '/library/' +library+ '/html';\n",
       "                        }\n",
       "                    }\n",
       "                    if (base_url.length == 0) {\n",
       "                        var parts = loc.split('/');\n",
       "                        parts.pop();\n",
       "                        base_url = parts.join('/');\n",
       "                    }\n",
       "                    url = base_url + '/' + file_path;\n",
       "                }\n",
       "\n",
       "                window.focus();\n",
       "                var w = screen.width / 2;\n",
       "                var h = screen.height / 2;\n",
       "                params = 'width='+w+',height='+h;\n",
       "                kqlMagic_4c229e8bcec9497795fd1b15dc80e3fd = window.open(url, window_name, window_params + params);\n",
       "            }\n",
       "            </script>\n",
       "\n",
       "            </body></html>"
      ],
      "text/plain": [
       "<IPython.core.display.HTML object>"
      ]
     },
     "metadata": {},
     "output_type": "display_data"
    },
    {
     "data": {
      "text/html": [
       "<html>\n",
       "        <head>\n",
       "        \n",
       "        </head>\n",
       "        <body>\n",
       "        <div><p style='padding: 10px; color: #3a87ad; background-color: #d9edf7; border-color: #bce9f1'>Done&nbsp(00:01.585):&nbsp1000&nbsprecords</p></div>\n",
       "        </body>\n",
       "        </html>"
      ],
      "text/plain": [
       "<IPython.core.display.HTML object>"
      ]
     },
     "metadata": {},
     "output_type": "display_data"
    },
    {
     "data": {
      "text/html": [],
      "text/plain": [
       "[<kql.kql_proxy.KqlRow at 0x144faadd5f8>,\n",
       " <kql.kql_proxy.KqlRow at 0x144faadd390>,\n",
       " <kql.kql_proxy.KqlRow at 0x144faadd780>,\n",
       " <kql.kql_proxy.KqlRow at 0x144faadd9e8>,\n",
       " <kql.kql_proxy.KqlRow at 0x144faadd160>,\n",
       " <kql.kql_proxy.KqlRow at 0x144faadd518>,\n",
       " <kql.kql_proxy.KqlRow at 0x144faadd470>,\n",
       " <kql.kql_proxy.KqlRow at 0x144faadd710>,\n",
       " <kql.kql_proxy.KqlRow at 0x144faadd668>,\n",
       " <kql.kql_proxy.KqlRow at 0x144faadd3c8>,\n",
       " <kql.kql_proxy.KqlRow at 0x144faadd400>,\n",
       " <kql.kql_proxy.KqlRow at 0x144faadd438>,\n",
       " <kql.kql_proxy.KqlRow at 0x144faaddef0>,\n",
       " <kql.kql_proxy.KqlRow at 0x144faadd0b8>,\n",
       " <kql.kql_proxy.KqlRow at 0x144faadd278>,\n",
       " <kql.kql_proxy.KqlRow at 0x144faadd2b0>,\n",
       " <kql.kql_proxy.KqlRow at 0x144faadd6d8>,\n",
       " <kql.kql_proxy.KqlRow at 0x144faadd5c0>,\n",
       " <kql.kql_proxy.KqlRow at 0x144faadd4a8>,\n",
       " <kql.kql_proxy.KqlRow at 0x144faadd588>,\n",
       " <kql.kql_proxy.KqlRow at 0x144faace898>,\n",
       " <kql.kql_proxy.KqlRow at 0x144faaceba8>,\n",
       " <kql.kql_proxy.KqlRow at 0x144faace5c0>,\n",
       " <kql.kql_proxy.KqlRow at 0x144faacecf8>,\n",
       " <kql.kql_proxy.KqlRow at 0x144fab20048>,\n",
       " <kql.kql_proxy.KqlRow at 0x144fab20080>,\n",
       " <kql.kql_proxy.KqlRow at 0x144fab200b8>,\n",
       " <kql.kql_proxy.KqlRow at 0x144fab200f0>,\n",
       " <kql.kql_proxy.KqlRow at 0x144fab20128>,\n",
       " <kql.kql_proxy.KqlRow at 0x144fab20160>,\n",
       " <kql.kql_proxy.KqlRow at 0x144fab20198>,\n",
       " <kql.kql_proxy.KqlRow at 0x144fab201d0>,\n",
       " <kql.kql_proxy.KqlRow at 0x144fab20208>,\n",
       " <kql.kql_proxy.KqlRow at 0x144fab20240>,\n",
       " <kql.kql_proxy.KqlRow at 0x144fab20278>,\n",
       " <kql.kql_proxy.KqlRow at 0x144fab202b0>,\n",
       " <kql.kql_proxy.KqlRow at 0x144fab202e8>,\n",
       " <kql.kql_proxy.KqlRow at 0x144fab20320>,\n",
       " <kql.kql_proxy.KqlRow at 0x144fab20358>,\n",
       " <kql.kql_proxy.KqlRow at 0x144fab20390>,\n",
       " <kql.kql_proxy.KqlRow at 0x144fab203c8>,\n",
       " <kql.kql_proxy.KqlRow at 0x144fab20400>,\n",
       " <kql.kql_proxy.KqlRow at 0x144fab20438>,\n",
       " <kql.kql_proxy.KqlRow at 0x144fab20470>,\n",
       " <kql.kql_proxy.KqlRow at 0x144fab204a8>,\n",
       " <kql.kql_proxy.KqlRow at 0x144fab204e0>,\n",
       " <kql.kql_proxy.KqlRow at 0x144fab20518>,\n",
       " <kql.kql_proxy.KqlRow at 0x144fab20550>,\n",
       " <kql.kql_proxy.KqlRow at 0x144fab20588>,\n",
       " <kql.kql_proxy.KqlRow at 0x144fab205c0>,\n",
       " <kql.kql_proxy.KqlRow at 0x144fab205f8>,\n",
       " <kql.kql_proxy.KqlRow at 0x144fab20630>,\n",
       " <kql.kql_proxy.KqlRow at 0x144fab20668>,\n",
       " <kql.kql_proxy.KqlRow at 0x144fab206a0>,\n",
       " <kql.kql_proxy.KqlRow at 0x144fab206d8>,\n",
       " <kql.kql_proxy.KqlRow at 0x144fab20710>,\n",
       " <kql.kql_proxy.KqlRow at 0x144fab20748>,\n",
       " <kql.kql_proxy.KqlRow at 0x144fab20780>,\n",
       " <kql.kql_proxy.KqlRow at 0x144fab207b8>,\n",
       " <kql.kql_proxy.KqlRow at 0x144fab207f0>,\n",
       " <kql.kql_proxy.KqlRow at 0x144fab20828>,\n",
       " <kql.kql_proxy.KqlRow at 0x144fab20860>,\n",
       " <kql.kql_proxy.KqlRow at 0x144fab20898>,\n",
       " <kql.kql_proxy.KqlRow at 0x144fab208d0>,\n",
       " <kql.kql_proxy.KqlRow at 0x144fab20908>,\n",
       " <kql.kql_proxy.KqlRow at 0x144fab20940>,\n",
       " <kql.kql_proxy.KqlRow at 0x144fab20978>,\n",
       " <kql.kql_proxy.KqlRow at 0x144fab209b0>,\n",
       " <kql.kql_proxy.KqlRow at 0x144fab209e8>,\n",
       " <kql.kql_proxy.KqlRow at 0x144fab20a20>,\n",
       " <kql.kql_proxy.KqlRow at 0x144fab20a58>,\n",
       " <kql.kql_proxy.KqlRow at 0x144fab20a90>,\n",
       " <kql.kql_proxy.KqlRow at 0x144fab20ac8>,\n",
       " <kql.kql_proxy.KqlRow at 0x144fab20b00>,\n",
       " <kql.kql_proxy.KqlRow at 0x144fab20b38>,\n",
       " <kql.kql_proxy.KqlRow at 0x144fab20b70>,\n",
       " <kql.kql_proxy.KqlRow at 0x144fab20ba8>,\n",
       " <kql.kql_proxy.KqlRow at 0x144fab20be0>,\n",
       " <kql.kql_proxy.KqlRow at 0x144fab20c18>,\n",
       " <kql.kql_proxy.KqlRow at 0x144fab20c50>,\n",
       " <kql.kql_proxy.KqlRow at 0x144fab20c88>,\n",
       " <kql.kql_proxy.KqlRow at 0x144fab20cc0>,\n",
       " <kql.kql_proxy.KqlRow at 0x144fab20cf8>,\n",
       " <kql.kql_proxy.KqlRow at 0x144fab20d30>,\n",
       " <kql.kql_proxy.KqlRow at 0x144fab20d68>,\n",
       " <kql.kql_proxy.KqlRow at 0x144fab20da0>,\n",
       " <kql.kql_proxy.KqlRow at 0x144fab20dd8>,\n",
       " <kql.kql_proxy.KqlRow at 0x144fab20e10>,\n",
       " <kql.kql_proxy.KqlRow at 0x144fab20e48>,\n",
       " <kql.kql_proxy.KqlRow at 0x144fab20e80>,\n",
       " <kql.kql_proxy.KqlRow at 0x144fab20eb8>,\n",
       " <kql.kql_proxy.KqlRow at 0x144fab20ef0>,\n",
       " <kql.kql_proxy.KqlRow at 0x144fab20f28>,\n",
       " <kql.kql_proxy.KqlRow at 0x144fab20f60>,\n",
       " <kql.kql_proxy.KqlRow at 0x144fab20f98>,\n",
       " <kql.kql_proxy.KqlRow at 0x144fab20fd0>,\n",
       " <kql.kql_proxy.KqlRow at 0x144fab28048>,\n",
       " <kql.kql_proxy.KqlRow at 0x144fab28080>,\n",
       " <kql.kql_proxy.KqlRow at 0x144fab280b8>,\n",
       " <kql.kql_proxy.KqlRow at 0x144fab280f0>,\n",
       " <kql.kql_proxy.KqlRow at 0x144fab28128>,\n",
       " <kql.kql_proxy.KqlRow at 0x144fab28160>,\n",
       " <kql.kql_proxy.KqlRow at 0x144fab28198>,\n",
       " <kql.kql_proxy.KqlRow at 0x144fab281d0>,\n",
       " <kql.kql_proxy.KqlRow at 0x144fab28208>,\n",
       " <kql.kql_proxy.KqlRow at 0x144fab28240>,\n",
       " <kql.kql_proxy.KqlRow at 0x144fab28278>,\n",
       " <kql.kql_proxy.KqlRow at 0x144fab282b0>,\n",
       " <kql.kql_proxy.KqlRow at 0x144fab282e8>,\n",
       " <kql.kql_proxy.KqlRow at 0x144fab28320>,\n",
       " <kql.kql_proxy.KqlRow at 0x144fab28358>,\n",
       " <kql.kql_proxy.KqlRow at 0x144fab28390>,\n",
       " <kql.kql_proxy.KqlRow at 0x144fab283c8>,\n",
       " <kql.kql_proxy.KqlRow at 0x144fab28400>,\n",
       " <kql.kql_proxy.KqlRow at 0x144fab28438>,\n",
       " <kql.kql_proxy.KqlRow at 0x144fab28470>,\n",
       " <kql.kql_proxy.KqlRow at 0x144fab284a8>,\n",
       " <kql.kql_proxy.KqlRow at 0x144fab284e0>,\n",
       " <kql.kql_proxy.KqlRow at 0x144fab28518>,\n",
       " <kql.kql_proxy.KqlRow at 0x144fab28550>,\n",
       " <kql.kql_proxy.KqlRow at 0x144fab28588>,\n",
       " <kql.kql_proxy.KqlRow at 0x144fab285c0>,\n",
       " <kql.kql_proxy.KqlRow at 0x144fab285f8>,\n",
       " <kql.kql_proxy.KqlRow at 0x144fab28630>,\n",
       " <kql.kql_proxy.KqlRow at 0x144fab28668>,\n",
       " <kql.kql_proxy.KqlRow at 0x144fab286a0>,\n",
       " <kql.kql_proxy.KqlRow at 0x144fab286d8>,\n",
       " <kql.kql_proxy.KqlRow at 0x144fab28710>,\n",
       " <kql.kql_proxy.KqlRow at 0x144fab28748>,\n",
       " <kql.kql_proxy.KqlRow at 0x144fab28780>,\n",
       " <kql.kql_proxy.KqlRow at 0x144fab287b8>,\n",
       " <kql.kql_proxy.KqlRow at 0x144fab287f0>,\n",
       " <kql.kql_proxy.KqlRow at 0x144fab28828>,\n",
       " <kql.kql_proxy.KqlRow at 0x144fab28860>,\n",
       " <kql.kql_proxy.KqlRow at 0x144fab28898>,\n",
       " <kql.kql_proxy.KqlRow at 0x144fab288d0>,\n",
       " <kql.kql_proxy.KqlRow at 0x144fab28908>,\n",
       " <kql.kql_proxy.KqlRow at 0x144fab28940>,\n",
       " <kql.kql_proxy.KqlRow at 0x144fab28978>,\n",
       " <kql.kql_proxy.KqlRow at 0x144fab289b0>,\n",
       " <kql.kql_proxy.KqlRow at 0x144fab289e8>,\n",
       " <kql.kql_proxy.KqlRow at 0x144fab28a20>,\n",
       " <kql.kql_proxy.KqlRow at 0x144fab28a58>,\n",
       " <kql.kql_proxy.KqlRow at 0x144fab28a90>,\n",
       " <kql.kql_proxy.KqlRow at 0x144fab28ac8>,\n",
       " <kql.kql_proxy.KqlRow at 0x144fab28b00>,\n",
       " <kql.kql_proxy.KqlRow at 0x144fab28b38>,\n",
       " <kql.kql_proxy.KqlRow at 0x144fab28b70>,\n",
       " <kql.kql_proxy.KqlRow at 0x144fab28ba8>,\n",
       " <kql.kql_proxy.KqlRow at 0x144fab28be0>,\n",
       " <kql.kql_proxy.KqlRow at 0x144fab28c18>,\n",
       " <kql.kql_proxy.KqlRow at 0x144fab28c50>,\n",
       " <kql.kql_proxy.KqlRow at 0x144fab28c88>,\n",
       " <kql.kql_proxy.KqlRow at 0x144fab28cc0>,\n",
       " <kql.kql_proxy.KqlRow at 0x144fab28cf8>,\n",
       " <kql.kql_proxy.KqlRow at 0x144fab28d30>,\n",
       " <kql.kql_proxy.KqlRow at 0x144fab28d68>,\n",
       " <kql.kql_proxy.KqlRow at 0x144fab28da0>,\n",
       " <kql.kql_proxy.KqlRow at 0x144fab28dd8>,\n",
       " <kql.kql_proxy.KqlRow at 0x144fab28e10>,\n",
       " <kql.kql_proxy.KqlRow at 0x144fab28e48>,\n",
       " <kql.kql_proxy.KqlRow at 0x144fab28e80>,\n",
       " <kql.kql_proxy.KqlRow at 0x144fab28eb8>,\n",
       " <kql.kql_proxy.KqlRow at 0x144fab28ef0>,\n",
       " <kql.kql_proxy.KqlRow at 0x144fab28f28>,\n",
       " <kql.kql_proxy.KqlRow at 0x144fab28f60>,\n",
       " <kql.kql_proxy.KqlRow at 0x144fab28f98>,\n",
       " <kql.kql_proxy.KqlRow at 0x144fab28fd0>,\n",
       " <kql.kql_proxy.KqlRow at 0x144fab31048>,\n",
       " <kql.kql_proxy.KqlRow at 0x144fab31080>,\n",
       " <kql.kql_proxy.KqlRow at 0x144fab310b8>,\n",
       " <kql.kql_proxy.KqlRow at 0x144fab310f0>,\n",
       " <kql.kql_proxy.KqlRow at 0x144fab31128>,\n",
       " <kql.kql_proxy.KqlRow at 0x144fab31160>,\n",
       " <kql.kql_proxy.KqlRow at 0x144fab31198>,\n",
       " <kql.kql_proxy.KqlRow at 0x144fab311d0>,\n",
       " <kql.kql_proxy.KqlRow at 0x144fab31208>,\n",
       " <kql.kql_proxy.KqlRow at 0x144fab31240>,\n",
       " <kql.kql_proxy.KqlRow at 0x144fab31278>,\n",
       " <kql.kql_proxy.KqlRow at 0x144fab312b0>,\n",
       " <kql.kql_proxy.KqlRow at 0x144fab312e8>,\n",
       " <kql.kql_proxy.KqlRow at 0x144fab31320>,\n",
       " <kql.kql_proxy.KqlRow at 0x144fab31358>,\n",
       " <kql.kql_proxy.KqlRow at 0x144fab31390>,\n",
       " <kql.kql_proxy.KqlRow at 0x144fab313c8>,\n",
       " <kql.kql_proxy.KqlRow at 0x144fab31400>,\n",
       " <kql.kql_proxy.KqlRow at 0x144fab31438>,\n",
       " <kql.kql_proxy.KqlRow at 0x144fab31470>,\n",
       " <kql.kql_proxy.KqlRow at 0x144fab314a8>,\n",
       " <kql.kql_proxy.KqlRow at 0x144fab314e0>,\n",
       " <kql.kql_proxy.KqlRow at 0x144fab31518>,\n",
       " <kql.kql_proxy.KqlRow at 0x144fab31550>,\n",
       " <kql.kql_proxy.KqlRow at 0x144fab31588>,\n",
       " <kql.kql_proxy.KqlRow at 0x144fab315c0>,\n",
       " <kql.kql_proxy.KqlRow at 0x144fab315f8>,\n",
       " <kql.kql_proxy.KqlRow at 0x144fab31630>,\n",
       " <kql.kql_proxy.KqlRow at 0x144fab31668>,\n",
       " <kql.kql_proxy.KqlRow at 0x144fab316a0>,\n",
       " <kql.kql_proxy.KqlRow at 0x144fab316d8>,\n",
       " <kql.kql_proxy.KqlRow at 0x144fab31710>,\n",
       " <kql.kql_proxy.KqlRow at 0x144fab31748>,\n",
       " <kql.kql_proxy.KqlRow at 0x144fab31780>,\n",
       " <kql.kql_proxy.KqlRow at 0x144fab317b8>,\n",
       " <kql.kql_proxy.KqlRow at 0x144fab317f0>,\n",
       " <kql.kql_proxy.KqlRow at 0x144fab31828>,\n",
       " <kql.kql_proxy.KqlRow at 0x144fab31860>,\n",
       " <kql.kql_proxy.KqlRow at 0x144fab31898>,\n",
       " <kql.kql_proxy.KqlRow at 0x144fab318d0>,\n",
       " <kql.kql_proxy.KqlRow at 0x144fab31908>,\n",
       " <kql.kql_proxy.KqlRow at 0x144fab31940>,\n",
       " <kql.kql_proxy.KqlRow at 0x144fab31978>,\n",
       " <kql.kql_proxy.KqlRow at 0x144fab319b0>,\n",
       " <kql.kql_proxy.KqlRow at 0x144fab319e8>,\n",
       " <kql.kql_proxy.KqlRow at 0x144fab31a20>,\n",
       " <kql.kql_proxy.KqlRow at 0x144fab31a58>,\n",
       " <kql.kql_proxy.KqlRow at 0x144fab31a90>,\n",
       " <kql.kql_proxy.KqlRow at 0x144fab31ac8>,\n",
       " <kql.kql_proxy.KqlRow at 0x144fab31b00>,\n",
       " <kql.kql_proxy.KqlRow at 0x144fab31b38>,\n",
       " <kql.kql_proxy.KqlRow at 0x144fab31b70>,\n",
       " <kql.kql_proxy.KqlRow at 0x144fab31ba8>,\n",
       " <kql.kql_proxy.KqlRow at 0x144fab31be0>,\n",
       " <kql.kql_proxy.KqlRow at 0x144fab31c18>,\n",
       " <kql.kql_proxy.KqlRow at 0x144fab31c50>,\n",
       " <kql.kql_proxy.KqlRow at 0x144fab31c88>,\n",
       " <kql.kql_proxy.KqlRow at 0x144fab31cc0>,\n",
       " <kql.kql_proxy.KqlRow at 0x144fab31cf8>,\n",
       " <kql.kql_proxy.KqlRow at 0x144fab31d30>,\n",
       " <kql.kql_proxy.KqlRow at 0x144fab31d68>,\n",
       " <kql.kql_proxy.KqlRow at 0x144fab31da0>,\n",
       " <kql.kql_proxy.KqlRow at 0x144fab31dd8>,\n",
       " <kql.kql_proxy.KqlRow at 0x144fab31e10>,\n",
       " <kql.kql_proxy.KqlRow at 0x144fab31e48>,\n",
       " <kql.kql_proxy.KqlRow at 0x144fab31e80>,\n",
       " <kql.kql_proxy.KqlRow at 0x144fab31eb8>,\n",
       " <kql.kql_proxy.KqlRow at 0x144fab31ef0>,\n",
       " <kql.kql_proxy.KqlRow at 0x144fab31f28>,\n",
       " <kql.kql_proxy.KqlRow at 0x144fab31f60>,\n",
       " <kql.kql_proxy.KqlRow at 0x144fab31f98>,\n",
       " <kql.kql_proxy.KqlRow at 0x144fab31fd0>,\n",
       " <kql.kql_proxy.KqlRow at 0x144fab3b048>,\n",
       " <kql.kql_proxy.KqlRow at 0x144fab3b080>,\n",
       " <kql.kql_proxy.KqlRow at 0x144fab3b0b8>,\n",
       " <kql.kql_proxy.KqlRow at 0x144fab3b0f0>,\n",
       " <kql.kql_proxy.KqlRow at 0x144fab3b128>,\n",
       " <kql.kql_proxy.KqlRow at 0x144fab3b160>,\n",
       " <kql.kql_proxy.KqlRow at 0x144fab3b198>,\n",
       " <kql.kql_proxy.KqlRow at 0x144fab3b1d0>,\n",
       " <kql.kql_proxy.KqlRow at 0x144fab3b208>,\n",
       " <kql.kql_proxy.KqlRow at 0x144fab3b240>,\n",
       " <kql.kql_proxy.KqlRow at 0x144fab3b278>,\n",
       " <kql.kql_proxy.KqlRow at 0x144fab3b2b0>,\n",
       " <kql.kql_proxy.KqlRow at 0x144fab3b2e8>,\n",
       " <kql.kql_proxy.KqlRow at 0x144fab3b320>,\n",
       " <kql.kql_proxy.KqlRow at 0x144fab3b358>,\n",
       " <kql.kql_proxy.KqlRow at 0x144fab3b390>,\n",
       " <kql.kql_proxy.KqlRow at 0x144fab3b3c8>,\n",
       " <kql.kql_proxy.KqlRow at 0x144fab3b400>,\n",
       " <kql.kql_proxy.KqlRow at 0x144fab3b438>,\n",
       " <kql.kql_proxy.KqlRow at 0x144fab3b470>,\n",
       " <kql.kql_proxy.KqlRow at 0x144fab3b4a8>,\n",
       " <kql.kql_proxy.KqlRow at 0x144fab3b4e0>,\n",
       " <kql.kql_proxy.KqlRow at 0x144fab3b518>,\n",
       " <kql.kql_proxy.KqlRow at 0x144fab3b550>,\n",
       " <kql.kql_proxy.KqlRow at 0x144fab3b588>,\n",
       " <kql.kql_proxy.KqlRow at 0x144fab3b5c0>,\n",
       " <kql.kql_proxy.KqlRow at 0x144fab3b5f8>,\n",
       " <kql.kql_proxy.KqlRow at 0x144fab3b630>,\n",
       " <kql.kql_proxy.KqlRow at 0x144fab3b668>,\n",
       " <kql.kql_proxy.KqlRow at 0x144fab3b6a0>,\n",
       " <kql.kql_proxy.KqlRow at 0x144fab3b6d8>,\n",
       " <kql.kql_proxy.KqlRow at 0x144fab3b710>,\n",
       " <kql.kql_proxy.KqlRow at 0x144fab3b748>,\n",
       " <kql.kql_proxy.KqlRow at 0x144fab3b780>,\n",
       " <kql.kql_proxy.KqlRow at 0x144fab3b7b8>,\n",
       " <kql.kql_proxy.KqlRow at 0x144fab3b7f0>,\n",
       " <kql.kql_proxy.KqlRow at 0x144fab3b828>,\n",
       " <kql.kql_proxy.KqlRow at 0x144fab3b860>,\n",
       " <kql.kql_proxy.KqlRow at 0x144fab3b898>,\n",
       " <kql.kql_proxy.KqlRow at 0x144fab3b8d0>,\n",
       " <kql.kql_proxy.KqlRow at 0x144fab3b908>,\n",
       " <kql.kql_proxy.KqlRow at 0x144fab3b940>,\n",
       " <kql.kql_proxy.KqlRow at 0x144fab3b978>,\n",
       " <kql.kql_proxy.KqlRow at 0x144fab3b9b0>,\n",
       " <kql.kql_proxy.KqlRow at 0x144fab3b9e8>,\n",
       " <kql.kql_proxy.KqlRow at 0x144fab3ba20>,\n",
       " <kql.kql_proxy.KqlRow at 0x144fab3ba58>,\n",
       " <kql.kql_proxy.KqlRow at 0x144fab3ba90>,\n",
       " <kql.kql_proxy.KqlRow at 0x144fab3bac8>,\n",
       " <kql.kql_proxy.KqlRow at 0x144fab3bb00>,\n",
       " <kql.kql_proxy.KqlRow at 0x144fab3bb38>,\n",
       " <kql.kql_proxy.KqlRow at 0x144fab3bb70>,\n",
       " <kql.kql_proxy.KqlRow at 0x144fab3bba8>,\n",
       " <kql.kql_proxy.KqlRow at 0x144fab3bbe0>,\n",
       " <kql.kql_proxy.KqlRow at 0x144fab3bc18>,\n",
       " <kql.kql_proxy.KqlRow at 0x144fab3bc50>,\n",
       " <kql.kql_proxy.KqlRow at 0x144fab3bc88>,\n",
       " <kql.kql_proxy.KqlRow at 0x144fab3bcc0>,\n",
       " <kql.kql_proxy.KqlRow at 0x144fab3bcf8>,\n",
       " <kql.kql_proxy.KqlRow at 0x144fab3bd30>,\n",
       " <kql.kql_proxy.KqlRow at 0x144fab3bd68>,\n",
       " <kql.kql_proxy.KqlRow at 0x144fab3bda0>,\n",
       " <kql.kql_proxy.KqlRow at 0x144fab3bdd8>,\n",
       " <kql.kql_proxy.KqlRow at 0x144fab3be10>,\n",
       " <kql.kql_proxy.KqlRow at 0x144fab3be48>,\n",
       " <kql.kql_proxy.KqlRow at 0x144fab3be80>,\n",
       " <kql.kql_proxy.KqlRow at 0x144fab3beb8>,\n",
       " <kql.kql_proxy.KqlRow at 0x144fab3bef0>,\n",
       " <kql.kql_proxy.KqlRow at 0x144fab3bf28>,\n",
       " <kql.kql_proxy.KqlRow at 0x144fab3bf60>,\n",
       " <kql.kql_proxy.KqlRow at 0x144fab3bf98>,\n",
       " <kql.kql_proxy.KqlRow at 0x144fab3bfd0>,\n",
       " <kql.kql_proxy.KqlRow at 0x144fab44048>,\n",
       " <kql.kql_proxy.KqlRow at 0x144fab44080>,\n",
       " <kql.kql_proxy.KqlRow at 0x144fab440b8>,\n",
       " <kql.kql_proxy.KqlRow at 0x144fab440f0>,\n",
       " <kql.kql_proxy.KqlRow at 0x144fab44128>,\n",
       " <kql.kql_proxy.KqlRow at 0x144fab44160>,\n",
       " <kql.kql_proxy.KqlRow at 0x144fab44198>,\n",
       " <kql.kql_proxy.KqlRow at 0x144fab441d0>,\n",
       " <kql.kql_proxy.KqlRow at 0x144fab44208>,\n",
       " <kql.kql_proxy.KqlRow at 0x144fab44240>,\n",
       " <kql.kql_proxy.KqlRow at 0x144fab44278>,\n",
       " <kql.kql_proxy.KqlRow at 0x144fab442b0>,\n",
       " <kql.kql_proxy.KqlRow at 0x144fab442e8>,\n",
       " <kql.kql_proxy.KqlRow at 0x144fab44320>,\n",
       " <kql.kql_proxy.KqlRow at 0x144fab44358>,\n",
       " <kql.kql_proxy.KqlRow at 0x144fab44390>,\n",
       " <kql.kql_proxy.KqlRow at 0x144fab443c8>,\n",
       " <kql.kql_proxy.KqlRow at 0x144fab44400>,\n",
       " <kql.kql_proxy.KqlRow at 0x144fab44438>,\n",
       " <kql.kql_proxy.KqlRow at 0x144fab44470>,\n",
       " <kql.kql_proxy.KqlRow at 0x144fab444a8>,\n",
       " <kql.kql_proxy.KqlRow at 0x144fab444e0>,\n",
       " <kql.kql_proxy.KqlRow at 0x144fab44518>,\n",
       " <kql.kql_proxy.KqlRow at 0x144fab44550>,\n",
       " <kql.kql_proxy.KqlRow at 0x144fab44588>,\n",
       " <kql.kql_proxy.KqlRow at 0x144fab445c0>,\n",
       " <kql.kql_proxy.KqlRow at 0x144fab445f8>,\n",
       " <kql.kql_proxy.KqlRow at 0x144fab44630>,\n",
       " <kql.kql_proxy.KqlRow at 0x144fab44668>,\n",
       " <kql.kql_proxy.KqlRow at 0x144fab446a0>,\n",
       " <kql.kql_proxy.KqlRow at 0x144fab446d8>,\n",
       " <kql.kql_proxy.KqlRow at 0x144fab44710>,\n",
       " <kql.kql_proxy.KqlRow at 0x144fab44748>,\n",
       " <kql.kql_proxy.KqlRow at 0x144fab44780>,\n",
       " <kql.kql_proxy.KqlRow at 0x144fab447b8>,\n",
       " <kql.kql_proxy.KqlRow at 0x144fab447f0>,\n",
       " <kql.kql_proxy.KqlRow at 0x144fab44828>,\n",
       " <kql.kql_proxy.KqlRow at 0x144fab44860>,\n",
       " <kql.kql_proxy.KqlRow at 0x144fab44898>,\n",
       " <kql.kql_proxy.KqlRow at 0x144fab448d0>,\n",
       " <kql.kql_proxy.KqlRow at 0x144fab44908>,\n",
       " <kql.kql_proxy.KqlRow at 0x144fab44940>,\n",
       " <kql.kql_proxy.KqlRow at 0x144fab44978>,\n",
       " <kql.kql_proxy.KqlRow at 0x144fab449b0>,\n",
       " <kql.kql_proxy.KqlRow at 0x144fab449e8>,\n",
       " <kql.kql_proxy.KqlRow at 0x144fab44a20>,\n",
       " <kql.kql_proxy.KqlRow at 0x144fab44a58>,\n",
       " <kql.kql_proxy.KqlRow at 0x144fab44a90>,\n",
       " <kql.kql_proxy.KqlRow at 0x144fab44ac8>,\n",
       " <kql.kql_proxy.KqlRow at 0x144fab44b00>,\n",
       " <kql.kql_proxy.KqlRow at 0x144fab44b38>,\n",
       " <kql.kql_proxy.KqlRow at 0x144fab44b70>,\n",
       " <kql.kql_proxy.KqlRow at 0x144fab44ba8>,\n",
       " <kql.kql_proxy.KqlRow at 0x144fab44be0>,\n",
       " <kql.kql_proxy.KqlRow at 0x144fab44c18>,\n",
       " <kql.kql_proxy.KqlRow at 0x144fab44c50>,\n",
       " <kql.kql_proxy.KqlRow at 0x144fab44c88>,\n",
       " <kql.kql_proxy.KqlRow at 0x144fab44cc0>,\n",
       " <kql.kql_proxy.KqlRow at 0x144fab44cf8>,\n",
       " <kql.kql_proxy.KqlRow at 0x144fab44d30>,\n",
       " <kql.kql_proxy.KqlRow at 0x144fab44d68>,\n",
       " <kql.kql_proxy.KqlRow at 0x144fab44da0>,\n",
       " <kql.kql_proxy.KqlRow at 0x144fab44dd8>,\n",
       " <kql.kql_proxy.KqlRow at 0x144fab44e10>,\n",
       " <kql.kql_proxy.KqlRow at 0x144fab44e48>,\n",
       " <kql.kql_proxy.KqlRow at 0x144fab44e80>,\n",
       " <kql.kql_proxy.KqlRow at 0x144fab44eb8>,\n",
       " <kql.kql_proxy.KqlRow at 0x144fab44ef0>,\n",
       " <kql.kql_proxy.KqlRow at 0x144fab44f28>,\n",
       " <kql.kql_proxy.KqlRow at 0x144fab44f60>,\n",
       " <kql.kql_proxy.KqlRow at 0x144fab44f98>,\n",
       " <kql.kql_proxy.KqlRow at 0x144fab44fd0>,\n",
       " <kql.kql_proxy.KqlRow at 0x144fab4e048>,\n",
       " <kql.kql_proxy.KqlRow at 0x144fab4e080>,\n",
       " <kql.kql_proxy.KqlRow at 0x144fab4e0b8>,\n",
       " <kql.kql_proxy.KqlRow at 0x144fab4e0f0>,\n",
       " <kql.kql_proxy.KqlRow at 0x144fab4e128>,\n",
       " <kql.kql_proxy.KqlRow at 0x144fab4e160>,\n",
       " <kql.kql_proxy.KqlRow at 0x144fab4e198>,\n",
       " <kql.kql_proxy.KqlRow at 0x144fab4e1d0>,\n",
       " <kql.kql_proxy.KqlRow at 0x144fab4e208>,\n",
       " <kql.kql_proxy.KqlRow at 0x144fab4e240>,\n",
       " <kql.kql_proxy.KqlRow at 0x144fab4e278>,\n",
       " <kql.kql_proxy.KqlRow at 0x144fab4e2b0>,\n",
       " <kql.kql_proxy.KqlRow at 0x144fab4e2e8>,\n",
       " <kql.kql_proxy.KqlRow at 0x144fab4e320>,\n",
       " <kql.kql_proxy.KqlRow at 0x144fab4e358>,\n",
       " <kql.kql_proxy.KqlRow at 0x144fab4e390>,\n",
       " <kql.kql_proxy.KqlRow at 0x144fab4e3c8>,\n",
       " <kql.kql_proxy.KqlRow at 0x144fab4e400>,\n",
       " <kql.kql_proxy.KqlRow at 0x144fab4e438>,\n",
       " <kql.kql_proxy.KqlRow at 0x144fab4e470>,\n",
       " <kql.kql_proxy.KqlRow at 0x144fab4e4a8>,\n",
       " <kql.kql_proxy.KqlRow at 0x144fab4e4e0>,\n",
       " <kql.kql_proxy.KqlRow at 0x144fab4e518>,\n",
       " <kql.kql_proxy.KqlRow at 0x144fab4e550>,\n",
       " <kql.kql_proxy.KqlRow at 0x144fab4e588>,\n",
       " <kql.kql_proxy.KqlRow at 0x144fab4e5c0>,\n",
       " <kql.kql_proxy.KqlRow at 0x144fab4e5f8>,\n",
       " <kql.kql_proxy.KqlRow at 0x144fab4e630>,\n",
       " <kql.kql_proxy.KqlRow at 0x144fab4e668>,\n",
       " <kql.kql_proxy.KqlRow at 0x144fab4e6a0>,\n",
       " <kql.kql_proxy.KqlRow at 0x144fab4e6d8>,\n",
       " <kql.kql_proxy.KqlRow at 0x144fab4e710>,\n",
       " <kql.kql_proxy.KqlRow at 0x144fab4e748>,\n",
       " <kql.kql_proxy.KqlRow at 0x144fab4e780>,\n",
       " <kql.kql_proxy.KqlRow at 0x144fab4e7b8>,\n",
       " <kql.kql_proxy.KqlRow at 0x144fab4e7f0>,\n",
       " <kql.kql_proxy.KqlRow at 0x144fab4e828>,\n",
       " <kql.kql_proxy.KqlRow at 0x144fab4e860>,\n",
       " <kql.kql_proxy.KqlRow at 0x144fab4e898>,\n",
       " <kql.kql_proxy.KqlRow at 0x144fab4e8d0>,\n",
       " <kql.kql_proxy.KqlRow at 0x144fab4e908>,\n",
       " <kql.kql_proxy.KqlRow at 0x144fab4e940>,\n",
       " <kql.kql_proxy.KqlRow at 0x144fab4e978>,\n",
       " <kql.kql_proxy.KqlRow at 0x144fab4e9b0>,\n",
       " <kql.kql_proxy.KqlRow at 0x144fab4e9e8>,\n",
       " <kql.kql_proxy.KqlRow at 0x144fab4ea20>,\n",
       " <kql.kql_proxy.KqlRow at 0x144fab4ea58>,\n",
       " <kql.kql_proxy.KqlRow at 0x144fab4ea90>,\n",
       " <kql.kql_proxy.KqlRow at 0x144fab4eac8>,\n",
       " <kql.kql_proxy.KqlRow at 0x144fab4eb00>,\n",
       " <kql.kql_proxy.KqlRow at 0x144fab4eb38>,\n",
       " <kql.kql_proxy.KqlRow at 0x144fab4eb70>,\n",
       " <kql.kql_proxy.KqlRow at 0x144fab4eba8>,\n",
       " <kql.kql_proxy.KqlRow at 0x144fab4ebe0>,\n",
       " <kql.kql_proxy.KqlRow at 0x144fab4ec18>,\n",
       " <kql.kql_proxy.KqlRow at 0x144fab4ec50>,\n",
       " <kql.kql_proxy.KqlRow at 0x144fab4ec88>,\n",
       " <kql.kql_proxy.KqlRow at 0x144fab4ecc0>,\n",
       " <kql.kql_proxy.KqlRow at 0x144fab4ecf8>,\n",
       " <kql.kql_proxy.KqlRow at 0x144fab4ed30>,\n",
       " <kql.kql_proxy.KqlRow at 0x144fab4ed68>,\n",
       " <kql.kql_proxy.KqlRow at 0x144fab4eda0>,\n",
       " <kql.kql_proxy.KqlRow at 0x144fab4edd8>,\n",
       " <kql.kql_proxy.KqlRow at 0x144fab4ee10>,\n",
       " <kql.kql_proxy.KqlRow at 0x144fab4ee48>,\n",
       " <kql.kql_proxy.KqlRow at 0x144fab4ee80>,\n",
       " <kql.kql_proxy.KqlRow at 0x144fab4eeb8>,\n",
       " <kql.kql_proxy.KqlRow at 0x144fab4eef0>,\n",
       " <kql.kql_proxy.KqlRow at 0x144fab4ef28>,\n",
       " <kql.kql_proxy.KqlRow at 0x144fab4ef60>,\n",
       " <kql.kql_proxy.KqlRow at 0x144fab4ef98>,\n",
       " <kql.kql_proxy.KqlRow at 0x144fab4efd0>,\n",
       " <kql.kql_proxy.KqlRow at 0x144fab57048>,\n",
       " <kql.kql_proxy.KqlRow at 0x144fab57080>,\n",
       " <kql.kql_proxy.KqlRow at 0x144fab570b8>,\n",
       " <kql.kql_proxy.KqlRow at 0x144fab570f0>,\n",
       " <kql.kql_proxy.KqlRow at 0x144fab57128>,\n",
       " <kql.kql_proxy.KqlRow at 0x144fab57160>,\n",
       " <kql.kql_proxy.KqlRow at 0x144fab57198>,\n",
       " <kql.kql_proxy.KqlRow at 0x144fab571d0>,\n",
       " <kql.kql_proxy.KqlRow at 0x144fab57208>,\n",
       " <kql.kql_proxy.KqlRow at 0x144fab57240>,\n",
       " <kql.kql_proxy.KqlRow at 0x144fab57278>,\n",
       " <kql.kql_proxy.KqlRow at 0x144fab572b0>,\n",
       " <kql.kql_proxy.KqlRow at 0x144fab572e8>,\n",
       " <kql.kql_proxy.KqlRow at 0x144fab57320>,\n",
       " <kql.kql_proxy.KqlRow at 0x144fab57358>,\n",
       " <kql.kql_proxy.KqlRow at 0x144fab57390>,\n",
       " <kql.kql_proxy.KqlRow at 0x144fab573c8>,\n",
       " <kql.kql_proxy.KqlRow at 0x144fab57400>,\n",
       " <kql.kql_proxy.KqlRow at 0x144fab57438>,\n",
       " <kql.kql_proxy.KqlRow at 0x144fab57470>,\n",
       " <kql.kql_proxy.KqlRow at 0x144fab574a8>,\n",
       " <kql.kql_proxy.KqlRow at 0x144fab574e0>,\n",
       " <kql.kql_proxy.KqlRow at 0x144fab57518>,\n",
       " <kql.kql_proxy.KqlRow at 0x144fab57550>,\n",
       " <kql.kql_proxy.KqlRow at 0x144fab57588>,\n",
       " <kql.kql_proxy.KqlRow at 0x144fab575c0>,\n",
       " <kql.kql_proxy.KqlRow at 0x144fab575f8>,\n",
       " <kql.kql_proxy.KqlRow at 0x144fab57630>,\n",
       " <kql.kql_proxy.KqlRow at 0x144fab57668>,\n",
       " <kql.kql_proxy.KqlRow at 0x144fab576a0>,\n",
       " <kql.kql_proxy.KqlRow at 0x144fab576d8>,\n",
       " <kql.kql_proxy.KqlRow at 0x144fab57710>,\n",
       " <kql.kql_proxy.KqlRow at 0x144fab57748>,\n",
       " <kql.kql_proxy.KqlRow at 0x144fab57780>,\n",
       " <kql.kql_proxy.KqlRow at 0x144fab577b8>,\n",
       " <kql.kql_proxy.KqlRow at 0x144fab577f0>,\n",
       " <kql.kql_proxy.KqlRow at 0x144fab57828>,\n",
       " <kql.kql_proxy.KqlRow at 0x144fab57860>,\n",
       " <kql.kql_proxy.KqlRow at 0x144fab57898>,\n",
       " <kql.kql_proxy.KqlRow at 0x144fab578d0>,\n",
       " <kql.kql_proxy.KqlRow at 0x144fab57908>,\n",
       " <kql.kql_proxy.KqlRow at 0x144fab57940>,\n",
       " <kql.kql_proxy.KqlRow at 0x144fab57978>,\n",
       " <kql.kql_proxy.KqlRow at 0x144fab579b0>,\n",
       " <kql.kql_proxy.KqlRow at 0x144fab579e8>,\n",
       " <kql.kql_proxy.KqlRow at 0x144fab57a20>,\n",
       " <kql.kql_proxy.KqlRow at 0x144fab57a58>,\n",
       " <kql.kql_proxy.KqlRow at 0x144fab57a90>,\n",
       " <kql.kql_proxy.KqlRow at 0x144fab57ac8>,\n",
       " <kql.kql_proxy.KqlRow at 0x144fab57b00>,\n",
       " <kql.kql_proxy.KqlRow at 0x144fab57b38>,\n",
       " <kql.kql_proxy.KqlRow at 0x144fab57b70>,\n",
       " <kql.kql_proxy.KqlRow at 0x144fab57ba8>,\n",
       " <kql.kql_proxy.KqlRow at 0x144fab57be0>,\n",
       " <kql.kql_proxy.KqlRow at 0x144fab57c18>,\n",
       " <kql.kql_proxy.KqlRow at 0x144fab57c50>,\n",
       " <kql.kql_proxy.KqlRow at 0x144fab57c88>,\n",
       " <kql.kql_proxy.KqlRow at 0x144fab57cc0>,\n",
       " <kql.kql_proxy.KqlRow at 0x144fab57cf8>,\n",
       " <kql.kql_proxy.KqlRow at 0x144fab57d30>,\n",
       " <kql.kql_proxy.KqlRow at 0x144fab57d68>,\n",
       " <kql.kql_proxy.KqlRow at 0x144fab57da0>,\n",
       " <kql.kql_proxy.KqlRow at 0x144fab57dd8>,\n",
       " <kql.kql_proxy.KqlRow at 0x144fab57e10>,\n",
       " <kql.kql_proxy.KqlRow at 0x144fab57e48>,\n",
       " <kql.kql_proxy.KqlRow at 0x144fab57e80>,\n",
       " <kql.kql_proxy.KqlRow at 0x144fab57eb8>,\n",
       " <kql.kql_proxy.KqlRow at 0x144fab57ef0>,\n",
       " <kql.kql_proxy.KqlRow at 0x144fab57f28>,\n",
       " <kql.kql_proxy.KqlRow at 0x144fab57f60>,\n",
       " <kql.kql_proxy.KqlRow at 0x144fab57f98>,\n",
       " <kql.kql_proxy.KqlRow at 0x144fab57fd0>,\n",
       " <kql.kql_proxy.KqlRow at 0x144fab61048>,\n",
       " <kql.kql_proxy.KqlRow at 0x144fab61080>,\n",
       " <kql.kql_proxy.KqlRow at 0x144fab610b8>,\n",
       " <kql.kql_proxy.KqlRow at 0x144fab610f0>,\n",
       " <kql.kql_proxy.KqlRow at 0x144fab61128>,\n",
       " <kql.kql_proxy.KqlRow at 0x144fab61160>,\n",
       " <kql.kql_proxy.KqlRow at 0x144fab61198>,\n",
       " <kql.kql_proxy.KqlRow at 0x144fab611d0>,\n",
       " <kql.kql_proxy.KqlRow at 0x144fab61208>,\n",
       " <kql.kql_proxy.KqlRow at 0x144fab61240>,\n",
       " <kql.kql_proxy.KqlRow at 0x144fab61278>,\n",
       " <kql.kql_proxy.KqlRow at 0x144fab612b0>,\n",
       " <kql.kql_proxy.KqlRow at 0x144fab612e8>,\n",
       " <kql.kql_proxy.KqlRow at 0x144fab61320>,\n",
       " <kql.kql_proxy.KqlRow at 0x144fab61358>,\n",
       " <kql.kql_proxy.KqlRow at 0x144fab61390>,\n",
       " <kql.kql_proxy.KqlRow at 0x144fab613c8>,\n",
       " <kql.kql_proxy.KqlRow at 0x144fab61400>,\n",
       " <kql.kql_proxy.KqlRow at 0x144fab61438>,\n",
       " <kql.kql_proxy.KqlRow at 0x144fab61470>,\n",
       " <kql.kql_proxy.KqlRow at 0x144fab614a8>,\n",
       " <kql.kql_proxy.KqlRow at 0x144fab614e0>,\n",
       " <kql.kql_proxy.KqlRow at 0x144fab61518>,\n",
       " <kql.kql_proxy.KqlRow at 0x144fab61550>,\n",
       " <kql.kql_proxy.KqlRow at 0x144fab61588>,\n",
       " <kql.kql_proxy.KqlRow at 0x144fab615c0>,\n",
       " <kql.kql_proxy.KqlRow at 0x144fab615f8>,\n",
       " <kql.kql_proxy.KqlRow at 0x144fab61630>,\n",
       " <kql.kql_proxy.KqlRow at 0x144fab61668>,\n",
       " <kql.kql_proxy.KqlRow at 0x144fab616a0>,\n",
       " <kql.kql_proxy.KqlRow at 0x144fab616d8>,\n",
       " <kql.kql_proxy.KqlRow at 0x144fab61710>,\n",
       " <kql.kql_proxy.KqlRow at 0x144fab61748>,\n",
       " <kql.kql_proxy.KqlRow at 0x144fab61780>,\n",
       " <kql.kql_proxy.KqlRow at 0x144fab617b8>,\n",
       " <kql.kql_proxy.KqlRow at 0x144fab617f0>,\n",
       " <kql.kql_proxy.KqlRow at 0x144fab61828>,\n",
       " <kql.kql_proxy.KqlRow at 0x144fab61860>,\n",
       " <kql.kql_proxy.KqlRow at 0x144fab61898>,\n",
       " <kql.kql_proxy.KqlRow at 0x144fab618d0>,\n",
       " <kql.kql_proxy.KqlRow at 0x144fab61908>,\n",
       " <kql.kql_proxy.KqlRow at 0x144fab61940>,\n",
       " <kql.kql_proxy.KqlRow at 0x144fab61978>,\n",
       " <kql.kql_proxy.KqlRow at 0x144fab619b0>,\n",
       " <kql.kql_proxy.KqlRow at 0x144fab619e8>,\n",
       " <kql.kql_proxy.KqlRow at 0x144fab61a20>,\n",
       " <kql.kql_proxy.KqlRow at 0x144fab61a58>,\n",
       " <kql.kql_proxy.KqlRow at 0x144fab61a90>,\n",
       " <kql.kql_proxy.KqlRow at 0x144fab61ac8>,\n",
       " <kql.kql_proxy.KqlRow at 0x144fab61b00>,\n",
       " <kql.kql_proxy.KqlRow at 0x144fab61b38>,\n",
       " <kql.kql_proxy.KqlRow at 0x144fab61b70>,\n",
       " <kql.kql_proxy.KqlRow at 0x144fab61ba8>,\n",
       " <kql.kql_proxy.KqlRow at 0x144fab61be0>,\n",
       " <kql.kql_proxy.KqlRow at 0x144fab61c18>,\n",
       " <kql.kql_proxy.KqlRow at 0x144fab61c50>,\n",
       " <kql.kql_proxy.KqlRow at 0x144fab61c88>,\n",
       " <kql.kql_proxy.KqlRow at 0x144fab61cc0>,\n",
       " <kql.kql_proxy.KqlRow at 0x144fab61cf8>,\n",
       " <kql.kql_proxy.KqlRow at 0x144fab61d30>,\n",
       " <kql.kql_proxy.KqlRow at 0x144fab61d68>,\n",
       " <kql.kql_proxy.KqlRow at 0x144fab61da0>,\n",
       " <kql.kql_proxy.KqlRow at 0x144fab61dd8>,\n",
       " <kql.kql_proxy.KqlRow at 0x144fab61e10>,\n",
       " <kql.kql_proxy.KqlRow at 0x144fab61e48>,\n",
       " <kql.kql_proxy.KqlRow at 0x144fab61e80>,\n",
       " <kql.kql_proxy.KqlRow at 0x144fab61eb8>,\n",
       " <kql.kql_proxy.KqlRow at 0x144fab61ef0>,\n",
       " <kql.kql_proxy.KqlRow at 0x144fab61f28>,\n",
       " <kql.kql_proxy.KqlRow at 0x144fab61f60>,\n",
       " <kql.kql_proxy.KqlRow at 0x144fab61f98>,\n",
       " <kql.kql_proxy.KqlRow at 0x144fab61fd0>,\n",
       " <kql.kql_proxy.KqlRow at 0x144fab6b048>,\n",
       " <kql.kql_proxy.KqlRow at 0x144fab6b080>,\n",
       " <kql.kql_proxy.KqlRow at 0x144fab6b0b8>,\n",
       " <kql.kql_proxy.KqlRow at 0x144fab6b0f0>,\n",
       " <kql.kql_proxy.KqlRow at 0x144fab6b128>,\n",
       " <kql.kql_proxy.KqlRow at 0x144fab6b160>,\n",
       " <kql.kql_proxy.KqlRow at 0x144fab6b198>,\n",
       " <kql.kql_proxy.KqlRow at 0x144fab6b1d0>,\n",
       " <kql.kql_proxy.KqlRow at 0x144fab6b208>,\n",
       " <kql.kql_proxy.KqlRow at 0x144fab6b240>,\n",
       " <kql.kql_proxy.KqlRow at 0x144fab6b278>,\n",
       " <kql.kql_proxy.KqlRow at 0x144fab6b2b0>,\n",
       " <kql.kql_proxy.KqlRow at 0x144fab6b2e8>,\n",
       " <kql.kql_proxy.KqlRow at 0x144fab6b320>,\n",
       " <kql.kql_proxy.KqlRow at 0x144fab6b358>,\n",
       " <kql.kql_proxy.KqlRow at 0x144fab6b390>,\n",
       " <kql.kql_proxy.KqlRow at 0x144fab6b3c8>,\n",
       " <kql.kql_proxy.KqlRow at 0x144fab6b400>,\n",
       " <kql.kql_proxy.KqlRow at 0x144fab6b438>,\n",
       " <kql.kql_proxy.KqlRow at 0x144fab6b470>,\n",
       " <kql.kql_proxy.KqlRow at 0x144fab6b4a8>,\n",
       " <kql.kql_proxy.KqlRow at 0x144fab6b4e0>,\n",
       " <kql.kql_proxy.KqlRow at 0x144fab6b518>,\n",
       " <kql.kql_proxy.KqlRow at 0x144fab6b550>,\n",
       " <kql.kql_proxy.KqlRow at 0x144fab6b588>,\n",
       " <kql.kql_proxy.KqlRow at 0x144fab6b5c0>,\n",
       " <kql.kql_proxy.KqlRow at 0x144fab6b5f8>,\n",
       " <kql.kql_proxy.KqlRow at 0x144fab6b630>,\n",
       " <kql.kql_proxy.KqlRow at 0x144fab6b668>,\n",
       " <kql.kql_proxy.KqlRow at 0x144fab6b6a0>,\n",
       " <kql.kql_proxy.KqlRow at 0x144fab6b6d8>,\n",
       " <kql.kql_proxy.KqlRow at 0x144fab6b710>,\n",
       " <kql.kql_proxy.KqlRow at 0x144fab6b748>,\n",
       " <kql.kql_proxy.KqlRow at 0x144fab6b780>,\n",
       " <kql.kql_proxy.KqlRow at 0x144fab6b7b8>,\n",
       " <kql.kql_proxy.KqlRow at 0x144fab6b7f0>,\n",
       " <kql.kql_proxy.KqlRow at 0x144fab6b828>,\n",
       " <kql.kql_proxy.KqlRow at 0x144fab6b860>,\n",
       " <kql.kql_proxy.KqlRow at 0x144fab6b898>,\n",
       " <kql.kql_proxy.KqlRow at 0x144fab6b8d0>,\n",
       " <kql.kql_proxy.KqlRow at 0x144fab6b908>,\n",
       " <kql.kql_proxy.KqlRow at 0x144fab6b940>,\n",
       " <kql.kql_proxy.KqlRow at 0x144fab6b978>,\n",
       " <kql.kql_proxy.KqlRow at 0x144fab6b9b0>,\n",
       " <kql.kql_proxy.KqlRow at 0x144fab6b9e8>,\n",
       " <kql.kql_proxy.KqlRow at 0x144fab6ba20>,\n",
       " <kql.kql_proxy.KqlRow at 0x144fab6ba58>,\n",
       " <kql.kql_proxy.KqlRow at 0x144fab6ba90>,\n",
       " <kql.kql_proxy.KqlRow at 0x144fab6bac8>,\n",
       " <kql.kql_proxy.KqlRow at 0x144fab6bb00>,\n",
       " <kql.kql_proxy.KqlRow at 0x144fab6bb38>,\n",
       " <kql.kql_proxy.KqlRow at 0x144fab6bb70>,\n",
       " <kql.kql_proxy.KqlRow at 0x144fab6bba8>,\n",
       " <kql.kql_proxy.KqlRow at 0x144fab6bbe0>,\n",
       " <kql.kql_proxy.KqlRow at 0x144fab6bc18>,\n",
       " <kql.kql_proxy.KqlRow at 0x144fab6bc50>,\n",
       " <kql.kql_proxy.KqlRow at 0x144fab6bc88>,\n",
       " <kql.kql_proxy.KqlRow at 0x144fab6bcc0>,\n",
       " <kql.kql_proxy.KqlRow at 0x144fab6bcf8>,\n",
       " <kql.kql_proxy.KqlRow at 0x144fab6bd30>,\n",
       " <kql.kql_proxy.KqlRow at 0x144fab6bd68>,\n",
       " <kql.kql_proxy.KqlRow at 0x144fab6bda0>,\n",
       " <kql.kql_proxy.KqlRow at 0x144fab6bdd8>,\n",
       " <kql.kql_proxy.KqlRow at 0x144fab6be10>,\n",
       " <kql.kql_proxy.KqlRow at 0x144fab6be48>,\n",
       " <kql.kql_proxy.KqlRow at 0x144fab6be80>,\n",
       " <kql.kql_proxy.KqlRow at 0x144fab6beb8>,\n",
       " <kql.kql_proxy.KqlRow at 0x144fab6bef0>,\n",
       " <kql.kql_proxy.KqlRow at 0x144fab6bf28>,\n",
       " <kql.kql_proxy.KqlRow at 0x144fab6bf60>,\n",
       " <kql.kql_proxy.KqlRow at 0x144fab6bf98>,\n",
       " <kql.kql_proxy.KqlRow at 0x144fab6bfd0>,\n",
       " <kql.kql_proxy.KqlRow at 0x144fab74048>,\n",
       " <kql.kql_proxy.KqlRow at 0x144fab74080>,\n",
       " <kql.kql_proxy.KqlRow at 0x144fab740b8>,\n",
       " <kql.kql_proxy.KqlRow at 0x144fab740f0>,\n",
       " <kql.kql_proxy.KqlRow at 0x144fab74128>,\n",
       " <kql.kql_proxy.KqlRow at 0x144fab74160>,\n",
       " <kql.kql_proxy.KqlRow at 0x144fab74198>,\n",
       " <kql.kql_proxy.KqlRow at 0x144fab741d0>,\n",
       " <kql.kql_proxy.KqlRow at 0x144fab74208>,\n",
       " <kql.kql_proxy.KqlRow at 0x144fab74240>,\n",
       " <kql.kql_proxy.KqlRow at 0x144fab74278>,\n",
       " <kql.kql_proxy.KqlRow at 0x144fab742b0>,\n",
       " <kql.kql_proxy.KqlRow at 0x144fab742e8>,\n",
       " <kql.kql_proxy.KqlRow at 0x144fab74320>,\n",
       " <kql.kql_proxy.KqlRow at 0x144fab74358>,\n",
       " <kql.kql_proxy.KqlRow at 0x144fab74390>,\n",
       " <kql.kql_proxy.KqlRow at 0x144fab743c8>,\n",
       " <kql.kql_proxy.KqlRow at 0x144fab74400>,\n",
       " <kql.kql_proxy.KqlRow at 0x144fab74438>,\n",
       " <kql.kql_proxy.KqlRow at 0x144fab74470>,\n",
       " <kql.kql_proxy.KqlRow at 0x144fab744a8>,\n",
       " <kql.kql_proxy.KqlRow at 0x144fab744e0>,\n",
       " <kql.kql_proxy.KqlRow at 0x144fab74518>,\n",
       " <kql.kql_proxy.KqlRow at 0x144fab74550>,\n",
       " <kql.kql_proxy.KqlRow at 0x144fab74588>,\n",
       " <kql.kql_proxy.KqlRow at 0x144fab745c0>,\n",
       " <kql.kql_proxy.KqlRow at 0x144fab745f8>,\n",
       " <kql.kql_proxy.KqlRow at 0x144fab74630>,\n",
       " <kql.kql_proxy.KqlRow at 0x144fab74668>,\n",
       " <kql.kql_proxy.KqlRow at 0x144fab746a0>,\n",
       " <kql.kql_proxy.KqlRow at 0x144fab746d8>,\n",
       " <kql.kql_proxy.KqlRow at 0x144fab74710>,\n",
       " <kql.kql_proxy.KqlRow at 0x144fab74748>,\n",
       " <kql.kql_proxy.KqlRow at 0x144fab74780>,\n",
       " <kql.kql_proxy.KqlRow at 0x144fab747b8>,\n",
       " <kql.kql_proxy.KqlRow at 0x144fab747f0>,\n",
       " <kql.kql_proxy.KqlRow at 0x144fab74828>,\n",
       " <kql.kql_proxy.KqlRow at 0x144fab74860>,\n",
       " <kql.kql_proxy.KqlRow at 0x144fab74898>,\n",
       " <kql.kql_proxy.KqlRow at 0x144fab748d0>,\n",
       " <kql.kql_proxy.KqlRow at 0x144fab74908>,\n",
       " <kql.kql_proxy.KqlRow at 0x144fab74940>,\n",
       " <kql.kql_proxy.KqlRow at 0x144fab74978>,\n",
       " <kql.kql_proxy.KqlRow at 0x144fab749b0>,\n",
       " <kql.kql_proxy.KqlRow at 0x144fab749e8>,\n",
       " <kql.kql_proxy.KqlRow at 0x144fab74a20>,\n",
       " <kql.kql_proxy.KqlRow at 0x144fab74a58>,\n",
       " <kql.kql_proxy.KqlRow at 0x144fab74a90>,\n",
       " <kql.kql_proxy.KqlRow at 0x144fab74ac8>,\n",
       " <kql.kql_proxy.KqlRow at 0x144fab74b00>,\n",
       " <kql.kql_proxy.KqlRow at 0x144fab74b38>,\n",
       " <kql.kql_proxy.KqlRow at 0x144fab74b70>,\n",
       " <kql.kql_proxy.KqlRow at 0x144fab74ba8>,\n",
       " <kql.kql_proxy.KqlRow at 0x144fab74be0>,\n",
       " <kql.kql_proxy.KqlRow at 0x144fab74c18>,\n",
       " <kql.kql_proxy.KqlRow at 0x144fab74c50>,\n",
       " <kql.kql_proxy.KqlRow at 0x144fab74c88>,\n",
       " <kql.kql_proxy.KqlRow at 0x144fab74cc0>,\n",
       " <kql.kql_proxy.KqlRow at 0x144fab74cf8>,\n",
       " <kql.kql_proxy.KqlRow at 0x144fab74d30>,\n",
       " <kql.kql_proxy.KqlRow at 0x144fab74d68>,\n",
       " <kql.kql_proxy.KqlRow at 0x144fab74da0>,\n",
       " <kql.kql_proxy.KqlRow at 0x144fab74dd8>,\n",
       " <kql.kql_proxy.KqlRow at 0x144fab74e10>,\n",
       " <kql.kql_proxy.KqlRow at 0x144fab74e48>,\n",
       " <kql.kql_proxy.KqlRow at 0x144fab74e80>,\n",
       " <kql.kql_proxy.KqlRow at 0x144fab74eb8>,\n",
       " <kql.kql_proxy.KqlRow at 0x144fab74ef0>,\n",
       " <kql.kql_proxy.KqlRow at 0x144fab74f28>,\n",
       " <kql.kql_proxy.KqlRow at 0x144fab74f60>,\n",
       " <kql.kql_proxy.KqlRow at 0x144fab74f98>,\n",
       " <kql.kql_proxy.KqlRow at 0x144fab74fd0>,\n",
       " <kql.kql_proxy.KqlRow at 0x144fab7e048>,\n",
       " <kql.kql_proxy.KqlRow at 0x144fab7e080>,\n",
       " <kql.kql_proxy.KqlRow at 0x144fab7e0b8>,\n",
       " <kql.kql_proxy.KqlRow at 0x144fab7e0f0>,\n",
       " <kql.kql_proxy.KqlRow at 0x144fab7e128>,\n",
       " <kql.kql_proxy.KqlRow at 0x144fab7e160>,\n",
       " <kql.kql_proxy.KqlRow at 0x144fab7e198>,\n",
       " <kql.kql_proxy.KqlRow at 0x144fab7e1d0>,\n",
       " <kql.kql_proxy.KqlRow at 0x144fab7e208>,\n",
       " <kql.kql_proxy.KqlRow at 0x144fab7e240>,\n",
       " <kql.kql_proxy.KqlRow at 0x144fab7e278>,\n",
       " <kql.kql_proxy.KqlRow at 0x144fab7e2b0>,\n",
       " <kql.kql_proxy.KqlRow at 0x144fab7e2e8>,\n",
       " <kql.kql_proxy.KqlRow at 0x144fab7e320>,\n",
       " <kql.kql_proxy.KqlRow at 0x144fab7e358>,\n",
       " <kql.kql_proxy.KqlRow at 0x144fab7e390>,\n",
       " <kql.kql_proxy.KqlRow at 0x144fab7e3c8>,\n",
       " <kql.kql_proxy.KqlRow at 0x144fab7e400>,\n",
       " <kql.kql_proxy.KqlRow at 0x144fab7e438>,\n",
       " <kql.kql_proxy.KqlRow at 0x144fab7e470>,\n",
       " <kql.kql_proxy.KqlRow at 0x144fab7e4a8>,\n",
       " <kql.kql_proxy.KqlRow at 0x144fab7e4e0>,\n",
       " <kql.kql_proxy.KqlRow at 0x144fab7e518>,\n",
       " <kql.kql_proxy.KqlRow at 0x144fab7e550>,\n",
       " <kql.kql_proxy.KqlRow at 0x144fab7e588>,\n",
       " <kql.kql_proxy.KqlRow at 0x144fab7e5c0>,\n",
       " <kql.kql_proxy.KqlRow at 0x144fab7e5f8>,\n",
       " <kql.kql_proxy.KqlRow at 0x144fab7e630>,\n",
       " <kql.kql_proxy.KqlRow at 0x144fab7e668>,\n",
       " <kql.kql_proxy.KqlRow at 0x144fab7e6a0>,\n",
       " <kql.kql_proxy.KqlRow at 0x144fab7e6d8>,\n",
       " <kql.kql_proxy.KqlRow at 0x144fab7e710>,\n",
       " <kql.kql_proxy.KqlRow at 0x144fab7e748>,\n",
       " <kql.kql_proxy.KqlRow at 0x144fab7e780>,\n",
       " <kql.kql_proxy.KqlRow at 0x144fab7e7b8>,\n",
       " <kql.kql_proxy.KqlRow at 0x144fab7e7f0>,\n",
       " <kql.kql_proxy.KqlRow at 0x144fab7e828>,\n",
       " <kql.kql_proxy.KqlRow at 0x144fab7e860>,\n",
       " <kql.kql_proxy.KqlRow at 0x144fab7e898>,\n",
       " <kql.kql_proxy.KqlRow at 0x144fab7e8d0>,\n",
       " <kql.kql_proxy.KqlRow at 0x144fab7e908>,\n",
       " <kql.kql_proxy.KqlRow at 0x144fab7e940>,\n",
       " <kql.kql_proxy.KqlRow at 0x144fab7e978>,\n",
       " <kql.kql_proxy.KqlRow at 0x144fab7e9b0>,\n",
       " <kql.kql_proxy.KqlRow at 0x144fab7e9e8>,\n",
       " <kql.kql_proxy.KqlRow at 0x144fab7ea20>,\n",
       " <kql.kql_proxy.KqlRow at 0x144fab7ea58>,\n",
       " <kql.kql_proxy.KqlRow at 0x144fab7ea90>,\n",
       " <kql.kql_proxy.KqlRow at 0x144fab7eac8>,\n",
       " <kql.kql_proxy.KqlRow at 0x144fab7eb00>,\n",
       " <kql.kql_proxy.KqlRow at 0x144fab7eb38>,\n",
       " <kql.kql_proxy.KqlRow at 0x144fab7eb70>,\n",
       " <kql.kql_proxy.KqlRow at 0x144fab7eba8>,\n",
       " <kql.kql_proxy.KqlRow at 0x144fab7ebe0>,\n",
       " <kql.kql_proxy.KqlRow at 0x144fab7ec18>,\n",
       " <kql.kql_proxy.KqlRow at 0x144fab7ec50>,\n",
       " <kql.kql_proxy.KqlRow at 0x144fab7ec88>,\n",
       " <kql.kql_proxy.KqlRow at 0x144fab7ecc0>,\n",
       " <kql.kql_proxy.KqlRow at 0x144fab7ecf8>,\n",
       " <kql.kql_proxy.KqlRow at 0x144fab7ed30>,\n",
       " <kql.kql_proxy.KqlRow at 0x144fab7ed68>,\n",
       " <kql.kql_proxy.KqlRow at 0x144fab7eda0>,\n",
       " <kql.kql_proxy.KqlRow at 0x144fab7edd8>,\n",
       " <kql.kql_proxy.KqlRow at 0x144fab7ee10>,\n",
       " <kql.kql_proxy.KqlRow at 0x144fab7ee48>,\n",
       " <kql.kql_proxy.KqlRow at 0x144fab7ee80>,\n",
       " <kql.kql_proxy.KqlRow at 0x144fab7eeb8>,\n",
       " <kql.kql_proxy.KqlRow at 0x144fab7eef0>,\n",
       " <kql.kql_proxy.KqlRow at 0x144fab7ef28>,\n",
       " <kql.kql_proxy.KqlRow at 0x144fab7ef60>,\n",
       " <kql.kql_proxy.KqlRow at 0x144fab7ef98>,\n",
       " <kql.kql_proxy.KqlRow at 0x144fab7efd0>,\n",
       " <kql.kql_proxy.KqlRow at 0x144fab87048>,\n",
       " <kql.kql_proxy.KqlRow at 0x144fab87080>,\n",
       " <kql.kql_proxy.KqlRow at 0x144fab870b8>,\n",
       " <kql.kql_proxy.KqlRow at 0x144fab870f0>,\n",
       " <kql.kql_proxy.KqlRow at 0x144fab87128>,\n",
       " <kql.kql_proxy.KqlRow at 0x144fab87160>,\n",
       " <kql.kql_proxy.KqlRow at 0x144fab87198>,\n",
       " <kql.kql_proxy.KqlRow at 0x144fab871d0>,\n",
       " <kql.kql_proxy.KqlRow at 0x144fab87208>,\n",
       " <kql.kql_proxy.KqlRow at 0x144fab87240>,\n",
       " <kql.kql_proxy.KqlRow at 0x144fab87278>,\n",
       " <kql.kql_proxy.KqlRow at 0x144fab872b0>,\n",
       " <kql.kql_proxy.KqlRow at 0x144fab872e8>,\n",
       " <kql.kql_proxy.KqlRow at 0x144fab87320>,\n",
       " <kql.kql_proxy.KqlRow at 0x144fab87358>,\n",
       " <kql.kql_proxy.KqlRow at 0x144fab87390>,\n",
       " <kql.kql_proxy.KqlRow at 0x144fab873c8>,\n",
       " <kql.kql_proxy.KqlRow at 0x144fab87400>,\n",
       " <kql.kql_proxy.KqlRow at 0x144fab87438>,\n",
       " <kql.kql_proxy.KqlRow at 0x144fab87470>,\n",
       " <kql.kql_proxy.KqlRow at 0x144fab874a8>,\n",
       " <kql.kql_proxy.KqlRow at 0x144fab874e0>,\n",
       " <kql.kql_proxy.KqlRow at 0x144fab87518>,\n",
       " <kql.kql_proxy.KqlRow at 0x144fab87550>,\n",
       " <kql.kql_proxy.KqlRow at 0x144fab87588>,\n",
       " <kql.kql_proxy.KqlRow at 0x144fab875c0>,\n",
       " <kql.kql_proxy.KqlRow at 0x144fab875f8>,\n",
       " <kql.kql_proxy.KqlRow at 0x144fab87630>,\n",
       " <kql.kql_proxy.KqlRow at 0x144fab87668>,\n",
       " <kql.kql_proxy.KqlRow at 0x144fab876a0>,\n",
       " <kql.kql_proxy.KqlRow at 0x144fab876d8>,\n",
       " <kql.kql_proxy.KqlRow at 0x144fab87710>,\n",
       " <kql.kql_proxy.KqlRow at 0x144fab87748>,\n",
       " <kql.kql_proxy.KqlRow at 0x144fab87780>,\n",
       " <kql.kql_proxy.KqlRow at 0x144fab877b8>,\n",
       " <kql.kql_proxy.KqlRow at 0x144fab877f0>,\n",
       " <kql.kql_proxy.KqlRow at 0x144fab87828>,\n",
       " <kql.kql_proxy.KqlRow at 0x144fab87860>,\n",
       " <kql.kql_proxy.KqlRow at 0x144fab87898>,\n",
       " <kql.kql_proxy.KqlRow at 0x144fab878d0>,\n",
       " <kql.kql_proxy.KqlRow at 0x144fab87908>,\n",
       " <kql.kql_proxy.KqlRow at 0x144fab87940>,\n",
       " <kql.kql_proxy.KqlRow at 0x144fab87978>,\n",
       " <kql.kql_proxy.KqlRow at 0x144fab879b0>,\n",
       " <kql.kql_proxy.KqlRow at 0x144fab879e8>,\n",
       " <kql.kql_proxy.KqlRow at 0x144fab87a20>,\n",
       " <kql.kql_proxy.KqlRow at 0x144fab87a58>,\n",
       " <kql.kql_proxy.KqlRow at 0x144fab87a90>,\n",
       " <kql.kql_proxy.KqlRow at 0x144fab87ac8>,\n",
       " <kql.kql_proxy.KqlRow at 0x144fab87b00>,\n",
       " <kql.kql_proxy.KqlRow at 0x144fab87b38>,\n",
       " <kql.kql_proxy.KqlRow at 0x144fab87b70>,\n",
       " <kql.kql_proxy.KqlRow at 0x144fab87ba8>,\n",
       " <kql.kql_proxy.KqlRow at 0x144fab87be0>,\n",
       " <kql.kql_proxy.KqlRow at 0x144fab87c18>,\n",
       " <kql.kql_proxy.KqlRow at 0x144fab87c50>,\n",
       " <kql.kql_proxy.KqlRow at 0x144fab87c88>,\n",
       " <kql.kql_proxy.KqlRow at 0x144fab87cc0>,\n",
       " <kql.kql_proxy.KqlRow at 0x144fab87cf8>,\n",
       " <kql.kql_proxy.KqlRow at 0x144fab87d30>,\n",
       " <kql.kql_proxy.KqlRow at 0x144fab87d68>,\n",
       " <kql.kql_proxy.KqlRow at 0x144fab87da0>,\n",
       " <kql.kql_proxy.KqlRow at 0x144fab87dd8>,\n",
       " <kql.kql_proxy.KqlRow at 0x144fab87e10>,\n",
       " <kql.kql_proxy.KqlRow at 0x144fab87e48>,\n",
       " <kql.kql_proxy.KqlRow at 0x144fab87e80>,\n",
       " <kql.kql_proxy.KqlRow at 0x144fab87eb8>,\n",
       " <kql.kql_proxy.KqlRow at 0x144fab87ef0>,\n",
       " <kql.kql_proxy.KqlRow at 0x144fab87f28>,\n",
       " <kql.kql_proxy.KqlRow at 0x144fab87f60>,\n",
       " <kql.kql_proxy.KqlRow at 0x144fab87f98>,\n",
       " <kql.kql_proxy.KqlRow at 0x144fab87fd0>,\n",
       " <kql.kql_proxy.KqlRow at 0x144fab91048>,\n",
       " <kql.kql_proxy.KqlRow at 0x144fab91080>,\n",
       " <kql.kql_proxy.KqlRow at 0x144fab910b8>,\n",
       " <kql.kql_proxy.KqlRow at 0x144fab910f0>,\n",
       " <kql.kql_proxy.KqlRow at 0x144fab91128>,\n",
       " <kql.kql_proxy.KqlRow at 0x144fab91160>,\n",
       " <kql.kql_proxy.KqlRow at 0x144fab91198>,\n",
       " <kql.kql_proxy.KqlRow at 0x144fab911d0>,\n",
       " <kql.kql_proxy.KqlRow at 0x144fab91208>,\n",
       " <kql.kql_proxy.KqlRow at 0x144fab91240>,\n",
       " <kql.kql_proxy.KqlRow at 0x144fab91278>,\n",
       " <kql.kql_proxy.KqlRow at 0x144fab912b0>,\n",
       " <kql.kql_proxy.KqlRow at 0x144fab912e8>,\n",
       " <kql.kql_proxy.KqlRow at 0x144fab91320>,\n",
       " <kql.kql_proxy.KqlRow at 0x144fab91358>,\n",
       " <kql.kql_proxy.KqlRow at 0x144fab91390>,\n",
       " <kql.kql_proxy.KqlRow at 0x144fab913c8>,\n",
       " <kql.kql_proxy.KqlRow at 0x144fab91400>,\n",
       " <kql.kql_proxy.KqlRow at 0x144fab91438>,\n",
       " <kql.kql_proxy.KqlRow at 0x144fab91470>,\n",
       " <kql.kql_proxy.KqlRow at 0x144fab914a8>,\n",
       " <kql.kql_proxy.KqlRow at 0x144fab914e0>,\n",
       " <kql.kql_proxy.KqlRow at 0x144fab91518>,\n",
       " <kql.kql_proxy.KqlRow at 0x144fab91550>,\n",
       " <kql.kql_proxy.KqlRow at 0x144fab91588>,\n",
       " <kql.kql_proxy.KqlRow at 0x144fab915c0>,\n",
       " <kql.kql_proxy.KqlRow at 0x144fab915f8>,\n",
       " <kql.kql_proxy.KqlRow at 0x144fab91630>,\n",
       " <kql.kql_proxy.KqlRow at 0x144fab91668>,\n",
       " <kql.kql_proxy.KqlRow at 0x144fab916a0>,\n",
       " <kql.kql_proxy.KqlRow at 0x144fab916d8>,\n",
       " <kql.kql_proxy.KqlRow at 0x144fab91710>,\n",
       " <kql.kql_proxy.KqlRow at 0x144fab91748>,\n",
       " <kql.kql_proxy.KqlRow at 0x144fab91780>,\n",
       " <kql.kql_proxy.KqlRow at 0x144fab917b8>,\n",
       " <kql.kql_proxy.KqlRow at 0x144fab917f0>,\n",
       " <kql.kql_proxy.KqlRow at 0x144fab91828>,\n",
       " <kql.kql_proxy.KqlRow at 0x144fab91860>,\n",
       " <kql.kql_proxy.KqlRow at 0x144fab91898>,\n",
       " <kql.kql_proxy.KqlRow at 0x144fab918d0>,\n",
       " <kql.kql_proxy.KqlRow at 0x144fab91908>,\n",
       " <kql.kql_proxy.KqlRow at 0x144fab91940>,\n",
       " <kql.kql_proxy.KqlRow at 0x144fab91978>,\n",
       " <kql.kql_proxy.KqlRow at 0x144fab919b0>,\n",
       " <kql.kql_proxy.KqlRow at 0x144fab919e8>,\n",
       " <kql.kql_proxy.KqlRow at 0x144fab91a20>,\n",
       " <kql.kql_proxy.KqlRow at 0x144fab91a58>,\n",
       " <kql.kql_proxy.KqlRow at 0x144fab91a90>,\n",
       " <kql.kql_proxy.KqlRow at 0x144fab91ac8>,\n",
       " <kql.kql_proxy.KqlRow at 0x144fab91b00>,\n",
       " <kql.kql_proxy.KqlRow at 0x144fab91b38>,\n",
       " <kql.kql_proxy.KqlRow at 0x144fab91b70>,\n",
       " <kql.kql_proxy.KqlRow at 0x144fab91ba8>,\n",
       " <kql.kql_proxy.KqlRow at 0x144fab91be0>,\n",
       " <kql.kql_proxy.KqlRow at 0x144fab91c18>,\n",
       " <kql.kql_proxy.KqlRow at 0x144fab91c50>,\n",
       " <kql.kql_proxy.KqlRow at 0x144fab91c88>,\n",
       " <kql.kql_proxy.KqlRow at 0x144fab91cc0>,\n",
       " <kql.kql_proxy.KqlRow at 0x144fab91cf8>,\n",
       " <kql.kql_proxy.KqlRow at 0x144fab91d30>,\n",
       " <kql.kql_proxy.KqlRow at 0x144fab91d68>,\n",
       " <kql.kql_proxy.KqlRow at 0x144fab91da0>,\n",
       " <kql.kql_proxy.KqlRow at 0x144fab91dd8>,\n",
       " <kql.kql_proxy.KqlRow at 0x144fab91e10>,\n",
       " <kql.kql_proxy.KqlRow at 0x144fab91e48>,\n",
       " <kql.kql_proxy.KqlRow at 0x144fab91e80>,\n",
       " <kql.kql_proxy.KqlRow at 0x144fab91eb8>,\n",
       " <kql.kql_proxy.KqlRow at 0x144fab91ef0>,\n",
       " <kql.kql_proxy.KqlRow at 0x144fab91f28>,\n",
       " <kql.kql_proxy.KqlRow at 0x144fab91f60>,\n",
       " <kql.kql_proxy.KqlRow at 0x144fab91f98>,\n",
       " <kql.kql_proxy.KqlRow at 0x144fab91fd0>,\n",
       " <kql.kql_proxy.KqlRow at 0x144fab9a048>,\n",
       " <kql.kql_proxy.KqlRow at 0x144fab9a080>,\n",
       " <kql.kql_proxy.KqlRow at 0x144fab9a0b8>,\n",
       " <kql.kql_proxy.KqlRow at 0x144fab9a0f0>,\n",
       " <kql.kql_proxy.KqlRow at 0x144fab9a128>,\n",
       " <kql.kql_proxy.KqlRow at 0x144fab9a160>,\n",
       " <kql.kql_proxy.KqlRow at 0x144fab9a198>,\n",
       " <kql.kql_proxy.KqlRow at 0x144fab9a1d0>,\n",
       " <kql.kql_proxy.KqlRow at 0x144fab9a208>,\n",
       " <kql.kql_proxy.KqlRow at 0x144fab9a240>,\n",
       " <kql.kql_proxy.KqlRow at 0x144fab9a278>,\n",
       " <kql.kql_proxy.KqlRow at 0x144fab9a2b0>,\n",
       " <kql.kql_proxy.KqlRow at 0x144fab9a2e8>,\n",
       " <kql.kql_proxy.KqlRow at 0x144fab9a320>,\n",
       " <kql.kql_proxy.KqlRow at 0x144fab9a358>,\n",
       " <kql.kql_proxy.KqlRow at 0x144fab9a390>,\n",
       " <kql.kql_proxy.KqlRow at 0x144fab9a3c8>,\n",
       " <kql.kql_proxy.KqlRow at 0x144fab9a400>,\n",
       " <kql.kql_proxy.KqlRow at 0x144fab9a438>,\n",
       " <kql.kql_proxy.KqlRow at 0x144fab9a470>,\n",
       " <kql.kql_proxy.KqlRow at 0x144fab9a4a8>,\n",
       " <kql.kql_proxy.KqlRow at 0x144fab9a4e0>,\n",
       " <kql.kql_proxy.KqlRow at 0x144fab9a518>,\n",
       " <kql.kql_proxy.KqlRow at 0x144fab9a550>,\n",
       " <kql.kql_proxy.KqlRow at 0x144fab9a588>,\n",
       " <kql.kql_proxy.KqlRow at 0x144fab9a5c0>,\n",
       " <kql.kql_proxy.KqlRow at 0x144fab9a5f8>,\n",
       " <kql.kql_proxy.KqlRow at 0x144fab9a630>,\n",
       " <kql.kql_proxy.KqlRow at 0x144fab9a668>,\n",
       " <kql.kql_proxy.KqlRow at 0x144fab9a6a0>,\n",
       " <kql.kql_proxy.KqlRow at 0x144fab9a6d8>,\n",
       " <kql.kql_proxy.KqlRow at 0x144fab9a710>,\n",
       " <kql.kql_proxy.KqlRow at 0x144fab9a748>,\n",
       " <kql.kql_proxy.KqlRow at 0x144fab9a780>,\n",
       " <kql.kql_proxy.KqlRow at 0x144fab9a7b8>,\n",
       " <kql.kql_proxy.KqlRow at 0x144fab9a7f0>,\n",
       " <kql.kql_proxy.KqlRow at 0x144fab9a828>,\n",
       " <kql.kql_proxy.KqlRow at 0x144fab9a860>,\n",
       " <kql.kql_proxy.KqlRow at 0x144fab9a898>,\n",
       " <kql.kql_proxy.KqlRow at 0x144fab9a8d0>]"
      ]
     },
     "execution_count": 46,
     "metadata": {},
     "output_type": "execute_result"
    }
   ],
   "source": [
    "%%kql -pw \n",
    "let randn = () {rand() + rand() + rand() + rand() + rand() + rand() + rand() + rand() + rand() + rand() + rand() + rand() + rand() + rand()};\n",
    "range c from 1 to 1000 step 1 \n",
    "| limit 1000\n",
    "| extend e1 = randn()\n",
    "| extend e2 = randn()\n",
    "| extend e3 = randn()\n",
    "| extend e4 = randn()\n",
    "| extend e5 = randn()\n",
    "| project e1,e2,e3,e4,e5\n",
    "| render scatterchart title=\"Michael's chart\""
   ]
  },
  {
   "cell_type": "markdown",
   "metadata": {},
   "source": [
    "  - ### <span style=\"color:#82CAFA\">*Note: popup_window option (abbr: pw) cause the result to be displayed in a popup window*</span>"
   ]
  },
  {
   "cell_type": "code",
   "execution_count": null,
   "metadata": {},
   "outputs": [],
   "source": []
  }
 ],
 "metadata": {
  "kernelspec": {
   "display_name": "Python 3",
   "language": "python",
   "name": "python3"
  },
  "language_info": {
   "codemirror_mode": {
    "name": "ipython",
    "version": 3
   },
   "file_extension": ".py",
   "mimetype": "text/x-python",
   "name": "python",
   "nbconvert_exporter": "python",
   "pygments_lexer": "ipython3",
   "version": "3.6.1"
  }
 },
 "nbformat": 4,
 "nbformat_minor": 2
}
