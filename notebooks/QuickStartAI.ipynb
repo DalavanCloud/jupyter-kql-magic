{
 "cells": [
  {
   "cell_type": "markdown",
   "metadata": {},
   "source": [
    "![alt text](images/Kusto.jpg \"Kusto Magic\")"
   ]
  },
  {
   "cell_type": "markdown",
   "metadata": {},
   "source": [
    "# Kqlmagic Quick Start\n",
    "1. Press F11 to switch browser to full screen mode  \n",
    "2. If in running jupyter lab, in View tab, select 'Single-Document Mode' and 'Presentation Mode' or  (Ctrl + Shift + D)  \n",
    "3. In Kernel tab, select 'Restart Kernel and Clear All Outputs...', to start from fresh\n",
    "4. Repeat: press Shift+Enter to run cells sequentially"
   ]
  },
  {
   "cell_type": "markdown",
   "metadata": {},
   "source": [
    "## Make sure that you have the lastest version of  Kqlmagic\n",
    "Download Kqlmagic from github and install/update\n",
    "(if latest version is already installed you can skip this step)"
   ]
  },
  {
   "cell_type": "code",
   "execution_count": null,
   "metadata": {},
   "outputs": [],
   "source": [
    "#!pip install git+git://github.com/mbnshtck/jupyter-kql-magic.git"
   ]
  },
  {
   "cell_type": "markdown",
   "metadata": {},
   "source": [
    "## If you want to pre-set defaults, set environment varaible, before activation notebook, or within notebook\n",
    "- **KQLMAGIC_NOTEBOOK_APP** - set the notebook application (default **jupyternotebook**)\n",
    "- **KQLMAGIC_LOAD_MODE** - set the kqlmagic load mode (default **verbose**). If silent, it will load without welcome output\n",
    "- **KQLMAGIC_CONFIGURATION** - modify the default configuration, key=value pairs must be separated by a **semicolon**\n",
    "\n",
    "- **KQLMAGIC_CONNECTION_STR** - set the default connection string (default **None**). If set it will connect to it on Kqlmagic load"
   ]
  },
  {
   "cell_type": "code",
   "execution_count": null,
   "metadata": {},
   "outputs": [],
   "source": [
    "# you can try it within the notebook, by setting the environment variable using %env magic\n",
    "\n",
    "#%env KQLMAGIC_NOTEBOOK_APP=jupyterlab\n",
    "#%env KQLMAGIC_LOAD_MODE=silent\n",
    "#%env KQLMAGIC_CONFIGURATION=\"show_query_time=False;plot_package='plotly';display_limit=100\"\n",
    "\n",
    "#%env KQLMAGIC_CONNECTION_STR=kusto://username('michabin@microsoft.com').cluster('help').database('Samples')"
   ]
  },
  {
   "cell_type": "markdown",
   "metadata": {},
   "source": [
    "## Add Kqlmagic to notebook magics"
   ]
  },
  {
   "cell_type": "code",
   "execution_count": 1,
   "metadata": {
    "scrolled": false
   },
   "outputs": [
    {
     "name": "stdout",
     "output_type": "stream",
     "text": [
      "C:\\My Projects\\jupyter-Kqlmagic\\src\n"
     ]
    },
    {
     "data": {
      "text/html": [
       "<script>requirejs.config({paths: { 'plotly': ['https://cdn.plot.ly/plotly-latest.min']},});if(!window.Plotly) {{require(['plotly'],function(plotly) {window.Plotly=plotly;});}}</script>"
      ],
      "text/vnd.plotly.v1+html": [
       "<script>requirejs.config({paths: { 'plotly': ['https://cdn.plot.ly/plotly-latest.min']},});if(!window.Plotly) {{require(['plotly'],function(plotly) {window.Plotly=plotly;});}}</script>"
      ]
     },
     "metadata": {},
     "output_type": "display_data"
    },
    {
     "data": {
      "text/html": [
       "<html>\n",
       "            <head>\n",
       "            <style>\n",
       "            .kqlmagic-banner {\n",
       "                display: flex; \n",
       "                background-color: #d9edf7;\n",
       "            }\n",
       "            .kqlmagic-banner > div {\n",
       "                margin: 10px; \n",
       "                padding: 20px; \n",
       "                color: #3a87ad; \n",
       "                font-size: 13px;\n",
       "            }\n",
       "            </style>\n",
       "            </head>\n",
       "            <body>\n",
       "                <div class='kqlmagic-banner'>\n",
       "                    <div><img src='data:image/png;base64,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'></div>\n",
       "                    <div>\n",
       "                        <p>Kusto is a log analytics cloud platform optimized for ad-hoc big data queries. Read more about it here: http://aka.ms/kdocs</p>\n",
       "                        <p>   &bull; kql language reference: Click on 'Help' tab > and Select 'kql referece'<br>\n",
       "                          &bull; Kqlmagic configuarion: Run in cell '%config kqlmagic'<br>\n",
       "                          &bull; Kqlmagic syntax: Run in cell '%kql?'<br>\n",
       "                          &bull; Kqlmagic upgrate syntax: Run 'pip install git+git://github.com/mbnshtck/jupyter-kql-magic.git --upgrade'<br>\n",
       "                    </div>\n",
       "                </div>\n",
       "            </body>\n",
       "            </html>"
      ],
      "text/plain": [
       "<IPython.core.display.HTML object>"
      ]
     },
     "metadata": {},
     "output_type": "display_data"
    },
    {
     "data": {
      "text/html": [
       "<html>\n",
       "        <head>\n",
       "        \n",
       "        </head>\n",
       "        <body>\n",
       "        <div><p style='padding: 10px; color: #3a87ad; background-color: #d9edf7; border-color: #bce9f1'>Kqlmagic&nbspversion:&nbsp0.1.29,&nbspsource:&nbsphttps://github.com/mbnshtck/jupyter-kql-magic</p></div>\n",
       "        </body>\n",
       "        </html>"
      ],
      "text/plain": [
       "<IPython.core.display.HTML object>"
      ]
     },
     "metadata": {},
     "output_type": "display_data"
    },
    {
     "data": {
      "application/javascript": [
       "IPython.notebook.kernel.reconnect();"
      ],
      "text/plain": [
       "<IPython.core.display.Javascript object>"
      ]
     },
     "metadata": {},
     "output_type": "display_data"
    },
    {
     "data": {
      "application/javascript": [
       "IPython.notebook.kernel.execute(\"NOTEBOOK_URL = '\" + window.location + \"'\");"
      ],
      "text/plain": [
       "<IPython.core.display.Javascript object>"
      ]
     },
     "metadata": {},
     "output_type": "display_data"
    },
    {
     "name": "stdout",
     "output_type": "stream",
     "text": [
      "c:\\My Projects\\jupyter-Kqlmagic\\notebooks\n",
      "popd -> c:\\My Projects\\jupyter-Kqlmagic\\notebooks\n"
     ]
    }
   ],
   "source": [
    "%pushd C:\\My Projects\\jupyter-Kqlmagic\\src\n",
    "%reload_ext kql\n",
    "%popd"
   ]
  },
  {
   "cell_type": "markdown",
   "metadata": {},
   "source": [
    "  - ### <span style=\"color:#82CAFA\">*Note: information is included in the kqlmagic banner, and in the note below it, with version and location of the open source code'*</span>\n",
    "  - ### <span style=\"color:#82CAFA\">*Note: after kql magic was loaded, 'kql reference was added to Help memnu (Help tab)'*</span>"
   ]
  },
  {
   "cell_type": "markdown",
   "metadata": {},
   "source": [
    "## Connect to database@cluster"
   ]
  },
  {
   "cell_type": "code",
   "execution_count": 2,
   "metadata": {
    "scrolled": false
   },
   "outputs": [
    {
     "data": {
      "text/html": [
       "<!DOCTYPE html>\n",
       "            <html><body>\n",
       "\n",
       "            <button onclick=\"this.style.visibility='visible';kqlMagicLaunchWindowFunction('temp_showfiles/DEMO_APP_at_appinsights_schema.html','fullscreen=no,directories=no,location=no,menubar=no,resizable=yes,scrollbars=yes,status=no,titlebar=no,toolbar=no,','DEMO_APP_at_appinsights_schema','')\">popup schema DEMO_APP@appinsights</button>\n",
       "\n",
       "            <script>\n",
       "\n",
       "            function kqlMagicLaunchWindowFunction(file_path, window_params, window_name, notebooks_host) {\n",
       "                var url;\n",
       "                if (file_path.startsWith('http')) {\n",
       "                    url = file_path;\n",
       "                } else {\n",
       "                    var base_url = '';\n",
       "\n",
       "                    // check if azure notebook\n",
       "                    var azure_host = (notebooks_host == null || notebooks_host.length == 0) ? 'https://notebooks.azure.com' : notebooks_host;\n",
       "                    var start = azure_host.search('//');\n",
       "                    var azure_host_suffix = '.' + azure_host.substring(start+2);\n",
       "\n",
       "                    var loc = String(window.location);\n",
       "                    var end = loc.search(azure_host_suffix);\n",
       "                    start = loc.search('//');\n",
       "                    if (start > 0 && end > 0) {\n",
       "                        var parts = loc.substring(start+2, end).split('-');\n",
       "                        if (parts.length == 2) {\n",
       "                            var library = parts[0];\n",
       "                            var user = parts[1];\n",
       "                            base_url = azure_host + '/api/user/' +user+ '/library/' +library+ '/html/';\n",
       "                        }\n",
       "                    }\n",
       "\n",
       "                    // check if local jupyter lab\n",
       "                    if (base_url.length == 0) {\n",
       "                        var configDataScipt  = document.getElementById('jupyter-config-data');\n",
       "                        if (configDataScipt != null) {\n",
       "                            var jupyterConfigData = JSON.parse(configDataScipt.textContent);\n",
       "                            if (jupyterConfigData['appName'] == 'JupyterLab' && jupyterConfigData['serverRoot'] != null &&  jupyterConfigData['treeUrl'] != null) {\n",
       "                                var basePath = 'c:/My Projects/jupyter-Kqlmagic/notebooks' + '/';\n",
       "                                if (basePath.startsWith(jupyterConfigData['serverRoot'])) {\n",
       "                                    base_url = '/files/' + basePath.substring(jupyterConfigData['serverRoot'].length+1);\n",
       "                                }\n",
       "                            } \n",
       "                        }\n",
       "                    }\n",
       "\n",
       "                    // assume local jupyter notebook\n",
       "                    if (base_url.length == 0) {\n",
       "\n",
       "                        var parts = loc.split('/');\n",
       "                        parts.pop();\n",
       "                        base_url = parts.join('/') + '/';\n",
       "                    }\n",
       "                    url = base_url + file_path;\n",
       "                }\n",
       "\n",
       "                window.focus();\n",
       "                var w = screen.width / 2;\n",
       "                var h = screen.height / 2;\n",
       "                params = 'width='+w+',height='+h;\n",
       "                kqlMagic_DEMO_APP_at_appinsights_schema = window.open(url, window_name, window_params + params);\n",
       "            }\n",
       "            </script>\n",
       "\n",
       "            </body></html>"
      ],
      "text/plain": [
       "<IPython.core.display.HTML object>"
      ]
     },
     "metadata": {},
     "output_type": "display_data"
    },
    {
     "data": {
      "application/javascript": [
       "IPython.notebook.kernel.reconnect();"
      ],
      "text/plain": [
       "<IPython.core.display.Javascript object>"
      ]
     },
     "metadata": {},
     "output_type": "display_data"
    }
   ],
   "source": [
    "%kql appinsights://appid('DEMO_APP').appkey('DEMO_KEY')"
   ]
  },
  {
   "cell_type": "code",
   "execution_count": null,
   "metadata": {},
   "outputs": [],
   "source": [
    "%kql pageViews | where client_City != '' | summarize count() by bin(timestamp, 1d)  | extend tab='xyz' | extend coun2=count_*0.5 | sort by count_ | limit 10 | render piechart"
   ]
  },
  {
   "cell_type": "code",
   "execution_count": null,
   "metadata": {},
   "outputs": [],
   "source": [
    "_.show_table()"
   ]
  },
  {
   "cell_type": "code",
   "execution_count": 5,
   "metadata": {},
   "outputs": [
    {
     "data": {
      "text/html": [
       "<html>\n",
       "        <head>\n",
       "        \n",
       "        </head>\n",
       "        <body>\n",
       "        <div><p style='padding: 10px; color: #3a87ad; background-color: #d9edf7; border-color: #bce9f1'>&nbsp*&nbspDEMO_APP@appinsights</p></div>\n",
       "        </body>\n",
       "        </html>"
      ],
      "text/plain": [
       "<IPython.core.display.HTML object>"
      ]
     },
     "metadata": {},
     "output_type": "display_data"
    },
    {
     "data": {
      "application/vnd.plotly.v1+json": {
       "data": [
        {
         "fill": "tonexty",
         "line": {
          "color": "rgb(31, 118, 179)",
          "width": 0.5
         },
         "mode": "lines",
         "name": "xyz::count_",
         "type": "scatter",
         "uid": "ca0701e6-b6a8-11e8-8919-bc838521da56",
         "x": [
          "2017-09-19 22:29:00",
          "2017-11-10 16:09:00",
          "2017-12-13 17:26:00",
          "2017-12-19 12:59:00",
          "2017-12-19 15:29:00",
          "2017-12-19 19:39:00",
          "2017-12-20 15:29:00",
          "2017-12-20 15:49:00",
          "2017-12-20 16:09:00",
          "2018-01-08 17:29:00",
          "2018-01-08 17:39:00",
          "2018-01-27 15:56:00",
          "2018-04-26 19:36:00",
          "2018-05-04 17:26:00",
          "2018-05-05 17:26:00",
          "2018-05-13 16:06:00",
          "2018-05-19 16:56:00",
          "2018-05-21 20:06:00",
          "2018-05-30 19:56:00",
          "2018-08-15 17:56:00"
         ],
         "y": [
          157,
          121,
          125,
          115,
          115,
          113,
          113,
          117,
          121,
          117,
          117,
          117,
          124,
          116,
          116,
          117,
          114,
          113,
          120,
          115
         ]
        },
        {
         "fill": "tonexty",
         "line": {
          "color": "rgb(254, 127, 14)",
          "width": 0.5
         },
         "mode": "lines",
         "name": "xyz::coun2",
         "type": "scatter",
         "uid": "ca0701e7-b6a8-11e8-a5bf-bc838521da56",
         "x": [
          "2017-09-19 22:29:00",
          "2017-11-10 16:09:00",
          "2017-12-13 17:26:00",
          "2017-12-19 12:59:00",
          "2017-12-19 15:29:00",
          "2017-12-19 19:39:00",
          "2017-12-20 15:29:00",
          "2017-12-20 15:49:00",
          "2017-12-20 16:09:00",
          "2018-01-08 17:29:00",
          "2018-01-08 17:39:00",
          "2018-01-27 15:56:00",
          "2018-04-26 19:36:00",
          "2018-05-04 17:26:00",
          "2018-05-05 17:26:00",
          "2018-05-13 16:06:00",
          "2018-05-19 16:56:00",
          "2018-05-21 20:06:00",
          "2018-05-30 19:56:00",
          "2018-08-15 17:56:00"
         ],
         "y": [
          423.9,
          326.7,
          337.5,
          310.5,
          310.5,
          305.1,
          305.1,
          315.9,
          326.7,
          315.9,
          315.9,
          315.9,
          334.79999999999995,
          313.2,
          313.2,
          315.9,
          307.79999999999995,
          305.1,
          324,
          310.5
         ]
        },
        {
         "fill": "tonexty",
         "line": {
          "color": "rgb(44, 160, 44)",
          "width": 0.5
         },
         "mode": "lines",
         "name": "abc:def:count_",
         "type": "scatter",
         "uid": "ca0701e8-b6a8-11e8-b8fa-bc838521da56",
         "x": [
          "2017-09-19 22:29:00",
          "2017-11-10 16:09:00",
          "2017-12-13 17:26:00",
          "2017-12-19 12:59:00",
          "2017-12-19 15:29:00",
          "2017-12-19 19:39:00",
          "2017-12-20 15:29:00",
          "2017-12-20 15:49:00",
          "2017-12-20 16:09:00",
          "2018-01-08 17:29:00",
          "2018-01-08 17:39:00",
          "2018-01-27 15:56:00",
          "2018-04-26 19:36:00",
          "2018-05-04 17:26:00",
          "2018-05-05 17:26:00",
          "2018-05-13 16:06:00",
          "2018-05-19 16:56:00",
          "2018-05-21 20:06:00",
          "2018-05-30 19:56:00",
          "2018-08-15 17:56:00"
         ],
         "y": [
          580.9,
          447.7,
          462.5,
          310.5,
          310.5,
          305.1,
          305.1,
          315.9,
          447.7,
          432.9,
          432.9,
          432.9,
          458.79999999999995,
          313.2,
          313.2,
          432.9,
          307.79999999999995,
          305.1,
          444,
          310.5
         ]
        },
        {
         "fill": "tonexty",
         "line": {
          "color": "rgb(214, 39, 39)",
          "width": 0.5
         },
         "mode": "lines",
         "name": "abc:def:coun2",
         "type": "scatter",
         "uid": "ca0701e9-b6a8-11e8-88cf-bc838521da56",
         "x": [
          "2017-09-19 22:29:00",
          "2017-11-10 16:09:00",
          "2017-12-13 17:26:00",
          "2017-12-19 12:59:00",
          "2017-12-19 15:29:00",
          "2017-12-19 19:39:00",
          "2017-12-20 15:29:00",
          "2017-12-20 15:49:00",
          "2017-12-20 16:09:00",
          "2018-01-08 17:29:00",
          "2018-01-08 17:39:00",
          "2018-01-27 15:56:00",
          "2018-04-26 19:36:00",
          "2018-05-04 17:26:00",
          "2018-05-05 17:26:00",
          "2018-05-13 16:06:00",
          "2018-05-19 16:56:00",
          "2018-05-21 20:06:00",
          "2018-05-30 19:56:00",
          "2018-08-15 17:56:00"
         ],
         "y": [
          800.6999999999999,
          617.0999999999999,
          637.5,
          310.5,
          310.5,
          305.1,
          305.1,
          315.9,
          617.0999999999999,
          596.6999999999999,
          596.6999999999999,
          596.6999999999999,
          632.4,
          313.2,
          313.2,
          596.6999999999999,
          307.79999999999995,
          305.1,
          612,
          310.5
         ]
        }
       ],
       "layout": {
        "showlegend": true,
        "title": "stackedareachart",
        "xaxis": {
         "title": "timestamp",
         "type": "date"
        },
        "yaxis": {
         "ticksuffix": "",
         "title": "count_, coun2",
         "type": "linear"
        }
       }
      },
      "text/html": [
       "<div id=\"a9666a66-d9cc-4141-a610-a8d9f735558e\" style=\"height: 525px; width: 100%;\" class=\"plotly-graph-div\"></div><script type=\"text/javascript\">require([\"plotly\"], function(Plotly) { window.PLOTLYENV=window.PLOTLYENV || {};window.PLOTLYENV.BASE_URL=\"https://plot.ly\";\n",
       "        Plotly.plot(\n",
       "            'a9666a66-d9cc-4141-a610-a8d9f735558e',\n",
       "            [{\"fill\": \"tonexty\", \"line\": {\"color\": \"rgb(31, 118, 179)\", \"width\": 0.5}, \"mode\": \"lines\", \"name\": \"xyz::count_\", \"x\": [\"2017-09-19 22:29:00\", \"2017-11-10 16:09:00\", \"2017-12-13 17:26:00\", \"2017-12-19 12:59:00\", \"2017-12-19 15:29:00\", \"2017-12-19 19:39:00\", \"2017-12-20 15:29:00\", \"2017-12-20 15:49:00\", \"2017-12-20 16:09:00\", \"2018-01-08 17:29:00\", \"2018-01-08 17:39:00\", \"2018-01-27 15:56:00\", \"2018-04-26 19:36:00\", \"2018-05-04 17:26:00\", \"2018-05-05 17:26:00\", \"2018-05-13 16:06:00\", \"2018-05-19 16:56:00\", \"2018-05-21 20:06:00\", \"2018-05-30 19:56:00\", \"2018-08-15 17:56:00\"], \"y\": [157, 121, 125, 115, 115, 113, 113, 117, 121, 117, 117, 117, 124, 116, 116, 117, 114, 113, 120, 115], \"type\": \"scatter\", \"uid\": \"ca0701e6-b6a8-11e8-8919-bc838521da56\"}, {\"fill\": \"tonexty\", \"line\": {\"color\": \"rgb(254, 127, 14)\", \"width\": 0.5}, \"mode\": \"lines\", \"name\": \"xyz::coun2\", \"x\": [\"2017-09-19 22:29:00\", \"2017-11-10 16:09:00\", \"2017-12-13 17:26:00\", \"2017-12-19 12:59:00\", \"2017-12-19 15:29:00\", \"2017-12-19 19:39:00\", \"2017-12-20 15:29:00\", \"2017-12-20 15:49:00\", \"2017-12-20 16:09:00\", \"2018-01-08 17:29:00\", \"2018-01-08 17:39:00\", \"2018-01-27 15:56:00\", \"2018-04-26 19:36:00\", \"2018-05-04 17:26:00\", \"2018-05-05 17:26:00\", \"2018-05-13 16:06:00\", \"2018-05-19 16:56:00\", \"2018-05-21 20:06:00\", \"2018-05-30 19:56:00\", \"2018-08-15 17:56:00\"], \"y\": [423.9, 326.7, 337.5, 310.5, 310.5, 305.1, 305.1, 315.9, 326.7, 315.9, 315.9, 315.9, 334.79999999999995, 313.2, 313.2, 315.9, 307.79999999999995, 305.1, 324, 310.5], \"type\": \"scatter\", \"uid\": \"ca0701e7-b6a8-11e8-a5bf-bc838521da56\"}, {\"fill\": \"tonexty\", \"line\": {\"color\": \"rgb(44, 160, 44)\", \"width\": 0.5}, \"mode\": \"lines\", \"name\": \"abc:def:count_\", \"x\": [\"2017-09-19 22:29:00\", \"2017-11-10 16:09:00\", \"2017-12-13 17:26:00\", \"2017-12-19 12:59:00\", \"2017-12-19 15:29:00\", \"2017-12-19 19:39:00\", \"2017-12-20 15:29:00\", \"2017-12-20 15:49:00\", \"2017-12-20 16:09:00\", \"2018-01-08 17:29:00\", \"2018-01-08 17:39:00\", \"2018-01-27 15:56:00\", \"2018-04-26 19:36:00\", \"2018-05-04 17:26:00\", \"2018-05-05 17:26:00\", \"2018-05-13 16:06:00\", \"2018-05-19 16:56:00\", \"2018-05-21 20:06:00\", \"2018-05-30 19:56:00\", \"2018-08-15 17:56:00\"], \"y\": [580.9, 447.7, 462.5, 310.5, 310.5, 305.1, 305.1, 315.9, 447.7, 432.9, 432.9, 432.9, 458.79999999999995, 313.2, 313.2, 432.9, 307.79999999999995, 305.1, 444, 310.5], \"type\": \"scatter\", \"uid\": \"ca0701e8-b6a8-11e8-b8fa-bc838521da56\"}, {\"fill\": \"tonexty\", \"line\": {\"color\": \"rgb(214, 39, 39)\", \"width\": 0.5}, \"mode\": \"lines\", \"name\": \"abc:def:coun2\", \"x\": [\"2017-09-19 22:29:00\", \"2017-11-10 16:09:00\", \"2017-12-13 17:26:00\", \"2017-12-19 12:59:00\", \"2017-12-19 15:29:00\", \"2017-12-19 19:39:00\", \"2017-12-20 15:29:00\", \"2017-12-20 15:49:00\", \"2017-12-20 16:09:00\", \"2018-01-08 17:29:00\", \"2018-01-08 17:39:00\", \"2018-01-27 15:56:00\", \"2018-04-26 19:36:00\", \"2018-05-04 17:26:00\", \"2018-05-05 17:26:00\", \"2018-05-13 16:06:00\", \"2018-05-19 16:56:00\", \"2018-05-21 20:06:00\", \"2018-05-30 19:56:00\", \"2018-08-15 17:56:00\"], \"y\": [800.6999999999999, 617.0999999999999, 637.5, 310.5, 310.5, 305.1, 305.1, 315.9, 617.0999999999999, 596.6999999999999, 596.6999999999999, 596.6999999999999, 632.4, 313.2, 313.2, 596.6999999999999, 307.79999999999995, 305.1, 612, 310.5], \"type\": \"scatter\", \"uid\": \"ca0701e9-b6a8-11e8-88cf-bc838521da56\"}],\n",
       "            {\"showlegend\": true, \"title\": \"stackedareachart\", \"xaxis\": {\"title\": \"timestamp\", \"type\": \"date\"}, \"yaxis\": {\"ticksuffix\": \"\", \"title\": \"count_, coun2\", \"type\": \"linear\"}},\n",
       "            {\"showLink\": true, \"linkText\": \"Export to plot.ly\"}\n",
       "        ).then(function () {return Plotly.addFrames('a9666a66-d9cc-4141-a610-a8d9f735558e',{});}).then(function(){Plotly.animate('a9666a66-d9cc-4141-a610-a8d9f735558e');})\n",
       "        });</script>"
      ],
      "text/vnd.plotly.v1+html": [
       "<div id=\"a9666a66-d9cc-4141-a610-a8d9f735558e\" style=\"height: 525px; width: 100%;\" class=\"plotly-graph-div\"></div><script type=\"text/javascript\">require([\"plotly\"], function(Plotly) { window.PLOTLYENV=window.PLOTLYENV || {};window.PLOTLYENV.BASE_URL=\"https://plot.ly\";\n",
       "        Plotly.plot(\n",
       "            'a9666a66-d9cc-4141-a610-a8d9f735558e',\n",
       "            [{\"fill\": \"tonexty\", \"line\": {\"color\": \"rgb(31, 118, 179)\", \"width\": 0.5}, \"mode\": \"lines\", \"name\": \"xyz::count_\", \"x\": [\"2017-09-19 22:29:00\", \"2017-11-10 16:09:00\", \"2017-12-13 17:26:00\", \"2017-12-19 12:59:00\", \"2017-12-19 15:29:00\", \"2017-12-19 19:39:00\", \"2017-12-20 15:29:00\", \"2017-12-20 15:49:00\", \"2017-12-20 16:09:00\", \"2018-01-08 17:29:00\", \"2018-01-08 17:39:00\", \"2018-01-27 15:56:00\", \"2018-04-26 19:36:00\", \"2018-05-04 17:26:00\", \"2018-05-05 17:26:00\", \"2018-05-13 16:06:00\", \"2018-05-19 16:56:00\", \"2018-05-21 20:06:00\", \"2018-05-30 19:56:00\", \"2018-08-15 17:56:00\"], \"y\": [157, 121, 125, 115, 115, 113, 113, 117, 121, 117, 117, 117, 124, 116, 116, 117, 114, 113, 120, 115], \"type\": \"scatter\", \"uid\": \"ca0701e6-b6a8-11e8-8919-bc838521da56\"}, {\"fill\": \"tonexty\", \"line\": {\"color\": \"rgb(254, 127, 14)\", \"width\": 0.5}, \"mode\": \"lines\", \"name\": \"xyz::coun2\", \"x\": [\"2017-09-19 22:29:00\", \"2017-11-10 16:09:00\", \"2017-12-13 17:26:00\", \"2017-12-19 12:59:00\", \"2017-12-19 15:29:00\", \"2017-12-19 19:39:00\", \"2017-12-20 15:29:00\", \"2017-12-20 15:49:00\", \"2017-12-20 16:09:00\", \"2018-01-08 17:29:00\", \"2018-01-08 17:39:00\", \"2018-01-27 15:56:00\", \"2018-04-26 19:36:00\", \"2018-05-04 17:26:00\", \"2018-05-05 17:26:00\", \"2018-05-13 16:06:00\", \"2018-05-19 16:56:00\", \"2018-05-21 20:06:00\", \"2018-05-30 19:56:00\", \"2018-08-15 17:56:00\"], \"y\": [423.9, 326.7, 337.5, 310.5, 310.5, 305.1, 305.1, 315.9, 326.7, 315.9, 315.9, 315.9, 334.79999999999995, 313.2, 313.2, 315.9, 307.79999999999995, 305.1, 324, 310.5], \"type\": \"scatter\", \"uid\": \"ca0701e7-b6a8-11e8-a5bf-bc838521da56\"}, {\"fill\": \"tonexty\", \"line\": {\"color\": \"rgb(44, 160, 44)\", \"width\": 0.5}, \"mode\": \"lines\", \"name\": \"abc:def:count_\", \"x\": [\"2017-09-19 22:29:00\", \"2017-11-10 16:09:00\", \"2017-12-13 17:26:00\", \"2017-12-19 12:59:00\", \"2017-12-19 15:29:00\", \"2017-12-19 19:39:00\", \"2017-12-20 15:29:00\", \"2017-12-20 15:49:00\", \"2017-12-20 16:09:00\", \"2018-01-08 17:29:00\", \"2018-01-08 17:39:00\", \"2018-01-27 15:56:00\", \"2018-04-26 19:36:00\", \"2018-05-04 17:26:00\", \"2018-05-05 17:26:00\", \"2018-05-13 16:06:00\", \"2018-05-19 16:56:00\", \"2018-05-21 20:06:00\", \"2018-05-30 19:56:00\", \"2018-08-15 17:56:00\"], \"y\": [580.9, 447.7, 462.5, 310.5, 310.5, 305.1, 305.1, 315.9, 447.7, 432.9, 432.9, 432.9, 458.79999999999995, 313.2, 313.2, 432.9, 307.79999999999995, 305.1, 444, 310.5], \"type\": \"scatter\", \"uid\": \"ca0701e8-b6a8-11e8-b8fa-bc838521da56\"}, {\"fill\": \"tonexty\", \"line\": {\"color\": \"rgb(214, 39, 39)\", \"width\": 0.5}, \"mode\": \"lines\", \"name\": \"abc:def:coun2\", \"x\": [\"2017-09-19 22:29:00\", \"2017-11-10 16:09:00\", \"2017-12-13 17:26:00\", \"2017-12-19 12:59:00\", \"2017-12-19 15:29:00\", \"2017-12-19 19:39:00\", \"2017-12-20 15:29:00\", \"2017-12-20 15:49:00\", \"2017-12-20 16:09:00\", \"2018-01-08 17:29:00\", \"2018-01-08 17:39:00\", \"2018-01-27 15:56:00\", \"2018-04-26 19:36:00\", \"2018-05-04 17:26:00\", \"2018-05-05 17:26:00\", \"2018-05-13 16:06:00\", \"2018-05-19 16:56:00\", \"2018-05-21 20:06:00\", \"2018-05-30 19:56:00\", \"2018-08-15 17:56:00\"], \"y\": [800.6999999999999, 617.0999999999999, 637.5, 310.5, 310.5, 305.1, 305.1, 315.9, 617.0999999999999, 596.6999999999999, 596.6999999999999, 596.6999999999999, 632.4, 313.2, 313.2, 596.6999999999999, 307.79999999999995, 305.1, 612, 310.5], \"type\": \"scatter\", \"uid\": \"ca0701e9-b6a8-11e8-88cf-bc838521da56\"}],\n",
       "            {\"showlegend\": true, \"title\": \"stackedareachart\", \"xaxis\": {\"title\": \"timestamp\", \"type\": \"date\"}, \"yaxis\": {\"ticksuffix\": \"\", \"title\": \"count_, coun2\", \"type\": \"linear\"}},\n",
       "            {\"showLink\": true, \"linkText\": \"Export to plot.ly\"}\n",
       "        ).then(function () {return Plotly.addFrames('a9666a66-d9cc-4141-a610-a8d9f735558e',{});}).then(function(){Plotly.animate('a9666a66-d9cc-4141-a610-a8d9f735558e');})\n",
       "        });</script>"
      ]
     },
     "metadata": {},
     "output_type": "display_data"
    },
    {
     "data": {
      "text/html": [
       "<html>\n",
       "        <head>\n",
       "        \n",
       "        </head>\n",
       "        <body>\n",
       "        <div><p style='padding: 10px; color: #3a87ad; background-color: #d9edf7; border-color: #bce9f1'>Done&nbsp(00:01.566):&nbsp30&nbsprecords</p></div>\n",
       "        </body>\n",
       "        </html>"
      ],
      "text/plain": [
       "<IPython.core.display.HTML object>"
      ]
     },
     "metadata": {},
     "output_type": "display_data"
    },
    {
     "data": {
      "text/html": [],
      "text/plain": [
       "[{'timestamp': datetime.datetime(2017, 9, 19, 22, 29, tzinfo=tzutc()), 'count_': 157, 'tab': 'xyz', 'tab1': '', 'coun2': 266.9},\n",
       " {'timestamp': datetime.datetime(2017, 12, 13, 17, 26, tzinfo=tzutc()), 'count_': 125, 'tab': 'xyz', 'tab1': '', 'coun2': 212.5},\n",
       " {'timestamp': datetime.datetime(2018, 4, 26, 19, 36, tzinfo=tzutc()), 'count_': 124, 'tab': 'xyz', 'tab1': '', 'coun2': 210.79999999999998},\n",
       " {'timestamp': datetime.datetime(2017, 12, 20, 16, 9, tzinfo=tzutc()), 'count_': 121, 'tab': 'xyz', 'tab1': '', 'coun2': 205.7},\n",
       " {'timestamp': datetime.datetime(2017, 11, 10, 16, 9, tzinfo=tzutc()), 'count_': 121, 'tab': 'xyz', 'tab1': '', 'coun2': 205.7},\n",
       " {'timestamp': datetime.datetime(2018, 5, 30, 19, 56, tzinfo=tzutc()), 'count_': 120, 'tab': 'xyz', 'tab1': '', 'coun2': 204},\n",
       " {'timestamp': datetime.datetime(2017, 12, 20, 15, 49, tzinfo=tzutc()), 'count_': 117, 'tab': 'xyz', 'tab1': '', 'coun2': 198.9},\n",
       " {'timestamp': datetime.datetime(2018, 5, 13, 16, 6, tzinfo=tzutc()), 'count_': 117, 'tab': 'xyz', 'tab1': '', 'coun2': 198.9},\n",
       " {'timestamp': datetime.datetime(2018, 1, 8, 17, 29, tzinfo=tzutc()), 'count_': 117, 'tab': 'xyz', 'tab1': '', 'coun2': 198.9},\n",
       " {'timestamp': datetime.datetime(2018, 1, 27, 15, 56, tzinfo=tzutc()), 'count_': 117, 'tab': 'xyz', 'tab1': '', 'coun2': 198.9},\n",
       " {'timestamp': datetime.datetime(2018, 1, 8, 17, 39, tzinfo=tzutc()), 'count_': 117, 'tab': 'xyz', 'tab1': '', 'coun2': 198.9},\n",
       " {'timestamp': datetime.datetime(2018, 5, 5, 17, 26, tzinfo=tzutc()), 'count_': 116, 'tab': 'xyz', 'tab1': '', 'coun2': 197.2},\n",
       " {'timestamp': datetime.datetime(2018, 5, 4, 17, 26, tzinfo=tzutc()), 'count_': 116, 'tab': 'xyz', 'tab1': '', 'coun2': 197.2},\n",
       " {'timestamp': datetime.datetime(2017, 12, 19, 15, 29, tzinfo=tzutc()), 'count_': 115, 'tab': 'xyz', 'tab1': '', 'coun2': 195.5},\n",
       " {'timestamp': datetime.datetime(2017, 12, 19, 12, 59, tzinfo=tzutc()), 'count_': 115, 'tab': 'xyz', 'tab1': '', 'coun2': 195.5},\n",
       " {'timestamp': datetime.datetime(2018, 8, 15, 17, 56, tzinfo=tzutc()), 'count_': 115, 'tab': 'xyz', 'tab1': '', 'coun2': 195.5},\n",
       " {'timestamp': datetime.datetime(2018, 5, 19, 16, 56, tzinfo=tzutc()), 'count_': 114, 'tab': 'xyz', 'tab1': '', 'coun2': 193.79999999999998},\n",
       " {'timestamp': datetime.datetime(2018, 5, 21, 20, 6, tzinfo=tzutc()), 'count_': 113, 'tab': 'xyz', 'tab1': '', 'coun2': 192.1},\n",
       " {'timestamp': datetime.datetime(2017, 12, 19, 19, 39, tzinfo=tzutc()), 'count_': 113, 'tab': 'xyz', 'tab1': '', 'coun2': 192.1},\n",
       " {'timestamp': datetime.datetime(2017, 12, 20, 15, 29, tzinfo=tzutc()), 'count_': 113, 'tab': 'xyz', 'tab1': '', 'coun2': 192.1},\n",
       " {'timestamp': datetime.datetime(2017, 9, 19, 22, 29, tzinfo=tzutc()), 'count_': 157, 'tab': 'abc', 'tab1': 'def', 'coun2': 219.79999999999998},\n",
       " {'timestamp': datetime.datetime(2017, 12, 13, 17, 26, tzinfo=tzutc()), 'count_': 125, 'tab': 'abc', 'tab1': 'def', 'coun2': 175},\n",
       " {'timestamp': datetime.datetime(2018, 4, 26, 19, 36, tzinfo=tzutc()), 'count_': 124, 'tab': 'abc', 'tab1': 'def', 'coun2': 173.6},\n",
       " {'timestamp': datetime.datetime(2017, 12, 20, 16, 9, tzinfo=tzutc()), 'count_': 121, 'tab': 'abc', 'tab1': 'def', 'coun2': 169.39999999999998},\n",
       " {'timestamp': datetime.datetime(2017, 11, 10, 16, 9, tzinfo=tzutc()), 'count_': 121, 'tab': 'abc', 'tab1': 'def', 'coun2': 169.39999999999998},\n",
       " {'timestamp': datetime.datetime(2018, 5, 30, 19, 56, tzinfo=tzutc()), 'count_': 120, 'tab': 'abc', 'tab1': 'def', 'coun2': 168},\n",
       " {'timestamp': datetime.datetime(2018, 1, 27, 15, 56, tzinfo=tzutc()), 'count_': 117, 'tab': 'abc', 'tab1': 'def', 'coun2': 163.79999999999998},\n",
       " {'timestamp': datetime.datetime(2018, 5, 13, 16, 6, tzinfo=tzutc()), 'count_': 117, 'tab': 'abc', 'tab1': 'def', 'coun2': 163.79999999999998},\n",
       " {'timestamp': datetime.datetime(2018, 1, 8, 17, 29, tzinfo=tzutc()), 'count_': 117, 'tab': 'abc', 'tab1': 'def', 'coun2': 163.79999999999998},\n",
       " {'timestamp': datetime.datetime(2018, 1, 8, 17, 39, tzinfo=tzutc()), 'count_': 117, 'tab': 'abc', 'tab1': 'def', 'coun2': 163.79999999999998}]"
      ]
     },
     "execution_count": 5,
     "metadata": {},
     "output_type": "execute_result"
    }
   ],
   "source": [
    "%%kql union (pageViews | where client_City != '' | summarize count() by bin(timestamp, 1m) | extend tab='abc'| extend tab1='def'| extend coun2=count_*1.4  | sort by count_ | limit 10 | render stackedareachart),\n",
    "(pageViews | where client_City != '' | summarize count() by bin(timestamp, 1m) | extend tab='xyz' | extend coun2=count_*1.7 | sort by count_ | limit 20 | render stackedareachart)"
   ]
  },
  {
   "cell_type": "markdown",
   "metadata": {},
   "source": [
    "  - ### <span style=\"color:#82CAFA\">*Note - popup window that opened with the database@cluster schema*</span>\n",
    "  - ### <span style=\"color:#82CAFA\">*Note - Help menu contains the databse@cluster schema*</span>"
   ]
  },
  {
   "cell_type": "markdown",
   "metadata": {},
   "source": [
    "## Once connected you can query the current database@cluster"
   ]
  },
  {
   "cell_type": "code",
   "execution_count": null,
   "metadata": {
    "scrolled": false
   },
   "outputs": [],
   "source": [
    "%kql pageViews | where client_City != '' | summarize count() by client_City | sort by count_ | limit 10"
   ]
  },
  {
   "cell_type": "markdown",
   "metadata": {},
   "source": [
    "## Python code can access the result by the \\_ variable"
   ]
  },
  {
   "cell_type": "code",
   "execution_count": null,
   "metadata": {},
   "outputs": [],
   "source": [
    "_"
   ]
  },
  {
   "cell_type": "markdown",
   "metadata": {},
   "source": [
    "## Converts result data to a dataframe"
   ]
  },
  {
   "cell_type": "code",
   "execution_count": null,
   "metadata": {},
   "outputs": [],
   "source": [
    "df = _.to_dataframe()\n",
    "df"
   ]
  },
  {
   "cell_type": "code",
   "execution_count": null,
   "metadata": {},
   "outputs": [],
   "source": [
    "df.head()"
   ]
  },
  {
   "cell_type": "code",
   "execution_count": null,
   "metadata": {},
   "outputs": [],
   "source": [
    "df.client_City"
   ]
  },
  {
   "cell_type": "code",
   "execution_count": null,
   "metadata": {},
   "outputs": [],
   "source": [
    "df.min()"
   ]
  },
  {
   "cell_type": "code",
   "execution_count": null,
   "metadata": {},
   "outputs": [],
   "source": [
    "df.to_json()"
   ]
  },
  {
   "cell_type": "code",
   "execution_count": null,
   "metadata": {},
   "outputs": [],
   "source": [
    "df.columns"
   ]
  },
  {
   "cell_type": "markdown",
   "metadata": {},
   "source": [
    "## Excution of another cell overrides \\_ , However,  \\_kql\\_raw\\_result\\_ python variable holds last kql query result "
   ]
  },
  {
   "cell_type": "code",
   "execution_count": null,
   "metadata": {},
   "outputs": [],
   "source": [
    "_"
   ]
  },
  {
   "cell_type": "code",
   "execution_count": null,
   "metadata": {},
   "outputs": [],
   "source": [
    "_kql_raw_result_"
   ]
  },
  {
   "cell_type": "code",
   "execution_count": null,
   "metadata": {},
   "outputs": [],
   "source": [
    "_"
   ]
  },
  {
   "cell_type": "markdown",
   "metadata": {},
   "source": [
    "## Show a chart, render the query to the proper chart"
   ]
  },
  {
   "cell_type": "code",
   "execution_count": null,
   "metadata": {},
   "outputs": [],
   "source": [
    "%kql pageViews | where client_City != '' | summarize count() by client_City | sort by count_ | limit 10 | render piechart title='my apple pie' "
   ]
  },
  {
   "cell_type": "markdown",
   "metadata": {},
   "source": [
    "  - ### <span style=\"color:#82CAFA\">*Note: the chart is interactive, hoover to the right upper corner to get the menu, click on the legend to toggle facets, hoover on the chart to get value and percentage*</span>"
   ]
  },
  {
   "cell_type": "markdown",
   "metadata": {},
   "source": [
    "## Assign kql query result to a python variable"
   ]
  },
  {
   "cell_type": "code",
   "execution_count": null,
   "metadata": {},
   "outputs": [],
   "source": [
    "%kql my_bar_chart << pageViews | where client_City != '' | summarize count() by client_City | sort by count_ | limit 10 | render barchart title='my bar chart'"
   ]
  },
  {
   "cell_type": "markdown",
   "metadata": {},
   "source": [
    "  - ### <span style=\"color:#82CAFA\">*Note: nothing is displayed when the result is assigtned to a variable*</span>"
   ]
  },
  {
   "cell_type": "markdown",
   "metadata": {},
   "source": [
    "## Display kql result object"
   ]
  },
  {
   "cell_type": "code",
   "execution_count": null,
   "metadata": {},
   "outputs": [],
   "source": [
    "my_bar_chart"
   ]
  },
  {
   "cell_type": "markdown",
   "metadata": {},
   "source": [
    "## Access table data"
   ]
  },
  {
   "cell_type": "code",
   "execution_count": null,
   "metadata": {},
   "outputs": [],
   "source": [
    "my_bar_chart.show_table()"
   ]
  },
  {
   "cell_type": "code",
   "execution_count": null,
   "metadata": {},
   "outputs": [],
   "source": [
    "my_bar_chart[1]"
   ]
  },
  {
   "cell_type": "code",
   "execution_count": null,
   "metadata": {},
   "outputs": [],
   "source": [
    "my_bar_chart[1]['client_City']"
   ]
  },
  {
   "cell_type": "code",
   "execution_count": null,
   "metadata": {},
   "outputs": [],
   "source": [
    "my_bar_chart[1:5]"
   ]
  },
  {
   "cell_type": "code",
   "execution_count": null,
   "metadata": {},
   "outputs": [],
   "source": [
    "requests = %kql requests | project name, customDimensions | limit 5\n",
    "requests"
   ]
  },
  {
   "cell_type": "code",
   "execution_count": null,
   "metadata": {},
   "outputs": [],
   "source": [
    "requests[1:3]"
   ]
  },
  {
   "cell_type": "code",
   "execution_count": null,
   "metadata": {},
   "outputs": [],
   "source": [
    "requests[1]['name']"
   ]
  },
  {
   "cell_type": "code",
   "execution_count": null,
   "metadata": {},
   "outputs": [],
   "source": [
    "requests[1]['customDimensions']"
   ]
  },
  {
   "cell_type": "code",
   "execution_count": null,
   "metadata": {},
   "outputs": [],
   "source": [
    "requests[1]['customDimensions']['_MS.ProcessedByMetricExtractors']"
   ]
  },
  {
   "cell_type": "markdown",
   "metadata": {},
   "source": [
    "  - ### <span style=\"color:#82CAFA\">*Note: that you can access directly dynamic object data.*</span>"
   ]
  },
  {
   "cell_type": "code",
   "execution_count": null,
   "metadata": {},
   "outputs": [],
   "source": [
    "df = requests.to_dataframe()\n",
    "df"
   ]
  },
  {
   "cell_type": "code",
   "execution_count": null,
   "metadata": {},
   "outputs": [],
   "source": [
    "df['customDimensions'][0]['_MS.ProcessedByMetricExtractors']"
   ]
  },
  {
   "cell_type": "markdown",
   "metadata": {},
   "source": [
    "  - ### <span style=\"color:#82CAFA\">*Note: that access to data in dataframe is different, you first specify the column and then the row.*</span>"
   ]
  },
  {
   "cell_type": "code",
   "execution_count": null,
   "metadata": {},
   "outputs": [],
   "source": [
    "df['name'][1]"
   ]
  },
  {
   "cell_type": "markdown",
   "metadata": {},
   "source": [
    "  - ### <span style=\"color:#82CAFA\">*Note: that datetime in dataframe is Timestamp.*</span>"
   ]
  },
  {
   "cell_type": "markdown",
   "metadata": {},
   "source": [
    "## Cell mixed with single line kql queries "
   ]
  },
  {
   "cell_type": "code",
   "execution_count": null,
   "metadata": {},
   "outputs": [],
   "source": [
    "%kql bar_chart << pageViews | where client_City != '' | summarize count() by client_City | sort by count_ | limit 10 | render barchart title='my bar chart'\n",
    "print(bar_chart)\n",
    "%kql pie_chart << pageViews | where client_City != '' | summarize count() by client_City | sort by count_ | limit 10 | render piechart title='my pie chart'\n",
    "display(bar_chart)\n",
    "display(pie_chart)"
   ]
  },
  {
   "cell_type": "markdown",
   "metadata": {},
   "source": [
    "  - ### <span style=\"color:#82CAFA\">*Note: single line magics (starts with only one \\%) can share the same cell with python code*</span>"
   ]
  },
  {
   "cell_type": "markdown",
   "metadata": {},
   "source": [
    "## Multiline query "
   ]
  },
  {
   "cell_type": "code",
   "execution_count": null,
   "metadata": {},
   "outputs": [],
   "source": [
    "%%kql \n",
    "    pageViews \n",
    "    | where client_City != '' \n",
    "    | summarize count() by client_City \n",
    "    | sort by count_ \n",
    "    | limit 10\n",
    "    | render columnchart title='my column chart' "
   ]
  },
  {
   "cell_type": "markdown",
   "metadata": {},
   "source": [
    "  - ### <span style=\"color:#82CAFA\">*Note: that this is a multiline magic, it starts with \\%\\%. It can include only kql code*</span>"
   ]
  },
  {
   "cell_type": "markdown",
   "metadata": {},
   "source": [
    "## Show last chart result as a table"
   ]
  },
  {
   "cell_type": "code",
   "execution_count": null,
   "metadata": {},
   "outputs": [],
   "source": [
    "_.show_table()"
   ]
  },
  {
   "cell_type": "markdown",
   "metadata": {},
   "source": [
    "## Show last result in a popup window"
   ]
  },
  {
   "cell_type": "code",
   "execution_count": null,
   "metadata": {},
   "outputs": [],
   "source": [
    "_.popup()"
   ]
  },
  {
   "cell_type": "markdown",
   "metadata": {},
   "source": [
    "## Resize poup window, and to adjust the chart inside the window press F5"
   ]
  },
  {
   "cell_type": "markdown",
   "metadata": {},
   "source": [
    "  - ### <span style=\"color:#82CAFA\">*Note: when you F5, you loose the latest chart display state*</span>"
   ]
  },
  {
   "cell_type": "markdown",
   "metadata": {},
   "source": [
    "## Show last chart result as a table in a popup window"
   ]
  },
  {
   "cell_type": "code",
   "execution_count": null,
   "metadata": {},
   "outputs": [],
   "source": [
    "_kql_raw_result_.popup_table()"
   ]
  },
  {
   "cell_type": "markdown",
   "metadata": {},
   "source": [
    "## More complex chart"
   ]
  },
  {
   "cell_type": "code",
   "execution_count": null,
   "metadata": {},
   "outputs": [],
   "source": [
    "%%kql \n",
    "    pageViews \n",
    "    | where client_City != '' \n",
    "    | summarize count() by client_City \n",
    "    | sort by count_ \n",
    "    | extend count2 = count_*count_ \n",
    "    | limit 10 \n",
    "    | render piechart title='my pie chart #2' "
   ]
  },
  {
   "cell_type": "markdown",
   "metadata": {},
   "source": [
    "## Convert result data to dictionary of columns"
   ]
  },
  {
   "cell_type": "code",
   "execution_count": null,
   "metadata": {},
   "outputs": [],
   "source": [
    "dict_of_columns = _kql_raw_result_.to_dict()\n",
    "print(dict_of_columns)"
   ]
  },
  {
   "cell_type": "code",
   "execution_count": null,
   "metadata": {},
   "outputs": [],
   "source": [
    "_kql_raw_result_.to_csv('csv_file.csv')\n",
    "!type csv_file.csv"
   ]
  },
  {
   "cell_type": "markdown",
   "metadata": {},
   "source": [
    "# Get last kql query attributes "
   ]
  },
  {
   "cell_type": "markdown",
   "metadata": {},
   "source": [
    "## Query string"
   ]
  },
  {
   "cell_type": "code",
   "execution_count": null,
   "metadata": {},
   "outputs": [],
   "source": [
    "_kql_raw_result_.query"
   ]
  },
  {
   "cell_type": "markdown",
   "metadata": {},
   "source": [
    "## Query render title"
   ]
  },
  {
   "cell_type": "code",
   "execution_count": null,
   "metadata": {},
   "outputs": [],
   "source": [
    "_kql_raw_result_.title"
   ]
  },
  {
   "cell_type": "markdown",
   "metadata": {},
   "source": [
    "## Query render visualization"
   ]
  },
  {
   "cell_type": "code",
   "execution_count": null,
   "metadata": {},
   "outputs": [],
   "source": [
    "_kql_raw_result_.visualization"
   ]
  },
  {
   "cell_type": "markdown",
   "metadata": {},
   "source": [
    "## Number of records in query response "
   ]
  },
  {
   "cell_type": "code",
   "execution_count": null,
   "metadata": {},
   "outputs": [],
   "source": [
    "_kql_raw_result_.records_count"
   ]
  },
  {
   "cell_type": "markdown",
   "metadata": {},
   "source": [
    "## List of columns in query table response"
   ]
  },
  {
   "cell_type": "code",
   "execution_count": null,
   "metadata": {},
   "outputs": [],
   "source": [
    "_kql_raw_result_.columns_name"
   ]
  },
  {
   "cell_type": "markdown",
   "metadata": {},
   "source": [
    "## Kqlmagic time metric (in seconds)"
   ]
  },
  {
   "cell_type": "code",
   "execution_count": null,
   "metadata": {},
   "outputs": [],
   "source": [
    "_kql_raw_result_.start_time"
   ]
  },
  {
   "cell_type": "code",
   "execution_count": null,
   "metadata": {},
   "outputs": [],
   "source": [
    "_kql_raw_result_.end_time"
   ]
  },
  {
   "cell_type": "code",
   "execution_count": null,
   "metadata": {},
   "outputs": [],
   "source": [
    "_kql_raw_result_.elapsed_timespan"
   ]
  },
  {
   "cell_type": "markdown",
   "metadata": {},
   "source": [
    "## Query connection database@cluster"
   ]
  },
  {
   "cell_type": "code",
   "execution_count": null,
   "metadata": {},
   "outputs": [],
   "source": [
    "_kql_raw_result_.connection"
   ]
  },
  {
   "cell_type": "markdown",
   "metadata": {},
   "source": [
    "## Query Options (settings) "
   ]
  },
  {
   "cell_type": "code",
   "execution_count": null,
   "metadata": {},
   "outputs": [],
   "source": [
    "_kql_raw_result_.options"
   ]
  },
  {
   "cell_type": "markdown",
   "metadata": {},
   "source": [
    "## Completion query information (query metadata)"
   ]
  },
  {
   "cell_type": "code",
   "execution_count": null,
   "metadata": {},
   "outputs": [],
   "source": [
    "_kql_raw_result_.completion_query_info"
   ]
  },
  {
   "cell_type": "markdown",
   "metadata": {},
   "source": [
    "## Completion query resource consumption (query metadata)"
   ]
  },
  {
   "cell_type": "code",
   "execution_count": null,
   "metadata": {},
   "outputs": [],
   "source": [
    "_kql_raw_result_.completion_query_resource_consumption"
   ]
  },
  {
   "cell_type": "code",
   "execution_count": null,
   "metadata": {},
   "outputs": [],
   "source": [
    "_kql_raw_result_.completion_query_resource_consumption['resource_usage']['cache']['memory']['hits']"
   ]
  },
  {
   "cell_type": "markdown",
   "metadata": {},
   "source": [
    "## Query raw json response"
   ]
  },
  {
   "cell_type": "code",
   "execution_count": null,
   "metadata": {
    "scrolled": true
   },
   "outputs": [],
   "source": [
    "_kql_raw_result_.raw_json"
   ]
  },
  {
   "cell_type": "code",
   "execution_count": null,
   "metadata": {},
   "outputs": [],
   "source": [
    "_kql_raw_result_.raw_json['Tables'][1]['TableName']"
   ]
  },
  {
   "cell_type": "code",
   "execution_count": null,
   "metadata": {},
   "outputs": [],
   "source": [
    "_kql_raw_result_.raw_json['Tables'][1]['Columns'][0]['ColumnName']"
   ]
  },
  {
   "cell_type": "code",
   "execution_count": null,
   "metadata": {},
   "outputs": [],
   "source": [
    "_kql_raw_result_.raw_json['Tables'][3]['Rows'][0][1]"
   ]
  },
  {
   "cell_type": "markdown",
   "metadata": {},
   "source": [
    "# Advanced part"
   ]
  },
  {
   "cell_type": "markdown",
   "metadata": {},
   "source": [
    "## Kql query with option -c2lv (-columns_to_local_vars)"
   ]
  },
  {
   "cell_type": "code",
   "execution_count": null,
   "metadata": {},
   "outputs": [],
   "source": [
    "%%kql -c2lv \n",
    "    pageViews \n",
    "    | where client_City != '' \n",
    "    | summarize count() by client_City \n",
    "    | sort by count_ | limit 10\n",
    "    | render columnchart title='my column chart' "
   ]
  },
  {
   "cell_type": "markdown",
   "metadata": {},
   "source": [
    "  - ### <span style=\"color:#82CAFA\">*Note: option are specified before the query*</span>\n",
    "  - ### <span style=\"color:#82CAFA\">*Note: c2lv is abbreviation of columns_to_local_vars options*</span>\n",
    "  - ### <span style=\"color:#82CAFA\">*Note: columns_to_local_vars option returns data result in local variables from column names*</span>"
   ]
  },
  {
   "cell_type": "markdown",
   "metadata": {},
   "source": [
    "### result data is assigned to local variables with columns names"
   ]
  },
  {
   "cell_type": "code",
   "execution_count": null,
   "metadata": {},
   "outputs": [],
   "source": [
    "client_City"
   ]
  },
  {
   "cell_type": "code",
   "execution_count": null,
   "metadata": {},
   "outputs": [],
   "source": [
    "count_"
   ]
  },
  {
   "cell_type": "markdown",
   "metadata": {},
   "source": [
    "## Kql query with option -ph (-popup_help)"
   ]
  },
  {
   "cell_type": "code",
   "execution_count": null,
   "metadata": {},
   "outputs": [],
   "source": [
    "%kql -ph"
   ]
  },
  {
   "cell_type": "markdown",
   "metadata": {},
   "source": [
    "  - ### <span style=\"color:#82CAFA\">*Note - current database@cluster is always shown*</span>"
   ]
  },
  {
   "cell_type": "markdown",
   "metadata": {},
   "source": [
    "## Kql query with negated option -f (-feedback)"
   ]
  },
  {
   "cell_type": "code",
   "execution_count": null,
   "metadata": {},
   "outputs": [],
   "source": [
    "%%kql -!feedback \n",
    "    pageViews \n",
    "    | where client_City != '' \n",
    "    | summarize count() by client_City \n",
    "    | sort by count_ \n",
    "    | limit 10 \n",
    "    | render barchart title='my bar chart'"
   ]
  },
  {
   "cell_type": "markdown",
   "metadata": {},
   "source": [
    "  - ### <span style=\"color:#82CAFA\">*Note: the feedback message 'Done..... records' was not displayed because of the negated feedback option*</span>\n",
    "  - ### <span style=\"color:#82CAFA\">*Note: option is negated by adding \\! before the option*</span>\n",
    "  - ### <span style=\"color:#82CAFA\">*Note: full option name instead of abbreviation can be used too*</span>\n",
    "  - ### <span style=\"color:#82CAFA\">*Note: feedback option is on by default, so to turn it off, it must be negated*</span>"
   ]
  },
  {
   "cell_type": "markdown",
   "metadata": {},
   "source": [
    "## Get default value of optionfeedback (f)"
   ]
  },
  {
   "cell_type": "code",
   "execution_count": null,
   "metadata": {},
   "outputs": [],
   "source": [
    "%config Kqlmagic.feedback"
   ]
  },
  {
   "cell_type": "markdown",
   "metadata": {},
   "source": [
    "  - ### <span style=\"color:#82CAFA\">*Note: options have defaults, and can be accessed to read or modify using %config magic*</span>"
   ]
  },
  {
   "cell_type": "markdown",
   "metadata": {},
   "source": [
    "## Set default value of option feedback (f) to False"
   ]
  },
  {
   "cell_type": "code",
   "execution_count": null,
   "metadata": {},
   "outputs": [],
   "source": [
    "%config Kqlmagic.feedback=False\n",
    "%config Kqlmagic.feedback"
   ]
  },
  {
   "cell_type": "code",
   "execution_count": null,
   "metadata": {},
   "outputs": [],
   "source": [
    "%%kql \n",
    "    pageViews \n",
    "    | where client_City != '' \n",
    "    | summarize count() by client_City \n",
    "    | sort by count_ \n",
    "    | extend count2 = count_*count_ \n",
    "    | limit 5"
   ]
  },
  {
   "cell_type": "markdown",
   "metadata": {},
   "source": [
    "  - ### <span style=\"color:#82CAFA\">*Note: feedback message was not displayed, because the default feedback option was set to False*</span>"
   ]
  },
  {
   "cell_type": "code",
   "execution_count": null,
   "metadata": {},
   "outputs": [],
   "source": [
    "%config Kqlmagic.feedback=True\n",
    "%config Kqlmagic.feedback"
   ]
  },
  {
   "cell_type": "markdown",
   "metadata": {},
   "source": [
    "## Kql query with option -version (print kqlmagic version)"
   ]
  },
  {
   "cell_type": "code",
   "execution_count": null,
   "metadata": {},
   "outputs": [],
   "source": [
    "%kql -version"
   ]
  },
  {
   "cell_type": "markdown",
   "metadata": {},
   "source": [
    "## Show all option defaults with help"
   ]
  },
  {
   "cell_type": "code",
   "execution_count": null,
   "metadata": {},
   "outputs": [],
   "source": [
    "%config Kqlmagic"
   ]
  },
  {
   "cell_type": "markdown",
   "metadata": {},
   "source": [
    "## Show query results in a popup window"
   ]
  },
  {
   "cell_type": "code",
   "execution_count": null,
   "metadata": {},
   "outputs": [],
   "source": [
    "%%kql -pw \n",
    "    let randn = () {rand() + rand() + rand() + rand() + rand() + rand() + rand() + rand() + rand() + rand() + rand() + rand() + rand() + rand()};\n",
    "range c from 1 to 1000 step 1 \n",
    "    | limit 1000\n",
    "    | extend e1 = randn()\n",
    "    | extend e2 = randn()\n",
    "    | extend e3 = randn()\n",
    "    | extend e4 = randn()\n",
    "    | extend e5 = randn()\n",
    "    | project e1,e2,e3,e4,e5\n",
    "    | render scatterchart title=\"Michael's chart\""
   ]
  },
  {
   "cell_type": "markdown",
   "metadata": {},
   "source": [
    "  - ### <span style=\"color:#82CAFA\">*Note: popup_window option (abbr: pw) cause the result to be displayed in a popup window*</span>"
   ]
  },
  {
   "cell_type": "markdown",
   "metadata": {},
   "source": [
    "## Empty table"
   ]
  },
  {
   "cell_type": "code",
   "execution_count": null,
   "metadata": {},
   "outputs": [],
   "source": [
    "%%kql \n",
    "    pageViews \n",
    "    | where client_City != '' \n",
    "    | summarize count() by client_City \n",
    "    | sort by count_ \n",
    "    | extend count2 = count_*count_ \n",
    "    | limit 0"
   ]
  },
  {
   "cell_type": "code",
   "execution_count": null,
   "metadata": {},
   "outputs": [],
   "source": [
    "%%kql \n",
    "    pageViews \n",
    "    | where client_City != '' \n",
    "    | summarize count() by client_City \n",
    "    | sort by count_ \n",
    "    | extend count2 = count_*count_ \n",
    "    | limit 0 \n",
    "    | render piechart title='my chart'"
   ]
  },
  {
   "cell_type": "code",
   "execution_count": null,
   "metadata": {},
   "outputs": [],
   "source": [
    "len(_kql_raw_result_)"
   ]
  },
  {
   "cell_type": "code",
   "execution_count": null,
   "metadata": {},
   "outputs": [],
   "source": [
    "_kql_raw_result_.popup()"
   ]
  },
  {
   "cell_type": "code",
   "execution_count": null,
   "metadata": {},
   "outputs": [],
   "source": [
    "_kql_raw_result_.show_table()"
   ]
  },
  {
   "cell_type": "code",
   "execution_count": null,
   "metadata": {},
   "outputs": [],
   "source": [
    "df = _kql_raw_result_.to_dataframe()\n",
    "df"
   ]
  },
  {
   "cell_type": "code",
   "execution_count": null,
   "metadata": {},
   "outputs": [],
   "source": [
    "df.to_json()"
   ]
  },
  {
   "cell_type": "code",
   "execution_count": null,
   "metadata": {
    "scrolled": true
   },
   "outputs": [],
   "source": [
    "_kql_raw_result_.raw_json"
   ]
  },
  {
   "cell_type": "markdown",
   "metadata": {},
   "source": [
    "## Kql request with fork - return multiple tables"
   ]
  },
  {
   "cell_type": "code",
   "execution_count": null,
   "metadata": {},
   "outputs": [],
   "source": [
    "%%kql \n",
    "    pageViews \n",
    "    | where client_City != '' \n",
    "    | summarize count() by client_City \n",
    "    | sort by count_ \n",
    "    | extend count2 = count_*count_ \n",
    "    | fork (limit 10) (project client_City \n",
    "    | limit 5)"
   ]
  },
  {
   "cell_type": "code",
   "execution_count": null,
   "metadata": {},
   "outputs": [],
   "source": [
    "_kql_raw_result_.fork_result(1)"
   ]
  },
  {
   "cell_type": "markdown",
   "metadata": {},
   "source": [
    "## Submit same query"
   ]
  },
  {
   "cell_type": "code",
   "execution_count": null,
   "metadata": {
    "scrolled": false
   },
   "outputs": [],
   "source": [
    " _kql_raw_result_.submit()"
   ]
  },
  {
   "cell_type": "code",
   "execution_count": null,
   "metadata": {},
   "outputs": [],
   "source": [
    " _kql_raw_result_.fork_result(1)"
   ]
  },
  {
   "cell_type": "markdown",
   "metadata": {},
   "source": [
    "## Refresh query"
   ]
  },
  {
   "cell_type": "code",
   "execution_count": null,
   "metadata": {},
   "outputs": [],
   "source": [
    "_kql_raw_result_.fork_result(1).refresh()"
   ]
  },
  {
   "cell_type": "code",
   "execution_count": null,
   "metadata": {},
   "outputs": [],
   "source": [
    "_kql_raw_result_.fork_result(0)"
   ]
  },
  {
   "cell_type": "code",
   "execution_count": null,
   "metadata": {},
   "outputs": [],
   "source": [
    "_kql_raw_result_"
   ]
  },
  {
   "cell_type": "code",
   "execution_count": null,
   "metadata": {},
   "outputs": [],
   "source": []
  }
 ],
 "metadata": {
  "kernelspec": {
   "display_name": "Python 3",
   "language": "python",
   "name": "python3"
  },
  "language_info": {
   "codemirror_mode": {
    "name": "ipython",
    "version": 3
   },
   "file_extension": ".py",
   "mimetype": "text/x-python",
   "name": "python",
   "nbconvert_exporter": "python",
   "pygments_lexer": "ipython3",
   "version": "3.6.1"
  }
 },
 "nbformat": 4,
 "nbformat_minor": 2
}
