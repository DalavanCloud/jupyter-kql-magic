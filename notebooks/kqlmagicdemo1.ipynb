{
 "cells": [
  {
   "cell_type": "markdown",
   "metadata": {},
   "source": [
    "# Kql Magic Demo\n",
    "1. press F11 for browser full screen  \n",
    "2. if in jupyter lab, select 'Single-Document Mode' and 'Presentation Mode' in View tab (Ctrl + Shift + D)  \n",
    "3. select 'Restart Kernel and Clear All Outputs...' in Kernel tab  \n",
    "4. repeat: press Shift+Enter to run selected cells"
   ]
  },
  {
   "cell_type": "markdown",
   "metadata": {},
   "source": [
    "![alt text](images/Kusto.jpg \"Kusto Magic\")"
   ]
  },
  {
   "cell_type": "markdown",
   "metadata": {},
   "source": [
    "### List current defined Magics\n",
    "*%kql and %%kql should not be listed*"
   ]
  },
  {
   "cell_type": "code",
   "execution_count": null,
   "metadata": {},
   "outputs": [],
   "source": [
    "%lsmagic"
   ]
  },
  {
   "cell_type": "code",
   "execution_count": 5,
   "metadata": {},
   "outputs": [
    {
     "data": {
      "application/javascript": [
       "require([\"nbextensions/snippets_menu/main\"], function (snippets_menu) {\n",
       "    console.log('Loading `snippets_menu` customizations from `custom.js`');\n",
       "    var horizontal_line = '---';\n",
       "    var my_favorites = {\n",
       "        'name' : 'My favorites',\n",
       "        'sub-menu' : [\n",
       "            {\n",
       "                'name' : 'Menu item text',\n",
       "                'snippet' : ['new_command(3.14)',],\n",
       "            },\n",
       "            {\n",
       "                'name' : 'Another menu item',\n",
       "                'snippet' : ['another_new_command(2.78)',],\n",
       "            },\n",
       "        ],\n",
       "    };\n",
       "    snippets_menu.options['menus'] = snippets_menu.default_menus;\n",
       "    snippets_menu.options['menus'][0]['sub-menu'].push(horizontal_line);\n",
       "    snippets_menu.options['menus'][0]['sub-menu'].push(my_favorites);\n",
       "    console.log('Loaded `snippets_menu` customizations from `custom.js`');\n",
       "});"
      ],
      "text/plain": [
       "<IPython.core.display.Javascript object>"
      ]
     },
     "metadata": {},
     "output_type": "display_data"
    }
   ],
   "source": [
    "%%javascript\n",
    "require([\"nbextensions/snippets_menu/main\"], function (snippets_menu) {\n",
    "    console.log('Loading `snippets_menu` customizations from `custom.js`');\n",
    "    var horizontal_line = '---';\n",
    "    var my_favorites = {\n",
    "        'name' : 'My favorites',\n",
    "        'sub-menu' : [\n",
    "            {\n",
    "                'name' : 'Menu item text',\n",
    "                'snippet' : ['new_command(3.14)',],\n",
    "            },\n",
    "            {\n",
    "                'name' : 'Another menu item',\n",
    "                'snippet' : ['another_new_command(2.78)',],\n",
    "            },\n",
    "        ],\n",
    "    };\n",
    "    snippets_menu.options['menus'] = snippets_menu.default_menus;\n",
    "    snippets_menu.options['menus'][0]['sub-menu'].push(horizontal_line);\n",
    "    snippets_menu.options['menus'][0]['sub-menu'].push(my_favorites);\n",
    "    console.log('Loaded `snippets_menu` customizations from `custom.js`');\n",
    "});\n"
   ]
  },
  {
   "cell_type": "markdown",
   "metadata": {},
   "source": [
    "### Load KqlMagic \n",
    "\n",
    "*current load is from source code folder*  \n",
    "*once KqlMagic will be public, will load from known repository *"
   ]
  },
  {
   "cell_type": "code",
   "execution_count": 6,
   "metadata": {},
   "outputs": [
    {
     "name": "stdout",
     "output_type": "stream",
     "text": [
      "Collecting git+git://github.com/mbnshtck/jupyter-kql-magic.git\n",
      "  Cloning git://github.com/mbnshtck/jupyter-kql-magic.git to c:\\users\\michabin\\appdata\\local\\temp\\pip-req-build-tkiyho8f\n",
      "    Complete output from command python setup.py egg_info:\n",
      "    Traceback (most recent call last):\n",
      "      File \"<string>\", line 1, in <module>\n",
      "      File \"C:\\Users\\michabin\\AppData\\Local\\Temp\\pip-req-build-tkiyho8f\\setup.py\", line 78\n",
      "        packages=find_packages('src'),\n",
      "        ^\n",
      "    SyntaxError: keyword argument repeated\n",
      "    \n",
      "    ----------------------------------------\n"
     ]
    },
    {
     "name": "stderr",
     "output_type": "stream",
     "text": [
      "Command \"python setup.py egg_info\" failed with error code 1 in C:\\Users\\michabin\\AppData\\Local\\Temp\\pip-req-build-tkiyho8f\\\n"
     ]
    }
   ],
   "source": [
    "!pip install git+git://github.com/mbnshtck/jupyter-kql-magic.git"
   ]
  },
  {
   "cell_type": "code",
   "execution_count": null,
   "metadata": {},
   "outputs": [],
   "source": [
    "from IPython.core.magics.display import Javascript\n",
    "\n",
    "def markdown_below():\n",
    "    display(Javascript(\"\"\"\n",
    "    IPython.notebook.insert_cell_above('markdown')\n",
    "    \"\"\"));\n",
    "    \n",
    "def get_cell_index():\n",
    "    display(Javascript(\"\"\"IPython.notebook.kernel.execute(\"cell_index = '\" + IPython.notebook.get_selected_index() + \"'\")\"\"\"));\n",
    "\n",
    "get_cell_index()"
   ]
  },
  {
   "cell_type": "code",
   "execution_count": null,
   "metadata": {
    "scrolled": true
   },
   "outputs": [],
   "source": [
    "NOTEBOOK_URL"
   ]
  },
  {
   "cell_type": "code",
   "execution_count": null,
   "metadata": {},
   "outputs": [],
   "source": [
    "from IPython.core.magics.display import Javascript"
   ]
  },
  {
   "cell_type": "code",
   "execution_count": null,
   "metadata": {},
   "outputs": [],
   "source": [
    "display(Javascript(\"\"\"var win = window.open(\"https://www.w3schools.com/\", \"abc\", \"width=200,height=200\");\n",
    "win.resizeTo(500,500);\n",
    "\"\"\"))\n"
   ]
  },
  {
   "cell_type": "code",
   "execution_count": null,
   "metadata": {},
   "outputs": [],
   "source": [
    "cell_index"
   ]
  },
  {
   "cell_type": "markdown",
   "metadata": {},
   "source": []
  },
  {
   "cell_type": "code",
   "execution_count": null,
   "metadata": {},
   "outputs": [],
   "source": [
    "from IPython.core.magics.display import Javascript\n",
    "\n",
    "display(Javascript(\"\"\"IPython.notebook.kernel.execute(\"NOTEBOOK_URL = '\" + window.location + \"'\")\"\"\"))\n",
    "\n",
    "print(NOTEBOOK_URL)\n"
   ]
  },
  {
   "cell_type": "code",
   "execution_count": null,
   "metadata": {},
   "outputs": [],
   "source": [
    "%connect_info magic"
   ]
  },
  {
   "cell_type": "code",
   "execution_count": null,
   "metadata": {},
   "outputs": [],
   "source": [
    "a = get_ipython()\n",
    "%pinfo a"
   ]
  },
  {
   "cell_type": "code",
   "execution_count": null,
   "metadata": {},
   "outputs": [],
   "source": [
    "%quickref"
   ]
  },
  {
   "cell_type": "code",
   "execution_count": null,
   "metadata": {},
   "outputs": [],
   "source": [
    "%%capture?"
   ]
  },
  {
   "cell_type": "code",
   "execution_count": null,
   "metadata": {},
   "outputs": [],
   "source": [
    "%%javascript\n",
    " // Opera 8.0+\n",
    "    var isOpera = (!!window.opr && !!opr.addons) || !!window.opera || navigator.userAgent.indexOf(' OPR/') >= 0;\n",
    "\n",
    "    // Firefox 1.0+\n",
    "    var isFirefox = typeof InstallTrigger !== 'undefined';\n",
    "\n",
    "    // Safari 3.0+ \"[object HTMLElementConstructor]\" \n",
    "    var isSafari = /constructor/i.test(window.HTMLElement) || (function (p) { return p.toString() === \"[object SafariRemoteNotification]\"; })(!window['safari'] || safari.pushNotification);\n",
    "\n",
    "    // Internet Explorer 6-11\n",
    "    var isIE = /*@cc_on!@*/false || !!document.documentMode;\n",
    "\n",
    "    // Edge 20+\n",
    "    var isEdge = !isIE && !!window.StyleMedia;\n",
    "\n",
    "    // Chrome 1+\n",
    "    var isChrome = !!window.chrome && !!window.chrome.webstore;\n",
    "\n",
    "    // Blink engine detection\n",
    "    var isBlink = (isChrome || isOpera) && !!window.CSS;\n",
    "\n",
    "var output = '{';\n",
    "output += '\"isFirefox\" : ' + (isFirefox ? 'True' : 'False');\n",
    "output += ',\"isChrome\" : ' + (isChrome ? 'True' : 'False');\n",
    "output += ',\"isSafari\" : ' + (isSafari ? 'True' : 'False');\n",
    "output += ',\"isOpera\" : ' + (isOpera ? 'True' : 'False');\n",
    "output += ',\"isIE\" : ' + (isIE ? 'True' : 'False');\n",
    "output += ',\" isEdge\" : ' + (isEdge ? 'True' : 'False');\n",
    "output += ',\"isBlink\" : ' + (isBlink ? 'True' : 'False');\n",
    "output += '}';\n",
    "IPython.notebook.kernel.execute(\"BROWSER_OUTPUT = '\" + output + \"'\")"
   ]
  },
  {
   "cell_type": "code",
   "execution_count": null,
   "metadata": {},
   "outputs": [],
   "source": [
    "eval(BROWSER_OUTPUT).get('isFirefox',False)"
   ]
  },
  {
   "cell_type": "code",
   "execution_count": 1,
   "metadata": {
    "scrolled": false
   },
   "outputs": [
    {
     "name": "stdout",
     "output_type": "stream",
     "text": [
      "C:\\My Projects\\KqlMagic\\src\n"
     ]
    },
    {
     "data": {
      "text/html": [
       "<script>requirejs.config({paths: { 'plotly': ['https://cdn.plot.ly/plotly-latest.min']},});if(!window.Plotly) {{require(['plotly'],function(plotly) {window.Plotly=plotly;});}}</script>"
      ],
      "text/vnd.plotly.v1+html": [
       "<script>requirejs.config({paths: { 'plotly': ['https://cdn.plot.ly/plotly-latest.min']},});if(!window.Plotly) {{require(['plotly'],function(plotly) {window.Plotly=plotly;});}}</script>"
      ]
     },
     "metadata": {},
     "output_type": "display_data"
    },
    {
     "data": {
      "text/html": [
       "<html>\n",
       "        <head>\n",
       "        <style>\n",
       "        .flex-container {\n",
       "            display: flex; \n",
       "            background-color: #d9edf7;\n",
       "        }\n",
       "        .flex-container > div {\n",
       "            margin: 10px; \n",
       "            padding: 20px; \n",
       "            color: #3a87ad; \n",
       "            font-size: 16px;\n",
       "        }\n",
       "        </style>\n",
       "        </head>\n",
       "        <body>\n",
       "            <div class='flex-container'>\n",
       "                <div><img src='data:image/png;base64,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'></div>\n",
       "                <div>\n",
       "                    <p>Kusto is a log analytics cloud platform optimized for ad-hoc big data queries. Read more about it here: http://aka.ms/kdocs</p>\n",
       "                    <p>Run '%config kqlmagic' for configuration.</p>\n",
       "                    <p>Run '%kql?' for syntax.</p>\n",
       "                </div>\n",
       "            </div>\n",
       "        </body>\n",
       "        </html>"
      ],
      "text/plain": [
       "<IPython.core.display.HTML object>"
      ]
     },
     "metadata": {},
     "output_type": "display_data"
    },
    {
     "data": {
      "application/javascript": [
       "IPython.notebook.kernel.execute(\"NOTEBOOK_URL = '\" + window.location + \"'\")"
      ],
      "text/plain": [
       "<IPython.core.display.Javascript object>"
      ]
     },
     "metadata": {},
     "output_type": "display_data"
    },
    {
     "name": "stdout",
     "output_type": "stream",
     "text": [
      "c:\\My Projects\\KqlMagic\\notebooks\n",
      "popd -> c:\\My Projects\\KqlMagic\\notebooks\n"
     ]
    }
   ],
   "source": [
    "%pushd C:\\My Projects\\KqlMagic\\src\n",
    "%reload_ext kql\n",
    "%popd"
   ]
  },
  {
   "cell_type": "code",
   "execution_count": 3,
   "metadata": {},
   "outputs": [
    {
     "data": {
      "text/html": [
       "<html>\n",
       "        <head>\n",
       "        \n",
       "        </head>\n",
       "        <body>\n",
       "        <div><p style='padding: 10px; color: #3a87ad; background-color: #d9edf7; border-color: #bce9f1'>To&nbspsign&nbspin,&nbspuse&nbspa&nbspweb&nbspbrowser&nbspto&nbspopen&nbspthe&nbsppage&nbsphttps://microsoft.com/devicelogin&nbspand&nbspenter&nbspthe&nbspcode&nbspDU7864JB4&nbspto&nbspauthenticate.</p></div>\n",
       "        </body>\n",
       "        </html>"
      ],
      "text/plain": [
       "<IPython.core.display.HTML object>"
      ]
     },
     "metadata": {},
     "output_type": "display_data"
    },
    {
     "data": {
      "text/html": [
       "<!DOCTYPE html>\n",
       "                <html>\n",
       "                <body>\n",
       "\n",
       "                <h1 id=\"user_code_p\">Copy this code:    <b>DU7864JB4   </b></h1>\n",
       "\n",
       "                <button onclick=\"this.style.visibility='hidden';document.getElementById('user_code_p').innerHTML = '';myFunction()\">Click to open authentication  window DU7864JB4</button>\n",
       "\n",
       "                <script>\n",
       "                function myFunction() {\n",
       "                    var myWindow = window.open('https://microsoft.com/devicelogin', 'DU7864JB4', \"width=200,height=100\");\n",
       "                    // myWindow.document.write(\"<p>This window's name is: \" + myWindow.name + \"</p>\");\n",
       "                }\n",
       "                </script>\n",
       "\n",
       "                </body>\n",
       "                </html>"
      ],
      "text/plain": [
       "<IPython.core.display.HTML object>"
      ]
     },
     "metadata": {},
     "output_type": "display_data"
    },
    {
     "data": {
      "text/html": [
       "<html>\n",
       "        <head>\n",
       "        \n",
       "        </head>\n",
       "        <body>\n",
       "        <div><p style='padding: 10px; color: #3a87ad; background-color: #d9edf7; border-color: #bce9f1'>&nbsp&nbsp&nbspSamples@help<br>&nbsp*&nbspSamples@help_1</p></div>\n",
       "        </body>\n",
       "        </html>"
      ],
      "text/plain": [
       "<IPython.core.display.HTML object>"
      ]
     },
     "metadata": {},
     "output_type": "display_data"
    },
    {
     "data": {
      "text/html": [
       "<!DOCTYPE html>\n",
       "            <html>\n",
       "            <body>\n",
       "\n",
       "            <button onclick=\"this.style.visibility='hidden';myFunction()\">Click to open window</button>\n",
       "\n",
       "            <script>\n",
       "            function myFunction() {Samples_at_help_1_schema = window.open('http://localhost:8888/notebooks/KqlMagic/notebooks/Samples_at_help_1_schema.html', 'Samples_at_help_1_schema', 'width=200,height=100');\n",
       "            }\n",
       "            </script>\n",
       "\n",
       "            </body>\n",
       "            </html>"
      ],
      "text/plain": [
       "<IPython.core.display.HTML object>"
      ]
     },
     "metadata": {},
     "output_type": "display_data"
    }
   ],
   "source": [
    "%kql kusto://code().cluster('help').database('Samples') -!se"
   ]
  },
  {
   "cell_type": "code",
   "execution_count": 2,
   "metadata": {
    "scrolled": false
   },
   "outputs": [
    {
     "ename": "AdalError",
     "evalue": "Get Token request returned http error: 400 and server response: {\"error\":\"interaction_required\",\"error_description\":\"AADSTS50079: The user is required to use multi-factor authentication.\\r\\nTrace ID: 84338a4f-f1f1-4537-9588-dcdff23a0c00\\r\\nCorrelation ID: f4563b59-0644-4579-8547-458b9a667c28\\r\\nTimestamp: 2018-07-28 19:12:08Z\",\"error_codes\":[50079],\"timestamp\":\"2018-07-28 19:12:08Z\",\"trace_id\":\"84338a4f-f1f1-4537-9588-dcdff23a0c00\",\"correlation_id\":\"f4563b59-0644-4579-8547-458b9a667c28\",\"suberror\":\"basic_action\"}",
     "output_type": "error",
     "traceback": [
      "\u001b[1;31m---------------------------------------------------------------------------\u001b[0m",
      "\u001b[1;31mAdalError\u001b[0m                                 Traceback (most recent call last)",
      "\u001b[1;32m<ipython-input-2-073616ea6820>\u001b[0m in \u001b[0;36m<module>\u001b[1;34m()\u001b[0m\n\u001b[1;32m----> 1\u001b[1;33m \u001b[0mget_ipython\u001b[0m\u001b[1;33m(\u001b[0m\u001b[1;33m)\u001b[0m\u001b[1;33m.\u001b[0m\u001b[0mrun_line_magic\u001b[0m\u001b[1;33m(\u001b[0m\u001b[1;34m'kql'\u001b[0m\u001b[1;33m,\u001b[0m \u001b[1;34m\"kusto://username('michabin@microsoft.com').password('z=Xx-h34Z').cluster('help').database('Samples') -!se\"\u001b[0m\u001b[1;33m)\u001b[0m\u001b[1;33m\u001b[0m\u001b[0m\n\u001b[0m",
      "\u001b[1;32m~\\AppData\\Local\\Continuum\\Anaconda3\\lib\\site-packages\\IPython\\core\\interactiveshell.py\u001b[0m in \u001b[0;36mrun_line_magic\u001b[1;34m(self, magic_name, line, _stack_depth)\u001b[0m\n\u001b[0;32m   2129\u001b[0m                 \u001b[0mkwargs\u001b[0m\u001b[1;33m[\u001b[0m\u001b[1;34m'local_ns'\u001b[0m\u001b[1;33m]\u001b[0m \u001b[1;33m=\u001b[0m \u001b[0msys\u001b[0m\u001b[1;33m.\u001b[0m\u001b[0m_getframe\u001b[0m\u001b[1;33m(\u001b[0m\u001b[0mstack_depth\u001b[0m\u001b[1;33m)\u001b[0m\u001b[1;33m.\u001b[0m\u001b[0mf_locals\u001b[0m\u001b[1;33m\u001b[0m\u001b[0m\n\u001b[0;32m   2130\u001b[0m             \u001b[1;32mwith\u001b[0m \u001b[0mself\u001b[0m\u001b[1;33m.\u001b[0m\u001b[0mbuiltin_trap\u001b[0m\u001b[1;33m:\u001b[0m\u001b[1;33m\u001b[0m\u001b[0m\n\u001b[1;32m-> 2131\u001b[1;33m                 \u001b[0mresult\u001b[0m \u001b[1;33m=\u001b[0m \u001b[0mfn\u001b[0m\u001b[1;33m(\u001b[0m\u001b[1;33m*\u001b[0m\u001b[0margs\u001b[0m\u001b[1;33m,\u001b[0m\u001b[1;33m**\u001b[0m\u001b[0mkwargs\u001b[0m\u001b[1;33m)\u001b[0m\u001b[1;33m\u001b[0m\u001b[0m\n\u001b[0m\u001b[0;32m   2132\u001b[0m             \u001b[1;32mreturn\u001b[0m \u001b[0mresult\u001b[0m\u001b[1;33m\u001b[0m\u001b[0m\n\u001b[0;32m   2133\u001b[0m \u001b[1;33m\u001b[0m\u001b[0m\n",
      "\u001b[1;32m<decorator-gen-127>\u001b[0m in \u001b[0;36mexecute\u001b[1;34m(self, line, cell, local_ns)\u001b[0m\n",
      "\u001b[1;32m~\\AppData\\Local\\Continuum\\Anaconda3\\lib\\site-packages\\IPython\\core\\magic.py\u001b[0m in \u001b[0;36m<lambda>\u001b[1;34m(f, *a, **k)\u001b[0m\n\u001b[0;32m    185\u001b[0m     \u001b[1;31m# but it's overkill for just that one bit of state.\u001b[0m\u001b[1;33m\u001b[0m\u001b[1;33m\u001b[0m\u001b[0m\n\u001b[0;32m    186\u001b[0m     \u001b[1;32mdef\u001b[0m \u001b[0mmagic_deco\u001b[0m\u001b[1;33m(\u001b[0m\u001b[0marg\u001b[0m\u001b[1;33m)\u001b[0m\u001b[1;33m:\u001b[0m\u001b[1;33m\u001b[0m\u001b[0m\n\u001b[1;32m--> 187\u001b[1;33m         \u001b[0mcall\u001b[0m \u001b[1;33m=\u001b[0m \u001b[1;32mlambda\u001b[0m \u001b[0mf\u001b[0m\u001b[1;33m,\u001b[0m \u001b[1;33m*\u001b[0m\u001b[0ma\u001b[0m\u001b[1;33m,\u001b[0m \u001b[1;33m**\u001b[0m\u001b[0mk\u001b[0m\u001b[1;33m:\u001b[0m \u001b[0mf\u001b[0m\u001b[1;33m(\u001b[0m\u001b[1;33m*\u001b[0m\u001b[0ma\u001b[0m\u001b[1;33m,\u001b[0m \u001b[1;33m**\u001b[0m\u001b[0mk\u001b[0m\u001b[1;33m)\u001b[0m\u001b[1;33m\u001b[0m\u001b[0m\n\u001b[0m\u001b[0;32m    188\u001b[0m \u001b[1;33m\u001b[0m\u001b[0m\n\u001b[0;32m    189\u001b[0m         \u001b[1;32mif\u001b[0m \u001b[0mcallable\u001b[0m\u001b[1;33m(\u001b[0m\u001b[0marg\u001b[0m\u001b[1;33m)\u001b[0m\u001b[1;33m:\u001b[0m\u001b[1;33m\u001b[0m\u001b[0m\n",
      "\u001b[1;32m<decorator-gen-126>\u001b[0m in \u001b[0;36mexecute\u001b[1;34m(self, line, cell, local_ns)\u001b[0m\n",
      "\u001b[1;32m~\\AppData\\Local\\Continuum\\Anaconda3\\lib\\site-packages\\IPython\\core\\magic.py\u001b[0m in \u001b[0;36m<lambda>\u001b[1;34m(f, *a, **k)\u001b[0m\n\u001b[0;32m    185\u001b[0m     \u001b[1;31m# but it's overkill for just that one bit of state.\u001b[0m\u001b[1;33m\u001b[0m\u001b[1;33m\u001b[0m\u001b[0m\n\u001b[0;32m    186\u001b[0m     \u001b[1;32mdef\u001b[0m \u001b[0mmagic_deco\u001b[0m\u001b[1;33m(\u001b[0m\u001b[0marg\u001b[0m\u001b[1;33m)\u001b[0m\u001b[1;33m:\u001b[0m\u001b[1;33m\u001b[0m\u001b[0m\n\u001b[1;32m--> 187\u001b[1;33m         \u001b[0mcall\u001b[0m \u001b[1;33m=\u001b[0m \u001b[1;32mlambda\u001b[0m \u001b[0mf\u001b[0m\u001b[1;33m,\u001b[0m \u001b[1;33m*\u001b[0m\u001b[0ma\u001b[0m\u001b[1;33m,\u001b[0m \u001b[1;33m**\u001b[0m\u001b[0mk\u001b[0m\u001b[1;33m:\u001b[0m \u001b[0mf\u001b[0m\u001b[1;33m(\u001b[0m\u001b[1;33m*\u001b[0m\u001b[0ma\u001b[0m\u001b[1;33m,\u001b[0m \u001b[1;33m**\u001b[0m\u001b[0mk\u001b[0m\u001b[1;33m)\u001b[0m\u001b[1;33m\u001b[0m\u001b[0m\n\u001b[0m\u001b[0;32m    188\u001b[0m \u001b[1;33m\u001b[0m\u001b[0m\n\u001b[0;32m    189\u001b[0m         \u001b[1;32mif\u001b[0m \u001b[0mcallable\u001b[0m\u001b[1;33m(\u001b[0m\u001b[0marg\u001b[0m\u001b[1;33m)\u001b[0m\u001b[1;33m:\u001b[0m\u001b[1;33m\u001b[0m\u001b[0m\n",
      "\u001b[1;32mC:\\My Projects\\KqlMagic\\src\\kql\\kqlmagic.py\u001b[0m in \u001b[0;36mexecute\u001b[1;34m(self, line, cell, local_ns)\u001b[0m\n\u001b[0;32m    191\u001b[0m         \u001b[0mresult\u001b[0m \u001b[1;33m=\u001b[0m \u001b[1;32mNone\u001b[0m\u001b[1;33m\u001b[0m\u001b[0m\n\u001b[0;32m    192\u001b[0m         \u001b[1;32mfor\u001b[0m \u001b[0mparsed\u001b[0m \u001b[1;32min\u001b[0m \u001b[0mparsed_queries\u001b[0m\u001b[1;33m:\u001b[0m\u001b[1;33m\u001b[0m\u001b[0m\n\u001b[1;32m--> 193\u001b[1;33m             \u001b[0mresult\u001b[0m \u001b[1;33m=\u001b[0m \u001b[0mself\u001b[0m\u001b[1;33m.\u001b[0m\u001b[0mexecute_query\u001b[0m\u001b[1;33m(\u001b[0m\u001b[0mparsed\u001b[0m\u001b[1;33m,\u001b[0m \u001b[0muser_ns\u001b[0m\u001b[1;33m)\u001b[0m\u001b[1;33m\u001b[0m\u001b[0m\n\u001b[0m\u001b[0;32m    194\u001b[0m         \u001b[1;32mreturn\u001b[0m \u001b[0mresult\u001b[0m\u001b[1;33m\u001b[0m\u001b[0m\n\u001b[0;32m    195\u001b[0m \u001b[1;33m\u001b[0m\u001b[0m\n",
      "\u001b[1;32mC:\\My Projects\\KqlMagic\\src\\kql\\kqlmagic.py\u001b[0m in \u001b[0;36mexecute_query\u001b[1;34m(self, parsed, user_ns, result_set)\u001b[0m\n\u001b[0;32m    242\u001b[0m                         \u001b[0mquery\u001b[0m \u001b[1;33m=\u001b[0m \u001b[1;34m'range c from 1 to 100 step 1 | count'\u001b[0m\u001b[1;33m\u001b[0m\u001b[0m\n\u001b[0;32m    243\u001b[0m                         \u001b[0mkql_proxy\u001b[0m \u001b[1;33m=\u001b[0m \u001b[0mKqlProxy\u001b[0m\u001b[1;33m(\u001b[0m\u001b[0mconn\u001b[0m\u001b[1;33m)\u001b[0m\u001b[1;33m\u001b[0m\u001b[0m\n\u001b[1;32m--> 244\u001b[1;33m                         \u001b[0mraw_table\u001b[0m \u001b[1;33m=\u001b[0m \u001b[0mkql_proxy\u001b[0m\u001b[1;33m.\u001b[0m\u001b[0mexecute\u001b[0m\u001b[1;33m(\u001b[0m\u001b[0mquery\u001b[0m\u001b[1;33m)\u001b[0m\u001b[1;33m\u001b[0m\u001b[0m\n\u001b[0m\u001b[0;32m    245\u001b[0m                     \u001b[1;32mif\u001b[0m \u001b[1;32mnot\u001b[0m \u001b[0msuppress_results\u001b[0m\u001b[1;33m:\u001b[0m\u001b[1;33m\u001b[0m\u001b[0m\n\u001b[0;32m    246\u001b[0m                         \u001b[0mDisplay\u001b[0m\u001b[1;33m.\u001b[0m\u001b[0mshowInfoMessage\u001b[0m\u001b[1;33m(\u001b[0m\u001b[0mConnection\u001b[0m\u001b[1;33m.\u001b[0m\u001b[0mconnection_list_formatted\u001b[0m\u001b[1;33m(\u001b[0m\u001b[1;33m)\u001b[0m\u001b[1;33m)\u001b[0m\u001b[1;33m\u001b[0m\u001b[0m\n",
      "\u001b[1;32mC:\\My Projects\\KqlMagic\\src\\kql\\kql_proxy.py\u001b[0m in \u001b[0;36mexecute\u001b[1;34m(self, code, user_namespace)\u001b[0m\n\u001b[0;32m    182\u001b[0m         \u001b[1;32mif\u001b[0m \u001b[0mcode\u001b[0m\u001b[1;33m.\u001b[0m\u001b[0mstrip\u001b[0m\u001b[1;33m(\u001b[0m\u001b[1;33m)\u001b[0m\u001b[1;33m:\u001b[0m\u001b[1;33m\u001b[0m\u001b[0m\n\u001b[0;32m    183\u001b[0m             \u001b[0mclient\u001b[0m \u001b[1;33m=\u001b[0m \u001b[0mself\u001b[0m\u001b[1;33m.\u001b[0m\u001b[0mconn\u001b[0m\u001b[1;33m.\u001b[0m\u001b[0mget_client\u001b[0m\u001b[1;33m(\u001b[0m\u001b[1;33m)\u001b[0m\u001b[1;33m\u001b[0m\u001b[0m\n\u001b[1;32m--> 184\u001b[1;33m             \u001b[0mresponse\u001b[0m \u001b[1;33m=\u001b[0m \u001b[0mclient\u001b[0m\u001b[1;33m.\u001b[0m\u001b[0mexecute\u001b[0m\u001b[1;33m(\u001b[0m\u001b[0mself\u001b[0m\u001b[1;33m.\u001b[0m\u001b[0mconn\u001b[0m\u001b[1;33m.\u001b[0m\u001b[0mget_database\u001b[0m\u001b[1;33m(\u001b[0m\u001b[1;33m)\u001b[0m\u001b[1;33m,\u001b[0m \u001b[0mcode\u001b[0m\u001b[1;33m,\u001b[0m \u001b[1;32mFalse\u001b[0m\u001b[1;33m)\u001b[0m\u001b[1;33m\u001b[0m\u001b[0m\n\u001b[0m\u001b[0;32m    185\u001b[0m             \u001b[1;32mreturn\u001b[0m \u001b[0mKqlResponse\u001b[0m\u001b[1;33m(\u001b[0m\u001b[0mresponse\u001b[0m\u001b[1;33m)\u001b[0m\u001b[1;33m\u001b[0m\u001b[0m\n\u001b[0;32m    186\u001b[0m \u001b[1;33m\u001b[0m\u001b[0m\n",
      "\u001b[1;32m~\\AppData\\Local\\Continuum\\Anaconda3\\lib\\site-packages\\azure\\kusto\\data\\kusto_client.py\u001b[0m in \u001b[0;36mexecute\u001b[1;34m(self, kusto_database, query, accept_partial_results, timeout)\u001b[0m\n\u001b[0;32m    286\u001b[0m         \u001b[1;32mif\u001b[0m \u001b[0mquery\u001b[0m\u001b[1;33m.\u001b[0m\u001b[0mstartswith\u001b[0m\u001b[1;33m(\u001b[0m\u001b[1;34m'.'\u001b[0m\u001b[1;33m)\u001b[0m\u001b[1;33m:\u001b[0m\u001b[1;33m\u001b[0m\u001b[0m\n\u001b[0;32m    287\u001b[0m             \u001b[1;32mreturn\u001b[0m \u001b[0mself\u001b[0m\u001b[1;33m.\u001b[0m\u001b[0mexecute_mgmt\u001b[0m\u001b[1;33m(\u001b[0m\u001b[0mkusto_database\u001b[0m\u001b[1;33m,\u001b[0m \u001b[0mquery\u001b[0m\u001b[1;33m,\u001b[0m \u001b[0maccept_partial_results\u001b[0m\u001b[1;33m,\u001b[0m \u001b[0mtimeout\u001b[0m\u001b[1;33m)\u001b[0m\u001b[1;33m\u001b[0m\u001b[0m\n\u001b[1;32m--> 288\u001b[1;33m         \u001b[1;32mreturn\u001b[0m \u001b[0mself\u001b[0m\u001b[1;33m.\u001b[0m\u001b[0mexecute_query\u001b[0m\u001b[1;33m(\u001b[0m\u001b[0mkusto_database\u001b[0m\u001b[1;33m,\u001b[0m \u001b[0mquery\u001b[0m\u001b[1;33m,\u001b[0m \u001b[0maccept_partial_results\u001b[0m\u001b[1;33m,\u001b[0m \u001b[0mtimeout\u001b[0m\u001b[1;33m)\u001b[0m\u001b[1;33m\u001b[0m\u001b[0m\n\u001b[0m\u001b[0;32m    289\u001b[0m \u001b[1;33m\u001b[0m\u001b[0m\n\u001b[0;32m    290\u001b[0m     \u001b[1;32mdef\u001b[0m \u001b[0mexecute_query\u001b[0m\u001b[1;33m(\u001b[0m\u001b[0mself\u001b[0m\u001b[1;33m,\u001b[0m \u001b[0mkusto_database\u001b[0m\u001b[1;33m,\u001b[0m \u001b[0mquery\u001b[0m\u001b[1;33m,\u001b[0m \u001b[0maccept_partial_results\u001b[0m\u001b[1;33m=\u001b[0m\u001b[1;32mFalse\u001b[0m\u001b[1;33m,\u001b[0m \u001b[0mtimeout\u001b[0m\u001b[1;33m=\u001b[0m\u001b[1;32mNone\u001b[0m\u001b[1;33m)\u001b[0m\u001b[1;33m:\u001b[0m\u001b[1;33m\u001b[0m\u001b[0m\n",
      "\u001b[1;32m~\\AppData\\Local\\Continuum\\Anaconda3\\lib\\site-packages\\azure\\kusto\\data\\kusto_client.py\u001b[0m in \u001b[0;36mexecute_query\u001b[1;34m(self, kusto_database, query, accept_partial_results, timeout)\u001b[0m\n\u001b[0;32m    307\u001b[0m         \"\"\"\n\u001b[0;32m    308\u001b[0m         \u001b[0mquery_endpoint\u001b[0m \u001b[1;33m=\u001b[0m \u001b[1;34m'{0}/v2/rest/query'\u001b[0m\u001b[1;33m.\u001b[0m\u001b[0mformat\u001b[0m\u001b[1;33m(\u001b[0m\u001b[0mself\u001b[0m\u001b[1;33m.\u001b[0m\u001b[0mkusto_cluster\u001b[0m\u001b[1;33m)\u001b[0m\u001b[1;33m\u001b[0m\u001b[0m\n\u001b[1;32m--> 309\u001b[1;33m         \u001b[1;32mreturn\u001b[0m \u001b[0mself\u001b[0m\u001b[1;33m.\u001b[0m\u001b[0m_execute\u001b[0m\u001b[1;33m(\u001b[0m\u001b[0mkusto_database\u001b[0m\u001b[1;33m,\u001b[0m \u001b[0mquery\u001b[0m\u001b[1;33m,\u001b[0m \u001b[0mquery_endpoint\u001b[0m\u001b[1;33m,\u001b[0m \u001b[0maccept_partial_results\u001b[0m\u001b[1;33m,\u001b[0m \u001b[0mtimeout\u001b[0m\u001b[1;33m)\u001b[0m\u001b[1;33m\u001b[0m\u001b[0m\n\u001b[0m\u001b[0;32m    310\u001b[0m \u001b[1;33m\u001b[0m\u001b[0m\n\u001b[0;32m    311\u001b[0m     \u001b[1;32mdef\u001b[0m \u001b[0mexecute_mgmt\u001b[0m\u001b[1;33m(\u001b[0m\u001b[0mself\u001b[0m\u001b[1;33m,\u001b[0m \u001b[0mkusto_database\u001b[0m\u001b[1;33m,\u001b[0m \u001b[0mquery\u001b[0m\u001b[1;33m,\u001b[0m \u001b[0maccept_partial_results\u001b[0m\u001b[1;33m=\u001b[0m\u001b[1;32mFalse\u001b[0m\u001b[1;33m,\u001b[0m \u001b[0mtimeout\u001b[0m\u001b[1;33m=\u001b[0m\u001b[1;32mNone\u001b[0m\u001b[1;33m)\u001b[0m\u001b[1;33m:\u001b[0m\u001b[1;33m\u001b[0m\u001b[0m\n",
      "\u001b[1;32m~\\AppData\\Local\\Continuum\\Anaconda3\\lib\\site-packages\\azure\\kusto\\data\\kusto_client.py\u001b[0m in \u001b[0;36m_execute\u001b[1;34m(self, kusto_database, kusto_query, query_endpoint, accept_partial_results, timeout)\u001b[0m\n\u001b[0;32m    338\u001b[0m         }\n\u001b[0;32m    339\u001b[0m \u001b[1;33m\u001b[0m\u001b[0m\n\u001b[1;32m--> 340\u001b[1;33m         \u001b[0maccess_token\u001b[0m \u001b[1;33m=\u001b[0m \u001b[0mself\u001b[0m\u001b[1;33m.\u001b[0m\u001b[0m_aad_helper\u001b[0m\u001b[1;33m.\u001b[0m\u001b[0macquire_token\u001b[0m\u001b[1;33m(\u001b[0m\u001b[1;33m)\u001b[0m\u001b[1;33m\u001b[0m\u001b[0m\n\u001b[0m\u001b[0;32m    341\u001b[0m         request_headers = {\n\u001b[0;32m    342\u001b[0m             \u001b[1;34m'Authorization'\u001b[0m\u001b[1;33m:\u001b[0m \u001b[1;34m'Bearer {0}'\u001b[0m\u001b[1;33m.\u001b[0m\u001b[0mformat\u001b[0m\u001b[1;33m(\u001b[0m\u001b[0maccess_token\u001b[0m\u001b[1;33m)\u001b[0m\u001b[1;33m,\u001b[0m\u001b[1;33m\u001b[0m\u001b[0m\n",
      "\u001b[1;32mC:\\My Projects\\KqlMagic\\src\\kql\\my_aad_helper.py\u001b[0m in \u001b[0;36macquire_token\u001b[1;34m(self)\u001b[0m\n\u001b[0;32m     39\u001b[0m                 \u001b[0mself\u001b[0m\u001b[1;33m.\u001b[0m\u001b[0musername\u001b[0m\u001b[1;33m,\u001b[0m\u001b[1;33m\u001b[0m\u001b[0m\n\u001b[0;32m     40\u001b[0m                 \u001b[0mself\u001b[0m\u001b[1;33m.\u001b[0m\u001b[0mpassword\u001b[0m\u001b[1;33m,\u001b[0m\u001b[1;33m\u001b[0m\u001b[0m\n\u001b[1;32m---> 41\u001b[1;33m                 self.client_id)\n\u001b[0m\u001b[0;32m     42\u001b[0m         \u001b[1;32melse\u001b[0m\u001b[1;33m:\u001b[0m\u001b[1;33m\u001b[0m\u001b[0m\n\u001b[0;32m     43\u001b[0m             \u001b[0mcode\u001b[0m \u001b[1;33m=\u001b[0m \u001b[0mself\u001b[0m\u001b[1;33m.\u001b[0m\u001b[0madal_context\u001b[0m\u001b[1;33m.\u001b[0m\u001b[0macquire_user_code\u001b[0m\u001b[1;33m(\u001b[0m\u001b[0mself\u001b[0m\u001b[1;33m.\u001b[0m\u001b[0mkusto_cluster\u001b[0m\u001b[1;33m,\u001b[0m \u001b[0mself\u001b[0m\u001b[1;33m.\u001b[0m\u001b[0mclient_id\u001b[0m\u001b[1;33m)\u001b[0m\u001b[1;33m\u001b[0m\u001b[0m\n",
      "\u001b[1;32m~\\AppData\\Local\\Continuum\\Anaconda3\\lib\\site-packages\\adal\\authentication_context.py\u001b[0m in \u001b[0;36macquire_token_with_username_password\u001b[1;34m(self, resource, username, password, client_id)\u001b[0m\n\u001b[0;32m    162\u001b[0m             \u001b[1;32mreturn\u001b[0m \u001b[0mtoken_request\u001b[0m\u001b[1;33m.\u001b[0m\u001b[0mget_token_with_username_password\u001b[0m\u001b[1;33m(\u001b[0m\u001b[0musername\u001b[0m\u001b[1;33m,\u001b[0m \u001b[0mpassword\u001b[0m\u001b[1;33m)\u001b[0m\u001b[1;33m\u001b[0m\u001b[0m\n\u001b[0;32m    163\u001b[0m \u001b[1;33m\u001b[0m\u001b[0m\n\u001b[1;32m--> 164\u001b[1;33m         \u001b[1;32mreturn\u001b[0m \u001b[0mself\u001b[0m\u001b[1;33m.\u001b[0m\u001b[0m_acquire_token\u001b[0m\u001b[1;33m(\u001b[0m\u001b[0mtoken_func\u001b[0m\u001b[1;33m)\u001b[0m\u001b[1;33m\u001b[0m\u001b[0m\n\u001b[0m\u001b[0;32m    165\u001b[0m \u001b[1;33m\u001b[0m\u001b[0m\n\u001b[0;32m    166\u001b[0m     \u001b[1;32mdef\u001b[0m \u001b[0macquire_token_with_client_credentials\u001b[0m\u001b[1;33m(\u001b[0m\u001b[0mself\u001b[0m\u001b[1;33m,\u001b[0m \u001b[0mresource\u001b[0m\u001b[1;33m,\u001b[0m \u001b[0mclient_id\u001b[0m\u001b[1;33m,\u001b[0m \u001b[0mclient_secret\u001b[0m\u001b[1;33m)\u001b[0m\u001b[1;33m:\u001b[0m\u001b[1;33m\u001b[0m\u001b[0m\n",
      "\u001b[1;32m~\\AppData\\Local\\Continuum\\Anaconda3\\lib\\site-packages\\adal\\authentication_context.py\u001b[0m in \u001b[0;36m_acquire_token\u001b[1;34m(self, token_func, correlation_id)\u001b[0m\n\u001b[0;32m    126\u001b[0m             correlation_id or self.correlation_id, self._call_context.get('enable_pii', False))\n\u001b[0;32m    127\u001b[0m         \u001b[0mself\u001b[0m\u001b[1;33m.\u001b[0m\u001b[0mauthority\u001b[0m\u001b[1;33m.\u001b[0m\u001b[0mvalidate\u001b[0m\u001b[1;33m(\u001b[0m\u001b[0mself\u001b[0m\u001b[1;33m.\u001b[0m\u001b[0m_call_context\u001b[0m\u001b[1;33m)\u001b[0m\u001b[1;33m\u001b[0m\u001b[0m\n\u001b[1;32m--> 128\u001b[1;33m         \u001b[1;32mreturn\u001b[0m \u001b[0mtoken_func\u001b[0m\u001b[1;33m(\u001b[0m\u001b[0mself\u001b[0m\u001b[1;33m)\u001b[0m\u001b[1;33m\u001b[0m\u001b[0m\n\u001b[0m\u001b[0;32m    129\u001b[0m \u001b[1;33m\u001b[0m\u001b[0m\n\u001b[0;32m    130\u001b[0m     \u001b[1;32mdef\u001b[0m \u001b[0macquire_token\u001b[0m\u001b[1;33m(\u001b[0m\u001b[0mself\u001b[0m\u001b[1;33m,\u001b[0m \u001b[0mresource\u001b[0m\u001b[1;33m,\u001b[0m \u001b[0muser_id\u001b[0m\u001b[1;33m,\u001b[0m \u001b[0mclient_id\u001b[0m\u001b[1;33m)\u001b[0m\u001b[1;33m:\u001b[0m\u001b[1;33m\u001b[0m\u001b[0m\n",
      "\u001b[1;32m~\\AppData\\Local\\Continuum\\Anaconda3\\lib\\site-packages\\adal\\authentication_context.py\u001b[0m in \u001b[0;36mtoken_func\u001b[1;34m(self)\u001b[0m\n\u001b[0;32m    160\u001b[0m         \u001b[1;32mdef\u001b[0m \u001b[0mtoken_func\u001b[0m\u001b[1;33m(\u001b[0m\u001b[0mself\u001b[0m\u001b[1;33m)\u001b[0m\u001b[1;33m:\u001b[0m\u001b[1;33m\u001b[0m\u001b[0m\n\u001b[0;32m    161\u001b[0m             \u001b[0mtoken_request\u001b[0m \u001b[1;33m=\u001b[0m \u001b[0mTokenRequest\u001b[0m\u001b[1;33m(\u001b[0m\u001b[0mself\u001b[0m\u001b[1;33m.\u001b[0m\u001b[0m_call_context\u001b[0m\u001b[1;33m,\u001b[0m \u001b[0mself\u001b[0m\u001b[1;33m,\u001b[0m \u001b[0mclient_id\u001b[0m\u001b[1;33m,\u001b[0m \u001b[0mresource\u001b[0m\u001b[1;33m)\u001b[0m\u001b[1;33m\u001b[0m\u001b[0m\n\u001b[1;32m--> 162\u001b[1;33m             \u001b[1;32mreturn\u001b[0m \u001b[0mtoken_request\u001b[0m\u001b[1;33m.\u001b[0m\u001b[0mget_token_with_username_password\u001b[0m\u001b[1;33m(\u001b[0m\u001b[0musername\u001b[0m\u001b[1;33m,\u001b[0m \u001b[0mpassword\u001b[0m\u001b[1;33m)\u001b[0m\u001b[1;33m\u001b[0m\u001b[0m\n\u001b[0m\u001b[0;32m    163\u001b[0m \u001b[1;33m\u001b[0m\u001b[0m\n\u001b[0;32m    164\u001b[0m         \u001b[1;32mreturn\u001b[0m \u001b[0mself\u001b[0m\u001b[1;33m.\u001b[0m\u001b[0m_acquire_token\u001b[0m\u001b[1;33m(\u001b[0m\u001b[0mtoken_func\u001b[0m\u001b[1;33m)\u001b[0m\u001b[1;33m\u001b[0m\u001b[0m\n",
      "\u001b[1;32m~\\AppData\\Local\\Continuum\\Anaconda3\\lib\\site-packages\\adal\\token_request.py\u001b[0m in \u001b[0;36mget_token_with_username_password\u001b[1;34m(self, username, password)\u001b[0m\n\u001b[0;32m    286\u001b[0m                     \u001b[0mtoken\u001b[0m \u001b[1;33m=\u001b[0m \u001b[0mself\u001b[0m\u001b[1;33m.\u001b[0m\u001b[0m_get_token_username_password_managed\u001b[0m\u001b[1;33m(\u001b[0m\u001b[0musername\u001b[0m\u001b[1;33m,\u001b[0m \u001b[0mpassword\u001b[0m\u001b[1;33m)\u001b[0m\u001b[1;33m\u001b[0m\u001b[0m\n\u001b[0;32m    287\u001b[0m                 \u001b[1;32melif\u001b[0m \u001b[0mself\u001b[0m\u001b[1;33m.\u001b[0m\u001b[0m_user_realm\u001b[0m\u001b[1;33m.\u001b[0m\u001b[0maccount_type\u001b[0m \u001b[1;33m==\u001b[0m \u001b[0mACCOUNT_TYPE\u001b[0m\u001b[1;33m[\u001b[0m\u001b[1;34m'Federated'\u001b[0m\u001b[1;33m]\u001b[0m\u001b[1;33m:\u001b[0m\u001b[1;33m\u001b[0m\u001b[0m\n\u001b[1;32m--> 288\u001b[1;33m                     \u001b[0mtoken\u001b[0m \u001b[1;33m=\u001b[0m \u001b[0mself\u001b[0m\u001b[1;33m.\u001b[0m\u001b[0m_get_token_username_password_federated\u001b[0m\u001b[1;33m(\u001b[0m\u001b[0musername\u001b[0m\u001b[1;33m,\u001b[0m \u001b[0mpassword\u001b[0m\u001b[1;33m)\u001b[0m\u001b[1;33m\u001b[0m\u001b[0m\n\u001b[0m\u001b[0;32m    289\u001b[0m                 \u001b[1;32melse\u001b[0m\u001b[1;33m:\u001b[0m\u001b[1;33m\u001b[0m\u001b[0m\n\u001b[0;32m    290\u001b[0m                     raise AdalError(\n",
      "\u001b[1;32m~\\AppData\\Local\\Continuum\\Anaconda3\\lib\\site-packages\\adal\\token_request.py\u001b[0m in \u001b[0;36m_get_token_username_password_federated\u001b[1;34m(self, username, password)\u001b[0m\n\u001b[0;32m    255\u001b[0m \u001b[1;33m\u001b[0m\u001b[0m\n\u001b[0;32m    256\u001b[0m             return self._perform_username_password_for_access_token_exchange(wstrust_endpoint, wstrust_version,\n\u001b[1;32m--> 257\u001b[1;33m                                                                              username, password)\n\u001b[0m\u001b[0;32m    258\u001b[0m     \u001b[1;33m@\u001b[0m\u001b[0mstaticmethod\u001b[0m\u001b[1;33m\u001b[0m\u001b[0m\n\u001b[0;32m    259\u001b[0m     \u001b[1;32mdef\u001b[0m \u001b[0m_parse_wstrust_version_from_federation_active_authurl\u001b[0m\u001b[1;33m(\u001b[0m\u001b[0mfederation_active_authurl\u001b[0m\u001b[1;33m)\u001b[0m\u001b[1;33m:\u001b[0m\u001b[1;33m\u001b[0m\u001b[0m\n",
      "\u001b[1;32m~\\AppData\\Local\\Continuum\\Anaconda3\\lib\\site-packages\\adal\\token_request.py\u001b[0m in \u001b[0;36m_perform_username_password_for_access_token_exchange\u001b[1;34m(self, wstrust_endpoint, wstrust_endpoint_version, username, password)\u001b[0m\n\u001b[0;32m    210\u001b[0m         wstrust_response = self._perform_wstrust_exchange(wstrust_endpoint, wstrust_endpoint_version,\n\u001b[0;32m    211\u001b[0m                                                           username, password)\n\u001b[1;32m--> 212\u001b[1;33m         \u001b[1;32mreturn\u001b[0m \u001b[0mself\u001b[0m\u001b[1;33m.\u001b[0m\u001b[0m_perform_wstrust_assertion_oauth_exchange\u001b[0m\u001b[1;33m(\u001b[0m\u001b[0mwstrust_response\u001b[0m\u001b[1;33m)\u001b[0m\u001b[1;33m\u001b[0m\u001b[0m\n\u001b[0m\u001b[0;32m    213\u001b[0m \u001b[1;33m\u001b[0m\u001b[0m\n\u001b[0;32m    214\u001b[0m     \u001b[1;32mdef\u001b[0m \u001b[0m_get_token_username_password_federated\u001b[0m\u001b[1;33m(\u001b[0m\u001b[0mself\u001b[0m\u001b[1;33m,\u001b[0m \u001b[0musername\u001b[0m\u001b[1;33m,\u001b[0m \u001b[0mpassword\u001b[0m\u001b[1;33m)\u001b[0m\u001b[1;33m:\u001b[0m\u001b[1;33m\u001b[0m\u001b[0m\n",
      "\u001b[1;32m~\\AppData\\Local\\Continuum\\Anaconda3\\lib\\site-packages\\adal\\token_request.py\u001b[0m in \u001b[0;36m_perform_wstrust_assertion_oauth_exchange\u001b[1;34m(self, wstrust_response)\u001b[0m\n\u001b[0;32m    190\u001b[0m         \u001b[0moauth_parameters\u001b[0m\u001b[1;33m[\u001b[0m\u001b[0mOAUTH2_PARAMETERS\u001b[0m\u001b[1;33m.\u001b[0m\u001b[0mASSERTION\u001b[0m\u001b[1;33m]\u001b[0m \u001b[1;33m=\u001b[0m \u001b[0massertion\u001b[0m\u001b[1;33m\u001b[0m\u001b[0m\n\u001b[0;32m    191\u001b[0m \u001b[1;33m\u001b[0m\u001b[0m\n\u001b[1;32m--> 192\u001b[1;33m         \u001b[1;32mreturn\u001b[0m \u001b[0mself\u001b[0m\u001b[1;33m.\u001b[0m\u001b[0m_oauth_get_token\u001b[0m\u001b[1;33m(\u001b[0m\u001b[0moauth_parameters\u001b[0m\u001b[1;33m)\u001b[0m\u001b[1;33m\u001b[0m\u001b[0m\n\u001b[0m\u001b[0;32m    193\u001b[0m \u001b[1;33m\u001b[0m\u001b[0m\n\u001b[0;32m    194\u001b[0m     \u001b[1;32mdef\u001b[0m \u001b[0m_perform_wstrust_exchange\u001b[0m\u001b[1;33m(\u001b[0m\u001b[0mself\u001b[0m\u001b[1;33m,\u001b[0m \u001b[0mwstrust_endpoint\u001b[0m\u001b[1;33m,\u001b[0m \u001b[0mwstrust_endpoint_version\u001b[0m\u001b[1;33m,\u001b[0m \u001b[0musername\u001b[0m\u001b[1;33m,\u001b[0m \u001b[0mpassword\u001b[0m\u001b[1;33m)\u001b[0m\u001b[1;33m:\u001b[0m\u001b[1;33m\u001b[0m\u001b[0m\n",
      "\u001b[1;32m~\\AppData\\Local\\Continuum\\Anaconda3\\lib\\site-packages\\adal\\token_request.py\u001b[0m in \u001b[0;36m_oauth_get_token\u001b[1;34m(self, oauth_parameters)\u001b[0m\n\u001b[0;32m    111\u001b[0m     \u001b[1;32mdef\u001b[0m \u001b[0m_oauth_get_token\u001b[0m\u001b[1;33m(\u001b[0m\u001b[0mself\u001b[0m\u001b[1;33m,\u001b[0m \u001b[0moauth_parameters\u001b[0m\u001b[1;33m)\u001b[0m\u001b[1;33m:\u001b[0m\u001b[1;33m\u001b[0m\u001b[0m\n\u001b[0;32m    112\u001b[0m         \u001b[0mclient\u001b[0m \u001b[1;33m=\u001b[0m \u001b[0mself\u001b[0m\u001b[1;33m.\u001b[0m\u001b[0m_create_oauth2_client\u001b[0m\u001b[1;33m(\u001b[0m\u001b[1;33m)\u001b[0m\u001b[1;33m\u001b[0m\u001b[0m\n\u001b[1;32m--> 113\u001b[1;33m         \u001b[1;32mreturn\u001b[0m \u001b[0mclient\u001b[0m\u001b[1;33m.\u001b[0m\u001b[0mget_token\u001b[0m\u001b[1;33m(\u001b[0m\u001b[0moauth_parameters\u001b[0m\u001b[1;33m)\u001b[0m\u001b[1;33m\u001b[0m\u001b[0m\n\u001b[0m\u001b[0;32m    114\u001b[0m \u001b[1;33m\u001b[0m\u001b[0m\n\u001b[0;32m    115\u001b[0m     \u001b[1;32mdef\u001b[0m \u001b[0m_create_cache_driver\u001b[0m\u001b[1;33m(\u001b[0m\u001b[0mself\u001b[0m\u001b[1;33m)\u001b[0m\u001b[1;33m:\u001b[0m\u001b[1;33m\u001b[0m\u001b[0m\n",
      "\u001b[1;32m~\\AppData\\Local\\Continuum\\Anaconda3\\lib\\site-packages\\adal\\oauth2_client.py\u001b[0m in \u001b[0;36mget_token\u001b[1;34m(self, oauth_parameters)\u001b[0m\n\u001b[0;32m    287\u001b[0m                 \u001b[1;32mexcept\u001b[0m \u001b[0mValueError\u001b[0m\u001b[1;33m:\u001b[0m\u001b[1;33m\u001b[0m\u001b[0m\n\u001b[0;32m    288\u001b[0m                     \u001b[1;32mpass\u001b[0m\u001b[1;33m\u001b[0m\u001b[0m\n\u001b[1;32m--> 289\u001b[1;33m             \u001b[1;32mraise\u001b[0m \u001b[0mAdalError\u001b[0m\u001b[1;33m(\u001b[0m\u001b[0mreturn_error_string\u001b[0m\u001b[1;33m,\u001b[0m \u001b[0merror_response\u001b[0m\u001b[1;33m)\u001b[0m\u001b[1;33m\u001b[0m\u001b[0m\n\u001b[0m\u001b[0;32m    290\u001b[0m \u001b[1;33m\u001b[0m\u001b[0m\n\u001b[0;32m    291\u001b[0m     \u001b[1;32mdef\u001b[0m \u001b[0mget_user_code_info\u001b[0m\u001b[1;33m(\u001b[0m\u001b[0mself\u001b[0m\u001b[1;33m,\u001b[0m \u001b[0moauth_parameters\u001b[0m\u001b[1;33m)\u001b[0m\u001b[1;33m:\u001b[0m\u001b[1;33m\u001b[0m\u001b[0m\n",
      "\u001b[1;31mAdalError\u001b[0m: Get Token request returned http error: 400 and server response: {\"error\":\"interaction_required\",\"error_description\":\"AADSTS50079: The user is required to use multi-factor authentication.\\r\\nTrace ID: 84338a4f-f1f1-4537-9588-dcdff23a0c00\\r\\nCorrelation ID: f4563b59-0644-4579-8547-458b9a667c28\\r\\nTimestamp: 2018-07-28 19:12:08Z\",\"error_codes\":[50079],\"timestamp\":\"2018-07-28 19:12:08Z\",\"trace_id\":\"84338a4f-f1f1-4537-9588-dcdff23a0c00\",\"correlation_id\":\"f4563b59-0644-4579-8547-458b9a667c28\",\"suberror\":\"basic_action\"}"
     ]
    }
   ],
   "source": [
    "%kql kusto://username('michabin@microsoft.com').password('z=Xx-h34Z').cluster('help').database('Samples') -!se"
   ]
  },
  {
   "cell_type": "code",
   "execution_count": null,
   "metadata": {},
   "outputs": [],
   "source": []
  },
  {
   "cell_type": "code",
   "execution_count": null,
   "metadata": {},
   "outputs": [],
   "source": [
    "%%html\n",
    "<!DOCTYPE html>\n",
    "<html>\n",
    "<body>\n",
    "\n",
    "<p>Click the button to create a window and then display the name of the new window.</p>\n",
    "\n",
    "<button onclick=\"this.style.visibility='hidden';myFunction()\">Click to open window</button>\n",
    "\n",
    "<script>\n",
    "var clicked = false;\n",
    "function myFunction() {\n",
    "    if (!clicked) {\n",
    "        clicked = true\n",
    "        var myWindow = window.open(\"http://aka.ms/kdocs\", \"MsgWindow\", \"width=200,height=100\");\n",
    "        // myWindow.document.write(\"<p>This window's name is: \" + myWindow.name + \"</p>\");\n",
    "    }\n",
    "}\n",
    "</script>\n",
    "\n",
    "</body>\n",
    "</html>"
   ]
  },
  {
   "cell_type": "code",
   "execution_count": null,
   "metadata": {},
   "outputs": [],
   "source": [
    "%%kql\n",
    "import "
   ]
  },
  {
   "cell_type": "code",
   "execution_count": null,
   "metadata": {},
   "outputs": [],
   "source": [
    "%%html\n",
    "<!DOCTYPE html>\n",
    "<html>\n",
    "<body>\n",
    "\n",
    "<p>Click the button to create a window and then display the name of the new window.</p>\n",
    "\n",
    "<script>\n",
    "    window.onload=function(){\n",
    "      \n",
    "        $(function() {\n",
    "\n",
    "    var myWindow = window.open(\"\", \"MsgWindow\", \"width=200,height=100\");\n",
    "    myWindow.document.write(\"<p>This window's name is: \" + myWindow.name + \"</p>\");\n",
    "    myWindow.resizeTo(500,500)\n",
    "          });\n",
    "\n",
    "        });\n",
    "</script>\n",
    "\n",
    "</body>\n",
    "</html>"
   ]
  },
  {
   "cell_type": "code",
   "execution_count": null,
   "metadata": {
    "scrolled": false
   },
   "outputs": [],
   "source": [
    "%kql -help"
   ]
  },
  {
   "cell_type": "code",
   "execution_count": null,
   "metadata": {},
   "outputs": [],
   "source": [
    "%kql -!se -ss"
   ]
  },
  {
   "cell_type": "code",
   "execution_count": null,
   "metadata": {},
   "outputs": [],
   "source": [
    "%config kqlmagic\n"
   ]
  },
  {
   "cell_type": "code",
   "execution_count": null,
   "metadata": {},
   "outputs": [],
   "source": [
    "%config?"
   ]
  },
  {
   "cell_type": "code",
   "execution_count": null,
   "metadata": {},
   "outputs": [],
   "source": [
    "%config KqlMagic.table_package='pandas'"
   ]
  },
  {
   "cell_type": "code",
   "execution_count": null,
   "metadata": {},
   "outputs": [],
   "source": [
    "%config KqlMagic.version='0.1.4'"
   ]
  },
  {
   "cell_type": "code",
   "execution_count": null,
   "metadata": {},
   "outputs": [],
   "source": [
    "%config KqlMagic.table_package"
   ]
  },
  {
   "cell_type": "code",
   "execution_count": null,
   "metadata": {},
   "outputs": [],
   "source": [
    "%config KqlMagic.version"
   ]
  },
  {
   "cell_type": "code",
   "execution_count": null,
   "metadata": {},
   "outputs": [],
   "source": [
    "%kql kusto://code().cluster('help').database('Samples')"
   ]
  },
  {
   "cell_type": "code",
   "execution_count": null,
   "metadata": {},
   "outputs": [],
   "source": [
    "import sys\n",
    "!{sys.executable} --version"
   ]
  },
  {
   "cell_type": "code",
   "execution_count": null,
   "metadata": {},
   "outputs": [],
   "source": [
    "print(__main__)"
   ]
  },
  {
   "cell_type": "code",
   "execution_count": null,
   "metadata": {},
   "outputs": [],
   "source": []
  },
  {
   "cell_type": "code",
   "execution_count": null,
   "metadata": {},
   "outputs": [],
   "source": [
    "%%javascript \n",
    "IPython.notebook.kernel.execute(\"NOTE_URL = '\" + window.location + \"'\")"
   ]
  },
  {
   "cell_type": "code",
   "execution_count": null,
   "metadata": {},
   "outputs": [],
   "source": [
    "NOTE_URL"
   ]
  },
  {
   "cell_type": "code",
   "execution_count": null,
   "metadata": {},
   "outputs": [],
   "source": [
    "%kql PageViews | summarize count() by Language | sort by count_ | limit 10 | render piechart"
   ]
  },
  {
   "cell_type": "code",
   "execution_count": null,
   "metadata": {},
   "outputs": [],
   "source": [
    "%kql PageViews | summarize count() by Language | sort by count_ | limit 10 | render barchart"
   ]
  },
  {
   "cell_type": "code",
   "execution_count": null,
   "metadata": {},
   "outputs": [],
   "source": [
    "%kql PageViews | summarize count() by Language | sort by count_ | limit 10 | render columnchart"
   ]
  },
  {
   "cell_type": "markdown",
   "metadata": {},
   "source": [
    "### Show KqlMagic docstring "
   ]
  },
  {
   "cell_type": "code",
   "execution_count": null,
   "metadata": {},
   "outputs": [],
   "source": [
    "%kql?"
   ]
  },
  {
   "cell_type": "markdown",
   "metadata": {},
   "source": [
    "### List again current defined Magics\n",
    "*%kql and %%kql should be listed*"
   ]
  },
  {
   "cell_type": "code",
   "execution_count": null,
   "metadata": {},
   "outputs": [],
   "source": [
    "%lsmagic"
   ]
  },
  {
   "cell_type": "markdown",
   "metadata": {},
   "source": [
    "### List all KqlMagic configurable options"
   ]
  },
  {
   "cell_type": "code",
   "execution_count": null,
   "metadata": {},
   "outputs": [],
   "source": [
    "%config KqlMagic"
   ]
  },
  {
   "cell_type": "markdown",
   "metadata": {},
   "source": [
    "### Configure KqlMagic DSN filename\n",
    "*Example how to configure KqlMagic properties*  \n",
    "*when dsn_filename is set, KqlMagic can be instructed to get a section as a connection string*"
   ]
  },
  {
   "cell_type": "code",
   "execution_count": null,
   "metadata": {},
   "outputs": [],
   "source": [
    "%config KqlMagic.dsn_filename = 'dsn/odbc.ini'"
   ]
  },
  {
   "cell_type": "markdown",
   "metadata": {},
   "source": [
    "### Print content of dsn/odbc.ini file"
   ]
  },
  {
   "cell_type": "code",
   "execution_count": null,
   "metadata": {},
   "outputs": [],
   "source": [
    "%pycat dsn/odbc.ini"
   ]
  },
  {
   "cell_type": "markdown",
   "metadata": {},
   "source": [
    "### Get connection string to Kusto cluster from a section\n",
    "*Example how to get the connection string from a section*\n",
    "*to make it work, KqlMagic.dsn_filename must be set, and a section with connection string attributes must exist in the file *"
   ]
  },
  {
   "cell_type": "code",
   "execution_count": null,
   "metadata": {
    "scrolled": false
   },
   "outputs": [],
   "source": [
    "%kql [KUSTO-DSN] -df dsn/odbc.ini -!vc"
   ]
  },
  {
   "cell_type": "markdown",
   "metadata": {},
   "source": [
    "### Show environment variables"
   ]
  },
  {
   "cell_type": "code",
   "execution_count": null,
   "metadata": {},
   "outputs": [],
   "source": [
    "%env"
   ]
  },
  {
   "cell_type": "markdown",
   "metadata": {},
   "source": [
    "### Get connection string to Kusto cluster from an environment variable\n",
    "*Example how to get the connection string from an environment parameter*  \n",
    "*to make it work, the environment variable must be set to a connection string*"
   ]
  },
  {
   "cell_type": "code",
   "execution_count": null,
   "metadata": {
    "scrolled": true
   },
   "outputs": [],
   "source": [
    "%kql $HELP_CONNECTION_STR"
   ]
  },
  {
   "cell_type": "markdown",
   "metadata": {},
   "source": [
    "### List current connections\n",
    "note that current connection is prefixed by a '*'"
   ]
  },
  {
   "cell_type": "code",
   "execution_count": null,
   "metadata": {
    "scrolled": true
   },
   "outputs": [],
   "source": [
    "%kql"
   ]
  },
  {
   "cell_type": "markdown",
   "metadata": {},
   "source": [
    "### Create connection to Kusto database, on the same cluster as current connection cluster"
   ]
  },
  {
   "cell_type": "code",
   "execution_count": null,
   "metadata": {},
   "outputs": [],
   "source": [
    "%kql kusto://database('Other')"
   ]
  },
  {
   "cell_type": "markdown",
   "metadata": {},
   "source": [
    "### Make specific connection current"
   ]
  },
  {
   "cell_type": "code",
   "execution_count": null,
   "metadata": {},
   "outputs": [],
   "source": [
    "%kql Samples@help"
   ]
  },
  {
   "cell_type": "markdown",
   "metadata": {},
   "source": [
    "\n",
    "\n",
    "### Kql query\n",
    "note: when connection is not specified, all connection are displayed, and current connection is prefixed with an '*'  \n",
    "note: metadata is displayed too, that includes the elapsed time of the query, and how many records returned"
   ]
  },
  {
   "cell_type": "code",
   "execution_count": null,
   "metadata": {
    "scrolled": false
   },
   "outputs": [],
   "source": [
    "%kql PageViews | summarize count() by Language | sort by count_ | limit 10 | render piechart"
   ]
  },
  {
   "cell_type": "code",
   "execution_count": null,
   "metadata": {},
   "outputs": [],
   "source": [
    "%kql appinsights://appid('DEMO_APP').appkey('DEMO_KEY')"
   ]
  },
  {
   "cell_type": "code",
   "execution_count": null,
   "metadata": {
    "scrolled": false
   },
   "outputs": [],
   "source": [
    "%%kql DEMO_APP@appinsights requests \n",
    " | where timestamp > ago(24h) and success==\"False\"\n",
    " | join kind=inner (exceptions \n",
    " | where timestamp > ago(24h) ) on operation_Id \n",
    " | project type, method, requestName = name, requestDuration = duration | render columnchart"
   ]
  },
  {
   "cell_type": "code",
   "execution_count": null,
   "metadata": {},
   "outputs": [],
   "source": [
    "%kql database().requests | getschema"
   ]
  },
  {
   "cell_type": "code",
   "execution_count": null,
   "metadata": {},
   "outputs": [],
   "source": [
    "%kql availabilityResults | getschema"
   ]
  },
  {
   "cell_type": "code",
   "execution_count": null,
   "metadata": {},
   "outputs": [],
   "source": [
    "%kql requests | show schema"
   ]
  },
  {
   "cell_type": "code",
   "execution_count": null,
   "metadata": {},
   "outputs": [],
   "source": [
    "int('a')"
   ]
  },
  {
   "cell_type": "markdown",
   "metadata": {},
   "source": [
    "### Notebook last result"
   ]
  },
  {
   "cell_type": "code",
   "execution_count": null,
   "metadata": {},
   "outputs": [],
   "source": [
    "from IPython.core.display import display, HTML\n",
    "HTML??"
   ]
  },
  {
   "cell_type": "code",
   "execution_count": null,
   "metadata": {},
   "outputs": [],
   "source": [
    "_"
   ]
  },
  {
   "cell_type": "markdown",
   "metadata": {},
   "source": [
    "### last kqlMagic result\n",
    "_kql_raw_result_ holds last kql magic result"
   ]
  },
  {
   "cell_type": "code",
   "execution_count": null,
   "metadata": {},
   "outputs": [],
   "source": [
    "_kql_raw_result_.Chart()"
   ]
  },
  {
   "cell_type": "code",
   "execution_count": null,
   "metadata": {},
   "outputs": [],
   "source": [
    "_kql_raw_result_.ChartInWindow()"
   ]
  },
  {
   "cell_type": "code",
   "execution_count": null,
   "metadata": {},
   "outputs": [],
   "source": [
    "_"
   ]
  },
  {
   "cell_type": "markdown",
   "metadata": {},
   "source": [
    "### Two %kql (line magic) in same cell\n",
    "note: only last query is displayed"
   ]
  },
  {
   "cell_type": "code",
   "execution_count": null,
   "metadata": {},
   "outputs": [],
   "source": [
    "%kql PageViews | summarize count() by Language | sort by count_ | limit 10\n",
    "%kql Samples@help PageViews | summarize count() by Language | sort by count_ | limit 5"
   ]
  },
  {
   "cell_type": "markdown",
   "metadata": {},
   "source": [
    "### Kql results may be assigned\n",
    "note: when queryresults are assigned display is automatically suppressed for that query  \n",
    "note: assignment must be placed after connection if connection is specified"
   ]
  },
  {
   "cell_type": "code",
   "execution_count": null,
   "metadata": {},
   "outputs": [],
   "source": [
    "%kql Samples@help q2 << PageViews | summarize count() by Language | sort by count_ | limit 3"
   ]
  },
  {
   "cell_type": "code",
   "execution_count": null,
   "metadata": {},
   "outputs": [],
   "source": [
    "q2"
   ]
  },
  {
   "cell_type": "code",
   "execution_count": null,
   "metadata": {},
   "outputs": [],
   "source": [
    "%kql q1 << PageViews | summarize count() by Language | sort by count_ | limit 10\n",
    "%kql Samples@help q2 << PageViews | summarize count() by Language | sort by count_ | limit 5"
   ]
  },
  {
   "cell_type": "code",
   "execution_count": null,
   "metadata": {},
   "outputs": [],
   "source": [
    "q1"
   ]
  },
  {
   "cell_type": "code",
   "execution_count": null,
   "metadata": {},
   "outputs": [],
   "source": [
    "q2"
   ]
  },
  {
   "cell_type": "markdown",
   "metadata": {},
   "source": [
    "### Two kql query in a %%kql cell magic\n",
    "note: the query must be separated by an empty line\n",
    "note that the output is suppressed !!! It is becasue the cell ends with a semicolon  ;"
   ]
  },
  {
   "cell_type": "code",
   "execution_count": null,
   "metadata": {},
   "outputs": [],
   "source": [
    "%%kql Samples@help\n",
    "p1 << PageViews | summarize count() by Language | sort by count_ | limit 10 | render piechart\n",
    "\n",
    "PageViews | summarize count() by Language | sort by count_ | limit 10  | render barchart"
   ]
  },
  {
   "cell_type": "code",
   "execution_count": null,
   "metadata": {},
   "outputs": [],
   "source": [
    "p1"
   ]
  },
  {
   "cell_type": "code",
   "execution_count": null,
   "metadata": {},
   "outputs": [],
   "source": [
    "_kql_raw_result_.Chart()"
   ]
  },
  {
   "cell_type": "code",
   "execution_count": null,
   "metadata": {},
   "outputs": [],
   "source": [
    "%%kql -tp pandas\n",
    "StormEvents\n",
    "| extend hour= floor( StartTime % 1d , 1h)/ 1h\n",
    "| where State in (\"GULF OF MEXICO\",\"MAINE\",\"VIRGINIA\",\"WISCONSIN\",\"NORTH DAKOTA\",\"NEW JERSEY\",\"OREGON\")\n",
    "| summarize event_count=count() by hour, State\n",
    "| extend cs2 = event_count*2 \n",
    "| extend cs3 = event_count*3 \n",
    "| extend ss = strcat(State,'_s')\n",
    "| extend sh = strcat(substring(tostring(toint(100+hour)), 1), '-', State)\n",
    "| sort by sh\n",
    "| project sh, event_count, cs2, cs3\n",
    "//| limit 10\n",
    "//| render barchart "
   ]
  },
  {
   "cell_type": "code",
   "execution_count": null,
   "metadata": {},
   "outputs": [],
   "source": [
    "_kql_raw_result_.flags"
   ]
  },
  {
   "cell_type": "code",
   "execution_count": null,
   "metadata": {
    "scrolled": true
   },
   "outputs": [],
   "source": [
    "_kql_raw_result_.Table(table_package='prettytable')"
   ]
  },
  {
   "cell_type": "code",
   "execution_count": null,
   "metadata": {
    "scrolled": true
   },
   "outputs": [],
   "source": [
    "_kql_raw_result_.flags"
   ]
  },
  {
   "cell_type": "code",
   "execution_count": null,
   "metadata": {},
   "outputs": [],
   "source": [
    "_"
   ]
  },
  {
   "cell_type": "code",
   "execution_count": null,
   "metadata": {},
   "outputs": [],
   "source": [
    "_.Table()"
   ]
  },
  {
   "cell_type": "code",
   "execution_count": null,
   "metadata": {},
   "outputs": [],
   "source": [
    "%kql Samples@help PageViews | summarize count() by Language | sort by count_ | limit 10 | render columnchart"
   ]
  },
  {
   "cell_type": "code",
   "execution_count": null,
   "metadata": {},
   "outputs": [],
   "source": [
    "_kql_raw_result_"
   ]
  },
  {
   "cell_type": "markdown",
   "metadata": {},
   "source": [
    "### Display results in a table format"
   ]
  },
  {
   "cell_type": "code",
   "execution_count": null,
   "metadata": {},
   "outputs": [],
   "source": [
    "_kql_raw_result_.Table(fullscreen=True, table_package='pandas')"
   ]
  },
  {
   "cell_type": "code",
   "execution_count": null,
   "metadata": {},
   "outputs": [],
   "source": [
    "_kql_raw_result_.TableFS(fullscreen=False, table_package='pandas')"
   ]
  },
  {
   "cell_type": "code",
   "execution_count": null,
   "metadata": {},
   "outputs": [],
   "source": [
    "_kql_raw_result_.query"
   ]
  },
  {
   "cell_type": "markdown",
   "metadata": {},
   "source": [
    "### Submit a new kql query that is exactly as this query"
   ]
  },
  {
   "cell_type": "code",
   "execution_count": null,
   "metadata": {},
   "outputs": [],
   "source": [
    "_kql_raw_result_.Submit()"
   ]
  },
  {
   "cell_type": "markdown",
   "metadata": {},
   "source": [
    "### Refresh this query (modifies current object)"
   ]
  },
  {
   "cell_type": "code",
   "execution_count": null,
   "metadata": {},
   "outputs": [],
   "source": [
    "_kql_raw_result_.Refresh()"
   ]
  },
  {
   "cell_type": "markdown",
   "metadata": {},
   "source": [
    "### Display the chart od the query, if it was rendered to a chart"
   ]
  },
  {
   "cell_type": "code",
   "execution_count": null,
   "metadata": {},
   "outputs": [],
   "source": [
    "_kql_raw_result_.Chart()"
   ]
  },
  {
   "cell_type": "code",
   "execution_count": null,
   "metadata": {},
   "outputs": [],
   "source": [
    "_kql_raw_result_.ChartInWindow()"
   ]
  },
  {
   "cell_type": "markdown",
   "metadata": {},
   "source": [
    "### Get the dataframe of the raw result"
   ]
  },
  {
   "cell_type": "code",
   "execution_count": null,
   "metadata": {},
   "outputs": [],
   "source": [
    "_kql_raw_result_.Dataframe()"
   ]
  },
  {
   "cell_type": "markdown",
   "metadata": {},
   "source": [
    "### Config  Kql magic to return instead of a raw object to return a dataframe "
   ]
  },
  {
   "cell_type": "code",
   "execution_count": null,
   "metadata": {},
   "outputs": [],
   "source": [
    "%config KqlMagic.autopandas = True"
   ]
  },
  {
   "cell_type": "code",
   "execution_count": null,
   "metadata": {
    "scrolled": true
   },
   "outputs": [],
   "source": [
    "%%kql\n",
    "PageViews | summarize count() by Language | sort by count_ | limit 5\n",
    "\n",
    "x << PageViews | summarize count() by Language | sort by count_ | limit 11"
   ]
  },
  {
   "cell_type": "code",
   "execution_count": null,
   "metadata": {},
   "outputs": [],
   "source": [
    "x"
   ]
  },
  {
   "cell_type": "code",
   "execution_count": null,
   "metadata": {},
   "outputs": [],
   "source": [
    "_"
   ]
  },
  {
   "cell_type": "code",
   "execution_count": null,
   "metadata": {},
   "outputs": [],
   "source": [
    "_kql_raw_result_.query"
   ]
  },
  {
   "cell_type": "code",
   "execution_count": null,
   "metadata": {
    "scrolled": true
   },
   "outputs": [],
   "source": [
    "_kql_raw_result_.connection"
   ]
  },
  {
   "cell_type": "code",
   "execution_count": null,
   "metadata": {},
   "outputs": [],
   "source": [
    "_kql_raw_result_.start_time"
   ]
  },
  {
   "cell_type": "code",
   "execution_count": null,
   "metadata": {},
   "outputs": [],
   "source": [
    "_kql_raw_result_.end_time"
   ]
  },
  {
   "cell_type": "code",
   "execution_count": null,
   "metadata": {},
   "outputs": [],
   "source": [
    "_kql_raw_result_.flags"
   ]
  },
  {
   "cell_type": "code",
   "execution_count": null,
   "metadata": {},
   "outputs": [],
   "source": [
    "_kql_raw_result_.elapsed_timespan"
   ]
  },
  {
   "cell_type": "code",
   "execution_count": null,
   "metadata": {},
   "outputs": [],
   "source": [
    "y = _kql_raw_result_.Dataframe()"
   ]
  },
  {
   "cell_type": "code",
   "execution_count": null,
   "metadata": {},
   "outputs": [],
   "source": [
    "y"
   ]
  },
  {
   "cell_type": "code",
   "execution_count": null,
   "metadata": {},
   "outputs": [],
   "source": [
    "%config KqlMagic.autopandas = False"
   ]
  },
  {
   "cell_type": "code",
   "execution_count": null,
   "metadata": {
    "scrolled": true
   },
   "outputs": [],
   "source": [
    "%%kql Samples@help\n",
    "x << PageViews \n",
    "| summarize count() by Language  // bbbb\n",
    "| sort by count_ \n",
    "// bbb\n",
    "| limit 10  \n",
    "| render piechart\n",
    ";;\n",
    "\n",
    ";"
   ]
  },
  {
   "cell_type": "code",
   "execution_count": null,
   "metadata": {},
   "outputs": [],
   "source": [
    "x"
   ]
  },
  {
   "cell_type": "code",
   "execution_count": null,
   "metadata": {},
   "outputs": [],
   "source": [
    "x.Table()"
   ]
  },
  {
   "cell_type": "code",
   "execution_count": null,
   "metadata": {},
   "outputs": [],
   "source": [
    "x.Chart()"
   ]
  },
  {
   "cell_type": "code",
   "execution_count": null,
   "metadata": {},
   "outputs": [],
   "source": [
    "x.Dataframe()"
   ]
  },
  {
   "cell_type": "code",
   "execution_count": null,
   "metadata": {},
   "outputs": [],
   "source": [
    "x"
   ]
  },
  {
   "cell_type": "code",
   "execution_count": null,
   "metadata": {},
   "outputs": [],
   "source": [
    "?kql"
   ]
  },
  {
   "cell_type": "code",
   "execution_count": null,
   "metadata": {},
   "outputs": [],
   "source": [
    "??kql"
   ]
  },
  {
   "cell_type": "code",
   "execution_count": null,
   "metadata": {},
   "outputs": [],
   "source": [
    "%config InlineBackend.figure_format = 'retina'\n",
    "x.Chart();"
   ]
  },
  {
   "cell_type": "code",
   "execution_count": null,
   "metadata": {},
   "outputs": [],
   "source": [
    "%%kql \n",
    "PageViews | summarize count() by Language | sort by count_ | limit 5;\n",
    "// # _ = _kql_raw_result_;\n",
    "// #_.pie()"
   ]
  },
  {
   "cell_type": "code",
   "execution_count": null,
   "metadata": {},
   "outputs": [],
   "source": [
    "_"
   ]
  },
  {
   "cell_type": "code",
   "execution_count": null,
   "metadata": {},
   "outputs": [],
   "source": [
    "y = _[1][0]\n",
    "y"
   ]
  },
  {
   "cell_type": "markdown",
   "metadata": {},
   "source": [
    "# Kql - render barchart"
   ]
  },
  {
   "cell_type": "code",
   "execution_count": null,
   "metadata": {},
   "outputs": [],
   "source": [
    "%%kql \n",
    "PageViews \n",
    "| summarize count() by Language \n",
    "| sort by count_ \n",
    "| limit 10\n",
    "| extend cs = 2 * count_\n",
    "| render barchart title=\"Michael's chart\""
   ]
  },
  {
   "cell_type": "code",
   "execution_count": null,
   "metadata": {},
   "outputs": [],
   "source": [
    "_"
   ]
  },
  {
   "cell_type": "code",
   "execution_count": null,
   "metadata": {},
   "outputs": [],
   "source": [
    "%kql y << PageViews | summarize count() by Language | sort by count_ | limit 10 | extend cs = 2 * count_ | render barchart  title=\"Michael's chart\";\n",
    "%kql PageViews | summarize count() by Language | sort by count_ | limit 10 | extend cs = 2 * count_ | render columnchart title=\"Michael's chart\";"
   ]
  },
  {
   "cell_type": "code",
   "execution_count": null,
   "metadata": {},
   "outputs": [],
   "source": [
    "_"
   ]
  },
  {
   "cell_type": "code",
   "execution_count": null,
   "metadata": {},
   "outputs": [],
   "source": [
    "y"
   ]
  },
  {
   "cell_type": "markdown",
   "metadata": {},
   "source": [
    "# Kql - render columnchart"
   ]
  },
  {
   "cell_type": "code",
   "execution_count": null,
   "metadata": {},
   "outputs": [],
   "source": [
    "%%kql Samples@help\n",
    "PageViews \n",
    "| summarize count() by Language \n",
    "| sort by count_ \n",
    "| limit 10 \n",
    "| extend cs = 2 * count_\n",
    "| extend cs3 = 0.6 * count_\n",
    "//| extend cs4 = 0.6 * count_\n",
    "//| extend cs5 = 0.6 * count_\n",
    "//| extend cs6 = 0.6 * count_\n",
    "//| extend cs7 = 0.6 * count_\n",
    "//| extend cs8 = 0.6 * count_\n",
    "//| extend cs9 = 0.6 * count_\n",
    "//| extend cs10 = 0.6 * count_\n",
    "//| extend cs11 = 0.6 * count_\n",
    "//| extend cs12 = 0.6 * count_\n",
    "//| extend cs13 = 0.6 * count_\n",
    "//| extend cs14 = 0.6 * count_\n",
    "//| extend cs15 = 0.6 * count_\n",
    "| render columnchart title=\"Michael's chart\"\n"
   ]
  },
  {
   "cell_type": "code",
   "execution_count": null,
   "metadata": {},
   "outputs": [],
   "source": [
    "import plotly.plotly as py\n",
    "import plotly.graph_objs as go\n",
    "import plotly\n",
    "plotly.offline.init_notebook_mode(connected=True)\n",
    "\n",
    "fig = {\n",
    "    'data': [\n",
    "        {\n",
    "            'labels': ['1st', '2nd', '3rd', '4th', '5th'],\n",
    "            'values': [38, 27, 18, 10, 7],\n",
    "            'type': 'pie',\n",
    "            'name': 'Starry Night',\n",
    "            'marker': {'colors': ['rgb(56, 75, 126)',\n",
    "                                  'rgb(18, 36, 37)',\n",
    "                                  'rgb(34, 53, 101)',\n",
    "                                  'rgb(36, 55, 57)',\n",
    "                                  'rgb(6, 4, 4)']},\n",
    "            'domain': {'x': [0, .48],\n",
    "                       'y': [0, .49]},\n",
    "            'hoverinfo':'label+percent+name',\n",
    "            'textinfo':'none'\n",
    "        },\n",
    "        {\n",
    "            'labels': ['1st', '2nd', '3rd', '4th', '5th'],\n",
    "            'values': [28, 26, 21, 15, 10],\n",
    "            'marker': {'colors': ['rgb(177, 127, 38)',\n",
    "                                  'rgb(205, 152, 36)',\n",
    "                                  'rgb(99, 79, 37)',\n",
    "                                  'rgb(129, 180, 179)',\n",
    "                                  'rgb(124, 103, 37)']},\n",
    "            'type': 'pie',\n",
    "            'name': 'Sunflowers',\n",
    "            'domain': {'x': [.52, 1],\n",
    "                       'y': [0, .49]},\n",
    "            'hoverinfo':'label+percent+name',\n",
    "            'textinfo':'none'\n",
    "\n",
    "        },\n",
    "        {\n",
    "            'labels': ['1st', '2nd', '3rd', '4th', '5th'],\n",
    "            'values': [38, 19, 16, 14, 13],\n",
    "            'marker': {'colors': ['rgb(33, 75, 99)',\n",
    "                                  'rgb(79, 129, 102)',\n",
    "                                  'rgb(151, 179, 100)',\n",
    "                                  'rgb(175, 49, 35)',\n",
    "                                  'rgb(36, 73, 147)']},\n",
    "            'type': 'pie',\n",
    "            'name': 'Irises',\n",
    "            'domain': {'x': [0, .48],\n",
    "                       'y': [.51, 1]},\n",
    "            'hoverinfo':'label+percent+name',\n",
    "            'textinfo':'none'\n",
    "        },\n",
    "        {\n",
    "            'labels': ['1st', '2nd', '3rd', '4th', '5th'],\n",
    "            'values': [31, 24, 19, 18, 8],\n",
    "            'marker': {'colors': ['rgb(146, 123, 21)',\n",
    "                                  'rgb(177, 180, 34)',\n",
    "                                  'rgb(206, 206, 40)',\n",
    "                                  'rgb(175, 51, 21)',\n",
    "                                  'rgb(35, 36, 21)']},\n",
    "            'type': 'pie',\n",
    "            'name':'The Night Café',\n",
    "            'domain': {'x': [.52, 1],\n",
    "                       'y': [.51, 1]},\n",
    "            'hoverinfo':'label+percent+name',\n",
    "            'textinfo':'none'\n",
    "        }\n",
    "    ],\n",
    "    'layout': {'title': 'Van Gogh: 5 Most Prominent Colors Shown Proportionally',\n",
    "               'showlegend': False}\n",
    "}\n",
    "\n",
    "plotly.offline.iplot(fig, filename='pie_chart_subplots')"
   ]
  },
  {
   "cell_type": "code",
   "execution_count": null,
   "metadata": {},
   "outputs": [],
   "source": [
    "_.Table()"
   ]
  },
  {
   "cell_type": "code",
   "execution_count": null,
   "metadata": {},
   "outputs": [],
   "source": [
    "%config "
   ]
  },
  {
   "cell_type": "markdown",
   "metadata": {},
   "source": [
    "# Kql - render linechart"
   ]
  },
  {
   "cell_type": "code",
   "execution_count": null,
   "metadata": {},
   "outputs": [],
   "source": [
    "%config KqlMagic.autopandas = False"
   ]
  },
  {
   "cell_type": "code",
   "execution_count": null,
   "metadata": {},
   "outputs": [],
   "source": [
    "%%kql \n",
    "PageViews \n",
    "| summarize count() by Language \n",
    "| limit 10\n",
    "| extend cs2 = 2 * count_\n",
    "| extend cs3 = 3 * count_\n",
    "| render linechart title=\"Michael's chart\""
   ]
  },
  {
   "cell_type": "code",
   "execution_count": null,
   "metadata": {},
   "outputs": [],
   "source": [
    "_kql_raw_result_"
   ]
  },
  {
   "cell_type": "code",
   "execution_count": null,
   "metadata": {},
   "outputs": [],
   "source": [
    "_kql_raw_result_.Dataframe()._repr_html_()"
   ]
  },
  {
   "cell_type": "code",
   "execution_count": null,
   "metadata": {},
   "outputs": [],
   "source": [
    "_kql_raw_result_.Table()"
   ]
  },
  {
   "cell_type": "code",
   "execution_count": null,
   "metadata": {},
   "outputs": [],
   "source": [
    "_kql_raw_result_.Dataframe()"
   ]
  },
  {
   "cell_type": "code",
   "execution_count": null,
   "metadata": {},
   "outputs": [],
   "source": [
    "%%kql \n",
    "v << PageViews \n",
    "| summarize count() by Language \n",
    "//| sort by count_ \n",
    "| limit 10\n",
    "| extend cs2 = 2 * count_\n",
    "| extend cs3 = 3 * count_\n",
    "//| extend cs4 = 4 * count_\n",
    "//| extend cs5 = count_ * count_\n",
    "| render linechart title=\"Michael's chart\"\n",
    "| render piechart title=\"Michael's chart\"\n",
    "| render barchart title=\"Michael's chart\""
   ]
  },
  {
   "cell_type": "code",
   "execution_count": null,
   "metadata": {},
   "outputs": [],
   "source": [
    "v.Chart()"
   ]
  },
  {
   "cell_type": "code",
   "execution_count": null,
   "metadata": {
    "scrolled": false
   },
   "outputs": [],
   "source": [
    "%%kql \n",
    "PageViews | summarize count() by Language | limit 10 | extend cs2 = 2 * count_ | extend cs3 = 3 * count_ | render linechart title=\"Michael's chart\"\n"
   ]
  },
  {
   "cell_type": "markdown",
   "metadata": {},
   "source": [
    "# Kql - render areachart"
   ]
  },
  {
   "cell_type": "code",
   "execution_count": null,
   "metadata": {},
   "outputs": [],
   "source": [
    "%%kql \n",
    "-win PageViews \n",
    "| summarize count() by Language \n",
    "//| sort by count_ \n",
    "| limit 10\n",
    "| extend cs5 = 5 * count_\n",
    "| extend cs4 = 4 * count_\n",
    "| extend cs3 = 3 * count_\n",
    "| extend cs2 = 2 * count_\n",
    "| render areachart title=\"Michael's chart\""
   ]
  },
  {
   "cell_type": "code",
   "execution_count": null,
   "metadata": {},
   "outputs": [],
   "source": [
    "_"
   ]
  },
  {
   "cell_type": "code",
   "execution_count": null,
   "metadata": {},
   "outputs": [],
   "source": [
    "_.Table()"
   ]
  },
  {
   "cell_type": "markdown",
   "metadata": {},
   "source": [
    "# Kql - render scatterchart"
   ]
  },
  {
   "cell_type": "code",
   "execution_count": null,
   "metadata": {},
   "outputs": [],
   "source": [
    "%%kql \n",
    "PageViews \n",
    "| summarize count() by Language \n",
    "//| sort by count_ \n",
    "| limit 10\n",
    "| extend cs5 = count_ * 5\n",
    "| extend cs4 = count_ * 4\n",
    "| extend cs3 = count_ * 3\n",
    "| extend cs2 = count_ * 2\n",
    "| render scatterchart title=\"Michael's chart\""
   ]
  },
  {
   "cell_type": "code",
   "execution_count": null,
   "metadata": {},
   "outputs": [],
   "source": [
    "_kql_raw_result_"
   ]
  },
  {
   "cell_type": "code",
   "execution_count": null,
   "metadata": {},
   "outputs": [],
   "source": [
    "_.Table()"
   ]
  },
  {
   "cell_type": "markdown",
   "metadata": {},
   "source": [
    "# Kql - render scatterchart"
   ]
  },
  {
   "cell_type": "code",
   "execution_count": null,
   "metadata": {},
   "outputs": [],
   "source": [
    "%%kql \n",
    "z << let randn = () {rand() + rand() + rand() + rand() + rand() + rand() + rand() + rand() + rand() + rand() + rand() + rand() + rand() + rand()};\n",
    "range c from 1 to 1000 step 1 \n",
    "| limit 1000\n",
    "| extend e1 = randn()\n",
    "| extend e2 = randn()\n",
    "| extend e3 = randn()\n",
    "| extend e4 = randn()\n",
    "| extend e5 = randn()\n",
    "| project e1,e2,e3,e4,e5\n",
    "| render scatterchart title=\"Michael's chart\""
   ]
  },
  {
   "cell_type": "code",
   "execution_count": null,
   "metadata": {},
   "outputs": [],
   "source": [
    "z"
   ]
  },
  {
   "cell_type": "code",
   "execution_count": null,
   "metadata": {},
   "outputs": [],
   "source": [
    "z.Table()"
   ]
  },
  {
   "cell_type": "markdown",
   "metadata": {},
   "source": [
    "# Kql - render stackedareachart"
   ]
  },
  {
   "cell_type": "code",
   "execution_count": null,
   "metadata": {},
   "outputs": [],
   "source": [
    "%%kql -win\n",
    "let randn = () {rand() + rand() + rand()};\n",
    "range columnName from datetime('2016-01-01') to datetime('2016-03-31') step 1d\n",
    "| extend e1 = randn()\n",
    "| extend e2 = randn()\n",
    "| extend e3 = randn()\n",
    "| extend e4 = randn()\n",
    "| render stackedareachart title=\"Michael's chart\""
   ]
  },
  {
   "cell_type": "code",
   "execution_count": null,
   "metadata": {
    "scrolled": false
   },
   "outputs": [],
   "source": [
    "%%kql \n",
    "let randn = () {rand() + rand() + rand()};\n",
    "range columnName from datetime('2016-01-01') to datetime('2016-03-31') step 1d\n",
    "| extend e1 = randn()\n",
    "| extend e2 = randn()\n",
    "| extend e3 = randn()\n",
    "| extend e4 = randn()\n",
    "| render stackedareachart title=\"Michael's chart\""
   ]
  },
  {
   "cell_type": "markdown",
   "metadata": {},
   "source": [
    "# Kql - render timechart"
   ]
  },
  {
   "cell_type": "code",
   "execution_count": null,
   "metadata": {
    "scrolled": false
   },
   "outputs": [],
   "source": [
    "%%kql \n",
    "-win let randn = () {rand() + rand() + rand()};\n",
    "range columnName from datetime('2015-01-01') to datetime('2016-01-10') step 1d\n",
    "| extend e1 = randn()\n",
    "| extend e2 = randn()\n",
    "| extend e3 = randn()\n",
    "| extend e4 = randn()\n",
    "| render timechart title=\"Michael's chart\""
   ]
  },
  {
   "cell_type": "markdown",
   "metadata": {},
   "source": [
    "# Kql - render linechar"
   ]
  },
  {
   "cell_type": "code",
   "execution_count": null,
   "metadata": {
    "scrolled": false
   },
   "outputs": [],
   "source": [
    "%%kql \n",
    "-win let randn = () {rand() + rand() + rand()};\n",
    "range columnName from datetime('2015-01-01') to datetime('2016-01-10') step 1d\n",
    "| extend e0 = randn()\n",
    "| extend e1 = randn()\n",
    "| extend e2 = randn()\n",
    "| extend e3 = randn()\n",
    "| extend e4 = randn()\n",
    "| project e0,e1,e2,e3,e4\n",
    "| render linechart title=\"Michael's chart\""
   ]
  },
  {
   "cell_type": "markdown",
   "metadata": {},
   "source": [
    "# Kql - render anomalychart"
   ]
  },
  {
   "cell_type": "code",
   "execution_count": null,
   "metadata": {},
   "outputs": [],
   "source": [
    "%%kql \n",
    "let randn = () {rand() + rand() + rand()};\n",
    "range columnName from datetime('2015-01-01') to datetime('2016-01-10') step 1d\n",
    "| extend e1 = randn()\n",
    "| extend e2 = randn()\n",
    "| extend e3 = randn()\n",
    "| extend e4 = randn()\n",
    "| render anomalychart title=\"Michael's chart\""
   ]
  },
  {
   "cell_type": "code",
   "execution_count": null,
   "metadata": {},
   "outputs": [],
   "source": [
    "name = input(\"what is your name: \")\n",
    "print(\"name: \", name)\n",
    "name = input(\"what is your name: \")\n",
    "print(\"name: \", name)\n",
    "name = input(\"what is your name: \")\n",
    "print(\"name: \", name)"
   ]
  },
  {
   "cell_type": "code",
   "execution_count": null,
   "metadata": {},
   "outputs": [],
   "source": [
    "import getpass\n",
    "getpass??\n",
    "#p = getpass.getpass()"
   ]
  },
  {
   "cell_type": "code",
   "execution_count": null,
   "metadata": {},
   "outputs": [],
   "source": [
    "print(p)\n"
   ]
  },
  {
   "cell_type": "code",
   "execution_count": null,
   "metadata": {},
   "outputs": [],
   "source": [
    "import ipywidgets as widgets\n",
    "from IPython.display import display\n",
    "x = 12\n",
    "w = widgets.IntSlider(x)\n",
    "display(w)"
   ]
  },
  {
   "cell_type": "code",
   "execution_count": null,
   "metadata": {},
   "outputs": [],
   "source": [
    "display(w)\n",
    "display(w)\n",
    "display(w)\n"
   ]
  },
  {
   "cell_type": "code",
   "execution_count": null,
   "metadata": {},
   "outputs": [],
   "source": [
    "w.value"
   ]
  },
  {
   "cell_type": "code",
   "execution_count": null,
   "metadata": {},
   "outputs": [],
   "source": [
    "p = getpass.getpass(prompt='pw: ')\n",
    "p = getpass.getpass(prompt='pw1: ')\n",
    "p = getpass.getpass(prompt='pw   : 11 ')\n"
   ]
  },
  {
   "cell_type": "code",
   "execution_count": null,
   "metadata": {},
   "outputs": [],
   "source": [
    "%pushd\n",
    "%cd C:\\My Projects\\KqlMagic\\src\n",
    "%load_ext kql\n",
    "%popd"
   ]
  },
  {
   "cell_type": "code",
   "execution_count": null,
   "metadata": {},
   "outputs": [],
   "source": [
    "%pushd\n",
    "%cd C:\\My Projects\\KqlMagic\\src\n",
    "%reload_ext kql\n",
    "%popd"
   ]
  },
  {
   "cell_type": "code",
   "execution_count": null,
   "metadata": {},
   "outputs": [],
   "source": [
    "%kql appinsights://appid('<DEMO1_APP>').appkey('<DEMO_KEY>')"
   ]
  },
  {
   "cell_type": "code",
   "execution_count": null,
   "metadata": {},
   "outputs": [],
   "source": [
    "%kql kusto://"
   ]
  },
  {
   "cell_type": "code",
   "execution_count": null,
   "metadata": {
    "scrolled": true
   },
   "outputs": [],
   "source": [
    "%kql appinsights://"
   ]
  },
  {
   "cell_type": "code",
   "execution_count": null,
   "metadata": {
    "scrolled": false
   },
   "outputs": [],
   "source": [
    "%%kql \n",
    "let randn = () {rand() + rand() + rand()};\n",
    "range columnName from datetime('2015-01-01') to datetime('2016-01-10') step 1d\n",
    "| extend e1 = randn()\n",
    "| extend e2 = randn()\n",
    "| extend e3 = randn()\n",
    "| extend e4 = randn()\n",
    "| render anomalychart title=\"Michael's chart\""
   ]
  },
  {
   "cell_type": "code",
   "execution_count": null,
   "metadata": {},
   "outputs": [],
   "source": [
    "import plotly\n",
    "import plotly.plotly as py\n",
    "import plotly.figure_factory as ff\n",
    "\n",
    "df = pd.read_csv(\"https://raw.githubusercontent.com/plotly/datasets/master/school_earnings.csv\")\n",
    "\n",
    "table = ff.create_table(df)\n",
    "plotly.offline.iplot(table, filename='jupyter/table1')"
   ]
  },
  {
   "cell_type": "code",
   "execution_count": null,
   "metadata": {},
   "outputs": [],
   "source": []
  }
 ],
 "metadata": {
  "kernelspec": {
   "display_name": "Python 3",
   "language": "python",
   "name": "python3"
  },
  "language_info": {
   "codemirror_mode": {
    "name": "ipython",
    "version": 3
   },
   "file_extension": ".py",
   "mimetype": "text/x-python",
   "name": "python",
   "nbconvert_exporter": "python",
   "pygments_lexer": "ipython3",
   "version": "3.6.1"
  }
 },
 "nbformat": 4,
 "nbformat_minor": 2
}
