{
 "cells": [
  {
   "cell_type": "markdown",
   "metadata": {},
   "source": [
    "# Kql Magic Demo\n",
    "1. press F11 for browser full screen  \n",
    "2. select 'Single-Document Mode' and 'Presentation Mode' in View tab (Ctrl + Shift + D)  \n",
    "3. select 'Restart Kernel and Clear All Outputs...' in Kernel tab  \n",
    "4. repeat: press Shift+Enter to run selected cells"
   ]
  },
  {
   "cell_type": "markdown",
   "metadata": {},
   "source": [
    "![alt text](images/Kusto.jpg \"Kusto Magic\")"
   ]
  },
  {
   "cell_type": "markdown",
   "metadata": {},
   "source": [
    "### List current defined Magics\n",
    "*%kql and %%kql should not be listed*"
   ]
  },
  {
   "cell_type": "code",
   "execution_count": null,
   "metadata": {},
   "outputs": [],
   "source": [
    "%lsmagic"
   ]
  },
  {
   "cell_type": "markdown",
   "metadata": {},
   "source": [
    "### Load KqlMagic \n",
    "\n",
    "*current load is from source code folder*  \n",
    "*once KqlMagic will be public, will load from known repository *"
   ]
  },
  {
   "cell_type": "code",
   "execution_count": 2,
   "metadata": {},
   "outputs": [
    {
     "name": "stdout",
     "output_type": "stream",
     "text": [
      "Collecting git+git://github.com/mbnshtck/jupyter-kql-magic.git\n",
      "  Cloning git://github.com/mbnshtck/jupyter-kql-magic.git to c:\\users\\michabin\\appdata\\local\\temp\\pip-req-build-p6bhv05e\n",
      "Requirement already satisfied: prettytable>=0.7.2 in c:\\users\\michabin\\appdata\\local\\continuum\\anaconda3\\lib\\site-packages (from kqlmagic==0.1.4) (0.7.2)\n",
      "Requirement already satisfied: ipython>=1.0 in c:\\users\\michabin\\appdata\\local\\continuum\\anaconda3\\lib\\site-packages (from kqlmagic==0.1.4) (6.4.0)\n",
      "Requirement already satisfied: azure-kusto-data>=0.0.2 in c:\\users\\michabin\\appdata\\local\\continuum\\anaconda3\\lib\\site-packages (from kqlmagic==0.1.4) (0.0.5)\n",
      "Requirement already satisfied: six in c:\\users\\michabin\\appdata\\local\\continuum\\anaconda3\\lib\\site-packages (from kqlmagic==0.1.4) (1.11.0)\n",
      "Requirement already satisfied: pgspecial in c:\\users\\michabin\\appdata\\local\\continuum\\anaconda3\\lib\\site-packages (from kqlmagic==0.1.4) (1.11.0)\n",
      "Requirement already satisfied: ipython-genutils>=0.1.0 in c:\\users\\michabin\\appdata\\local\\continuum\\anaconda3\\lib\\site-packages (from kqlmagic==0.1.4) (0.2.0)\n",
      "Requirement already satisfied: prompt-toolkit<2.0.0,>=1.0.15 in c:\\users\\michabin\\appdata\\local\\continuum\\anaconda3\\lib\\site-packages (from ipython>=1.0->kqlmagic==0.1.4) (1.0.15)\n",
      "Requirement already satisfied: setuptools>=18.5 in c:\\users\\michabin\\appdata\\local\\continuum\\anaconda3\\lib\\site-packages (from ipython>=1.0->kqlmagic==0.1.4) (40.0.0)\n",
      "Requirement already satisfied: colorama; sys_platform == \"win32\" in c:\\users\\michabin\\appdata\\local\\continuum\\anaconda3\\lib\\site-packages (from ipython>=1.0->kqlmagic==0.1.4) (0.3.9)\n",
      "Requirement already satisfied: traitlets>=4.2 in c:\\users\\michabin\\appdata\\local\\continuum\\anaconda3\\lib\\site-packages (from ipython>=1.0->kqlmagic==0.1.4) (4.3.2)\n",
      "Requirement already satisfied: simplegeneric>0.8 in c:\\users\\michabin\\appdata\\local\\continuum\\anaconda3\\lib\\site-packages (from ipython>=1.0->kqlmagic==0.1.4) (0.8.1)\n",
      "Requirement already satisfied: jedi>=0.10 in c:\\users\\michabin\\appdata\\local\\continuum\\anaconda3\\lib\\site-packages (from ipython>=1.0->kqlmagic==0.1.4) (0.12.1)\n",
      "Requirement already satisfied: backcall in c:\\users\\michabin\\appdata\\local\\continuum\\anaconda3\\lib\\site-packages (from ipython>=1.0->kqlmagic==0.1.4) (0.1.0)\n",
      "Requirement already satisfied: decorator in c:\\users\\michabin\\appdata\\local\\continuum\\anaconda3\\lib\\site-packages (from ipython>=1.0->kqlmagic==0.1.4) (4.3.0)\n",
      "Requirement already satisfied: pickleshare in c:\\users\\michabin\\appdata\\local\\continuum\\anaconda3\\lib\\site-packages (from ipython>=1.0->kqlmagic==0.1.4) (0.7.4)\n",
      "Requirement already satisfied: pygments in c:\\users\\michabin\\appdata\\local\\continuum\\anaconda3\\lib\\site-packages (from ipython>=1.0->kqlmagic==0.1.4) (2.2.0)\n",
      "Requirement already satisfied: adal>=1.0.0 in c:\\users\\michabin\\appdata\\local\\continuum\\anaconda3\\lib\\site-packages (from azure-kusto-data>=0.0.2->kqlmagic==0.1.4) (1.0.2)\n",
      "Requirement already satisfied: azure-nspkg>=2.0.0 in c:\\users\\michabin\\appdata\\local\\continuum\\anaconda3\\lib\\site-packages (from azure-kusto-data>=0.0.2->kqlmagic==0.1.4) (2.0.0)\n",
      "Requirement already satisfied: pandas>=0.15.0 in c:\\users\\michabin\\appdata\\local\\continuum\\anaconda3\\lib\\site-packages (from azure-kusto-data>=0.0.2->kqlmagic==0.1.4) (0.23.3)\n",
      "Requirement already satisfied: click>=4.1 in c:\\users\\michabin\\appdata\\local\\continuum\\anaconda3\\lib\\site-packages (from pgspecial->kqlmagic==0.1.4) (6.7)\n",
      "Requirement already satisfied: sqlparse>=0.1.19 in c:\\users\\michabin\\appdata\\local\\continuum\\anaconda3\\lib\\site-packages (from pgspecial->kqlmagic==0.1.4) (0.2.4)\n",
      "Requirement already satisfied: wcwidth in c:\\users\\michabin\\appdata\\local\\continuum\\anaconda3\\lib\\site-packages (from prompt-toolkit<2.0.0,>=1.0.15->ipython>=1.0->kqlmagic==0.1.4) (0.1.7)\n",
      "Requirement already satisfied: parso>=0.3.0 in c:\\users\\michabin\\appdata\\local\\continuum\\anaconda3\\lib\\site-packages (from jedi>=0.10->ipython>=1.0->kqlmagic==0.1.4) (0.3.1)\n",
      "Requirement already satisfied: PyJWT>=1.0.0 in c:\\users\\michabin\\appdata\\local\\continuum\\anaconda3\\lib\\site-packages (from adal>=1.0.0->azure-kusto-data>=0.0.2->kqlmagic==0.1.4) (1.6.4)\n",
      "Requirement already satisfied: cryptography>=1.1.0 in c:\\users\\michabin\\appdata\\local\\continuum\\anaconda3\\lib\\site-packages (from adal>=1.0.0->azure-kusto-data>=0.0.2->kqlmagic==0.1.4) (2.2.2)\n",
      "Requirement already satisfied: python-dateutil>=2.1.0 in c:\\users\\michabin\\appdata\\local\\continuum\\anaconda3\\lib\\site-packages (from adal>=1.0.0->azure-kusto-data>=0.0.2->kqlmagic==0.1.4) (2.7.3)\n",
      "Requirement already satisfied: requests>=2.0.0 in c:\\users\\michabin\\appdata\\local\\continuum\\anaconda3\\lib\\site-packages (from adal>=1.0.0->azure-kusto-data>=0.0.2->kqlmagic==0.1.4) (2.19.1)\n",
      "Requirement already satisfied: pytz>=2011k in c:\\users\\michabin\\appdata\\local\\continuum\\anaconda3\\lib\\site-packages (from pandas>=0.15.0->azure-kusto-data>=0.0.2->kqlmagic==0.1.4) (2018.5)\n",
      "Requirement already satisfied: numpy>=1.9.0 in c:\\users\\michabin\\appdata\\local\\continuum\\anaconda3\\lib\\site-packages (from pandas>=0.15.0->azure-kusto-data>=0.0.2->kqlmagic==0.1.4) (1.14.5)\n",
      "Requirement already satisfied: idna>=2.1 in c:\\users\\michabin\\appdata\\local\\continuum\\anaconda3\\lib\\site-packages (from cryptography>=1.1.0->adal>=1.0.0->azure-kusto-data>=0.0.2->kqlmagic==0.1.4) (2.7)\n",
      "Requirement already satisfied: asn1crypto>=0.21.0 in c:\\users\\michabin\\appdata\\local\\continuum\\anaconda3\\lib\\site-packages (from cryptography>=1.1.0->adal>=1.0.0->azure-kusto-data>=0.0.2->kqlmagic==0.1.4) (0.24.0)\n",
      "Requirement already satisfied: cffi>=1.7; platform_python_implementation != \"PyPy\" in c:\\users\\michabin\\appdata\\local\\continuum\\anaconda3\\lib\\site-packages (from cryptography>=1.1.0->adal>=1.0.0->azure-kusto-data>=0.0.2->kqlmagic==0.1.4) (1.11.5)\n",
      "Requirement already satisfied: urllib3<1.24,>=1.21.1 in c:\\users\\michabin\\appdata\\local\\continuum\\anaconda3\\lib\\site-packages (from requests>=2.0.0->adal>=1.0.0->azure-kusto-data>=0.0.2->kqlmagic==0.1.4) (1.23)\n",
      "Requirement already satisfied: certifi>=2017.4.17 in c:\\users\\michabin\\appdata\\local\\continuum\\anaconda3\\lib\\site-packages (from requests>=2.0.0->adal>=1.0.0->azure-kusto-data>=0.0.2->kqlmagic==0.1.4) (2018.4.16)\n",
      "Requirement already satisfied: chardet<3.1.0,>=3.0.2 in c:\\users\\michabin\\appdata\\local\\continuum\\anaconda3\\lib\\site-packages (from requests>=2.0.0->adal>=1.0.0->azure-kusto-data>=0.0.2->kqlmagic==0.1.4) (3.0.4)\n",
      "Requirement already satisfied: pycparser in c:\\users\\michabin\\appdata\\local\\continuum\\anaconda3\\lib\\site-packages (from cffi>=1.7; platform_python_implementation != \"PyPy\"->cryptography>=1.1.0->adal>=1.0.0->azure-kusto-data>=0.0.2->kqlmagic==0.1.4) (2.18)\n",
      "Building wheels for collected packages: kqlmagic\n",
      "  Running setup.py bdist_wheel for kqlmagic: started\n",
      "  Running setup.py bdist_wheel for kqlmagic: finished with status 'done'\n",
      "  Stored in directory: C:\\Users\\michabin\\AppData\\Local\\Temp\\pip-ephem-wheel-cache-qph899hj\\wheels\\e8\\47\\c6\\64f4ee9f215f0e7296eca5b3fdad33ca6c3935c64aef014c96\n",
      "Successfully built kqlmagic\n",
      "Installing collected packages: kqlmagic\n",
      "Successfully installed kqlmagic-0.1.4\n"
     ]
    },
    {
     "name": "stderr",
     "output_type": "stream",
     "text": [
      "spyder 3.3.0 has requirement pyqt5<5.10; python_version >= \"3\", but you'll have pyqt5 5.11.2 which is incompatible.\n",
      "spyder 3.3.0 has requirement spyder-kernels<1.0, but you'll have spyder-kernels 1.0.1 which is incompatible.\n",
      "jupyterlab 0.32.1 has requirement jupyterlab-launcher<0.11.0,>=0.10.0, but you'll have jupyterlab-launcher 0.11.0 which is incompatible.\n"
     ]
    }
   ],
   "source": [
    "!pip install git+git://github.com/mbnshtck/jupyter-kql-magic.git"
   ]
  },
  {
   "cell_type": "code",
   "execution_count": 3,
   "metadata": {
    "scrolled": true
   },
   "outputs": [
    {
     "data": {
      "text/html": [
       "<script>requirejs.config({paths: { 'plotly': ['https://cdn.plot.ly/plotly-latest.min']},});if(!window.Plotly) {{require(['plotly'],function(plotly) {window.Plotly=plotly;});}}</script>"
      ],
      "text/vnd.plotly.v1+html": [
       "<script>requirejs.config({paths: { 'plotly': ['https://cdn.plot.ly/plotly-latest.min']},});if(!window.Plotly) {{require(['plotly'],function(plotly) {window.Plotly=plotly;});}}</script>"
      ]
     },
     "metadata": {},
     "output_type": "display_data"
    },
    {
     "data": {
      "text/html": [
       "<html>\n",
       "        <head>\n",
       "        <style>\n",
       "        .flex-container {\n",
       "            display: flex; \n",
       "            background-color: #d9edf7;\n",
       "        }\n",
       "        .flex-container > div {\n",
       "            margin: 10px; \n",
       "            padding: 20px; \n",
       "            color: #3a87ad; \n",
       "            font-size: 16px;\n",
       "        }\n",
       "        </style>\n",
       "        </head>\n",
       "        <body>\n",
       "            <div class='flex-container'>\n",
       "                <div><img src='data:image/png;base64,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'></div>\n",
       "                <div>\n",
       "                    <p>Kusto is a log analytics cloud platform optimized for ad-hoc big data queries. Read more about it here: http://aka.ms/kdocs</p>\n",
       "                    <p>Run '%config KqlMagic' for configuration.</p>\n",
       "                    <p>Run '%kql?' for syntax.</p>\n",
       "                </div>\n",
       "            </div>\n",
       "        </body>\n",
       "        </html>"
      ],
      "text/plain": [
       "<IPython.core.display.HTML object>"
      ]
     },
     "metadata": {},
     "output_type": "display_data"
    }
   ],
   "source": [
    "# %pushd C:\\My Projects\\KqlMagic\\src\n",
    "%reload_ext kql\n",
    "# %popd"
   ]
  },
  {
   "cell_type": "code",
   "execution_count": null,
   "metadata": {},
   "outputs": [],
   "source": [
    "%kql kusto://code().cluster('help').database('Samples')"
   ]
  },
  {
   "cell_type": "code",
   "execution_count": null,
   "metadata": {},
   "outputs": [],
   "source": [
    "import sys\n",
    "!{sys.executable} --version"
   ]
  },
  {
   "cell_type": "code",
   "execution_count": null,
   "metadata": {},
   "outputs": [],
   "source": [
    "print(__main__)"
   ]
  },
  {
   "cell_type": "code",
   "execution_count": null,
   "metadata": {},
   "outputs": [],
   "source": [
    "%kql PageViews | summarize count() by Language | sort by count_ | limit 10 | render piechart"
   ]
  },
  {
   "cell_type": "markdown",
   "metadata": {},
   "source": [
    "### Show KqlMagic docstring "
   ]
  },
  {
   "cell_type": "code",
   "execution_count": null,
   "metadata": {},
   "outputs": [],
   "source": [
    "%kql?"
   ]
  },
  {
   "cell_type": "markdown",
   "metadata": {},
   "source": [
    "### List again current defined Magics\n",
    "*%kql and %%kql should be listed*"
   ]
  },
  {
   "cell_type": "code",
   "execution_count": null,
   "metadata": {},
   "outputs": [],
   "source": [
    "%lsmagic"
   ]
  },
  {
   "cell_type": "markdown",
   "metadata": {},
   "source": [
    "### List all KqlMagic configurable options"
   ]
  },
  {
   "cell_type": "code",
   "execution_count": 4,
   "metadata": {},
   "outputs": [
    {
     "name": "stdout",
     "output_type": "stream",
     "text": [
      "KqlMagic options\n",
      "--------------\n",
      "KqlMagic.autolimit=<Int>\n",
      "    Current: 0\n",
      "    Automatically limit the size of the returned result sets. Abbreviation: al\n",
      "KqlMagic.autopandas=<Bool>\n",
      "    Current: False\n",
      "    Return Pandas DataFrames instead of regular result sets. Abbreviation: ap\n",
      "KqlMagic.column_local_vars=<Bool>\n",
      "    Current: False\n",
      "    Return data into local variables from column names. Abbreviation: cls\n",
      "KqlMagic.displaylimit=<Int>\n",
      "    Current: None\n",
      "    Automatically limit the number of rows displayed (full result set is still\n",
      "    stored). Abbreviation: dl\n",
      "KqlMagic.dsn_filename=<Unicode>\n",
      "    Current: 'odbc.ini'\n",
      "    Path to DSN file. When the first argument is of the form [section], a kql\n",
      "    connection string is formed from the matching section in the DSN file.\n",
      "    Abbreviation: dl\n",
      "KqlMagic.enable_suppress_result=<Bool>\n",
      "    Current: True\n",
      "    Suppress result when magic ends with a semicolon ;. Abbreviation: esr\n",
      "KqlMagic.feedback=<Bool>\n",
      "    Current: True\n",
      "    Print number of records returned, and assigned variables. Abbreviation: f\n",
      "KqlMagic.last_raw_result_var=<Unicode>\n",
      "    Current: '_kql_raw_result_'\n",
      "    Set the name of the variable that will contain last raw result.\n",
      "    Abbreviation: var\n",
      "KqlMagic.plot_package=<Unicode>\n",
      "    Current: 'matplotlib'\n",
      "    Set the plot package (currently matplotlib, plotly). Abbreviation: pp\n",
      "KqlMagic.plotly_fs_includejs=<Bool>\n",
      "    Current: False\n",
      "    Include plotly javascript code to fullscreen HTMLs, if set to  False\n",
      "    (default), it download from https://cdn.plot.ly/plotly-latest.min.js.\n",
      "    Abbreviation: pfi\n",
      "KqlMagic.short_errors=<Bool>\n",
      "    Current: True\n",
      "    Don't display the full traceback on KQL Programming Error. Abbreviation: se\n",
      "KqlMagic.show_conn_list=<Bool>\n",
      "    Current: True\n",
      "    Print connection list, when connection not specified. Abbreviation: scl\n",
      "KqlMagic.show_query_time=<Bool>\n",
      "    Current: True\n",
      "    Print query execution elapsed time. Abbreviation: sqt\n",
      "KqlMagic.style=<Unicode>\n",
      "    Current: 'DEFAULT'\n",
      "    Set the table printing style to any of prettytable's defined styles\n",
      "    (currently DEFAULT, MSWORD_FRIENDLY, PLAIN_COLUMNS, RANDOM). . Abbreviation:\n",
      "    st\n",
      "KqlMagic.table_package=<Unicode>\n",
      "    Current: 'prettytable'\n",
      "    Set the table printing package (currently prettytable, pandas, plotly,\n",
      "    qgrid). Abbreviation: tp\n",
      "KqlMagic.validate_connection_string=<Bool>\n",
      "    Current: True\n",
      "    Validate connectionString with an implicit query, when query statement is\n",
      "    missing. Abbreviation: vc\n",
      "KqlMagic.version=<Unicode>\n",
      "    Current: '0.1.4'\n",
      "    Validate connectionString with an implicit query, when query statement is\n",
      "    missing. Abbreviation: vc\n"
     ]
    }
   ],
   "source": [
    "%config KqlMagic"
   ]
  },
  {
   "cell_type": "markdown",
   "metadata": {},
   "source": [
    "### Configure KqlMagic DSN filename\n",
    "*Example how to configure KqlMagic properties*  \n",
    "*when dsn_filename is set, KqlMagic can be instructed to get a section as a connection string*"
   ]
  },
  {
   "cell_type": "code",
   "execution_count": null,
   "metadata": {},
   "outputs": [],
   "source": [
    "%config KqlMagic.dsn_filename = 'dsn/odbc.ini'"
   ]
  },
  {
   "cell_type": "markdown",
   "metadata": {},
   "source": [
    "### Print content of dsn/odbc.ini file"
   ]
  },
  {
   "cell_type": "code",
   "execution_count": null,
   "metadata": {},
   "outputs": [],
   "source": [
    "%pycat dsn/odbc.ini"
   ]
  },
  {
   "cell_type": "markdown",
   "metadata": {},
   "source": [
    "### Get connection string to Kusto cluster from a section\n",
    "*Example how to get the connection string from a section*\n",
    "*to make it work, KqlMagic.dsn_filename must be set, and a section with connection string attributes must exist in the file *"
   ]
  },
  {
   "cell_type": "code",
   "execution_count": null,
   "metadata": {
    "scrolled": false
   },
   "outputs": [],
   "source": [
    "%kql [KUSTO-DSN] -df dsn/odbc.ini -!vc"
   ]
  },
  {
   "cell_type": "markdown",
   "metadata": {},
   "source": [
    "### Show environment variables"
   ]
  },
  {
   "cell_type": "code",
   "execution_count": null,
   "metadata": {},
   "outputs": [],
   "source": [
    "%env"
   ]
  },
  {
   "cell_type": "markdown",
   "metadata": {},
   "source": [
    "### Get connection string to Kusto cluster from an environment variable\n",
    "*Example how to get the connection string from an environment parameter*  \n",
    "*to make it work, the environment variable must be set to a connection string*"
   ]
  },
  {
   "cell_type": "code",
   "execution_count": null,
   "metadata": {
    "scrolled": true
   },
   "outputs": [],
   "source": [
    "%kql $HELP_CONNECTION_STR"
   ]
  },
  {
   "cell_type": "markdown",
   "metadata": {},
   "source": [
    "### List current connections\n",
    "note that current connection is prefixed by a '*'"
   ]
  },
  {
   "cell_type": "code",
   "execution_count": null,
   "metadata": {
    "scrolled": true
   },
   "outputs": [],
   "source": [
    "%kql"
   ]
  },
  {
   "cell_type": "markdown",
   "metadata": {},
   "source": [
    "### Create connection to Kusto database, on the same cluster as current connection cluster"
   ]
  },
  {
   "cell_type": "code",
   "execution_count": null,
   "metadata": {},
   "outputs": [],
   "source": [
    "%kql kusto://database('Other')"
   ]
  },
  {
   "cell_type": "markdown",
   "metadata": {},
   "source": [
    "### Make specific connection current"
   ]
  },
  {
   "cell_type": "code",
   "execution_count": null,
   "metadata": {},
   "outputs": [],
   "source": [
    "%kql Samples@help"
   ]
  },
  {
   "cell_type": "markdown",
   "metadata": {},
   "source": [
    "\n",
    "\n",
    "### Kql query\n",
    "note: when connection is not specified, all connection are displayed, and current connection is prefixed with an '*'  \n",
    "note: metadata is displayed too, that includes the elapsed time of the query, and how many records returned"
   ]
  },
  {
   "cell_type": "code",
   "execution_count": null,
   "metadata": {
    "scrolled": false
   },
   "outputs": [],
   "source": [
    "%kql PageViews | summarize count() by Language | sort by count_ | limit 10 | render piechart"
   ]
  },
  {
   "cell_type": "code",
   "execution_count": null,
   "metadata": {},
   "outputs": [],
   "source": [
    "%kql appinsights://appid('DEMO_APP').appkey('DEMO_KEY')"
   ]
  },
  {
   "cell_type": "code",
   "execution_count": null,
   "metadata": {
    "scrolled": false
   },
   "outputs": [],
   "source": [
    "%%kql DEMO_APP@appinsights requests \n",
    " | where timestamp > ago(24h) and success==\"False\"\n",
    " | join kind=inner (exceptions \n",
    " | where timestamp > ago(24h) ) on operation_Id \n",
    " | project type, method, requestName = name, requestDuration = duration | render columnchart"
   ]
  },
  {
   "cell_type": "code",
   "execution_count": null,
   "metadata": {},
   "outputs": [],
   "source": [
    "%kql requests | count"
   ]
  },
  {
   "cell_type": "code",
   "execution_count": null,
   "metadata": {},
   "outputs": [],
   "source": [
    "int('a')"
   ]
  },
  {
   "cell_type": "markdown",
   "metadata": {},
   "source": [
    "### Notebook last result"
   ]
  },
  {
   "cell_type": "code",
   "execution_count": null,
   "metadata": {},
   "outputs": [],
   "source": [
    "from IPython.core.display import display, HTML\n",
    "HTML??"
   ]
  },
  {
   "cell_type": "code",
   "execution_count": null,
   "metadata": {},
   "outputs": [],
   "source": [
    "_"
   ]
  },
  {
   "cell_type": "markdown",
   "metadata": {},
   "source": [
    "### last kqlMagic result\n",
    "_kql_raw_result_ holds last kql magic result"
   ]
  },
  {
   "cell_type": "code",
   "execution_count": null,
   "metadata": {},
   "outputs": [],
   "source": [
    "_kql_raw_result_.Chart()"
   ]
  },
  {
   "cell_type": "code",
   "execution_count": null,
   "metadata": {},
   "outputs": [],
   "source": [
    "_kql_raw_result_.ChartFS()"
   ]
  },
  {
   "cell_type": "code",
   "execution_count": null,
   "metadata": {},
   "outputs": [],
   "source": [
    "_"
   ]
  },
  {
   "cell_type": "markdown",
   "metadata": {},
   "source": [
    "### Two %kql (line magic) in same cell\n",
    "note: only last query is displayed"
   ]
  },
  {
   "cell_type": "code",
   "execution_count": null,
   "metadata": {},
   "outputs": [],
   "source": [
    "%kql PageViews | summarize count() by Language | sort by count_ | limit 10\n",
    "%kql Samples@help PageViews | summarize count() by Language | sort by count_ | limit 5"
   ]
  },
  {
   "cell_type": "markdown",
   "metadata": {},
   "source": [
    "### Kql results may be assigned\n",
    "note: when queryresults are assigned display is automatically suppressed for that query  \n",
    "note: assignment must be placed after connection if connection is specified"
   ]
  },
  {
   "cell_type": "code",
   "execution_count": null,
   "metadata": {},
   "outputs": [],
   "source": [
    "%kql Samples@help q2 << PageViews | summarize count() by Language | sort by count_ | limit 3"
   ]
  },
  {
   "cell_type": "code",
   "execution_count": null,
   "metadata": {},
   "outputs": [],
   "source": [
    "q2"
   ]
  },
  {
   "cell_type": "code",
   "execution_count": null,
   "metadata": {},
   "outputs": [],
   "source": [
    "%kql q1 << PageViews | summarize count() by Language | sort by count_ | limit 10\n",
    "%kql Samples@help q2 << PageViews | summarize count() by Language | sort by count_ | limit 5"
   ]
  },
  {
   "cell_type": "code",
   "execution_count": null,
   "metadata": {},
   "outputs": [],
   "source": [
    "q1"
   ]
  },
  {
   "cell_type": "code",
   "execution_count": null,
   "metadata": {},
   "outputs": [],
   "source": [
    "q2"
   ]
  },
  {
   "cell_type": "markdown",
   "metadata": {},
   "source": [
    "### Two kql query in a %%kql cell magic\n",
    "note: the query must be separated by an empty line\n",
    "note that the output is suppressed !!! It is becasue the cell ends with a semicolon  ;"
   ]
  },
  {
   "cell_type": "code",
   "execution_count": null,
   "metadata": {},
   "outputs": [],
   "source": [
    "%%kql Samples@help\n",
    "p1 << PageViews | summarize count() by Language | sort by count_ | limit 10 | render piechart\n",
    "\n",
    "PageViews | summarize count() by Language | sort by count_ | limit 10  | render barchart"
   ]
  },
  {
   "cell_type": "code",
   "execution_count": null,
   "metadata": {},
   "outputs": [],
   "source": [
    "p1"
   ]
  },
  {
   "cell_type": "code",
   "execution_count": null,
   "metadata": {},
   "outputs": [],
   "source": [
    "_kql_raw_result_.Chart()"
   ]
  },
  {
   "cell_type": "code",
   "execution_count": null,
   "metadata": {},
   "outputs": [],
   "source": [
    "%%kql -tp pandas\n",
    "StormEvents\n",
    "| extend hour= floor( StartTime % 1d , 1h)/ 1h\n",
    "| where State in (\"GULF OF MEXICO\",\"MAINE\",\"VIRGINIA\",\"WISCONSIN\",\"NORTH DAKOTA\",\"NEW JERSEY\",\"OREGON\")\n",
    "| summarize event_count=count() by hour, State\n",
    "| extend cs2 = event_count*2 \n",
    "| extend cs3 = event_count*3 \n",
    "| extend ss = strcat(State,'_s')\n",
    "| extend sh = strcat(substring(tostring(toint(100+hour)), 1), '-', State)\n",
    "| sort by sh\n",
    "| project sh, event_count, cs2, cs3\n",
    "//| limit 10\n",
    "//| render barchart "
   ]
  },
  {
   "cell_type": "code",
   "execution_count": null,
   "metadata": {},
   "outputs": [],
   "source": [
    "_kql_raw_result_.flags"
   ]
  },
  {
   "cell_type": "code",
   "execution_count": null,
   "metadata": {
    "scrolled": true
   },
   "outputs": [],
   "source": [
    "_kql_raw_result_.Table(table_package='prettytable')"
   ]
  },
  {
   "cell_type": "code",
   "execution_count": null,
   "metadata": {
    "scrolled": true
   },
   "outputs": [],
   "source": [
    "_kql_raw_result_.flags"
   ]
  },
  {
   "cell_type": "code",
   "execution_count": null,
   "metadata": {},
   "outputs": [],
   "source": [
    "_"
   ]
  },
  {
   "cell_type": "code",
   "execution_count": null,
   "metadata": {},
   "outputs": [],
   "source": [
    "_.Table()"
   ]
  },
  {
   "cell_type": "code",
   "execution_count": null,
   "metadata": {},
   "outputs": [],
   "source": [
    "%kql Samples@help PageViews | summarize count() by Language | sort by count_ | limit 10 | render columnchart"
   ]
  },
  {
   "cell_type": "code",
   "execution_count": null,
   "metadata": {},
   "outputs": [],
   "source": [
    "_kql_raw_result_"
   ]
  },
  {
   "cell_type": "markdown",
   "metadata": {},
   "source": [
    "### Display results in a table format"
   ]
  },
  {
   "cell_type": "code",
   "execution_count": null,
   "metadata": {},
   "outputs": [],
   "source": [
    "_kql_raw_result_.Table(fullscreen=True, table_package='pandas')"
   ]
  },
  {
   "cell_type": "code",
   "execution_count": null,
   "metadata": {},
   "outputs": [],
   "source": [
    "_kql_raw_result_.TableFS(fullscreen=False, table_package='pandas')"
   ]
  },
  {
   "cell_type": "code",
   "execution_count": null,
   "metadata": {},
   "outputs": [],
   "source": [
    "_kql_raw_result_.query"
   ]
  },
  {
   "cell_type": "markdown",
   "metadata": {},
   "source": [
    "### Submit a new kql query that is exactly as this query"
   ]
  },
  {
   "cell_type": "code",
   "execution_count": null,
   "metadata": {},
   "outputs": [],
   "source": [
    "_kql_raw_result_.Submit()"
   ]
  },
  {
   "cell_type": "markdown",
   "metadata": {},
   "source": [
    "### Refresh this query (modifies current object)"
   ]
  },
  {
   "cell_type": "code",
   "execution_count": null,
   "metadata": {},
   "outputs": [],
   "source": [
    "_kql_raw_result_.Refresh()"
   ]
  },
  {
   "cell_type": "markdown",
   "metadata": {},
   "source": [
    "### Display the chart od the query, if it was rendered to a chart"
   ]
  },
  {
   "cell_type": "code",
   "execution_count": null,
   "metadata": {},
   "outputs": [],
   "source": [
    "_kql_raw_result_.Chart()"
   ]
  },
  {
   "cell_type": "code",
   "execution_count": null,
   "metadata": {},
   "outputs": [],
   "source": [
    "_kql_raw_result_.ChartFS()"
   ]
  },
  {
   "cell_type": "markdown",
   "metadata": {},
   "source": [
    "### Get the dataframe of the raw result"
   ]
  },
  {
   "cell_type": "code",
   "execution_count": null,
   "metadata": {},
   "outputs": [],
   "source": [
    "_kql_raw_result_.Dataframe()"
   ]
  },
  {
   "cell_type": "markdown",
   "metadata": {},
   "source": [
    "### Config  Kql magic to return instead of a raw object to return a dataframe "
   ]
  },
  {
   "cell_type": "code",
   "execution_count": null,
   "metadata": {},
   "outputs": [],
   "source": [
    "%config KqlMagic.autopandas = True"
   ]
  },
  {
   "cell_type": "code",
   "execution_count": null,
   "metadata": {
    "scrolled": true
   },
   "outputs": [],
   "source": [
    "%%kql\n",
    "PageViews | summarize count() by Language | sort by count_ | limit 5\n",
    "\n",
    "x << PageViews | summarize count() by Language | sort by count_ | limit 11"
   ]
  },
  {
   "cell_type": "code",
   "execution_count": null,
   "metadata": {},
   "outputs": [],
   "source": [
    "x"
   ]
  },
  {
   "cell_type": "code",
   "execution_count": null,
   "metadata": {},
   "outputs": [],
   "source": [
    "_"
   ]
  },
  {
   "cell_type": "code",
   "execution_count": null,
   "metadata": {},
   "outputs": [],
   "source": [
    "_kql_raw_result_.query"
   ]
  },
  {
   "cell_type": "code",
   "execution_count": null,
   "metadata": {
    "scrolled": true
   },
   "outputs": [],
   "source": [
    "_kql_raw_result_.connection"
   ]
  },
  {
   "cell_type": "code",
   "execution_count": null,
   "metadata": {},
   "outputs": [],
   "source": [
    "_kql_raw_result_.start_time"
   ]
  },
  {
   "cell_type": "code",
   "execution_count": null,
   "metadata": {},
   "outputs": [],
   "source": [
    "_kql_raw_result_.end_time"
   ]
  },
  {
   "cell_type": "code",
   "execution_count": null,
   "metadata": {},
   "outputs": [],
   "source": [
    "_kql_raw_result_.flags"
   ]
  },
  {
   "cell_type": "code",
   "execution_count": null,
   "metadata": {},
   "outputs": [],
   "source": [
    "_kql_raw_result_.elapsed_timespan"
   ]
  },
  {
   "cell_type": "code",
   "execution_count": null,
   "metadata": {},
   "outputs": [],
   "source": [
    "y = _kql_raw_result_.Dataframe()"
   ]
  },
  {
   "cell_type": "code",
   "execution_count": null,
   "metadata": {},
   "outputs": [],
   "source": [
    "y"
   ]
  },
  {
   "cell_type": "code",
   "execution_count": null,
   "metadata": {},
   "outputs": [],
   "source": [
    "%config KqlMagic.autopandas = False"
   ]
  },
  {
   "cell_type": "code",
   "execution_count": null,
   "metadata": {
    "scrolled": true
   },
   "outputs": [],
   "source": [
    "%%kql Samples@help\n",
    "x << PageViews \n",
    "| summarize count() by Language  // bbbb\n",
    "| sort by count_ \n",
    "// bbb\n",
    "| limit 10  \n",
    "| render piechart\n",
    ";;\n",
    "\n",
    ";"
   ]
  },
  {
   "cell_type": "code",
   "execution_count": null,
   "metadata": {},
   "outputs": [],
   "source": [
    "x"
   ]
  },
  {
   "cell_type": "code",
   "execution_count": null,
   "metadata": {},
   "outputs": [],
   "source": [
    "x.Table()"
   ]
  },
  {
   "cell_type": "code",
   "execution_count": null,
   "metadata": {},
   "outputs": [],
   "source": [
    "x.Chart()"
   ]
  },
  {
   "cell_type": "code",
   "execution_count": null,
   "metadata": {},
   "outputs": [],
   "source": [
    "x.Dataframe()"
   ]
  },
  {
   "cell_type": "code",
   "execution_count": null,
   "metadata": {},
   "outputs": [],
   "source": [
    "x"
   ]
  },
  {
   "cell_type": "code",
   "execution_count": null,
   "metadata": {},
   "outputs": [],
   "source": [
    "?kql"
   ]
  },
  {
   "cell_type": "code",
   "execution_count": null,
   "metadata": {},
   "outputs": [],
   "source": [
    "??kql"
   ]
  },
  {
   "cell_type": "code",
   "execution_count": null,
   "metadata": {},
   "outputs": [],
   "source": [
    "%config InlineBackend.figure_format = 'retina'\n",
    "x.Chart();"
   ]
  },
  {
   "cell_type": "code",
   "execution_count": null,
   "metadata": {},
   "outputs": [],
   "source": [
    "%%kql \n",
    "PageViews | summarize count() by Language | sort by count_ | limit 5;\n",
    "// # _ = _kql_raw_result_;\n",
    "// #_.pie()"
   ]
  },
  {
   "cell_type": "code",
   "execution_count": null,
   "metadata": {},
   "outputs": [],
   "source": [
    "_"
   ]
  },
  {
   "cell_type": "code",
   "execution_count": null,
   "metadata": {},
   "outputs": [],
   "source": [
    "y = _[1][0]\n",
    "y"
   ]
  },
  {
   "cell_type": "markdown",
   "metadata": {},
   "source": [
    "# Kql - render barchart"
   ]
  },
  {
   "cell_type": "code",
   "execution_count": null,
   "metadata": {},
   "outputs": [],
   "source": [
    "%%kql \n",
    "PageViews \n",
    "| summarize count() by Language \n",
    "| sort by count_ \n",
    "| limit 10\n",
    "| extend cs = 2 * count_\n",
    "| render barchart title=\"Michael's chart\""
   ]
  },
  {
   "cell_type": "code",
   "execution_count": null,
   "metadata": {},
   "outputs": [],
   "source": [
    "_"
   ]
  },
  {
   "cell_type": "code",
   "execution_count": null,
   "metadata": {},
   "outputs": [],
   "source": [
    "%kql y << PageViews | summarize count() by Language | sort by count_ | limit 10 | extend cs = 2 * count_ | render barchart  title=\"Michael's chart\";\n",
    "%kql PageViews | summarize count() by Language | sort by count_ | limit 10 | extend cs = 2 * count_ | render columnchart title=\"Michael's chart\";"
   ]
  },
  {
   "cell_type": "code",
   "execution_count": null,
   "metadata": {},
   "outputs": [],
   "source": [
    "_"
   ]
  },
  {
   "cell_type": "code",
   "execution_count": null,
   "metadata": {},
   "outputs": [],
   "source": [
    "y"
   ]
  },
  {
   "cell_type": "markdown",
   "metadata": {},
   "source": [
    "# Kql - render columnchart"
   ]
  },
  {
   "cell_type": "code",
   "execution_count": null,
   "metadata": {},
   "outputs": [],
   "source": [
    "%%kql Samples@help\n",
    "PageViews \n",
    "| summarize count() by Language \n",
    "| sort by count_ \n",
    "| limit 10 \n",
    "| extend cs = 2 * count_\n",
    "| extend cs3 = 0.6 * count_\n",
    "//| extend cs4 = 0.6 * count_\n",
    "//| extend cs5 = 0.6 * count_\n",
    "//| extend cs6 = 0.6 * count_\n",
    "//| extend cs7 = 0.6 * count_\n",
    "//| extend cs8 = 0.6 * count_\n",
    "//| extend cs9 = 0.6 * count_\n",
    "//| extend cs10 = 0.6 * count_\n",
    "//| extend cs11 = 0.6 * count_\n",
    "//| extend cs12 = 0.6 * count_\n",
    "//| extend cs13 = 0.6 * count_\n",
    "//| extend cs14 = 0.6 * count_\n",
    "//| extend cs15 = 0.6 * count_\n",
    "| render columnchart title=\"Michael's chart\"\n"
   ]
  },
  {
   "cell_type": "code",
   "execution_count": null,
   "metadata": {},
   "outputs": [],
   "source": [
    "import plotly.plotly as py\n",
    "import plotly.graph_objs as go\n",
    "import plotly\n",
    "plotly.offline.init_notebook_mode(connected=True)\n",
    "\n",
    "fig = {\n",
    "    'data': [\n",
    "        {\n",
    "            'labels': ['1st', '2nd', '3rd', '4th', '5th'],\n",
    "            'values': [38, 27, 18, 10, 7],\n",
    "            'type': 'pie',\n",
    "            'name': 'Starry Night',\n",
    "            'marker': {'colors': ['rgb(56, 75, 126)',\n",
    "                                  'rgb(18, 36, 37)',\n",
    "                                  'rgb(34, 53, 101)',\n",
    "                                  'rgb(36, 55, 57)',\n",
    "                                  'rgb(6, 4, 4)']},\n",
    "            'domain': {'x': [0, .48],\n",
    "                       'y': [0, .49]},\n",
    "            'hoverinfo':'label+percent+name',\n",
    "            'textinfo':'none'\n",
    "        },\n",
    "        {\n",
    "            'labels': ['1st', '2nd', '3rd', '4th', '5th'],\n",
    "            'values': [28, 26, 21, 15, 10],\n",
    "            'marker': {'colors': ['rgb(177, 127, 38)',\n",
    "                                  'rgb(205, 152, 36)',\n",
    "                                  'rgb(99, 79, 37)',\n",
    "                                  'rgb(129, 180, 179)',\n",
    "                                  'rgb(124, 103, 37)']},\n",
    "            'type': 'pie',\n",
    "            'name': 'Sunflowers',\n",
    "            'domain': {'x': [.52, 1],\n",
    "                       'y': [0, .49]},\n",
    "            'hoverinfo':'label+percent+name',\n",
    "            'textinfo':'none'\n",
    "\n",
    "        },\n",
    "        {\n",
    "            'labels': ['1st', '2nd', '3rd', '4th', '5th'],\n",
    "            'values': [38, 19, 16, 14, 13],\n",
    "            'marker': {'colors': ['rgb(33, 75, 99)',\n",
    "                                  'rgb(79, 129, 102)',\n",
    "                                  'rgb(151, 179, 100)',\n",
    "                                  'rgb(175, 49, 35)',\n",
    "                                  'rgb(36, 73, 147)']},\n",
    "            'type': 'pie',\n",
    "            'name': 'Irises',\n",
    "            'domain': {'x': [0, .48],\n",
    "                       'y': [.51, 1]},\n",
    "            'hoverinfo':'label+percent+name',\n",
    "            'textinfo':'none'\n",
    "        },\n",
    "        {\n",
    "            'labels': ['1st', '2nd', '3rd', '4th', '5th'],\n",
    "            'values': [31, 24, 19, 18, 8],\n",
    "            'marker': {'colors': ['rgb(146, 123, 21)',\n",
    "                                  'rgb(177, 180, 34)',\n",
    "                                  'rgb(206, 206, 40)',\n",
    "                                  'rgb(175, 51, 21)',\n",
    "                                  'rgb(35, 36, 21)']},\n",
    "            'type': 'pie',\n",
    "            'name':'The Night Café',\n",
    "            'domain': {'x': [.52, 1],\n",
    "                       'y': [.51, 1]},\n",
    "            'hoverinfo':'label+percent+name',\n",
    "            'textinfo':'none'\n",
    "        }\n",
    "    ],\n",
    "    'layout': {'title': 'Van Gogh: 5 Most Prominent Colors Shown Proportionally',\n",
    "               'showlegend': False}\n",
    "}\n",
    "\n",
    "plotly.offline.iplot(fig, filename='pie_chart_subplots')"
   ]
  },
  {
   "cell_type": "code",
   "execution_count": null,
   "metadata": {},
   "outputs": [],
   "source": [
    "_.Table()"
   ]
  },
  {
   "cell_type": "code",
   "execution_count": null,
   "metadata": {},
   "outputs": [],
   "source": [
    "%config "
   ]
  },
  {
   "cell_type": "markdown",
   "metadata": {},
   "source": [
    "# Kql - render linechart"
   ]
  },
  {
   "cell_type": "code",
   "execution_count": null,
   "metadata": {},
   "outputs": [],
   "source": [
    "%config KqlMagic.autopandas = False"
   ]
  },
  {
   "cell_type": "code",
   "execution_count": null,
   "metadata": {},
   "outputs": [],
   "source": [
    "%%kql \n",
    "PageViews \n",
    "| summarize count() by Language \n",
    "| limit 10\n",
    "| extend cs2 = 2 * count_\n",
    "| extend cs3 = 3 * count_\n",
    "| render linechart title=\"Michael's chart\""
   ]
  },
  {
   "cell_type": "code",
   "execution_count": null,
   "metadata": {},
   "outputs": [],
   "source": [
    "_kql_raw_result_"
   ]
  },
  {
   "cell_type": "code",
   "execution_count": null,
   "metadata": {},
   "outputs": [],
   "source": [
    "_kql_raw_result_.Dataframe()._repr_html_()"
   ]
  },
  {
   "cell_type": "code",
   "execution_count": null,
   "metadata": {},
   "outputs": [],
   "source": [
    "_kql_raw_result_.Table()"
   ]
  },
  {
   "cell_type": "code",
   "execution_count": null,
   "metadata": {},
   "outputs": [],
   "source": [
    "_kql_raw_result_.Dataframe()"
   ]
  },
  {
   "cell_type": "code",
   "execution_count": null,
   "metadata": {},
   "outputs": [],
   "source": [
    "%%kql \n",
    "v << PageViews \n",
    "| summarize count() by Language \n",
    "//| sort by count_ \n",
    "| limit 10\n",
    "| extend cs2 = 2 * count_\n",
    "| extend cs3 = 3 * count_\n",
    "//| extend cs4 = 4 * count_\n",
    "//| extend cs5 = count_ * count_\n",
    "| render linechart title=\"Michael's chart\"\n",
    "| render piechart title=\"Michael's chart\"\n",
    "| render barchart title=\"Michael's chart\""
   ]
  },
  {
   "cell_type": "code",
   "execution_count": null,
   "metadata": {},
   "outputs": [],
   "source": [
    "v.Chart()"
   ]
  },
  {
   "cell_type": "code",
   "execution_count": null,
   "metadata": {
    "scrolled": false
   },
   "outputs": [],
   "source": [
    "%%kql \n",
    "PageViews | summarize count() by Language | limit 10 | extend cs2 = 2 * count_ | extend cs3 = 3 * count_ | render linechart title=\"Michael's chart\"\n"
   ]
  },
  {
   "cell_type": "markdown",
   "metadata": {},
   "source": [
    "# Kql - render areachart"
   ]
  },
  {
   "cell_type": "code",
   "execution_count": null,
   "metadata": {},
   "outputs": [],
   "source": [
    "%%kql \n",
    "PageViews \n",
    "| summarize count() by Language \n",
    "//| sort by count_ \n",
    "| limit 10\n",
    "| extend cs5 = 5 * count_\n",
    "| extend cs4 = 4 * count_\n",
    "| extend cs3 = 3 * count_\n",
    "| extend cs2 = 2 * count_\n",
    "| render areachart title=\"Michael's chart\""
   ]
  },
  {
   "cell_type": "code",
   "execution_count": null,
   "metadata": {},
   "outputs": [],
   "source": [
    "_"
   ]
  },
  {
   "cell_type": "code",
   "execution_count": null,
   "metadata": {},
   "outputs": [],
   "source": [
    "_.Table()"
   ]
  },
  {
   "cell_type": "markdown",
   "metadata": {},
   "source": [
    "# Kql - render scatterchart"
   ]
  },
  {
   "cell_type": "code",
   "execution_count": null,
   "metadata": {},
   "outputs": [],
   "source": [
    "%%kql \n",
    "PageViews \n",
    "| summarize count() by Language \n",
    "//| sort by count_ \n",
    "| limit 10\n",
    "| extend cs5 = count_ * 5\n",
    "| extend cs4 = count_ * 4\n",
    "| extend cs3 = count_ * 3\n",
    "| extend cs2 = count_ * 2\n",
    "| render scatterchart title=\"Michael's chart\""
   ]
  },
  {
   "cell_type": "code",
   "execution_count": null,
   "metadata": {},
   "outputs": [],
   "source": [
    "_kql_raw_result_"
   ]
  },
  {
   "cell_type": "code",
   "execution_count": null,
   "metadata": {},
   "outputs": [],
   "source": [
    "_.Table()"
   ]
  },
  {
   "cell_type": "markdown",
   "metadata": {},
   "source": [
    "# Kql - render scatterchart"
   ]
  },
  {
   "cell_type": "code",
   "execution_count": null,
   "metadata": {},
   "outputs": [],
   "source": [
    "%%kql \n",
    "z << let randn = () {rand() + rand() + rand() + rand() + rand() + rand() + rand() + rand() + rand() + rand() + rand() + rand() + rand() + rand()};\n",
    "range c from 1 to 1000 step 1 \n",
    "| limit 1000\n",
    "| extend e1 = randn()\n",
    "| extend e2 = randn()\n",
    "| extend e3 = randn()\n",
    "| extend e4 = randn()\n",
    "| extend e5 = randn()\n",
    "| project e1,e2,e3,e4,e5\n",
    "| render scatterchart title=\"Michael's chart\""
   ]
  },
  {
   "cell_type": "code",
   "execution_count": null,
   "metadata": {},
   "outputs": [],
   "source": [
    "z"
   ]
  },
  {
   "cell_type": "code",
   "execution_count": null,
   "metadata": {},
   "outputs": [],
   "source": [
    "z.Table()"
   ]
  },
  {
   "cell_type": "markdown",
   "metadata": {},
   "source": [
    "# Kql - render stackedareachart"
   ]
  },
  {
   "cell_type": "code",
   "execution_count": null,
   "metadata": {},
   "outputs": [],
   "source": [
    "%%kql \n",
    "let randn = () {rand() + rand() + rand()};\n",
    "range columnName from datetime('2016-01-01') to datetime('2016-03-31') step 1d\n",
    "| extend e1 = randn()\n",
    "| extend e2 = randn()\n",
    "| extend e3 = randn()\n",
    "| extend e4 = randn()\n",
    "| render stackedareachart title=\"Michael's chart\""
   ]
  },
  {
   "cell_type": "code",
   "execution_count": null,
   "metadata": {
    "scrolled": false
   },
   "outputs": [],
   "source": [
    "%%kql \n",
    "let randn = () {rand() + rand() + rand()};\n",
    "range columnName from datetime('2016-01-01') to datetime('2016-03-31') step 1d\n",
    "| extend e1 = randn()\n",
    "| extend e2 = randn()\n",
    "| extend e3 = randn()\n",
    "| extend e4 = randn()\n",
    "| render stackedareachart title=\"Michael's chart\""
   ]
  },
  {
   "cell_type": "markdown",
   "metadata": {},
   "source": [
    "# Kql - render timechart"
   ]
  },
  {
   "cell_type": "code",
   "execution_count": null,
   "metadata": {
    "scrolled": false
   },
   "outputs": [],
   "source": [
    "%%kql \n",
    "let randn = () {rand() + rand() + rand()};\n",
    "range columnName from datetime('2015-01-01') to datetime('2016-01-10') step 1d\n",
    "| extend e1 = randn()\n",
    "| extend e2 = randn()\n",
    "| extend e3 = randn()\n",
    "| extend e4 = randn()\n",
    "| render timechart title=\"Michael's chart\""
   ]
  },
  {
   "cell_type": "markdown",
   "metadata": {},
   "source": [
    "# Kql - render linechar"
   ]
  },
  {
   "cell_type": "code",
   "execution_count": null,
   "metadata": {
    "scrolled": false
   },
   "outputs": [],
   "source": [
    "%%kql \n",
    "let randn = () {rand() + rand() + rand()};\n",
    "range columnName from datetime('2015-01-01') to datetime('2016-01-10') step 1d\n",
    "| extend e0 = randn()\n",
    "| extend e1 = randn()\n",
    "| extend e2 = randn()\n",
    "| extend e3 = randn()\n",
    "| extend e4 = randn()\n",
    "| project e0,e1,e2,e3,e4\n",
    "| render linechart title=\"Michael's chart\""
   ]
  },
  {
   "cell_type": "markdown",
   "metadata": {},
   "source": [
    "# Kql - render anomalychart"
   ]
  },
  {
   "cell_type": "code",
   "execution_count": null,
   "metadata": {},
   "outputs": [],
   "source": [
    "%%kql \n",
    "let randn = () {rand() + rand() + rand()};\n",
    "range columnName from datetime('2015-01-01') to datetime('2016-01-10') step 1d\n",
    "| extend e1 = randn()\n",
    "| extend e2 = randn()\n",
    "| extend e3 = randn()\n",
    "| extend e4 = randn()\n",
    "| render anomalychart title=\"Michael's chart\""
   ]
  },
  {
   "cell_type": "code",
   "execution_count": null,
   "metadata": {},
   "outputs": [],
   "source": [
    "name = input(\"what is your name: \")\n",
    "print(\"name: \", name)\n",
    "name = input(\"what is your name: \")\n",
    "print(\"name: \", name)\n",
    "name = input(\"what is your name: \")\n",
    "print(\"name: \", name)"
   ]
  },
  {
   "cell_type": "code",
   "execution_count": null,
   "metadata": {},
   "outputs": [],
   "source": [
    "import getpass\n",
    "getpass.getpass??\n",
    "#p = getpass.getpass()"
   ]
  },
  {
   "cell_type": "code",
   "execution_count": null,
   "metadata": {},
   "outputs": [],
   "source": [
    "print(p)\n"
   ]
  },
  {
   "cell_type": "code",
   "execution_count": null,
   "metadata": {},
   "outputs": [],
   "source": [
    "import ipywidgets as widgets\n",
    "from IPython.display import display\n",
    "x = 12\n",
    "w = widgets.IntSlider(x)\n",
    "display(w)"
   ]
  },
  {
   "cell_type": "code",
   "execution_count": null,
   "metadata": {},
   "outputs": [],
   "source": [
    "display(w)\n",
    "display(w)\n",
    "display(w)\n"
   ]
  },
  {
   "cell_type": "code",
   "execution_count": null,
   "metadata": {},
   "outputs": [],
   "source": [
    "w.value"
   ]
  },
  {
   "cell_type": "code",
   "execution_count": null,
   "metadata": {},
   "outputs": [],
   "source": [
    "p = getpass.getpass(prompt='pw: ')\n",
    "p = getpass.getpass(prompt='pw1: ')\n",
    "p = getpass.getpass(prompt='pw   : 11 ')\n"
   ]
  },
  {
   "cell_type": "code",
   "execution_count": null,
   "metadata": {},
   "outputs": [],
   "source": [
    "%pushd\n",
    "%cd C:\\My Projects\\KqlMagic\\src\n",
    "%load_ext kql\n",
    "%popd"
   ]
  },
  {
   "cell_type": "code",
   "execution_count": null,
   "metadata": {},
   "outputs": [],
   "source": [
    "%pushd\n",
    "%cd C:\\My Projects\\KqlMagic\\src\n",
    "%reload_ext kql\n",
    "%popd"
   ]
  },
  {
   "cell_type": "code",
   "execution_count": null,
   "metadata": {},
   "outputs": [],
   "source": [
    "%kql appinsights://appid('<DEMO1_APP>').appkey('<DEMO_KEY>')"
   ]
  },
  {
   "cell_type": "code",
   "execution_count": null,
   "metadata": {},
   "outputs": [],
   "source": [
    "%kql kusto://"
   ]
  },
  {
   "cell_type": "code",
   "execution_count": null,
   "metadata": {
    "scrolled": true
   },
   "outputs": [],
   "source": [
    "%kql appinsights://"
   ]
  },
  {
   "cell_type": "code",
   "execution_count": null,
   "metadata": {
    "scrolled": false
   },
   "outputs": [],
   "source": [
    "%%kql \n",
    "let randn = () {rand() + rand() + rand()};\n",
    "range columnName from datetime('2015-01-01') to datetime('2016-01-10') step 1d\n",
    "| extend e1 = randn()\n",
    "| extend e2 = randn()\n",
    "| extend e3 = randn()\n",
    "| extend e4 = randn()\n",
    "| render anomalychart title=\"Michael's chart\""
   ]
  },
  {
   "cell_type": "code",
   "execution_count": null,
   "metadata": {},
   "outputs": [],
   "source": [
    "import plotly\n",
    "import plotly.plotly as py\n",
    "import plotly.figure_factory as ff\n",
    "\n",
    "df = pd.read_csv(\"https://raw.githubusercontent.com/plotly/datasets/master/school_earnings.csv\")\n",
    "\n",
    "table = ff.create_table(df)\n",
    "plotly.offline.iplot(table, filename='jupyter/table1')"
   ]
  },
  {
   "cell_type": "code",
   "execution_count": null,
   "metadata": {},
   "outputs": [],
   "source": []
  }
 ],
 "metadata": {
  "kernelspec": {
   "display_name": "Python 3",
   "language": "python",
   "name": "python3"
  },
  "language_info": {
   "codemirror_mode": {
    "name": "ipython",
    "version": 3
   },
   "file_extension": ".py",
   "mimetype": "text/x-python",
   "name": "python",
   "nbconvert_exporter": "python",
   "pygments_lexer": "ipython3",
   "version": "3.6.1"
  }
 },
 "nbformat": 4,
 "nbformat_minor": 2
}
