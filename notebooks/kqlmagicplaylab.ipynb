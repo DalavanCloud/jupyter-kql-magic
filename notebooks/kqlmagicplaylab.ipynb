{
 "cells": [
  {
   "cell_type": "markdown",
   "metadata": {},
   "source": [
    "# Kql Magic Demo\n",
    "press F11 for full screen\n"
   ]
  },
  {
   "cell_type": "markdown",
   "metadata": {},
   "source": [
    "### Kusto Banner"
   ]
  },
  {
   "cell_type": "markdown",
   "metadata": {},
   "source": [
    "![alt text](images/Kusto.jpg \"Kusto Magic\")"
   ]
  },
  {
   "cell_type": "code",
   "execution_count": 1,
   "metadata": {},
   "outputs": [
    {
     "data": {
      "text/plain": [
       "'0.31.12'"
      ]
     },
     "execution_count": 1,
     "metadata": {},
     "output_type": "execute_result"
    }
   ],
   "source": [
    "import jupyterlab\n",
    "jupyterlab.__version__\n"
   ]
  },
  {
   "cell_type": "code",
   "execution_count": 2,
   "metadata": {},
   "outputs": [
    {
     "data": {
      "text/plain": [
       "(6, 2, 1, '')"
      ]
     },
     "execution_count": 2,
     "metadata": {},
     "output_type": "execute_result"
    }
   ],
   "source": [
    "import IPython\n",
    "#IPython.__version__\n",
    "IPython.version_info"
   ]
  },
  {
   "cell_type": "code",
   "execution_count": 3,
   "metadata": {},
   "outputs": [
    {
     "data": {
      "text/plain": [
       "environ({'ALLUSERSPROFILE': 'C:\\\\ProgramData', 'APPDATA': 'C:\\\\Users\\\\michabin\\\\AppData\\\\Roaming', 'COMMONPROGRAMFILES': 'C:\\\\Program Files\\\\Common Files', 'COMMONPROGRAMFILES(X86)': 'C:\\\\Program Files (x86)\\\\Common Files', 'COMMONPROGRAMW6432': 'C:\\\\Program Files\\\\Common Files', 'COMPUTERNAME': 'MICHABIN-SFB', 'COMSPEC': 'C:\\\\WINDOWS\\\\system32\\\\cmd.exe', 'CONDA_DEFAULT_ENV': 'root', 'CONDA_PREFIX': 'C:\\\\Users\\\\michabin\\\\AppData\\\\Local\\\\Continuum\\\\Anaconda3', 'CONDA_PS1_BACKUP': '$P$G', 'CONNECTION_STR': \"kusto://username('michabin@microsoft.com').password('j=Kk-h34J').cluster('Oiildc').database('OperationInsights_PFS_PROD')\", 'FSHARPINSTALLDIR': 'C:\\\\Program Files (x86)\\\\Microsoft SDKs\\\\F#\\\\4.1\\\\Framework\\\\v4.0\\\\', 'HELP_CONNECTION_STR': \"kusto://username('michabin@microsoft.com').password('j=Kk-h34J').cluster('help').database('Samples')\", 'HOMEDRIVE': 'C:', 'HOMEPATH': '\\\\Users\\\\michabin', 'JAVA_HOME': 'c:\\\\program files (x86)\\\\java\\\\jre1.8.0_121', 'LOCALAPPDATA': 'C:\\\\Users\\\\michabin\\\\AppData\\\\Local', 'LOGONSERVER': '\\\\\\\\HEZ-ME-DC-02', 'MSMPI_BIN': 'C:\\\\Program Files\\\\Microsoft MPI\\\\Bin\\\\', 'NUMBER_OF_PROCESSORS': '4', 'ONEDRIVE': 'C:\\\\Users\\\\michabin\\\\OneDrive', 'OS': 'Windows_NT', 'PATH': 'C:\\\\Users\\\\michabin\\\\AppData\\\\Local\\\\Continuum\\\\Anaconda3\\\\Library\\\\bin;c:\\\\users\\\\michabin\\\\appdata\\\\local\\\\continuum\\\\anaconda3\\\\Library\\\\bin;c:\\\\users\\\\michabin\\\\appdata\\\\local\\\\continuum\\\\anaconda3\\\\Library\\\\bin;C:\\\\Users\\\\michabin\\\\AppData\\\\Local\\\\Continuum\\\\Anaconda3;C:\\\\Users\\\\michabin\\\\AppData\\\\Local\\\\Continuum\\\\Anaconda3\\\\Library\\\\mingw-w64\\\\bin;C:\\\\Users\\\\michabin\\\\AppData\\\\Local\\\\Continuum\\\\Anaconda3\\\\Library\\\\usr\\\\bin;C:\\\\Users\\\\michabin\\\\AppData\\\\Local\\\\Continuum\\\\Anaconda3\\\\Library\\\\bin;C:\\\\Users\\\\michabin\\\\AppData\\\\Local\\\\Continuum\\\\Anaconda3\\\\Scripts;C:\\\\Program Files\\\\Java\\\\jdk1.8.0_151\\\\bin;C:\\\\ProgramData\\\\Oracle\\\\Java\\\\javapath;C:\\\\Program Files\\\\Microsoft MPI\\\\Bin\\\\;C:\\\\Program Files\\\\Common Files\\\\Microsoft Shared\\\\Microsoft Online Services;C:\\\\Program Files (x86)\\\\Common Files\\\\Microsoft Shared\\\\Microsoft Online Services;C:\\\\WINDOWS\\\\system32;C:\\\\WINDOWS;C:\\\\WINDOWS\\\\System32\\\\Wbem;C:\\\\WINDOWS\\\\System32\\\\WindowsPowerShell\\\\v1.0\\\\;C:\\\\Program Files\\\\Microsoft SQL Server\\\\120\\\\Tools\\\\Binn\\\\;c:\\\\Program Files\\\\Microsoft SQL Server\\\\110\\\\Tools\\\\Binn\\\\;c:\\\\Program Files (x86)\\\\Microsoft SQL Server\\\\110\\\\Tools\\\\Binn\\\\;c:\\\\Program Files\\\\Microsoft SQL Server\\\\110\\\\DTS\\\\Binn\\\\;c:\\\\Program Files (x86)\\\\Microsoft SQL Server\\\\110\\\\Tools\\\\Binn\\\\ManagementStudio\\\\;c:\\\\Program Files (x86)\\\\Microsoft SQL Server\\\\110\\\\DTS\\\\Binn\\\\;C:\\\\Program Files (x86)\\\\Microsoft SDKs\\\\TypeScript\\\\1.0\\\\;C:\\\\Program Files\\\\Microsoft\\\\Web Platform Installer\\\\;C:\\\\Program Files\\\\Microsoft SQL Server\\\\130\\\\Tools\\\\Binn\\\\;C:\\\\Program Files\\\\dotnet\\\\;C:\\\\Program Files\\\\nodejs\\\\;C:\\\\Program Files\\\\Microsoft Network Monitor 3\\\\;C:\\\\Program Files\\\\Git\\\\cmd;c:\\\\jruby-9.1.7.0\\\\bin;C:\\\\Users\\\\michabin\\\\AppData\\\\Local\\\\Microsoft\\\\WindowsApps;C:\\\\Users\\\\michabin\\\\AppData\\\\Roaming\\\\npm;c:\\\\users\\\\michabin\\\\appdata\\\\local\\\\continuum\\\\anaconda3\\\\lib\\\\site-packages\\\\pywin32_system32;c:\\\\users\\\\michabin\\\\appdata\\\\local\\\\continuum\\\\anaconda3\\\\lib\\\\site-packages\\\\pywin32_system32;C:\\\\Users\\\\michabin\\\\AppData\\\\Local\\\\Continuum\\\\Anaconda3\\\\lib\\\\site-packages\\\\pywin32_system32', 'PATHEXT': '.COM;.EXE;.BAT;.CMD;.VBS;.VBE;.JS;.JSE;.WSF;.WSH;.MSC', 'PROCESSOR_ARCHITECTURE': 'AMD64', 'PROCESSOR_IDENTIFIER': 'Intel64 Family 6 Model 78 Stepping 3, GenuineIntel', 'PROCESSOR_LEVEL': '6', 'PROCESSOR_REVISION': '4e03', 'PROGRAMDATA': 'C:\\\\ProgramData', 'PROGRAMFILES': 'C:\\\\Program Files', 'PROGRAMFILES(X86)': 'C:\\\\Program Files (x86)', 'PROGRAMW6432': 'C:\\\\Program Files', 'PROMPT': '(root) $P$G', 'PSMODULEPATH': 'C:\\\\Program Files\\\\WindowsPowerShell\\\\Modules;C:\\\\WINDOWS\\\\system32\\\\WindowsPowerShell\\\\v1.0\\\\Modules;c:\\\\Program Files (x86)\\\\Microsoft SQL Server\\\\110\\\\Tools\\\\PowerShell\\\\Modules\\\\;C:\\\\Program Files (x86)\\\\Microsoft Azure Information Protection\\\\Powershell;C:\\\\Program Files\\\\WindowsPowerShell\\\\Modules\\\\;C:\\\\Program Files (x86)\\\\Microsoft SDKs\\\\Azure\\\\PowerShell\\\\ResourceManager\\\\AzureResourceManager\\\\;C:\\\\Program Files (x86)\\\\Microsoft SDKs\\\\Azure\\\\PowerShell\\\\ServiceManagement\\\\;C:\\\\Program Files (x86)\\\\Microsoft SDKs\\\\Azure\\\\PowerShell\\\\Storage\\\\', 'PUBLIC': 'C:\\\\Users\\\\Public', 'SYSTEMDRIVE': 'C:', 'SYSTEMROOT': 'C:\\\\WINDOWS', 'SYSTEMTYPE': 'slate', 'TEMP': 'C:\\\\Users\\\\michabin\\\\AppData\\\\Local\\\\Temp', 'TEST_CONNECTION_STR': \"kusto://username('michabin@microsoft.com').password('j=Kk-h34J').cluster('Oiildc').database('OperationInsights_PFS_PROD')\", 'TMP': 'C:\\\\Users\\\\michabin\\\\AppData\\\\Local\\\\Temp', 'UATDATA': 'C:\\\\WINDOWS\\\\CCM\\\\UATData\\\\D9F8C395-CAB8-491d-B8AC-179A1FE1BE77', 'USERDNSDOMAIN': 'MIDDLEEAST.CORP.MICROSOFT.COM', 'USERDOMAIN': 'MIDDLEEAST', 'USERDOMAIN_ROAMINGPROFILE': 'MIDDLEEAST', 'USERNAME': 'michabin', 'USERPROFILE': 'C:\\\\Users\\\\michabin', 'VS110COMNTOOLS': 'C:\\\\Program Files (x86)\\\\Microsoft Visual Studio 11.0\\\\Common7\\\\Tools\\\\', 'VS120COMNTOOLS': 'C:\\\\Program Files (x86)\\\\Microsoft Visual Studio 12.0\\\\Common7\\\\Tools\\\\', 'VS140COMNTOOLS': 'C:\\\\Program Files (x86)\\\\Microsoft Visual Studio 14.0\\\\Common7\\\\Tools\\\\', 'VSSDK140INSTALL': 'C:\\\\Program Files (x86)\\\\Microsoft Visual Studio 14.0\\\\VSSDK\\\\', 'WINDIR': 'C:\\\\WINDOWS', 'JPY_INTERRUPT_EVENT': '1880', 'IPY_INTERRUPT_EVENT': '1880', 'JPY_PARENT_PID': '1872', 'TERM': 'xterm-color', 'CLICOLOR': '1', 'PAGER': 'cat', 'GIT_PAGER': 'cat', 'MPLBACKEND': 'module://ipykernel.pylab.backend_inline'})"
      ]
     },
     "execution_count": 3,
     "metadata": {},
     "output_type": "execute_result"
    }
   ],
   "source": [
    "import os\n",
    "os.environ\n"
   ]
  },
  {
   "cell_type": "code",
   "execution_count": 4,
   "metadata": {},
   "outputs": [
    {
     "data": {
      "application/vdom.v1+json": {
       "attributes": {
        "style": {
         "background-color": "#f2dede",
         "border-color": "#eed3d7",
         "color": "#b94a48",
         "padding": "2px"
        }
       },
       "children": {
        "attributes": {},
        "children": "This is some text!",
        "tagName": "p"
       },
       "tagName": "div"
      },
      "text/plain": [
       "<div />"
      ]
     },
     "metadata": {},
     "output_type": "display_data"
    },
    {
     "data": {
      "application/vdom.v1+json": {
       "attributes": {},
       "children": [
        {
         "attributes": {},
         "children": "Our Incredibly Declarative Example",
         "tagName": "h1"
        },
        {
         "attributes": {},
         "children": [
          "Can you believe we wrote this ",
          {
           "attributes": {},
           "children": "in Python",
           "tagName": "b"
          },
          "?"
         ],
         "tagName": "p"
        },
        {
         "attributes": {
          "src": "https://media.giphy.com/media/xUPGcguWZHRC2HyBRS/giphy.gif"
         },
         "children": null,
         "tagName": "img"
        },
        {
         "attributes": {},
         "children": [
          "What will ",
          {
           "attributes": {},
           "children": "you",
           "tagName": "b"
          },
          " create next?"
         ],
         "tagName": "p"
        }
       ],
       "tagName": "div"
      },
      "text/plain": [
       "<div />"
      ]
     },
     "metadata": {},
     "output_type": "display_data"
    },
    {
     "data": {
      "text/html": [
       "<p style='padding: 10px; color: #3a87ad; background-color: #d9edf7; border-color: #bce9f1'>This is some text!</p>"
      ],
      "text/plain": [
       "<IPython.core.display.HTML object>"
      ]
     },
     "metadata": {},
     "output_type": "display_data"
    }
   ],
   "source": [
    "from IPython.display import display, HTML\n",
    "from vdom.helpers import h1, p, img, div, b\n",
    "\n",
    "#background-color:#dff0d8;border-color:#d7e9c6;color:#417e42\n",
    "#style = {'color': \"#FFFF00\", 'background': 'limegreen' }\n",
    "success_style = {'padding': '2px', 'color': \"#417e42\", 'background-color': '#dff0d8', 'border-color': '#d7e9c6'}\n",
    "danger_style = {'padding': '2px', 'color': \"#b94a48\", 'background-color': '#f2dede', 'border-color': '#eed3d7'}\n",
    "info_style = {'padding': '2px', 'color': \"#3a87ad\", 'background-color': '#d9edf7', 'border-color': '#bce9f1'}\n",
    "warning_style = {'padding-left': '2px', 'color': \"#8a6d3b\", 'background-color': '#fcf8e3', 'border-color': '#faebcc'}\n",
    "\n",
    "x = div(\n",
    "    h1('Our Incredibly Declarative Example'),\n",
    "    p('Can you believe we wrote this ', b('in Python'), '?'),\n",
    "    img(src=\"https://media.giphy.com/media/xUPGcguWZHRC2HyBRS/giphy.gif\"),\n",
    "    p('What will ', b('you'), ' create next?'),\n",
    ")\n",
    "y = div(p('This is some text!'), style = danger_style)\n",
    "display(y)\n",
    "display(x)\n",
    "display(HTML(\"<p style='padding: 10px; color: #3a87ad; background-color: #d9edf7; border-color: #bce9f1'>This is some text!</p>\"))\n"
   ]
  },
  {
   "cell_type": "markdown",
   "metadata": {},
   "source": [
    "### List current defined Magics\n",
    "*%kql and %%kql should not be listed*"
   ]
  },
  {
   "cell_type": "code",
   "execution_count": 5,
   "metadata": {},
   "outputs": [
    {
     "data": {
      "application/json": {
       "cell": {
        "!": "OSMagics",
        "HTML": "Other",
        "SVG": "Other",
        "bash": "Other",
        "capture": "ExecutionMagics",
        "cmd": "Other",
        "debug": "ExecutionMagics",
        "file": "Other",
        "html": "DisplayMagics",
        "javascript": "DisplayMagics",
        "js": "DisplayMagics",
        "latex": "DisplayMagics",
        "markdown": "DisplayMagics",
        "perl": "Other",
        "prun": "ExecutionMagics",
        "pypy": "Other",
        "python": "Other",
        "python2": "Other",
        "python3": "Other",
        "ruby": "Other",
        "script": "ScriptMagics",
        "sh": "Other",
        "svg": "DisplayMagics",
        "sx": "OSMagics",
        "system": "OSMagics",
        "time": "ExecutionMagics",
        "timeit": "ExecutionMagics",
        "writefile": "OSMagics"
       },
       "line": {
        "alias": "OSMagics",
        "alias_magic": "BasicMagics",
        "autocall": "AutoMagics",
        "automagic": "AutoMagics",
        "autosave": "KernelMagics",
        "bookmark": "OSMagics",
        "cd": "OSMagics",
        "clear": "KernelMagics",
        "cls": "KernelMagics",
        "colors": "BasicMagics",
        "config": "ConfigMagics",
        "connect_info": "KernelMagics",
        "copy": "Other",
        "ddir": "Other",
        "debug": "ExecutionMagics",
        "dhist": "OSMagics",
        "dirs": "OSMagics",
        "doctest_mode": "BasicMagics",
        "echo": "Other",
        "ed": "Other",
        "edit": "KernelMagics",
        "env": "OSMagics",
        "gui": "BasicMagics",
        "hist": "Other",
        "history": "HistoryMagics",
        "killbgscripts": "ScriptMagics",
        "ldir": "Other",
        "less": "KernelMagics",
        "load": "CodeMagics",
        "load_ext": "ExtensionMagics",
        "loadpy": "CodeMagics",
        "logoff": "LoggingMagics",
        "logon": "LoggingMagics",
        "logstart": "LoggingMagics",
        "logstate": "LoggingMagics",
        "logstop": "LoggingMagics",
        "ls": "Other",
        "lsmagic": "BasicMagics",
        "macro": "ExecutionMagics",
        "magic": "BasicMagics",
        "matplotlib": "PylabMagics",
        "mkdir": "Other",
        "more": "KernelMagics",
        "notebook": "BasicMagics",
        "page": "BasicMagics",
        "pastebin": "CodeMagics",
        "pdb": "ExecutionMagics",
        "pdef": "NamespaceMagics",
        "pdoc": "NamespaceMagics",
        "pfile": "NamespaceMagics",
        "pinfo": "NamespaceMagics",
        "pinfo2": "NamespaceMagics",
        "pip": "BasicMagics",
        "popd": "OSMagics",
        "pprint": "BasicMagics",
        "precision": "BasicMagics",
        "profile": "BasicMagics",
        "prun": "ExecutionMagics",
        "psearch": "NamespaceMagics",
        "psource": "NamespaceMagics",
        "pushd": "OSMagics",
        "pwd": "OSMagics",
        "pycat": "OSMagics",
        "pylab": "PylabMagics",
        "qtconsole": "KernelMagics",
        "quickref": "BasicMagics",
        "recall": "HistoryMagics",
        "rehashx": "OSMagics",
        "reload_ext": "ExtensionMagics",
        "ren": "Other",
        "rep": "Other",
        "rerun": "HistoryMagics",
        "reset": "NamespaceMagics",
        "reset_selective": "NamespaceMagics",
        "rmdir": "Other",
        "run": "ExecutionMagics",
        "save": "CodeMagics",
        "sc": "OSMagics",
        "set_env": "OSMagics",
        "store": "StoreMagics",
        "sx": "OSMagics",
        "system": "OSMagics",
        "tb": "ExecutionMagics",
        "time": "ExecutionMagics",
        "timeit": "ExecutionMagics",
        "unalias": "OSMagics",
        "unload_ext": "ExtensionMagics",
        "who": "NamespaceMagics",
        "who_ls": "NamespaceMagics",
        "whos": "NamespaceMagics",
        "xdel": "NamespaceMagics",
        "xmode": "BasicMagics"
       }
      },
      "text/plain": [
       "Available line magics:\n",
       "%alias  %alias_magic  %autocall  %automagic  %autosave  %bookmark  %cd  %clear  %cls  %colors  %config  %connect_info  %copy  %ddir  %debug  %dhist  %dirs  %doctest_mode  %echo  %ed  %edit  %env  %gui  %hist  %history  %killbgscripts  %ldir  %less  %load  %load_ext  %loadpy  %logoff  %logon  %logstart  %logstate  %logstop  %ls  %lsmagic  %macro  %magic  %matplotlib  %mkdir  %more  %notebook  %page  %pastebin  %pdb  %pdef  %pdoc  %pfile  %pinfo  %pinfo2  %popd  %pprint  %precision  %profile  %prun  %psearch  %psource  %pushd  %pwd  %pycat  %pylab  %qtconsole  %quickref  %recall  %rehashx  %reload_ext  %ren  %rep  %rerun  %reset  %reset_selective  %rmdir  %run  %save  %sc  %set_env  %store  %sx  %system  %tb  %time  %timeit  %unalias  %unload_ext  %who  %who_ls  %whos  %xdel  %xmode\n",
       "\n",
       "Available cell magics:\n",
       "%%!  %%HTML  %%SVG  %%bash  %%capture  %%cmd  %%debug  %%file  %%html  %%javascript  %%js  %%latex  %%markdown  %%perl  %%prun  %%pypy  %%python  %%python2  %%python3  %%ruby  %%script  %%sh  %%svg  %%sx  %%system  %%time  %%timeit  %%writefile\n",
       "\n",
       "Automagic is ON, % prefix IS NOT needed for line magics."
      ]
     },
     "execution_count": 5,
     "metadata": {},
     "output_type": "execute_result"
    }
   ],
   "source": [
    "%lsmagic"
   ]
  },
  {
   "cell_type": "markdown",
   "metadata": {},
   "source": [
    "### Load KqlMagic \n",
    "\n",
    "*current load is from source code folder*  \n",
    "*once KqlMagic will be public, will load from known repository *"
   ]
  },
  {
   "cell_type": "code",
   "execution_count": 1,
   "metadata": {
    "scrolled": true
   },
   "outputs": [
    {
     "name": "stdout",
     "output_type": "stream",
     "text": [
      "C:\\My Projects\\KqlMagic\\src\n",
      "c:\\My Projects\\KqlMagic\\notebooks\n",
      "popd -> c:\\My Projects\\KqlMagic\\notebooks\n"
     ]
    }
   ],
   "source": [
    "%pushd\n",
    "%cd C:\\My Projects\\KqlMagic\\src\n",
    "%load_ext kql\n",
    "%popd"
   ]
  },
  {
   "cell_type": "markdown",
   "metadata": {},
   "source": [
    "### List again current defined Magics\n",
    "*%kql and %%kql should be listed*"
   ]
  },
  {
   "cell_type": "code",
   "execution_count": 2,
   "metadata": {},
   "outputs": [
    {
     "data": {
      "application/json": {
       "cell": {
        "!": "OSMagics",
        "HTML": "Other",
        "SVG": "Other",
        "bash": "Other",
        "capture": "ExecutionMagics",
        "cmd": "Other",
        "debug": "ExecutionMagics",
        "file": "Other",
        "html": "DisplayMagics",
        "javascript": "DisplayMagics",
        "js": "DisplayMagics",
        "kql": "KqlMagic",
        "latex": "DisplayMagics",
        "markdown": "DisplayMagics",
        "perl": "Other",
        "prun": "ExecutionMagics",
        "pypy": "Other",
        "python": "Other",
        "python2": "Other",
        "python3": "Other",
        "ruby": "Other",
        "script": "ScriptMagics",
        "sh": "Other",
        "svg": "DisplayMagics",
        "sx": "OSMagics",
        "system": "OSMagics",
        "time": "ExecutionMagics",
        "timeit": "ExecutionMagics",
        "writefile": "OSMagics"
       },
       "line": {
        "alias": "OSMagics",
        "alias_magic": "BasicMagics",
        "autocall": "AutoMagics",
        "automagic": "AutoMagics",
        "autosave": "KernelMagics",
        "bookmark": "OSMagics",
        "cd": "OSMagics",
        "clear": "KernelMagics",
        "cls": "KernelMagics",
        "colors": "BasicMagics",
        "config": "ConfigMagics",
        "connect_info": "KernelMagics",
        "copy": "Other",
        "ddir": "Other",
        "debug": "ExecutionMagics",
        "dhist": "OSMagics",
        "dirs": "OSMagics",
        "doctest_mode": "BasicMagics",
        "echo": "Other",
        "ed": "Other",
        "edit": "KernelMagics",
        "env": "OSMagics",
        "gui": "BasicMagics",
        "hist": "Other",
        "history": "HistoryMagics",
        "killbgscripts": "ScriptMagics",
        "kql": "KqlMagic",
        "ldir": "Other",
        "less": "KernelMagics",
        "load": "CodeMagics",
        "load_ext": "ExtensionMagics",
        "loadpy": "CodeMagics",
        "logoff": "LoggingMagics",
        "logon": "LoggingMagics",
        "logstart": "LoggingMagics",
        "logstate": "LoggingMagics",
        "logstop": "LoggingMagics",
        "ls": "Other",
        "lsmagic": "BasicMagics",
        "macro": "ExecutionMagics",
        "magic": "BasicMagics",
        "matplotlib": "PylabMagics",
        "mkdir": "Other",
        "more": "KernelMagics",
        "notebook": "BasicMagics",
        "page": "BasicMagics",
        "pastebin": "CodeMagics",
        "pdb": "ExecutionMagics",
        "pdef": "NamespaceMagics",
        "pdoc": "NamespaceMagics",
        "pfile": "NamespaceMagics",
        "pinfo": "NamespaceMagics",
        "pinfo2": "NamespaceMagics",
        "pip": "BasicMagics",
        "popd": "OSMagics",
        "pprint": "BasicMagics",
        "precision": "BasicMagics",
        "profile": "BasicMagics",
        "prun": "ExecutionMagics",
        "psearch": "NamespaceMagics",
        "psource": "NamespaceMagics",
        "pushd": "OSMagics",
        "pwd": "OSMagics",
        "pycat": "OSMagics",
        "pylab": "PylabMagics",
        "qtconsole": "KernelMagics",
        "quickref": "BasicMagics",
        "recall": "HistoryMagics",
        "rehashx": "OSMagics",
        "reload_ext": "ExtensionMagics",
        "ren": "Other",
        "rep": "Other",
        "rerun": "HistoryMagics",
        "reset": "NamespaceMagics",
        "reset_selective": "NamespaceMagics",
        "rmdir": "Other",
        "run": "ExecutionMagics",
        "save": "CodeMagics",
        "sc": "OSMagics",
        "set_env": "OSMagics",
        "store": "StoreMagics",
        "sx": "OSMagics",
        "system": "OSMagics",
        "tb": "ExecutionMagics",
        "time": "ExecutionMagics",
        "timeit": "ExecutionMagics",
        "unalias": "OSMagics",
        "unload_ext": "ExtensionMagics",
        "who": "NamespaceMagics",
        "who_ls": "NamespaceMagics",
        "whos": "NamespaceMagics",
        "xdel": "NamespaceMagics",
        "xmode": "BasicMagics"
       }
      },
      "text/plain": [
       "Available line magics:\n",
       "%alias  %alias_magic  %autocall  %automagic  %autosave  %bookmark  %cd  %clear  %cls  %colors  %config  %connect_info  %copy  %ddir  %debug  %dhist  %dirs  %doctest_mode  %echo  %ed  %edit  %env  %gui  %hist  %history  %killbgscripts  %kql  %ldir  %less  %load  %load_ext  %loadpy  %logoff  %logon  %logstart  %logstate  %logstop  %ls  %lsmagic  %macro  %magic  %matplotlib  %mkdir  %more  %notebook  %page  %pastebin  %pdb  %pdef  %pdoc  %pfile  %pinfo  %pinfo2  %popd  %pprint  %precision  %profile  %prun  %psearch  %psource  %pushd  %pwd  %pycat  %pylab  %qtconsole  %quickref  %recall  %rehashx  %reload_ext  %ren  %rep  %rerun  %reset  %reset_selective  %rmdir  %run  %save  %sc  %set_env  %store  %sx  %system  %tb  %time  %timeit  %unalias  %unload_ext  %who  %who_ls  %whos  %xdel  %xmode\n",
       "\n",
       "Available cell magics:\n",
       "%%!  %%HTML  %%SVG  %%bash  %%capture  %%cmd  %%debug  %%file  %%html  %%javascript  %%js  %%kql  %%latex  %%markdown  %%perl  %%prun  %%pypy  %%python  %%python2  %%python3  %%ruby  %%script  %%sh  %%svg  %%sx  %%system  %%time  %%timeit  %%writefile\n",
       "\n",
       "Automagic is ON, % prefix IS NOT needed for line magics."
      ]
     },
     "execution_count": 2,
     "metadata": {},
     "output_type": "execute_result"
    }
   ],
   "source": [
    "%lsmagic"
   ]
  },
  {
   "cell_type": "code",
   "execution_count": 3,
   "metadata": {},
   "outputs": [
    {
     "name": "stdout",
     "output_type": "stream",
     "text": [
      "KqlMagic options\n",
      "--------------\n",
      "KqlMagic.autolimit=<Int>\n",
      "    Current: 0\n",
      "    Automatically limit the size of the returned result sets\n",
      "KqlMagic.autopandas=<Bool>\n",
      "    Current: False\n",
      "    Return Pandas DataFrames instead of regular result sets\n",
      "KqlMagic.column_local_vars=<Bool>\n",
      "    Current: False\n",
      "    Return data into local variables from column names\n",
      "KqlMagic.displaylimit=<Int>\n",
      "    Current: None\n",
      "    Automatically limit the number of rows displayed (full result set is still\n",
      "    stored)\n",
      "KqlMagic.dsn_filename=<Unicode>\n",
      "    Current: 'odbc.ini'\n",
      "    Path to DSN file. When the first argument is of the form [section], a\n",
      "    sqlalchemy connection string is formed from the matching section in the DSN\n",
      "    file.\n",
      "KqlMagic.feedback=<Bool>\n",
      "    Current: True\n",
      "    Print number of records returned, and assigned variables\n",
      "KqlMagic.jupyterlab_server=<Bool>\n",
      "    Current: True\n",
      "    Use Jupyterlab features\n",
      "KqlMagic.plot_package=<Unicode>\n",
      "    Current: 'matplotlib'\n",
      "    Set the plot package (currently plotly, matplotlib)\n",
      "KqlMagic.short_errors=<Bool>\n",
      "    Current: True\n",
      "    Don't display the full traceback on KQL Programming Error\n",
      "KqlMagic.show_conn_list=<Bool>\n",
      "    Current: True\n",
      "    Print connection list, when connection not specified\n",
      "KqlMagic.style=<Unicode>\n",
      "    Current: 'DEFAULT'\n",
      "    Set the table printing style to any of prettytable's defined styles\n",
      "    (currently DEFAULT, MSWORD_FRIENDLY, PLAIN_COLUMNS, RANDOM)\n",
      "KqlMagic.table_package=<Unicode>\n",
      "    Current: 'prettytable'\n",
      "    Set the table printing package (currently prettytable, pandas, plotly,\n",
      "    qgrid)\n"
     ]
    }
   ],
   "source": [
    "%config KqlMagic"
   ]
  },
  {
   "cell_type": "markdown",
   "metadata": {},
   "source": [
    "### Configure KqlMagic DSN filename\n",
    "*Example how to configure KqlMagic properties*  \n",
    "*when dsn_filename is set, KqlMagic can be instructed to get a section as a connection string*"
   ]
  },
  {
   "cell_type": "code",
   "execution_count": 4,
   "metadata": {},
   "outputs": [],
   "source": [
    "%config KqlMagic.dsn_filename = 'dsn/odbc.ini'"
   ]
  },
  {
   "cell_type": "markdown",
   "metadata": {},
   "source": [
    "### Get connection string to Kusto cluster from a section\n",
    "*Example how to get the connection string from a section*\n",
    "*to make it work, KqlMagic.dsn_filename must be set, and a section will connection string attributes must exist in the file *"
   ]
  },
  {
   "cell_type": "code",
   "execution_count": null,
   "metadata": {
    "scrolled": false
   },
   "outputs": [],
   "source": [
    "%kql [KUSTO-DSN]"
   ]
  },
  {
   "cell_type": "markdown",
   "metadata": {},
   "source": [
    "### Get connection string to Kusto cluster from an environment variable\n",
    "*Example how to get the connection string from an environment parameter*  \n",
    "*to make it work, the environment variable must be set*"
   ]
  },
  {
   "cell_type": "code",
   "execution_count": null,
   "metadata": {
    "scrolled": true
   },
   "outputs": [],
   "source": [
    "%kql"
   ]
  },
  {
   "cell_type": "code",
   "execution_count": null,
   "metadata": {},
   "outputs": [],
   "source": [
    "%kql kusto://database('Samples')"
   ]
  },
  {
   "cell_type": "code",
   "execution_count": null,
   "metadata": {
    "scrolled": false
   },
   "outputs": [],
   "source": [
    "%%kql kusto://database(yy)  gg\n",
    "    "
   ]
  },
  {
   "cell_type": "code",
   "execution_count": null,
   "metadata": {},
   "outputs": [],
   "source": [
    "%kql $HELP_CONNECTION_STR"
   ]
  },
  {
   "cell_type": "markdown",
   "metadata": {},
   "source": [
    "<span style='padding: 10px; color: #3a87ad; background-color: #d9edf7; border-color: #bce9f1'>Tip: Use blue boxes for Tips and notes. If it’s a note, you don’t have to include the word “Note”.</span>"
   ]
  },
  {
   "cell_type": "markdown",
   "metadata": {},
   "source": [
    "<div class=\"alert alert-block alert-warning\">Example: Use yellow boxes for examples that are not inside code cells, or use for mathematical formulas if needed.</div>"
   ]
  },
  {
   "cell_type": "markdown",
   "metadata": {},
   "source": [
    "<div class=\"alert alert-block alert-success\">Up to you: Use green boxes sparingly, and only for some specific purpose that the other boxes can't cover. For example, if you have a lot of related content to link to, maybe you decide to use green boxes for related links from each section of a notebook. </div>"
   ]
  },
  {
   "cell_type": "markdown",
   "metadata": {},
   "source": [
    "<div class=\"alert alert-block alert-danger\">Just don't: In general, just avoid the red boxes.</div>"
   ]
  },
  {
   "cell_type": "markdown",
   "metadata": {},
   "source": [
    "<font color=blue|red|green|pink|yellow>Text</font> Not all markdown code works within a font tag, so review your colored text carefully!"
   ]
  },
  {
   "cell_type": "markdown",
   "metadata": {},
   "source": [
    "# Set Kql results to raw"
   ]
  },
  {
   "cell_type": "code",
   "execution_count": null,
   "metadata": {},
   "outputs": [],
   "source": [
    "%config KqlMagic.autopandas = False"
   ]
  },
  {
   "cell_type": "markdown",
   "metadata": {},
   "source": [
    "# Enable matplotlib"
   ]
  },
  {
   "cell_type": "code",
   "execution_count": null,
   "metadata": {},
   "outputs": [],
   "source": [
    "%matplotlib inline"
   ]
  },
  {
   "cell_type": "markdown",
   "metadata": {},
   "source": [
    "# Kql query"
   ]
  },
  {
   "cell_type": "code",
   "execution_count": null,
   "metadata": {},
   "outputs": [],
   "source": [
    "%kql"
   ]
  },
  {
   "cell_type": "code",
   "execution_count": null,
   "metadata": {},
   "outputs": [],
   "source": [
    "%%kql Samples@help\n",
    "PageViews | summarize count() by Language | sort by count_ | limit 10\n",
    "\n"
   ]
  },
  {
   "cell_type": "code",
   "execution_count": null,
   "metadata": {},
   "outputs": [],
   "source": [
    "_.pie()"
   ]
  },
  {
   "cell_type": "code",
   "execution_count": null,
   "metadata": {
    "scrolled": true
   },
   "outputs": [],
   "source": [
    "%%kql Samples@help\n",
    "x << PageViews | summarize count() by Language | sort by count_ | limit 10\n",
    "\n"
   ]
  },
  {
   "cell_type": "code",
   "execution_count": 4,
   "metadata": {},
   "outputs": [],
   "source": [
    "?kql"
   ]
  },
  {
   "cell_type": "code",
   "execution_count": 5,
   "metadata": {},
   "outputs": [],
   "source": [
    "??kql"
   ]
  },
  {
   "cell_type": "code",
   "execution_count": null,
   "metadata": {},
   "outputs": [],
   "source": [
    "from IPython.core.interactiveshell import InteractiveShell\n",
    "# make each line to print vaule\n",
    "# InteractiveShell.ast_node_interactivity = \"all\""
   ]
  },
  {
   "cell_type": "code",
   "execution_count": null,
   "metadata": {},
   "outputs": [],
   "source": [
    "%config InlineBackend.figure_format = 'retina'\n",
    "x.pie();"
   ]
  },
  {
   "cell_type": "code",
   "execution_count": null,
   "metadata": {},
   "outputs": [],
   "source": [
    "%kql PageViews | summarize count() by Language | sort by count_ | limit 10\n",
    "_.pie()"
   ]
  },
  {
   "cell_type": "code",
   "execution_count": null,
   "metadata": {},
   "outputs": [],
   "source": [
    "import pandas as pd\n",
    "import numpy as np\n",
    "import qgrid\n",
    "\n",
    "# set the default max number of rows to 10 so the larger DataFrame we render don't take up to much space \n",
    "qgrid.set_grid_option('maxVisibleRows', 10)\n",
    "\n",
    "df_scale = x.DataFrame()\n",
    "# duplicate column B as a string column, to test scalability for text column filters\n",
    "# df_scale['B (as str)'] = df_scale['B'].map(lambda x: str(x))\n",
    "q_scale = qgrid.show_grid(df_scale, grid_options={'forceFitColumns': False, 'defaultColumnWidth': 200})\n",
    "q_scale"
   ]
  },
  {
   "cell_type": "code",
   "execution_count": null,
   "metadata": {},
   "outputs": [],
   "source": [
    "import pandas as pd\n",
    "import numpy as np\n",
    "import qgrid\n",
    "\n",
    "# set the default max number of rows to 10 so the larger DataFrame we render don't take up to much space \n",
    "qgrid.set_grid_option('maxVisibleRows', 10)\n",
    "\n",
    "df_scale = x.DataFrame()\n",
    "# duplicate column B as a string column, to test scalability for text column filters\n",
    "# df_scale['B (as str)'] = df_scale['B'].map(lambda x: str(x))\n",
    "q_scale = qgrid.show_grid(df_scale, grid_options={'forceFitColumns': False, 'defaultColumnWidth': 200})\n",
    "q_scale"
   ]
  },
  {
   "cell_type": "code",
   "execution_count": null,
   "metadata": {
    "scrolled": false
   },
   "outputs": [],
   "source": [
    "import pandas as pd\n",
    "import numpy as np\n",
    "\n",
    "rows = 2\n",
    "columns = 4\n",
    "df = pd.DataFrame(np.random.random(rows * columns).reshape(rows, columns))\n",
    "pd.set_option('display.max_columns', columns)\n",
    "pd.set_option('display.max_rows', rows)\n",
    "df"
   ]
  },
  {
   "cell_type": "markdown",
   "metadata": {},
   "source": [
    "# Show last result - plot pie"
   ]
  },
  {
   "cell_type": "markdown",
   "metadata": {},
   "source": [
    "# Show last results"
   ]
  },
  {
   "cell_type": "code",
   "execution_count": null,
   "metadata": {},
   "outputs": [],
   "source": [
    "_"
   ]
  },
  {
   "cell_type": "markdown",
   "metadata": {},
   "source": [
    "# Kql - render barchart"
   ]
  },
  {
   "cell_type": "code",
   "execution_count": null,
   "metadata": {},
   "outputs": [],
   "source": [
    "%%kql \n",
    "PageViews \n",
    "| summarize count() by Language \n",
    "| sort by count_ \n",
    "| limit 10\n",
    "| extend cs = 2 * count_\n",
    "| render barchart kind=stacked title=\"Michael's chart\";"
   ]
  },
  {
   "cell_type": "code",
   "execution_count": null,
   "metadata": {},
   "outputs": [],
   "source": [
    "print(\"aaa\")\n",
    "%kql PageViews | summarize count() by Language | sort by count_ | limit 10 | extend cs = 2 * count_ | render barchart kind=stacked title=\"Michael's chart\";\n",
    "%kql PageViews | summarize count() by Language | sort by count_ | limit 10 | extend cs = 2 * count_ | render barchart kind=stacked title=\"Michael's chart\";"
   ]
  },
  {
   "cell_type": "markdown",
   "metadata": {},
   "source": [
    "# Kql - render columnchart"
   ]
  },
  {
   "cell_type": "code",
   "execution_count": null,
   "metadata": {},
   "outputs": [],
   "source": [
    "%%kql \n",
    "PageViews \n",
    "| summarize count() by Language \n",
    "| sort by count_ \n",
    "| limit 10 \n",
    "| extend cs = 2 * count_\n",
    "//| extend cs3 = 0.6 * count_\n",
    "| render columnchart kind=stacked title=\"Michael's chart\"\n"
   ]
  },
  {
   "cell_type": "markdown",
   "metadata": {},
   "source": [
    "# Kql - render linechart"
   ]
  },
  {
   "cell_type": "code",
   "execution_count": null,
   "metadata": {},
   "outputs": [],
   "source": [
    "%%kql \n",
    "PageViews \n",
    "| summarize count() by Language \n",
    "//| sort by count_ \n",
    "| limit 10\n",
    "| extend cs2 = 2 * count_\n",
    "| extend cs3 = 3 * count_\n",
    "//| extend cs4 = 4 * count_\n",
    "//| extend cs5 = count_ * count_\n",
    "| render linechart title=\"Michael's chart\""
   ]
  },
  {
   "cell_type": "code",
   "execution_count": null,
   "metadata": {
    "scrolled": false
   },
   "outputs": [],
   "source": [
    "%kql PageViews | summarize count() by Language | limit 10 | extend cs2 = 2 * count_ | extend cs3 = 3 * count_ | render linechart title=\"Michael's chart\"\n",
    "#%kql PageViews | summarize count() by Language | limit 10 | extend cs2 = 2 * count_ | extend cs3 = 3 * count_ | render linechart title=\"Michael's chart\""
   ]
  },
  {
   "cell_type": "markdown",
   "metadata": {},
   "source": [
    "# Kql - render areachart"
   ]
  },
  {
   "cell_type": "code",
   "execution_count": null,
   "metadata": {},
   "outputs": [],
   "source": [
    "%%kql \n",
    "PageViews \n",
    "| summarize count() by Language \n",
    "//| sort by count_ \n",
    "| limit 10\n",
    "| extend cs5 = 5 * count_\n",
    "| extend cs4 = 4 * count_\n",
    "| extend cs3 = 3 * count_\n",
    "| extend cs2 = 2 * count_\n",
    "| render areachart title=\"Michael's chart\""
   ]
  },
  {
   "cell_type": "markdown",
   "metadata": {},
   "source": [
    "# Kql - render scatterchart"
   ]
  },
  {
   "cell_type": "code",
   "execution_count": null,
   "metadata": {},
   "outputs": [],
   "source": [
    "%%kql \n",
    "PageViews \n",
    "| summarize count() by Language \n",
    "//| sort by count_ \n",
    "| limit 10\n",
    "| extend cs5 = count_ * 5\n",
    "| extend cs4 = count_ * 4\n",
    "| extend cs3 = count_ * 3\n",
    "| extend cs2 = count_ * 2\n",
    "| render scatterchart title=\"Michael's chart\""
   ]
  },
  {
   "cell_type": "markdown",
   "metadata": {},
   "source": [
    "# Kql - render scatterchart"
   ]
  },
  {
   "cell_type": "code",
   "execution_count": null,
   "metadata": {},
   "outputs": [],
   "source": [
    "%%kql \n",
    "let randn = () {rand() + rand() + rand() + rand() + rand() + rand() + rand() + rand() + rand() + rand() + rand() + rand() + rand() + rand()};\n",
    "range c from 1 to 1000 step 1 \n",
    "| limit 1000\n",
    "| extend e1 = randn()\n",
    "| extend e2 = randn()\n",
    "| extend e3 = randn()\n",
    "| extend e4 = randn()\n",
    "| extend e5 = randn()\n",
    "| project e1,e2,e3,e4,e5\n",
    "| render scatterchart title=\"Michael's chart\""
   ]
  },
  {
   "cell_type": "markdown",
   "metadata": {},
   "source": [
    "# Kql - render stackedareachart"
   ]
  },
  {
   "cell_type": "code",
   "execution_count": null,
   "metadata": {},
   "outputs": [],
   "source": [
    "%%kql \n",
    "let randn = () {rand() + rand() + rand()};\n",
    "range columnName from datetime('2016-01-01') to datetime('2016-03-31') step 1d\n",
    "| extend e1 = randn()\n",
    "| extend e2 = randn()\n",
    "| extend e3 = randn()\n",
    "| extend e4 = randn()\n",
    "| render stackedareachart title=\"Michael's chart\""
   ]
  },
  {
   "cell_type": "code",
   "execution_count": null,
   "metadata": {
    "scrolled": false
   },
   "outputs": [],
   "source": [
    "%%kql \n",
    "let randn = () {rand() + rand() + rand()};\n",
    "range columnName from datetime('2016-01-01') to datetime('2016-03-31') step 1d\n",
    "| extend e1 = randn()\n",
    "| extend e2 = randn()\n",
    "| extend e3 = randn()\n",
    "| extend e4 = randn()\n",
    "| render stackedareachart title=\"Michael's chart\""
   ]
  },
  {
   "cell_type": "markdown",
   "metadata": {},
   "source": [
    "# Kql - render timechart"
   ]
  },
  {
   "cell_type": "code",
   "execution_count": null,
   "metadata": {
    "scrolled": false
   },
   "outputs": [],
   "source": [
    "%%kql \n",
    "let randn = () {rand() + rand() + rand()};\n",
    "range columnName from datetime('2015-01-01') to datetime('2016-01-10') step 1d\n",
    "| extend e1 = randn()\n",
    "| extend e2 = randn()\n",
    "| extend e3 = randn()\n",
    "| extend e4 = randn()\n",
    "| render timechart title=\"Michael's chart\""
   ]
  },
  {
   "cell_type": "markdown",
   "metadata": {},
   "source": [
    "# Kql - render linechar"
   ]
  },
  {
   "cell_type": "code",
   "execution_count": null,
   "metadata": {
    "scrolled": false
   },
   "outputs": [],
   "source": [
    "%%kql \n",
    "let randn = () {rand() + rand() + rand()};\n",
    "range columnName from datetime('2015-01-01') to datetime('2016-01-10') step 1d\n",
    "| extend e0 = randn()\n",
    "| extend e1 = randn()\n",
    "| extend e2 = randn()\n",
    "| extend e3 = randn()\n",
    "| extend e4 = randn()\n",
    "| project e0,e1,e2,e3,e4\n",
    "| render linechart title=\"Michael's chart\""
   ]
  },
  {
   "cell_type": "markdown",
   "metadata": {},
   "source": [
    "# Kql - render anomalychart"
   ]
  },
  {
   "cell_type": "code",
   "execution_count": null,
   "metadata": {},
   "outputs": [],
   "source": [
    "%%kql \n",
    "let randn = () {rand() + rand() + rand()};\n",
    "range columnName from datetime('2015-01-01') to datetime('2016-01-10') step 1d\n",
    "| extend e1 = randn()\n",
    "| extend e2 = randn()\n",
    "| extend e3 = randn()\n",
    "| extend e4 = randn()\n",
    "| render anomalychart title=\"Michael's chart\""
   ]
  },
  {
   "cell_type": "code",
   "execution_count": null,
   "metadata": {},
   "outputs": [],
   "source": [
    "name = input(\"what is your name: \")\n",
    "print(\"name: \", name)\n",
    "name = input(\"what is your name: \")\n",
    "print(\"name: \", name)\n",
    "name = input(\"what is your name: \")\n",
    "print(\"name: \", name)"
   ]
  },
  {
   "cell_type": "code",
   "execution_count": 9,
   "metadata": {},
   "outputs": [],
   "source": [
    "import getpass\n",
    "?getpass.getpass\n",
    "#p = getpass.getpass()"
   ]
  },
  {
   "cell_type": "code",
   "execution_count": null,
   "metadata": {},
   "outputs": [],
   "source": [
    "print(p)\n"
   ]
  },
  {
   "cell_type": "code",
   "execution_count": null,
   "metadata": {},
   "outputs": [],
   "source": [
    "import ipywidgets as widgets\n",
    "from IPython.display import display\n",
    "x = 12\n",
    "w = widgets.IntSlider(x)\n",
    "display(w)"
   ]
  },
  {
   "cell_type": "code",
   "execution_count": null,
   "metadata": {},
   "outputs": [],
   "source": [
    "display(w)\n",
    "display(w)\n",
    "display(w)\n"
   ]
  },
  {
   "cell_type": "code",
   "execution_count": null,
   "metadata": {},
   "outputs": [],
   "source": [
    "w.value"
   ]
  },
  {
   "cell_type": "code",
   "execution_count": 10,
   "metadata": {},
   "outputs": [
    {
     "name": "stdout",
     "output_type": "stream",
     "text": [
      "pw: ········\n",
      "pw1: ········\n",
      "pw   : 11 ········\n"
     ]
    }
   ],
   "source": [
    "p = getpass.getpass(prompt='pw: ')\n",
    "p = getpass.getpass(prompt='pw1: ')\n",
    "p = getpass.getpass(prompt='pw   : 11 ')\n"
   ]
  },
  {
   "cell_type": "code",
   "execution_count": null,
   "metadata": {},
   "outputs": [],
   "source": [
    "%pushd\n",
    "%cd C:\\My Projects\\KqlMagic\\src\n",
    "%load_ext kql\n",
    "%popd"
   ]
  },
  {
   "cell_type": "code",
   "execution_count": 1,
   "metadata": {},
   "outputs": [
    {
     "name": "stdout",
     "output_type": "stream",
     "text": [
      "C:\\My Projects\\KqlMagic\\src\n",
      "c:\\My Projects\\KqlMagic\\notebooks\n",
      "popd -> c:\\My Projects\\KqlMagic\\notebooks\n"
     ]
    }
   ],
   "source": [
    "%pushd\n",
    "%cd C:\\My Projects\\KqlMagic\\src\n",
    "%reload_ext kql\n",
    "%popd"
   ]
  },
  {
   "cell_type": "code",
   "execution_count": 3,
   "metadata": {},
   "outputs": [
    {
     "name": "stdout",
     "output_type": "stream",
     "text": [
      "new with prompt\n",
      "new with prompt\n",
      "please enter DEMO1_APP: aaa\n"
     ]
    },
    {
     "data": {
      "text/plain": [
       "'Connected: aaa@appinsights'"
      ]
     },
     "execution_count": 3,
     "metadata": {},
     "output_type": "execute_result"
    }
   ],
   "source": [
    "%kql appinsights://appid('<DEMO1_APP>').appkey('<DEMO_KEY>')"
   ]
  },
  {
   "cell_type": "code",
   "execution_count": null,
   "metadata": {},
   "outputs": [],
   "source": [
    "%kql kusto://"
   ]
  },
  {
   "cell_type": "code",
   "execution_count": null,
   "metadata": {
    "scrolled": true
   },
   "outputs": [],
   "source": [
    "%kql appinsights://"
   ]
  },
  {
   "cell_type": "code",
   "execution_count": null,
   "metadata": {
    "scrolled": false
   },
   "outputs": [],
   "source": [
    "%%kql \n",
    "let randn = () {rand() + rand() + rand()};\n",
    "range columnName from datetime('2015-01-01') to datetime('2016-01-10') step 1d\n",
    "| extend e1 = randn()\n",
    "| extend e2 = randn()\n",
    "| extend e3 = randn()\n",
    "| extend e4 = randn()\n",
    "| render anomalychart title=\"Michael's chart\""
   ]
  },
  {
   "cell_type": "code",
   "execution_count": null,
   "metadata": {},
   "outputs": [],
   "source": [
    "import plotly\n",
    "import plotly.plotly as py\n",
    "import plotly.figure_factory as ff\n",
    "\n",
    "df = pd.read_csv(\"https://raw.githubusercontent.com/plotly/datasets/master/school_earnings.csv\")\n",
    "\n",
    "table = ff.create_table(df)\n",
    "plotly.offline.iplot(table, filename='jupyter/table1')"
   ]
  },
  {
   "cell_type": "code",
   "execution_count": null,
   "metadata": {},
   "outputs": [],
   "source": []
  }
 ],
 "metadata": {
  "kernelspec": {
   "display_name": "Python 3",
   "language": "python",
   "name": "python3"
  },
  "language_info": {
   "codemirror_mode": {
    "name": "ipython",
    "version": 3
   },
   "file_extension": ".py",
   "mimetype": "text/x-python",
   "name": "python",
   "nbconvert_exporter": "python",
   "pygments_lexer": "ipython3",
   "version": "3.6.1"
  }
 },
 "nbformat": 4,
 "nbformat_minor": 2
}
